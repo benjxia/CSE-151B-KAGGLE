{
 "cells": [
  {
   "cell_type": "code",
   "execution_count": 1,
   "metadata": {
    "ExecuteTime": {
     "end_time": "2023-04-25T11:04:14.731012Z",
     "start_time": "2023-04-25T11:04:09.671301Z"
    }
   },
   "outputs": [],
   "source": [
    "from Indexed_Dataset import *\n",
    "import torch\n",
    "from torch import nn\n",
    "from torch.utils.data import DataLoader\n",
    "import numpy as np\n",
    "import random\n",
    "from torch.utils.data import WeightedRandomSampler"
   ]
  },
  {
   "cell_type": "code",
   "execution_count": 2,
   "metadata": {
    "ExecuteTime": {
     "end_time": "2023-04-25T11:04:14.785832Z",
     "start_time": "2023-04-25T11:04:14.731012Z"
    }
   },
   "outputs": [
    {
     "data": {
      "text/plain": [
       "<torch._C.Generator at 0x7f93646a31b0>"
      ]
     },
     "execution_count": 2,
     "metadata": {},
     "output_type": "execute_result"
    }
   ],
   "source": [
    "torch.manual_seed(42)\n",
    "np.random.seed(42)\n",
    "# torch.use_deterministic_algorithms(True)\n",
    "def seed_worker(worker_id):\n",
    "    worker_seed = torch.initial_seed() % 2**32\n",
    "    np.random.seed(worker_seed)\n",
    "    random.seed(worker_seed)\n",
    "\n",
    "g = torch.Generator()\n",
    "g.manual_seed(0)"
   ]
  },
  {
   "cell_type": "code",
   "execution_count": 3,
   "metadata": {
    "ExecuteTime": {
     "end_time": "2023-04-25T11:04:15.775358Z",
     "start_time": "2023-04-25T11:04:14.785832Z"
    }
   },
   "outputs": [
    {
     "name": "stdout",
     "output_type": "stream",
     "text": [
      "[0.000000e+00 1.000000e+00 2.000000e+00 ... 1.710667e+06 1.710668e+06\n",
      " 1.710669e+06]\n"
     ]
    }
   ],
   "source": [
    "train_arr = np.loadtxt(\"../data/no_coord_train.csv\", dtype=np.float32, delimiter=\",\", skiprows=1)\n",
    "print(train_arr[:, 0])\n",
    "mean = train_arr[:, -1].mean()\n",
    "std = train_arr[:, -1].std()\n",
    "train_arr = train_arr[train_arr[:, -1] < mean + 5 * std]\n",
    "train_arr = train_arr[train_arr[:, -1] > 50]\n",
    "# Split into training/validation sets\n",
    "np.random.shuffle(train_arr)\n",
    "valid_arr = train_arr[int(0.9 * train_arr.shape[0]):]\n",
    "train_arr = train_arr[:int(0.9 * train_arr.shape[0])]\n",
    "weights = train_arr[:, -1]\n",
    "\n",
    "sampler = WeightedRandomSampler(weights=weights, num_samples=train_arr.shape[0], replacement=True)\n",
    "\n",
    "train_set = Indexed_Dataset(arr=train_arr)\n",
    "train_load = DataLoader(dataset=train_set,\n",
    "                        batch_size=32,\n",
    "#                         sampler=sampler,\n",
    "                        shuffle=True,\n",
    "                        num_workers=8,\n",
    "                        worker_init_fn=seed_worker,\n",
    "                        generator=g,)\n",
    "\n",
    "valid_set = Indexed_Dataset(arr=valid_arr)\n",
    "valid_load = DataLoader(dataset=valid_set,\n",
    "                        batch_size=32,\n",
    "                        # num_workers=8,\n",
    "                        shuffle=True,\n",
    "                        worker_init_fn=seed_worker,\n",
    "                        generator=g,)\n",
    "\n",
    "device = \"cuda\" if torch.cuda.is_available() else \"cpu\""
   ]
  },
  {
   "cell_type": "code",
   "execution_count": 4,
   "metadata": {
    "ExecuteTime": {
     "end_time": "2023-04-25T11:06:37.789948Z",
     "start_time": "2023-04-25T11:06:37.758708Z"
    }
   },
   "outputs": [],
   "source": [
    "class TravelRegressor(nn.Module):\n",
    "    def __init__(self):\n",
    "        super().__init__()\n",
    "        origin_call_dim = 20\n",
    "        origin_stand_dim = 5\n",
    "        taxi_id_dim = 10\n",
    "        self.embed_origin_call: nn.Module = nn.Embedding(29027, origin_call_dim, padding_idx=0)\n",
    "        self.embed_origin_stand: nn.Module = nn.Embedding(64, origin_stand_dim)\n",
    "        self.embed_taxi_id: nn.Module = nn.Embedding(448, taxi_id_dim)\n",
    "        self.feed_forward = nn.Sequential(\n",
    "            nn.Linear(9 + origin_call_dim + origin_stand_dim + taxi_id_dim, 1000),\n",
    "            nn.ReLU(),\n",
    "            nn.Dropout(0.5),\n",
    "            nn.Linear(1000, 800),\n",
    "            nn.ReLU(),\n",
    "            nn.Dropout(0.5),\n",
    "            nn.Linear(800, 1)\n",
    "        )\n",
    "\n",
    "    def forward(self, input: torch.Tensor):\n",
    "        origin_call = self.embed_origin_call(input[:, 0].to(dtype=torch.int32))\n",
    "        origin_stand = self.embed_origin_stand(input[:, 1].to(dtype=torch.int32))\n",
    "        taxi_id = self.embed_taxi_id(input[:, 2].to(dtype=torch.int32))\n",
    "        input = torch.cat((origin_call, origin_stand, taxi_id, input[:, 3:]), dim=1).to(dtype=torch.float32)\n",
    "        input = self.feed_forward(input)\n",
    "        return input\n",
    "\n",
    "model = TravelRegressor().to(device)"
   ]
  },
  {
   "cell_type": "code",
   "execution_count": 5,
   "metadata": {
    "ExecuteTime": {
     "end_time": "2023-04-25T11:06:39.219554Z",
     "start_time": "2023-04-25T11:06:39.190938Z"
    }
   },
   "outputs": [
    {
     "data": {
      "text/plain": [
       "torch.Size([1, 1])"
      ]
     },
     "execution_count": 5,
     "metadata": {},
     "output_type": "execute_result"
    }
   ],
   "source": [
    "model.eval()\n",
    "model(train_set[0][0].unsqueeze(0).to(device)).size()\n",
    "# train_set[0][0].unsqueeze(0).size()"
   ]
  },
  {
   "cell_type": "code",
   "execution_count": 6,
   "metadata": {
    "ExecuteTime": {
     "end_time": "2023-04-16T14:02:31.352229Z",
     "start_time": "2023-04-16T14:02:31.304302Z"
    }
   },
   "outputs": [],
   "source": [
    "mse = nn.MSELoss(reduction=\"mean\")\n",
    "optimizer = torch.optim.Adam(model.parameters(), lr=0.001)"
   ]
  },
  {
   "cell_type": "code",
   "execution_count": 7,
   "metadata": {},
   "outputs": [],
   "source": [
    "def weight_mse(pred, act):\n",
    "    denom = torch.sum(act)\n",
    "    return torch.sum(act * ((pred - act)**2 / len(act))) / denom"
   ]
  },
  {
   "cell_type": "code",
   "execution_count": 8,
   "metadata": {
    "ExecuteTime": {
     "end_time": "2023-04-16T14:02:31.357059Z",
     "start_time": "2023-04-16T14:02:31.335915Z"
    }
   },
   "outputs": [],
   "source": [
    "def validate():\n",
    "    model.eval()\n",
    "    loss = torch.tensor([0]).to(device, dtype=torch.float32)\n",
    "    with torch.no_grad():\n",
    "        for i, (entry, target) in enumerate(valid_load):\n",
    "            entry = entry.to(device, dtype=torch.float32)\n",
    "            target = target.to(device, dtype=torch.float32)\n",
    "            preds = model(entry)\n",
    "            loss += mse(preds, target)\n",
    "\n",
    "    return loss /(i + 1)"
   ]
  },
  {
   "cell_type": "code",
   "execution_count": 9,
   "metadata": {
    "ExecuteTime": {
     "end_time": "2023-04-16T14:02:31.405736Z",
     "start_time": "2023-04-16T14:02:31.362017Z"
    }
   },
   "outputs": [],
   "source": [
    "rmse_loss = []\n",
    "valid_loss = []\n",
    "def train(num_iter: int):\n",
    "    for epoch in range(num_iter):\n",
    "        rolling_loss = 0\n",
    "        entries = 0\n",
    "        for i, (entry, target) in enumerate(train_load):\n",
    "            model.train()\n",
    "            entry = entry.to(device, dtype=torch.float32)\n",
    "            target = target.to(device, dtype=torch.float32)\n",
    "            preds = model(entry)\n",
    "\n",
    "            optimizer.zero_grad()\n",
    "            loss = mse(preds, target) # or weighted mse\n",
    "            loss.backward()\n",
    "            optimizer.step()\n",
    "            rolling_loss += mse(preds, target) * entry.size(0)\n",
    "            entries += entry.size(0)\n",
    "            if (i + 1) % 500 == 0 or i == 0:\n",
    "                rolling_loss /= entries\n",
    "                print(f\"[Epoch: {epoch + 1}]\\t[Iter: {i + 1}]\\t[RMSE: {torch.sqrt(rolling_loss)}]\\t[STD: {torch.std(preds).item()}]\")\n",
    "                rmse_loss.append(torch.sqrt(rolling_loss).item())\n",
    "                valid_loss.append(torch.sqrt(validate()).item())\n",
    "                entries = 0\n",
    "                rolling_loss = 0\n"
   ]
  },
  {
   "cell_type": "code",
   "execution_count": 10,
   "metadata": {},
   "outputs": [
    {
     "name": "stdout",
     "output_type": "stream",
     "text": [
      "[Epoch: 1]\t[Iter: 1]\t[RMSE: 904.6311645507812]\t[STD: 1.220678687095642]\n",
      "[Epoch: 1]\t[Iter: 500]\t[RMSE: 483.912109375]\t[STD: 128.19338989257812]\n",
      "[Epoch: 1]\t[Iter: 1000]\t[RMSE: 460.364990234375]\t[STD: 102.03137969970703]\n",
      "[Epoch: 1]\t[Iter: 1500]\t[RMSE: 454.1444396972656]\t[STD: 132.04541015625]\n",
      "[Epoch: 1]\t[Iter: 2000]\t[RMSE: 445.71112060546875]\t[STD: 125.44325256347656]\n",
      "[Epoch: 1]\t[Iter: 2500]\t[RMSE: 450.5604553222656]\t[STD: 120.10313415527344]\n",
      "[Epoch: 1]\t[Iter: 3000]\t[RMSE: 455.60052490234375]\t[STD: 119.15948486328125]\n",
      "[Epoch: 1]\t[Iter: 3500]\t[RMSE: 440.59979248046875]\t[STD: 118.45662689208984]\n",
      "[Epoch: 1]\t[Iter: 4000]\t[RMSE: 446.5441589355469]\t[STD: 107.38921356201172]\n",
      "[Epoch: 1]\t[Iter: 4500]\t[RMSE: 450.65899658203125]\t[STD: 138.66151428222656]\n",
      "[Epoch: 1]\t[Iter: 5000]\t[RMSE: 442.819091796875]\t[STD: 120.94920349121094]\n",
      "[Epoch: 1]\t[Iter: 5500]\t[RMSE: 436.3639221191406]\t[STD: 132.7995147705078]\n",
      "[Epoch: 1]\t[Iter: 6000]\t[RMSE: 450.7597961425781]\t[STD: 96.7884750366211]\n",
      "[Epoch: 1]\t[Iter: 6500]\t[RMSE: 439.2449951171875]\t[STD: 132.9474639892578]\n",
      "[Epoch: 1]\t[Iter: 7000]\t[RMSE: 441.7408447265625]\t[STD: 134.47329711914062]\n",
      "[Epoch: 1]\t[Iter: 7500]\t[RMSE: 447.6513366699219]\t[STD: 108.86229705810547]\n",
      "[Epoch: 1]\t[Iter: 8000]\t[RMSE: 441.8962097167969]\t[STD: 96.51730346679688]\n",
      "[Epoch: 1]\t[Iter: 8500]\t[RMSE: 448.6590270996094]\t[STD: 150.13848876953125]\n",
      "[Epoch: 1]\t[Iter: 9000]\t[RMSE: 425.58880615234375]\t[STD: 133.25845336914062]\n",
      "[Epoch: 1]\t[Iter: 9500]\t[RMSE: 446.2388000488281]\t[STD: 133.24288940429688]\n",
      "[Epoch: 1]\t[Iter: 10000]\t[RMSE: 443.3441162109375]\t[STD: 108.19754791259766]\n",
      "[Epoch: 1]\t[Iter: 10500]\t[RMSE: 444.046142578125]\t[STD: 127.29119110107422]\n",
      "[Epoch: 1]\t[Iter: 11000]\t[RMSE: 439.78643798828125]\t[STD: 128.3992462158203]\n",
      "[Epoch: 1]\t[Iter: 11500]\t[RMSE: 436.1907653808594]\t[STD: 102.21379089355469]\n",
      "[Epoch: 1]\t[Iter: 12000]\t[RMSE: 439.2289733886719]\t[STD: 108.41565704345703]\n",
      "[Epoch: 1]\t[Iter: 12500]\t[RMSE: 443.50653076171875]\t[STD: 131.84762573242188]\n",
      "[Epoch: 1]\t[Iter: 13000]\t[RMSE: 433.78192138671875]\t[STD: 115.20144653320312]\n",
      "[Epoch: 1]\t[Iter: 13500]\t[RMSE: 439.256103515625]\t[STD: 98.18083190917969]\n",
      "[Epoch: 1]\t[Iter: 14000]\t[RMSE: 428.06036376953125]\t[STD: 121.65910339355469]\n",
      "[Epoch: 1]\t[Iter: 14500]\t[RMSE: 436.0328674316406]\t[STD: 115.53814697265625]\n",
      "[Epoch: 1]\t[Iter: 15000]\t[RMSE: 445.4764099121094]\t[STD: 191.4813690185547]\n",
      "[Epoch: 1]\t[Iter: 15500]\t[RMSE: 440.8815612792969]\t[STD: 131.12942504882812]\n",
      "[Epoch: 1]\t[Iter: 16000]\t[RMSE: 437.9857177734375]\t[STD: 150.1116485595703]\n",
      "[Epoch: 1]\t[Iter: 16500]\t[RMSE: 437.31585693359375]\t[STD: 131.40403747558594]\n",
      "[Epoch: 1]\t[Iter: 17000]\t[RMSE: 430.91973876953125]\t[STD: 144.84149169921875]\n",
      "[Epoch: 1]\t[Iter: 17500]\t[RMSE: 435.9085998535156]\t[STD: 135.87400817871094]\n",
      "[Epoch: 1]\t[Iter: 18000]\t[RMSE: 436.13873291015625]\t[STD: 170.6328582763672]\n",
      "[Epoch: 1]\t[Iter: 18500]\t[RMSE: 433.1167297363281]\t[STD: 115.55067443847656]\n",
      "[Epoch: 1]\t[Iter: 19000]\t[RMSE: 442.03436279296875]\t[STD: 141.3775634765625]\n",
      "[Epoch: 1]\t[Iter: 19500]\t[RMSE: 435.6910400390625]\t[STD: 127.21237182617188]\n",
      "[Epoch: 1]\t[Iter: 20000]\t[RMSE: 444.1749267578125]\t[STD: 134.22410583496094]\n",
      "[Epoch: 1]\t[Iter: 20500]\t[RMSE: 437.45831298828125]\t[STD: 136.93109130859375]\n",
      "[Epoch: 1]\t[Iter: 21000]\t[RMSE: 437.4364013671875]\t[STD: 129.29910278320312]\n",
      "[Epoch: 1]\t[Iter: 21500]\t[RMSE: 443.6517639160156]\t[STD: 152.97079467773438]\n",
      "[Epoch: 1]\t[Iter: 22000]\t[RMSE: 423.8902587890625]\t[STD: 125.73896789550781]\n",
      "[Epoch: 1]\t[Iter: 22500]\t[RMSE: 434.9764709472656]\t[STD: 169.89328002929688]\n",
      "[Epoch: 1]\t[Iter: 23000]\t[RMSE: 435.94805908203125]\t[STD: 151.5496063232422]\n",
      "[Epoch: 1]\t[Iter: 23500]\t[RMSE: 428.85504150390625]\t[STD: 156.05331420898438]\n",
      "[Epoch: 1]\t[Iter: 24000]\t[RMSE: 433.41717529296875]\t[STD: 138.16175842285156]\n",
      "[Epoch: 1]\t[Iter: 24500]\t[RMSE: 444.4810791015625]\t[STD: 112.76606750488281]\n",
      "[Epoch: 1]\t[Iter: 25000]\t[RMSE: 441.5740051269531]\t[STD: 112.77401733398438]\n",
      "[Epoch: 1]\t[Iter: 25500]\t[RMSE: 442.4408264160156]\t[STD: 97.25984191894531]\n",
      "[Epoch: 1]\t[Iter: 26000]\t[RMSE: 433.73895263671875]\t[STD: 170.34840393066406]\n",
      "[Epoch: 1]\t[Iter: 26500]\t[RMSE: 434.80364990234375]\t[STD: 124.19395446777344]\n",
      "[Epoch: 1]\t[Iter: 27000]\t[RMSE: 429.23529052734375]\t[STD: 139.10435485839844]\n",
      "[Epoch: 1]\t[Iter: 27500]\t[RMSE: 428.56671142578125]\t[STD: 164.75222778320312]\n",
      "[Epoch: 1]\t[Iter: 28000]\t[RMSE: 432.4064636230469]\t[STD: 106.57685852050781]\n",
      "[Epoch: 1]\t[Iter: 28500]\t[RMSE: 430.9086608886719]\t[STD: 168.7369842529297]\n",
      "[Epoch: 1]\t[Iter: 29000]\t[RMSE: 441.314453125]\t[STD: 116.97210693359375]\n",
      "[Epoch: 1]\t[Iter: 29500]\t[RMSE: 435.9071044921875]\t[STD: 128.5907440185547]\n",
      "[Epoch: 1]\t[Iter: 30000]\t[RMSE: 427.43017578125]\t[STD: 166.54161071777344]\n",
      "[Epoch: 1]\t[Iter: 30500]\t[RMSE: 427.9023132324219]\t[STD: 161.84950256347656]\n",
      "[Epoch: 1]\t[Iter: 31000]\t[RMSE: 438.9235534667969]\t[STD: 122.9761962890625]\n",
      "[Epoch: 1]\t[Iter: 31500]\t[RMSE: 431.935546875]\t[STD: 165.6539764404297]\n",
      "[Epoch: 1]\t[Iter: 32000]\t[RMSE: 447.48828125]\t[STD: 141.3079071044922]\n",
      "[Epoch: 1]\t[Iter: 32500]\t[RMSE: 431.81561279296875]\t[STD: 125.80136108398438]\n",
      "[Epoch: 1]\t[Iter: 33000]\t[RMSE: 430.05291748046875]\t[STD: 154.77676391601562]\n",
      "[Epoch: 1]\t[Iter: 33500]\t[RMSE: 431.31402587890625]\t[STD: 128.96388244628906]\n",
      "[Epoch: 1]\t[Iter: 34000]\t[RMSE: 430.3926696777344]\t[STD: 126.83382415771484]\n",
      "[Epoch: 1]\t[Iter: 34500]\t[RMSE: 428.5709228515625]\t[STD: 144.2532196044922]\n",
      "[Epoch: 1]\t[Iter: 35000]\t[RMSE: 432.7900085449219]\t[STD: 150.30221557617188]\n",
      "[Epoch: 1]\t[Iter: 35500]\t[RMSE: 427.3149108886719]\t[STD: 98.97674560546875]\n",
      "[Epoch: 1]\t[Iter: 36000]\t[RMSE: 439.22259521484375]\t[STD: 127.12958526611328]\n",
      "[Epoch: 1]\t[Iter: 36500]\t[RMSE: 446.7767639160156]\t[STD: 136.62969970703125]\n",
      "[Epoch: 1]\t[Iter: 37000]\t[RMSE: 435.6026306152344]\t[STD: 152.46304321289062]\n",
      "[Epoch: 1]\t[Iter: 37500]\t[RMSE: 432.8648681640625]\t[STD: 149.39312744140625]\n",
      "[Epoch: 1]\t[Iter: 38000]\t[RMSE: 430.81109619140625]\t[STD: 153.69068908691406]\n",
      "[Epoch: 1]\t[Iter: 38500]\t[RMSE: 430.1070251464844]\t[STD: 114.67208099365234]\n",
      "[Epoch: 1]\t[Iter: 39000]\t[RMSE: 437.3000183105469]\t[STD: 113.25525665283203]\n",
      "[Epoch: 1]\t[Iter: 39500]\t[RMSE: 431.4478759765625]\t[STD: 169.4672393798828]\n",
      "[Epoch: 1]\t[Iter: 40000]\t[RMSE: 440.08575439453125]\t[STD: 126.45330047607422]\n",
      "[Epoch: 1]\t[Iter: 40500]\t[RMSE: 426.9151916503906]\t[STD: 118.84603881835938]\n",
      "[Epoch: 1]\t[Iter: 41000]\t[RMSE: 436.84747314453125]\t[STD: 204.17079162597656]\n",
      "[Epoch: 1]\t[Iter: 41500]\t[RMSE: 433.2965087890625]\t[STD: 117.76930236816406]\n",
      "[Epoch: 1]\t[Iter: 42000]\t[RMSE: 436.332275390625]\t[STD: 173.9827117919922]\n",
      "[Epoch: 1]\t[Iter: 42500]\t[RMSE: 437.3509521484375]\t[STD: 127.32122039794922]\n",
      "[Epoch: 1]\t[Iter: 43000]\t[RMSE: 437.6920166015625]\t[STD: 160.58631896972656]\n",
      "[Epoch: 1]\t[Iter: 43500]\t[RMSE: 442.2817077636719]\t[STD: 127.57435607910156]\n",
      "[Epoch: 1]\t[Iter: 44000]\t[RMSE: 444.2575378417969]\t[STD: 184.63694763183594]\n",
      "[Epoch: 1]\t[Iter: 44500]\t[RMSE: 424.84716796875]\t[STD: 106.16851806640625]\n",
      "[Epoch: 1]\t[Iter: 45000]\t[RMSE: 436.0486755371094]\t[STD: 123.01301574707031]\n",
      "[Epoch: 1]\t[Iter: 45500]\t[RMSE: 438.1654357910156]\t[STD: 143.4015655517578]\n",
      "[Epoch: 1]\t[Iter: 46000]\t[RMSE: 435.4578857421875]\t[STD: 133.3217010498047]\n",
      "[Epoch: 1]\t[Iter: 46500]\t[RMSE: 437.0459899902344]\t[STD: 143.3411102294922]\n"
     ]
    }
   ],
   "source": [
    "train(1)"
   ]
  },
  {
   "cell_type": "code",
   "execution_count": 11,
   "metadata": {},
   "outputs": [
    {
     "data": {
      "image/png": "[encoded data removed]",
      "text/plain": [
       "<Figure size 432x288 with 1 Axes>"
      ]
     },
     "metadata": {
      "needs_background": "light"
     },
     "output_type": "display_data"
    }
   ],
   "source": [
    "import matplotlib.pyplot as plt\n",
    "%matplotlib inline\n",
    "plt.plot(rmse_loss, label=\"training\")\n",
    "plt.plot(valid_loss, label=\"validation\")\n",
    "plt.xlabel(\"Iteration's\")\n",
    "plt.ylabel(\"RMSE Loss\")\n",
    "plt.legend()\n",
    "plt.show()"
   ]
  },
  {
   "cell_type": "code",
   "execution_count": 12,
   "metadata": {},
   "outputs": [
    {
     "data": {
      "text/plain": [
       "426.50860595703125"
      ]
     },
     "execution_count": 12,
     "metadata": {},
     "output_type": "execute_result"
    }
   ],
   "source": [
    "torch.sqrt(validate()).item()"
   ]
  },
  {
   "cell_type": "markdown",
   "metadata": {},
   "source": [
    "### Milestone part 3 getting top 10 data points with greatest training loss"
   ]
  },
  {
   "cell_type": "code",
   "execution_count": 13,
   "metadata": {},
   "outputs": [],
   "source": [
    "train_tensor = torch.from_numpy(train_arr).to(device)"
   ]
  },
  {
   "cell_type": "code",
   "execution_count": 14,
   "metadata": {},
   "outputs": [
    {
     "data": {
      "text/plain": [
       "3386"
      ]
     },
     "execution_count": 14,
     "metadata": {},
     "output_type": "execute_result"
    }
   ],
   "source": [
    "torch.cuda.empty_cache()\n",
    "import gc\n",
    "# del variables\n",
    "gc.collect()\n",
    "# Ran into CUDA out of memory :("
   ]
  },
  {
   "cell_type": "code",
   "execution_count": 15,
   "metadata": {},
   "outputs": [],
   "source": [
    "eval_load = DataLoader(dataset=train_set,\n",
    "                        batch_size=32,\n",
    "#                         sampler=sampler,\n",
    "                        shuffle=False, # I just disabled shuffling\n",
    "                        num_workers=8,\n",
    "                        worker_init_fn=seed_worker,\n",
    "                        generator=g,)\n",
    "model.eval()\n",
    "full_loss = np.zeros(len(train_set))\n",
    "total = 0\n",
    "batchsz = 0\n",
    "with torch.no_grad():\n",
    "    for i, (entry, target) in enumerate(eval_load):\n",
    "        entry = entry.to(device, dtype=torch.float32)\n",
    "        target = target.to(device, dtype=torch.float32)\n",
    "        preds = model(entry)\n",
    "        batchsz = target.size()[0]\n",
    "        full_loss[total:total + batchsz] = np.sqrt((preds.cpu().numpy() - target.cpu().numpy())**2)[:, 0]\n",
    "        total += target.size()[0]"
   ]
  },
  {
   "cell_type": "code",
   "execution_count": 16,
   "metadata": {},
   "outputs": [
    {
     "name": "stdout",
     "output_type": "stream",
     "text": [
      "[ 312078 1126849  109034  135649 1436240  108166  876270  770785 1372843\n",
      " 1399250]\n",
      "[3549.31518555 3583.26391602 3594.75244141 3595.67797852 3598.5246582\n",
      " 3604.25708008 3614.87329102 3620.29956055 3669.8737793  3694.53271484]\n",
      "[ 246099.  737684. 1162019.  498709.  183950.   30871.  811174.  825096.\n",
      "  454547.  356296.]\n"
     ]
    }
   ],
   "source": [
    "order = np.argsort(full_loss)\n",
    "print(order[-10:]) # 10 worst loss data points\n",
    "print(full_loss[order[-10:]])\n",
    "print(train_arr[order[-10:], 0]) # indices in original dataset"
   ]
  },
  {
   "cell_type": "code",
   "execution_count": 17,
   "metadata": {},
   "outputs": [
    {
     "data": {
      "text/plain": [
       "1710669.0"
      ]
     },
     "execution_count": 17,
     "metadata": {},
     "output_type": "execute_result"
    }
   ],
   "source": [
    "max(train_arr[:, 0])"
   ]
  },
  {
   "cell_type": "code",
   "execution_count": 18,
   "metadata": {},
   "outputs": [
    {
     "ename": "NameError",
     "evalue": "name 'eval_arr' is not defined",
     "output_type": "error",
     "traceback": [
      "\u001b[0;31m---------------------------------------------------------------------------\u001b[0m",
      "\u001b[0;31mNameError\u001b[0m                                 Traceback (most recent call last)",
      "\u001b[0;32m/tmp/ipykernel_136/1658925262.py\u001b[0m in \u001b[0;36m<module>\u001b[0;34m\u001b[0m\n\u001b[0;32m----> 1\u001b[0;31m \u001b[0meval_arr\u001b[0m\u001b[0;34m[\u001b[0m\u001b[0mtrain_arr\u001b[0m\u001b[0;34m[\u001b[0m\u001b[0;34m:\u001b[0m\u001b[0;34m,\u001b[0m \u001b[0;36m0\u001b[0m\u001b[0;34m]\u001b[0m\u001b[0;34m.\u001b[0m\u001b[0mastype\u001b[0m\u001b[0;34m(\u001b[0m\u001b[0mnp\u001b[0m\u001b[0;34m.\u001b[0m\u001b[0mint32\u001b[0m\u001b[0;34m)\u001b[0m\u001b[0;34m,\u001b[0m \u001b[0;36m0\u001b[0m\u001b[0;34m]\u001b[0m\u001b[0;34m\u001b[0m\u001b[0;34m\u001b[0m\u001b[0m\n\u001b[0m",
      "\u001b[0;31mNameError\u001b[0m: name 'eval_arr' is not defined"
     ]
    }
   ],
   "source": [
    "eval_arr[train_arr[:, 0].astype(np.int32), 0]"
   ]
  },
  {
   "cell_type": "code",
   "execution_count": null,
   "metadata": {},
   "outputs": [],
   "source": [
    "train_arr.shape"
   ]
  },
  {
   "cell_type": "code",
   "execution_count": 19,
   "metadata": {},
   "outputs": [],
   "source": [
    "eval_arr = np.loadtxt(\"../data/no_coord_train.csv\", dtype=np.float32, delimiter=\",\", skiprows=1)\n",
    "eval_set = Indexed_Dataset(arr=eval_arr)\n",
    "eval_load = DataLoader(dataset=eval_set,\n",
    "                        batch_size=32,\n",
    "#                         sampler=sampler,\n",
    "                        shuffle=False, # I just disabled shuffling\n",
    "                        num_workers=8,\n",
    "                        worker_init_fn=seed_worker,\n",
    "                        generator=g,)\n",
    "model.eval()\n",
    "full_loss = np.zeros(len(eval_set))\n",
    "total = 0\n",
    "batchsz = 0\n",
    "with torch.no_grad():\n",
    "    for i, (entry, target) in enumerate(eval_load):\n",
    "        entry = entry.to(device, dtype=torch.float32)\n",
    "        target = target.to(device, dtype=torch.float32)\n",
    "        preds = model(entry)\n",
    "        batchsz = target.size()[0]\n",
    "        full_loss[total:total + batchsz] = np.sqrt((preds.cpu().numpy() - target.cpu().numpy())**2)[:, 0]\n",
    "        total += target.size()[0]\n"
   ]
  },
  {
   "cell_type": "code",
   "execution_count": 20,
   "metadata": {},
   "outputs": [
    {
     "name": "stdout",
     "output_type": "stream",
     "text": [
      "1710660\n",
      "[38849.01953125 38992.9609375  39716.15625    43418.04296875\n",
      " 45445.9140625  52402.1328125  53240.76171875 56979.97265625\n",
      " 57086.9609375  57280.05078125]\n",
      "[1003868  849524 1199131  182827  385816  147120  224508  578577 1492407\n",
      " 1093719]\n"
     ]
    },
    {
     "data": {
      "text/plain": [
       "array([1003876.,  849531., 1199139.,  182829.,  385819.,  147121.,\n",
       "        224510.,  578581., 1492417., 1093727.], dtype=float32)"
      ]
     },
     "execution_count": 20,
     "metadata": {},
     "output_type": "execute_result"
    }
   ],
   "source": [
    "order = np.argsort(full_loss)\n",
    "print(len(order))\n",
    "print(full_loss[order[-10:]])\n",
    "print(order[-10:]) # 10 worst loss data points\n",
    "eval_arr[order[-10:], 0] # indices in original dataset"
   ]
  },
  {
   "cell_type": "code",
   "execution_count": null,
   "metadata": {
    "scrolled": false
   },
   "outputs": [],
   "source": [
    "# model.eval()\n",
    "# with torch.no_grad():\n",
    "#     test = torch.from_numpy(np.loadtxt(\"../data/no_coord_test.csv\", skiprows=1, dtype=np.float32, delimiter=\",\")).to(device)\n",
    "#     out = model(test)\n",
    "#     torch.set_printoptions(threshold=10000, sci_mode=False)\n",
    "#     df_pred = pd.read_csv(\"../data/sampleSubmission.csv\")\n",
    "#     df_pred[\"TRAVEL_TIME\"] = out.cpu().numpy()\n",
    "#     df_pred.to_csv(\"NN_nocoord_weighted_prune.csv\")"
   ]
  }
 ],
 "metadata": {
  "kernelspec": {
   "display_name": "Python 3 (ipykernel)",
   "language": "python",
   "name": "python3"
  },
  "language_info": {
   "codemirror_mode": {
    "name": "ipython",
    "version": 3
   },
   "file_extension": ".py",
   "mimetype": "text/x-python",
   "name": "python",
   "nbconvert_exporter": "python",
   "pygments_lexer": "ipython3",
   "version": "3.9.7"
  }
 },
 "nbformat": 4,
 "nbformat_minor": 1
}
