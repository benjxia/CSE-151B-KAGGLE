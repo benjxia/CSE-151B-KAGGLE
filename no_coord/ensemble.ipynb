{
 "cells": [
  {
   "cell_type": "code",
   "execution_count": 1,
   "metadata": {
    "ExecuteTime": {
     "end_time": "2023-04-26T10:32:15.634290Z",
     "start_time": "2023-04-26T10:32:11.265237Z"
    }
   },
   "outputs": [],
   "source": [
    "import numpy as np\n",
    "import matplotlib.pyplot as plt\n",
    "from sklearn import neighbors, ensemble, kernel_ridge, svm\n",
    "from sklearn.linear_model import LinearRegression\n",
    "from sklearn.preprocessing import normalize\n",
    "import xgboost as xgb\n",
    "# in life, there exists only pain"
   ]
  },
  {
   "cell_type": "markdown",
   "metadata": {},
   "source": [
    "## Load data"
   ]
  },
  {
   "cell_type": "code",
   "execution_count": 2,
   "metadata": {
    "ExecuteTime": {
     "end_time": "2023-04-26T10:32:33.560576Z",
     "start_time": "2023-04-26T10:32:15.634290Z"
    }
   },
   "outputs": [],
   "source": [
    "# Ignore ORIGIN_CALL and other categorical columns\n",
    "np.random.seed(42)\n",
    "train_arr = np.loadtxt(\"../data/no_coord_train.csv\", dtype=np.float32, delimiter=\",\", skiprows=1)[:, 4:]\n",
    "mean = train_arr[:, -1].mean()\n",
    "std = train_arr[:, -1].std()\n",
    "train_arr = train_arr[train_arr[:, -1] < mean + 5 * std]\n",
    "train_arr = train_arr[train_arr[:, -1] > 50]\n",
    "# Split into training/validation sets\n",
    "np.random.shuffle(train_arr)\n",
    "valid_arr = train_arr[int(0.9 * train_arr.shape[0]):]\n",
    "train_arr = train_arr[:int(0.9 * train_arr.shape[0])]\n",
    "weights = train_arr[:, -1]\n",
    "\n",
    "train_label = train_arr[:, -1]\n",
    "train = train_arr[:, :-1]\n",
    "\n",
    "valid_label = valid_arr[:, -1]\n",
    "valid = valid_arr[:, :-1]"
   ]
  },
  {
   "cell_type": "code",
   "execution_count": 5,
   "metadata": {
    "ExecuteTime": {
     "end_time": "2023-04-26T10:32:33.575729Z",
     "start_time": "2023-04-26T10:32:33.560576Z"
    }
   },
   "outputs": [],
   "source": [
    "def score(model):\n",
    "    pred = model.predict(valid)\n",
    "    print(f\"RMSE: {np.sqrt(np.sum((pred - valid_label)**2) / len(valid))}\")"
   ]
  },
  {
   "cell_type": "markdown",
   "metadata": {},
   "source": [
    "## Models"
   ]
  },
  {
   "cell_type": "code",
   "execution_count": 4,
   "metadata": {
    "ExecuteTime": {
     "end_time": "2023-04-26T10:32:34.513185Z",
     "start_time": "2023-04-26T10:32:33.577731Z"
    }
   },
   "outputs": [
    {
     "name": "stdout",
     "output_type": "stream",
     "text": [
      "RMSE: 439.5314321575553\n"
     ]
    }
   ],
   "source": [
    "lin_reg = LinearRegression()\n",
    "lin_reg.fit(train, train_label)\n",
    "score(lin_reg)"
   ]
  },
  {
   "cell_type": "markdown",
   "metadata": {},
   "source": [
    "### KNN Regressor"
   ]
  },
  {
   "cell_type": "code",
   "execution_count": 5,
   "metadata": {
    "ExecuteTime": {
     "end_time": "2023-04-26T10:32:47.532730Z",
     "start_time": "2023-04-26T10:32:39.533936Z"
    }
   },
   "outputs": [
    {
     "data": {
      "text/plain": [
       "KNeighborsRegressor(n_neighbors=10)"
      ]
     },
     "execution_count": 5,
     "metadata": {},
     "output_type": "execute_result"
    }
   ],
   "source": [
    "KNN_Regressor = neighbors.KNeighborsRegressor(n_neighbors=10)\n",
    "KNN_Regressor.fit(train, train_label)"
   ]
  },
  {
   "cell_type": "code",
   "execution_count": 6,
   "metadata": {
    "ExecuteTime": {
     "end_time": "2023-04-26T10:33:17.973485Z",
     "start_time": "2023-04-26T10:32:47.513733Z"
    }
   },
   "outputs": [
    {
     "name": "stdout",
     "output_type": "stream",
     "text": [
      "RMSE: 450.6238864979781\n"
     ]
    }
   ],
   "source": [
    "score(KNN_Regressor)"
   ]
  },
  {
   "cell_type": "markdown",
   "metadata": {},
   "source": [
    "### Gradient Boosting"
   ]
  },
  {
   "cell_type": "code",
   "execution_count": 7,
   "metadata": {
    "ExecuteTime": {
     "end_time": "2023-04-26T10:44:52.359397Z",
     "start_time": "2023-04-26T10:33:17.962488Z"
    }
   },
   "outputs": [
    {
     "data": {
      "text/plain": [
       "GradientBoostingRegressor(learning_rate=0.001, n_estimators=200)"
      ]
     },
     "execution_count": 7,
     "metadata": {},
     "output_type": "execute_result"
    }
   ],
   "source": [
    "grad_boost = ensemble.GradientBoostingRegressor(learning_rate=0.001, n_estimators=200)\n",
    "grad_boost.fit(train, train_label, sample_weight=train_label)"
   ]
  },
  {
   "cell_type": "code",
   "execution_count": 8,
   "metadata": {
    "ExecuteTime": {
     "end_time": "2023-04-26T10:44:53.785380Z",
     "start_time": "2023-04-26T10:44:52.365398Z"
    }
   },
   "outputs": [
    {
     "name": "stdout",
     "output_type": "stream",
     "text": [
      "RMSE: 516.1063805958696\n"
     ]
    }
   ],
   "source": [
    "score(grad_boost)"
   ]
  },
  {
   "cell_type": "markdown",
   "metadata": {},
   "source": [
    "### Random Forest Regression"
   ]
  },
  {
   "cell_type": "code",
   "execution_count": 9,
   "metadata": {
    "ExecuteTime": {
     "end_time": "2023-04-26T11:12:29.709303Z",
     "start_time": "2023-04-26T10:44:53.802383Z"
    }
   },
   "outputs": [
    {
     "data": {
      "text/plain": [
       "RandomForestRegressor(max_depth=5, n_estimators=200, n_jobs=2)"
      ]
     },
     "execution_count": 9,
     "metadata": {},
     "output_type": "execute_result"
    }
   ],
   "source": [
    "random_forest = ensemble.RandomForestRegressor(n_estimators=200, n_jobs=2, max_depth=5)\n",
    "random_forest.fit(train, train_label)"
   ]
  },
  {
   "cell_type": "code",
   "execution_count": 10,
   "metadata": {
    "ExecuteTime": {
     "end_time": "2023-04-26T11:16:44.915121Z",
     "start_time": "2023-04-26T11:12:29.678293Z"
    }
   },
   "outputs": [
    {
     "name": "stdout",
     "output_type": "stream",
     "text": [
      "RMSE: 434.170656025221\n"
     ]
    }
   ],
   "source": [
    "score(random_forest)"
   ]
  },
  {
   "cell_type": "code",
   "execution_count": 11,
   "metadata": {},
   "outputs": [
    {
     "data": {
      "text/plain": [
       "723.00085"
      ]
     },
     "execution_count": 11,
     "metadata": {},
     "output_type": "execute_result"
    }
   ],
   "source": [
    "np.mean(train_label)"
   ]
  },
  {
   "cell_type": "code",
   "execution_count": 12,
   "metadata": {},
   "outputs": [
    {
     "name": "stdout",
     "output_type": "stream",
     "text": [
      "RMSE: 445.6634218868758\n"
     ]
    }
   ],
   "source": [
    "print(f\"RMSE: {np.sqrt(np.sum((747.66943 - valid_label)**2) / len(valid))}\")"
   ]
  },
  {
   "cell_type": "markdown",
   "metadata": {},
   "source": [
    "### XGBoost"
   ]
  },
  {
   "cell_type": "code",
   "execution_count": 13,
   "metadata": {},
   "outputs": [
    {
     "name": "stdout",
     "output_type": "stream",
     "text": [
      "RMSE: 504.1950399821682\n"
     ]
    }
   ],
   "source": [
    "reg = xgb.XGBRegressor(tree_method=\"gpu_hist\", n_estimators=100, max_depth=5)\n",
    "reg.fit(train, train_label, sample_weight=weights)\n",
    "score(reg)"
   ]
  },
  {
   "cell_type": "code",
   "execution_count": 17,
   "metadata": {},
   "outputs": [],
   "source": [
    "import pandas as pd\n",
    "test = np.loadtxt(\"../data/no_coord_test.csv\", delimiter=\",\", skiprows=1)[:, 3:]\n",
    "df_pred = pd.read_csv(\"../data/sampleSubmission.csv\")\n",
    "preds = lin_reg.predict(test)\n",
    "preds = KNN_Regressor.predict(test)\n",
    "preds = grad_boost.predict(test)\n",
    "\n",
    "df_pred[\"TRAVEL_TIME\"] = preds\n",
    "df_pred.to_csv(\"./grad_boost_nocoord_prune.csv\", index=False)\n",
    "preds = random_forest.predict(test)\n",
    "\n",
    "df_pred[\"TRAVEL_TIME\"] = preds\n",
    "df_pred.to_csv(\"./random_forest_nocoord_prune.csv\", index=False)\n",
    "preds = reg.predict(test)\n",
    "\n",
    "df_pred[\"TRAVEL_TIME\"] = preds\n",
    "df_pred.to_csv(\"./xgboost_nocoord_prune.csv\", index=False)"
   ]
  },
  {
   "cell_type": "markdown",
   "metadata": {},
   "source": [
    "## Create prediction csv"
   ]
  },
  {
   "cell_type": "code",
   "execution_count": null,
   "metadata": {
    "ExecuteTime": {
     "end_time": "2023-04-25T00:21:08.295939Z",
     "start_time": "2023-04-25T00:21:08.232294Z"
    }
   },
   "outputs": [],
   "source": [
    "import pandas as pd\n",
    "# Ignore ORIGIN_CALL and other categorical columns\n",
    "test = np.loadtxt(\"../data/no_coord_test.csv\", delimiter=\",\", skiprows=1)[:, 3:]\n",
    "df_pred = pd.read_csv(\"../data/sampleSubmission.csv\")\n",
    "preds = reg.predict(test)"
   ]
  },
  {
   "cell_type": "code",
   "execution_count": null,
   "metadata": {},
   "outputs": [],
   "source": [
    "print(preds)"
   ]
  },
  {
   "cell_type": "code",
   "execution_count": null,
   "metadata": {
    "ExecuteTime": {
     "end_time": "2023-04-25T00:13:00.614244Z",
     "start_time": "2023-04-25T00:13:00.566921Z"
    }
   },
   "outputs": [],
   "source": [
    "df_pred[\"TRAVEL_TIME\"] = preds\n",
    "df_pred.to_csv(\"./predictions.csv\", index=False)"
   ]
  }
 ],
 "metadata": {
  "kernelspec": {
   "display_name": "Python 3 (ipykernel)",
   "language": "python",
   "name": "python3"
  },
  "language_info": {
   "codemirror_mode": {
    "name": "ipython",
    "version": 3
   },
   "file_extension": ".py",
   "mimetype": "text/x-python",
   "name": "python",
   "nbconvert_exporter": "python",
   "pygments_lexer": "ipython3",
   "version": "3.9.7"
  }
 },
 "nbformat": 4,
 "nbformat_minor": 2
}
