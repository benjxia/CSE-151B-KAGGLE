{
 "cells": [
  {
   "cell_type": "markdown",
   "source": [
    "# just a pytorch dataset nothing to see here"
   ],
   "metadata": {
    "collapsed": false
   }
  },
  {
   "cell_type": "code",
   "execution_count": 2,
   "metadata": {
    "collapsed": true,
    "ExecuteTime": {
     "start_time": "2023-04-10T18:50:53.631270Z",
     "end_time": "2023-04-10T18:51:01.296290Z"
    }
   },
   "outputs": [],
   "source": [
    "import torch\n",
    "from torch import nn\n",
    "from torch.utils.data import DataLoader, Dataset\n",
    "from torchvision import datasets\n",
    "from torchvision.transforms import ToTensor\n",
    "import pandas as pd\n",
    "import numpy as np"
   ]
  },
  {
   "cell_type": "code",
   "execution_count": 9,
   "outputs": [],
   "source": [
    "class dataset(Dataset):\n",
    "    def __init__(self, path: str):\n",
    "        \"\"\"\n",
    "        Create a dataset object\n",
    "        :param path: Path to dataset's csv file\n",
    "        \"\"\"\n",
    "        self.df: pd.DataFrame = pd.read_csv(path)\n",
    "\n",
    "    def __len__(self):\n",
    "        \"\"\"\n",
    "        :return: Size of dataset\n",
    "        \"\"\"\n",
    "        return len(self.df)\n",
    "\n",
    "    def __getitem__(self, item):\n",
    "        \"\"\"\n",
    "        :param item: Index of item\n",
    "        :return: (item, label) at index in dataset, item is predictor, label is prediction target\n",
    "        \"\"\"\n",
    "        row = self.df.iloc[item]\n",
    "        return torch.tensor(row[:-1]), torch.tensor(row[-1])\n"
   ],
   "metadata": {
    "collapsed": false,
    "ExecuteTime": {
     "start_time": "2023-04-10T18:57:17.143850Z",
     "end_time": "2023-04-10T18:57:17.159724Z"
    }
   }
  },
  {
   "cell_type": "code",
   "execution_count": 10,
   "outputs": [],
   "source": [
    "ds = dataset(\"./data/processed_train.csv\")"
   ],
   "metadata": {
    "collapsed": false,
    "ExecuteTime": {
     "start_time": "2023-04-10T18:57:19.658224Z",
     "end_time": "2023-04-10T18:57:21.275689Z"
    }
   }
  },
  {
   "cell_type": "code",
   "execution_count": 12,
   "outputs": [
    {
     "data": {
      "text/plain": "(tensor([2.0000e+00, 0.0000e+00, 0.0000e+00, 2.0001e+07, 6.0000e+00, 3.0000e+01,\n         6.0000e+00, 1.7000e+01, 0.0000e+00], dtype=torch.float64),\n tensor(345., dtype=torch.float64))"
     },
     "execution_count": 12,
     "metadata": {},
     "output_type": "execute_result"
    }
   ],
   "source": [
    "ds[0]"
   ],
   "metadata": {
    "collapsed": false,
    "ExecuteTime": {
     "start_time": "2023-04-10T19:01:56.652611Z",
     "end_time": "2023-04-10T19:01:56.668225Z"
    }
   }
  }
 ],
 "metadata": {
  "kernelspec": {
   "display_name": "Python 3",
   "language": "python",
   "name": "python3"
  },
  "language_info": {
   "codemirror_mode": {
    "name": "ipython",
    "version": 2
   },
   "file_extension": ".py",
   "mimetype": "text/x-python",
   "name": "python",
   "nbconvert_exporter": "python",
   "pygments_lexer": "ipython2",
   "version": "2.7.6"
  }
 },
 "nbformat": 4,
 "nbformat_minor": 0
}
