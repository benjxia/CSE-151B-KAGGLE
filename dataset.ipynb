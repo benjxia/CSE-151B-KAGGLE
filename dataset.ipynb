{
 "cells": [
  {
   "cell_type": "markdown",
   "source": [
    "# just a pytorch dataset nothing to see here"
   ],
   "metadata": {
    "collapsed": false
   }
  },
  {
   "cell_type": "code",
   "execution_count": 1,
   "metadata": {
    "collapsed": true,
    "ExecuteTime": {
     "start_time": "2023-04-16T21:57:01.218334Z",
     "end_time": "2023-04-16T21:57:06.787607Z"
    }
   },
   "outputs": [],
   "source": [
    "import torch\n",
    "from torch import nn\n",
    "from torch.utils.data import DataLoader, Dataset\n",
    "from torchvision import datasets\n",
    "from torchvision.transforms import ToTensor\n",
    "import pandas as pd\n",
    "import numpy as np"
   ]
  },
  {
   "cell_type": "code",
   "execution_count": 2,
   "outputs": [],
   "source": [
    "class dataset(Dataset):\n",
    "    def __init__(self, path: str):\n",
    "        \"\"\"\n",
    "        Create a dataset object\n",
    "        :param path: Path to dataset's csv file\n",
    "        \"\"\"\n",
    "        self.df: pd.DataFrame = pd.read_csv(path)\n",
    "\n",
    "    def __len__(self):\n",
    "        \"\"\"\n",
    "        :return: Size of dataset\n",
    "        \"\"\"\n",
    "        return len(self.df)\n",
    "\n",
    "    def __getitem__(self, item):\n",
    "        \"\"\"\n",
    "        :param item: Index of item\n",
    "        :return: (item, label) at index in dataset, item is predictor, label is prediction target\n",
    "        \"\"\"\n",
    "        row = self.df.iloc[item]\n",
    "        return torch.tensor(row[:-1]), torch.tensor(row[-1])\n"
   ],
   "metadata": {
    "collapsed": false,
    "ExecuteTime": {
     "start_time": "2023-04-16T21:57:06.796578Z",
     "end_time": "2023-04-16T21:57:06.857967Z"
    }
   }
  },
  {
   "cell_type": "code",
   "execution_count": 3,
   "outputs": [],
   "source": [
    "ds = dataset(\"./data/processed_trainv2.csv\")"
   ],
   "metadata": {
    "collapsed": false,
    "ExecuteTime": {
     "start_time": "2023-04-16T21:57:06.817975Z",
     "end_time": "2023-04-16T21:57:08.292594Z"
    }
   }
  },
  {
   "cell_type": "code",
   "execution_count": 4,
   "outputs": [
    {
     "data": {
      "text/plain": "(tensor([0.0000e+00, 0.0000e+00, 3.6700e+02, 0.0000e+00, 0.0000e+00, 1.0000e+00,\n         2.0130e+03, 6.0000e+00, 3.0000e+01, 6.0000e+00, 1.7000e+01, 0.0000e+00],\n        dtype=torch.float64),\n tensor(345., dtype=torch.float64))"
     },
     "execution_count": 4,
     "metadata": {},
     "output_type": "execute_result"
    }
   ],
   "source": [
    "ds[0]"
   ],
   "metadata": {
    "collapsed": false,
    "ExecuteTime": {
     "start_time": "2023-04-16T21:57:08.304772Z",
     "end_time": "2023-04-16T21:57:08.408221Z"
    }
   }
  }
 ],
 "metadata": {
  "kernelspec": {
   "display_name": "Python 3",
   "language": "python",
   "name": "python3"
  },
  "language_info": {
   "codemirror_mode": {
    "name": "ipython",
    "version": 2
   },
   "file_extension": ".py",
   "mimetype": "text/x-python",
   "name": "python",
   "nbconvert_exporter": "python",
   "pygments_lexer": "ipython2",
   "version": "2.7.6"
  }
 },
 "nbformat": 4,
 "nbformat_minor": 0
}
