{
 "cells": [
  {
   "cell_type": "code",
   "execution_count": 1,
   "metadata": {
    "ExecuteTime": {
     "end_time": "2023-05-11T13:49:23.593065Z",
     "start_time": "2023-05-11T13:49:20.634888Z"
    }
   },
   "outputs": [],
   "source": [
    "import numpy as np\n",
    "import matplotlib.pyplot as plt\n",
    "from sklearn import neighbors, ensemble, kernel_ridge, svm\n",
    "from sklearn.linear_model import LinearRegression\n",
    "from sklearn.preprocessing import normalize\n",
    "import xgboost as xgb\n",
    "import pandas as pd\n",
    "from sklearn.model_selection import train_test_split\n",
    "from catboost import CatBoostRegressor"
   ]
  },
  {
   "cell_type": "markdown",
   "metadata": {},
   "source": [
    "## Load data"
   ]
  },
  {
   "cell_type": "code",
   "execution_count": 2,
   "metadata": {
    "ExecuteTime": {
     "end_time": "2023-05-11T16:16:21.256126Z",
     "start_time": "2023-05-11T16:16:15.873296Z"
    }
   },
   "outputs": [
    {
     "name": "stderr",
     "output_type": "stream",
     "text": [
      "/tmp/ipykernel_958/1815337466.py:25: SettingWithCopyWarning: \n",
      "A value is trying to be set on a copy of a slice from a DataFrame\n",
      "\n",
      "See the caveats in the documentation: https://pandas.pydata.org/pandas-docs/stable/user_guide/indexing.html#returning-a-view-versus-a-copy\n",
      "  train.drop(labels=[\"TARGET\"], inplace=True, axis=1)\n",
      "/tmp/ipykernel_958/1815337466.py:27: SettingWithCopyWarning: \n",
      "A value is trying to be set on a copy of a slice from a DataFrame\n",
      "\n",
      "See the caveats in the documentation: https://pandas.pydata.org/pandas-docs/stable/user_guide/indexing.html#returning-a-view-versus-a-copy\n",
      "  valid.drop(labels=[\"TARGET\"], inplace=True, axis=1)\n"
     ]
    }
   ],
   "source": [
    "# Ignore ORIGIN_CALL and other categorical columns\n",
    "np.random.seed(42)\n",
    "# train_arr = np.loadtxt(\"../data/numeric_trainvf.csv\", dtype=np.float32, delimiter=\",\", skiprows=1)[:, 4:]\n",
    "df_train = pd.read_csv(\"../data/combined_trainvf.csv\", index_col=0)\n",
    "df_train.head()\n",
    "# Prune\n",
    "df_train = df_train[df_train[\"DIST\"] < 20]\n",
    "df_train = df_train[df_train[\"TARGET\"] > 30]\n",
    "df_train = df_train[df_train[\"TARGET\"] < 15000]\n",
    "\n",
    "# Categorical\n",
    "df_train[\"ORIGIN_CALL\"] = df_train[\"ORIGIN_CALL\"].astype(\"category\")\n",
    "df_train[\"ORIGIN_STAND\"] = df_train[\"ORIGIN_STAND\"].astype(\"category\")\n",
    "df_train[\"TAXI_ID\"] = df_train[\"TAXI_ID\"].astype(\"category\")\n",
    "# df_train[\"YEAR\"] = df_train[\"YEAR\"].astype(\"category\")\n",
    "# df_train[\"WK_OF_YR\"] = df_train[\"WK_OF_YR\"].astype(\"category\")\n",
    "# df_train[\"WK_DAY\"] = df_train[\"WK_DAY\"].astype(\"category\")\n",
    "# df_train[\"HR\"] = df_train[\"HR\"].astype(\"category\")\n",
    "# df_train[\"MONTH\"] = df_train[\"MONTH\"].astype(\"category\")\n",
    "droplist = [\"START_LONG\", \"START_LAT\", \"DIST\"]\n",
    "df_train.drop(labels=droplist, inplace=True, axis=1)\n",
    "# Split\n",
    "train, valid = train_test_split(df_train, test_size=0.1)\n",
    "train_label = train[\"TARGET\"]\n",
    "train.drop(labels=[\"TARGET\"], inplace=True, axis=1)\n",
    "valid_label = valid[\"TARGET\"]\n",
    "valid.drop(labels=[\"TARGET\"], inplace=True, axis=1)\n",
    "\n",
    "# Test\n",
    "# test = np.loadtxt(\"../data/combined_testvf.csv\", delimiter=\",\", skiprows=1)[:, 3:]\n",
    "df_test = pd.read_csv(\"../data/combined_testvf.csv\")\n",
    "df_test[\"ORIGIN_CALL\"] = df_test[\"ORIGIN_CALL\"].astype(\"category\").cat.set_categories(df_train[\"ORIGIN_CALL\"].cat.categories)\n",
    "df_test[\"ORIGIN_STAND\"] = df_test[\"ORIGIN_STAND\"].astype(\"category\").cat.set_categories(df_train[\"ORIGIN_STAND\"].cat.categories)\n",
    "df_test[\"TAXI_ID\"] = df_test[\"TAXI_ID\"].astype(\"category\").cat.set_categories(df_train[\"TAXI_ID\"].cat.categories)\n",
    "# df_test[\"YEAR\"] = df_test[\"YEAR\"].astype(\"category\").cat.set_categories(df_train[\"YEAR\"].cat.categories)\n",
    "# df_test[\"WK_OF_YR\"] = df_test[\"WK_OF_YR\"].astype(\"category\").cat.set_categories(df_train[\"WK_OF_YR\"].cat.categories)\n",
    "# df_test[\"WK_DAY\"] = df_test[\"WK_DAY\"].astype(\"category\").cat.set_categories(df_train[\"WK_DAY\"].cat.categories)\n",
    "# df_test[\"HR\"] = df_test[\"HR\"].astype(\"category\").cat.set_categories(df_train[\"HR\"].cat.categories)\n",
    "# df_test[\"MONTH\"] = df_test[\"MONTH\"].astype(\"category\")\n",
    "df_test.drop(labels=droplist, inplace=True, axis=1)"
   ]
  },
  {
   "cell_type": "code",
   "execution_count": 95,
   "metadata": {},
   "outputs": [
    {
     "data": {
      "text/html": [
       "<div>\n",
       "<style scoped>\n",
       "    .dataframe tbody tr th:only-of-type {\n",
       "        vertical-align: middle;\n",
       "    }\n",
       "\n",
       "    .dataframe tbody tr th {\n",
       "        vertical-align: top;\n",
       "    }\n",
       "\n",
       "    .dataframe thead th {\n",
       "        text-align: right;\n",
       "    }\n",
       "</style>\n",
       "<table border=\"1\" class=\"dataframe\">\n",
       "  <thead>\n",
       "    <tr style=\"text-align: right;\">\n",
       "      <th></th>\n",
       "      <th>ORIGIN_CALL</th>\n",
       "      <th>ORIGIN_STAND</th>\n",
       "      <th>TAXI_ID</th>\n",
       "      <th>START_LONG</th>\n",
       "      <th>START_LAT</th>\n",
       "      <th>A</th>\n",
       "      <th>B</th>\n",
       "      <th>C</th>\n",
       "      <th>YEAR</th>\n",
       "      <th>WK_OF_YR</th>\n",
       "      <th>WK_DAY</th>\n",
       "      <th>MONTH</th>\n",
       "      <th>DAY</th>\n",
       "      <th>HR</th>\n",
       "      <th>DIST</th>\n",
       "    </tr>\n",
       "  </thead>\n",
       "  <tbody>\n",
       "    <tr>\n",
       "      <th>1101256</th>\n",
       "      <td>0</td>\n",
       "      <td>5</td>\n",
       "      <td>391</td>\n",
       "      <td>-8.582832</td>\n",
       "      <td>41.180751</td>\n",
       "      <td>0</td>\n",
       "      <td>1</td>\n",
       "      <td>0</td>\n",
       "      <td>2014</td>\n",
       "      <td>9</td>\n",
       "      <td>1</td>\n",
       "      <td>2</td>\n",
       "      <td>25</td>\n",
       "      <td>5</td>\n",
       "      <td>3.910364</td>\n",
       "    </tr>\n",
       "    <tr>\n",
       "      <th>626957</th>\n",
       "      <td>0</td>\n",
       "      <td>35</td>\n",
       "      <td>148</td>\n",
       "      <td>-8.649657</td>\n",
       "      <td>41.154345</td>\n",
       "      <td>0</td>\n",
       "      <td>1</td>\n",
       "      <td>0</td>\n",
       "      <td>2013</td>\n",
       "      <td>46</td>\n",
       "      <td>1</td>\n",
       "      <td>11</td>\n",
       "      <td>12</td>\n",
       "      <td>1</td>\n",
       "      <td>2.546728</td>\n",
       "    </tr>\n",
       "    <tr>\n",
       "      <th>1566973</th>\n",
       "      <td>0</td>\n",
       "      <td>6</td>\n",
       "      <td>340</td>\n",
       "      <td>-8.639991</td>\n",
       "      <td>41.159646</td>\n",
       "      <td>0</td>\n",
       "      <td>1</td>\n",
       "      <td>0</td>\n",
       "      <td>2014</td>\n",
       "      <td>23</td>\n",
       "      <td>0</td>\n",
       "      <td>6</td>\n",
       "      <td>2</td>\n",
       "      <td>13</td>\n",
       "      <td>1.673552</td>\n",
       "    </tr>\n",
       "    <tr>\n",
       "      <th>1517545</th>\n",
       "      <td>0</td>\n",
       "      <td>63</td>\n",
       "      <td>11</td>\n",
       "      <td>-8.613900</td>\n",
       "      <td>41.146884</td>\n",
       "      <td>0</td>\n",
       "      <td>0</td>\n",
       "      <td>1</td>\n",
       "      <td>2014</td>\n",
       "      <td>21</td>\n",
       "      <td>4</td>\n",
       "      <td>5</td>\n",
       "      <td>23</td>\n",
       "      <td>20</td>\n",
       "      <td>1.487536</td>\n",
       "    </tr>\n",
       "    <tr>\n",
       "      <th>1504217</th>\n",
       "      <td>0</td>\n",
       "      <td>33</td>\n",
       "      <td>139</td>\n",
       "      <td>-8.615583</td>\n",
       "      <td>41.140845</td>\n",
       "      <td>0</td>\n",
       "      <td>1</td>\n",
       "      <td>0</td>\n",
       "      <td>2014</td>\n",
       "      <td>21</td>\n",
       "      <td>2</td>\n",
       "      <td>5</td>\n",
       "      <td>21</td>\n",
       "      <td>6</td>\n",
       "      <td>2.101389</td>\n",
       "    </tr>\n",
       "  </tbody>\n",
       "</table>\n",
       "</div>"
      ],
      "text/plain": [
       "        ORIGIN_CALL ORIGIN_STAND TAXI_ID  START_LONG  START_LAT  A  B  C  \\\n",
       "1101256           0            5     391   -8.582832  41.180751  0  1  0   \n",
       "626957            0           35     148   -8.649657  41.154345  0  1  0   \n",
       "1566973           0            6     340   -8.639991  41.159646  0  1  0   \n",
       "1517545           0           63      11   -8.613900  41.146884  0  0  1   \n",
       "1504217           0           33     139   -8.615583  41.140845  0  1  0   \n",
       "\n",
       "         YEAR  WK_OF_YR  WK_DAY  MONTH  DAY  HR      DIST  \n",
       "1101256  2014         9       1      2   25   5  3.910364  \n",
       "626957   2013        46       1     11   12   1  2.546728  \n",
       "1566973  2014        23       0      6    2  13  1.673552  \n",
       "1517545  2014        21       4      5   23  20  1.487536  \n",
       "1504217  2014        21       2      5   21   6  2.101389  "
      ]
     },
     "execution_count": 95,
     "metadata": {},
     "output_type": "execute_result"
    }
   ],
   "source": [
    "train.head()"
   ]
  },
  {
   "cell_type": "code",
   "execution_count": 3,
   "metadata": {
    "ExecuteTime": {
     "end_time": "2023-05-11T16:16:22.610310Z",
     "start_time": "2023-05-11T16:16:22.588168Z"
    }
   },
   "outputs": [],
   "source": [
    "def score(model):\n",
    "    pred = model.predict(valid)\n",
    "    print(f\"RMSE: {np.sqrt(np.sum((pred - valid_label)**2) / len(valid))}\")"
   ]
  },
  {
   "cell_type": "markdown",
   "metadata": {},
   "source": [
    "## Models"
   ]
  },
  {
   "cell_type": "markdown",
   "metadata": {},
   "source": [
    "### XGBoost"
   ]
  },
  {
   "cell_type": "code",
   "execution_count": null,
   "metadata": {
    "scrolled": false
   },
   "outputs": [],
   "source": [
    "reg_full = xgb.XGBRegressor(tree_method=\"gpu_hist\", n_estimators=50, enable_categorical=True, max_cat_to_onehot=1)\n",
    "reg_full.fit(train, train_label)\n",
    "preds_full = reg_full.predict(df_test)\n",
    "score(reg_full)"
   ]
  },
  {
   "cell_type": "code",
   "execution_count": 114,
   "metadata": {},
   "outputs": [],
   "source": [
    "preds = reg_full.predict(df_test) # No taxi id, origin call, origin stand, no coords\n",
    "df_pred = pd.read_csv(\"../data/sampleSubmission.csv\")\n",
    "df_pred[\"TRAVEL_TIME\"] = preds\n",
    "df_pred.to_csv(\"./combined_xgboost_categorical_3_default.csv\", index=False)"
   ]
  },
  {
   "cell_type": "code",
   "execution_count": 17,
   "metadata": {},
   "outputs": [],
   "source": [
    "reg = xgb.XGBRegressor(tree_method=\"gpu_hist\", n_estimators=4, enable_categorical=True, max_cat_to_onehot=1)\n",
    "reg.fit(train, train_label)\n",
    "preds = reg.predict(df_test)"
   ]
  },
  {
   "cell_type": "code",
   "execution_count": 18,
   "metadata": {},
   "outputs": [
    {
     "name": "stdout",
     "output_type": "stream",
     "text": [
      "[ 692.49756  619.2346   658.2535   605.00226  615.8369   802.2189\n",
      "  649.2317   719.4376   621.45575  686.0294   619.2346   724.77124\n",
      "  621.45575 1255.2343   697.8312   777.07184  697.8312  1160.9586\n",
      "  712.9695   750.1318   686.0294   719.4376   686.0294   711.03845\n",
      "  629.8076   709.0863   686.0294   712.9695   716.09143  711.03845\n",
      "  686.0294   619.2346   724.77124  836.103    831.7416   732.84015\n",
      "  759.7096   625.1414   686.0294   680.0603   619.2346   661.03345\n",
      " 1562.2695   686.0294   619.2346   619.2346   697.8312   697.8312\n",
      "  747.8408   619.2346   786.17456  701.23676  619.2346   686.0294\n",
      "  711.03845  619.2346   658.2535   680.0603  1076.4232   686.0294\n",
      "  711.03845  697.8312   621.45575  715.59216  621.45575  686.0294\n",
      "  686.0294   614.29553  856.0419   573.5528   819.90094  856.0419\n",
      "  686.0294  1053.9149   535.35925  845.46124  535.35925  835.98975\n",
      "  720.60815 1106.2155   665.9773   699.3855   692.91736  698.80383\n",
      "  528.48334  698.80383  942.45496  712.788    507.66376  665.9773\n",
      "  665.9773   677.77905  768.3495   665.9773   573.6627  1594.4459\n",
      "  665.9773   701.3237   665.9773   621.45575  600.257    656.1061\n",
      "  941.0048   528.48334  563.2464   692.91736  695.54004  652.6052\n",
      "  649.63794  699.3855   665.9773   665.9773   640.821    614.29553\n",
      "  690.9863   720.60815  546.7018   590.3227   621.45575  573.2955\n",
      "  621.45575  665.9773   614.29553  649.2317   535.35925  541.99506\n",
      "  638.20135  665.9773   677.77905  535.35925  500.34427  550.3242\n",
      "  621.45575  889.7405   638.20135 1125.8601   739.6575   521.32056\n",
      "  665.9773   665.9773  1193.1912   535.35925  690.9863   802.2189\n",
      "  665.9773   672.7993   516.07574  757.0197   649.63794  536.28546\n",
      "  621.45575  708.4158   697.8312   686.0294   661.03345  680.56793\n",
      "  686.0294   686.0294   664.5085   686.0294   686.0294   621.45575\n",
      "  686.0294   618.82666  686.0294   618.82666  732.84015  686.0294\n",
      " 1106.2155   683.969    710.1371   715.964    592.62396  664.5085\n",
      "  776.33466  831.7416   711.03845  686.0294   686.0294   621.45575\n",
      "  692.0464   646.57635  686.0294   697.8312   618.82666 1255.2343\n",
      "  704.5703   664.5085   752.19214 1532.8126   712.9695   664.5085\n",
      "  698.80383  697.8312   711.03845  697.8312  1160.9586   698.1963\n",
      " 1194.6572   657.1493   724.77124  763.88513  664.5085   813.21277\n",
      " 1562.2695   734.2274   729.5447   649.2317   686.0294   813.21277\n",
      "  664.5085   695.0658  1284.6912   618.82666  786.17456  712.9695\n",
      "  750.53     664.5085   664.5085   686.0294   942.45496 1284.6912\n",
      "  721.37585  697.8312   658.2535   602.1242  1076.4232   621.45575\n",
      "  533.1298   541.99506  554.23456  558.99554  629.83264  541.99506\n",
      "  541.99506  516.3277   621.7281   595.4826   541.99506  497.61664\n",
      "  530.3175   541.99506  424.7034   541.99506  516.3277   566.9665\n",
      "  523.19574  541.99506  742.5294   524.4137   455.77863  562.4066\n",
      "  654.9898   579.4071   448.65497  673.136    558.99554  541.99506\n",
      "  541.99506  559.1813   516.3277   654.9898   541.99506  566.9665\n",
      "  541.99506  448.65497  541.99506  642.33655  530.3175   711.33765\n",
      "  587.51166  595.4826   541.99506  411.38416  595.4826   448.65497\n",
      "  455.77863 1030.575    530.3175   595.4826   541.99506  461.94455\n",
      "  516.3277   448.65497  541.99506  573.38824  528.00525  604.72766\n",
      "  562.4066   516.3277   486.3923   910.29736  668.3589  1379.1927\n",
      "  624.6731   653.3761   641.4187   553.9543   596.89716  898.1757\n",
      "  696.04956  653.22046  668.3589   739.72815  596.89716  674.827\n",
      "  668.3589   663.8052  1161.0146   698.80383  641.4187   641.4187\n",
      "  641.4187   999.82874  653.22046  641.4187   581.84143  857.10156\n",
      "  674.827    641.4187 ]\n"
     ]
    }
   ],
   "source": [
    "print(preds)"
   ]
  },
  {
   "cell_type": "code",
   "execution_count": 135,
   "metadata": {},
   "outputs": [],
   "source": [
    "preds = reg.predict(df_test) # No taxi id, origin call, origin stand, no coords\n",
    "df_pred = pd.read_csv(\"../data/sampleSubmission.csv\")\n",
    "df_pred[\"TRAVEL_TIME\"] = preds\n",
    "df_pred.to_csv(\"./combined_xgboost_categorical_4_default_15kmax.csv\", index=False)"
   ]
  },
  {
   "cell_type": "code",
   "execution_count": 108,
   "metadata": {},
   "outputs": [
    {
     "name": "stdout",
     "output_type": "stream",
     "text": [
      "RMSE: 531.4848147987065\n",
      "RMSE: 464.3774480486925\n",
      "RMSE: 837.7974275920382\n"
     ]
    }
   ],
   "source": [
    "# E V E R Y T H I N G\n",
    "pred = reg.predict(valid[valid[\"A\"] == 1])\n",
    "print(f\"RMSE: {np.sqrt(np.sum((pred - valid_label[valid['A'] == 1])**2) / len(valid[valid['A'] == 1]))}\")\n",
    "pred = reg.predict(valid[valid[\"B\"] == 1])\n",
    "print(f\"RMSE: {np.sqrt(np.sum((pred - valid_label[valid['B'] == 1])**2) / len(valid[valid['B'] == 1]))}\")\n",
    "pred = reg.predict(valid[valid[\"C\"] == 1])\n",
    "print(f\"RMSE: {np.sqrt(np.sum((pred - valid_label[valid['C'] == 1])**2) / len(valid[valid['C'] == 1]))}\")"
   ]
  },
  {
   "cell_type": "code",
   "execution_count": 8,
   "metadata": {},
   "outputs": [
    {
     "name": "stdout",
     "output_type": "stream",
     "text": [
      "RMSE: 477.84808351169596\n",
      "RMSE: 428.91400283658095\n",
      "RMSE: 786.1901650206082\n"
     ]
    }
   ],
   "source": [
    "# Yes taxi id, origin call, origin stand, no coords\n",
    "pred = reg.predict(valid[valid[\"A\"] == 1])\n",
    "print(f\"RMSE: {np.sqrt(np.sum((pred - valid_label[valid['A'] == 1])**2) / len(valid[valid['A'] == 1]))}\")\n",
    "pred = reg.predict(valid[valid[\"B\"] == 1])\n",
    "print(f\"RMSE: {np.sqrt(np.sum((pred - valid_label[valid['B'] == 1])**2) / len(valid[valid['B'] == 1]))}\")\n",
    "pred = reg.predict(valid[valid[\"C\"] == 1])\n",
    "print(f\"RMSE: {np.sqrt(np.sum((pred - valid_label[valid['C'] == 1])**2) / len(valid[valid['C'] == 1]))}\")"
   ]
  },
  {
   "cell_type": "code",
   "execution_count": 29,
   "metadata": {},
   "outputs": [
    {
     "name": "stdout",
     "output_type": "stream",
     "text": [
      "RMSE: 534.2977151110199\n",
      "RMSE: 463.64833608675974\n",
      "RMSE: 827.8829632643224\n"
     ]
    }
   ],
   "source": [
    "# simple\n",
    "pred = reg.predict(valid[valid[\"A\"] == 1])\n",
    "print(f\"RMSE: {np.sqrt(np.sum((pred - valid_label[valid['A'] == 1])**2) / len(valid[valid['A'] == 1]))}\")\n",
    "pred = reg.predict(valid[valid[\"B\"] == 1])\n",
    "print(f\"RMSE: {np.sqrt(np.sum((pred - valid_label[valid['B'] == 1])**2) / len(valid[valid['B'] == 1]))}\")\n",
    "pred = reg.predict(valid[valid[\"C\"] == 1])\n",
    "print(f\"RMSE: {np.sqrt(np.sum((pred - valid_label[valid['C'] == 1])**2) / len(valid[valid['C'] == 1]))}\")"
   ]
  },
  {
   "cell_type": "markdown",
   "metadata": {},
   "source": [
    "## Create prediction csv"
   ]
  },
  {
   "cell_type": "code",
   "execution_count": 9,
   "metadata": {
    "ExecuteTime": {
     "end_time": "2023-04-25T00:13:00.614244Z",
     "start_time": "2023-04-25T00:13:00.566921Z"
    }
   },
   "outputs": [],
   "source": [
    "df_pred[\"TRAVEL_TIME\"] = preds\n",
    "df_pred.to_csv(\"./combined_xgboost_4_all_notimecategories.csv\", index=False)"
   ]
  }
 ],
 "metadata": {
  "kernelspec": {
   "display_name": "Python 3 (ipykernel)",
   "language": "python",
   "name": "python3"
  },
  "language_info": {
   "codemirror_mode": {
    "name": "ipython",
    "version": 3
   },
   "file_extension": ".py",
   "mimetype": "text/x-python",
   "name": "python",
   "nbconvert_exporter": "python",
   "pygments_lexer": "ipython3",
   "version": "3.9.5"
  }
 },
 "nbformat": 4,
 "nbformat_minor": 2
}
