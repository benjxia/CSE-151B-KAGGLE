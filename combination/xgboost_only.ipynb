{
 "cells": [
  {
   "cell_type": "code",
   "execution_count": 1,
   "metadata": {
    "ExecuteTime": {
     "end_time": "2023-05-11T13:49:23.593065Z",
     "start_time": "2023-05-11T13:49:20.634888Z"
    }
   },
   "outputs": [],
   "source": [
    "import numpy as np\n",
    "import matplotlib.pyplot as plt\n",
    "from sklearn import neighbors, ensemble, kernel_ridge, svm\n",
    "from sklearn.linear_model import LinearRegression\n",
    "from sklearn.preprocessing import normalize\n",
    "import xgboost as xgb\n",
    "import pandas as pd\n",
    "from sklearn.model_selection import train_test_split\n"
   ]
  },
  {
   "cell_type": "markdown",
   "metadata": {},
   "source": [
    "## Load data"
   ]
  },
  {
   "cell_type": "code",
   "execution_count": 2,
   "metadata": {
    "ExecuteTime": {
     "end_time": "2023-05-11T16:16:21.256126Z",
     "start_time": "2023-05-11T16:16:15.873296Z"
    }
   },
   "outputs": [
    {
     "name": "stderr",
     "output_type": "stream",
     "text": [
      "/tmp/ipykernel_3449/2034273604.py:22: SettingWithCopyWarning: \n",
      "A value is trying to be set on a copy of a slice from a DataFrame\n",
      "\n",
      "See the caveats in the documentation: https://pandas.pydata.org/pandas-docs/stable/user_guide/indexing.html#returning-a-view-versus-a-copy\n",
      "  train.drop(labels=[\"TARGET\"], inplace=True, axis=1)\n",
      "/tmp/ipykernel_3449/2034273604.py:24: SettingWithCopyWarning: \n",
      "A value is trying to be set on a copy of a slice from a DataFrame\n",
      "\n",
      "See the caveats in the documentation: https://pandas.pydata.org/pandas-docs/stable/user_guide/indexing.html#returning-a-view-versus-a-copy\n",
      "  valid.drop(labels=[\"TARGET\"], inplace=True, axis=1)\n"
     ]
    }
   ],
   "source": [
    "# Ignore ORIGIN_CALL and other categorical columns\n",
    "np.random.seed(42)\n",
    "# train_arr = np.loadtxt(\"../data/numeric_trainvf.csv\", dtype=np.float32, delimiter=\",\", skiprows=1)[:, 4:]\n",
    "df_train = pd.read_csv(\"../data/combined_trainvf.csv\", index_col=0)\n",
    "df_train.head()\n",
    "# Prune\n",
    "df_train = df_train[df_train[\"DIST\"] < 20]\n",
    "df_train = df_train[df_train[\"TARGET\"] > 30]\n",
    "df_train = df_train[df_train[\"TARGET\"] < 20000]\n",
    "\n",
    "# Categorical\n",
    "df_train[\"ORIGIN_CALL\"] = df_train[\"ORIGIN_CALL\"].astype(\"category\")\n",
    "df_train[\"ORIGIN_STAND\"] = df_train[\"ORIGIN_STAND\"].astype(\"category\")\n",
    "df_train[\"TAXI_ID\"] = df_train[\"TAXI_ID\"].astype(\"category\")\n",
    "df_train[\"YEAR\"] = df_train[\"YEAR\"].astype(\"category\")\n",
    "df_train[\"WK_OF_YR\"] = df_train[\"WK_OF_YR\"].astype(\"category\")\n",
    "df_train[\"WK_DAY\"] = df_train[\"WK_DAY\"].astype(\"category\")\n",
    "df_train[\"HR\"] = df_train[\"HR\"].astype(\"category\")\n",
    "# Split\n",
    "train, valid = train_test_split(df_train, test_size=0.1)\n",
    "train_label = train[\"TARGET\"]\n",
    "train.drop(labels=[\"TARGET\"], inplace=True, axis=1)\n",
    "valid_label = valid[\"TARGET\"]\n",
    "valid.drop(labels=[\"TARGET\"], inplace=True, axis=1)\n",
    "\n",
    "# Test\n",
    "# test = np.loadtxt(\"../data/combined_testvf.csv\", delimiter=\",\", skiprows=1)[:, 3:]\n",
    "df_test = pd.read_csv(\"../data/combined_testvf.csv\")\n",
    "df_test[\"ORIGIN_CALL\"] = df_test[\"ORIGIN_CALL\"].astype(\"category\").cat.set_categories(df_train[\"ORIGIN_CALL\"].cat.categories)\n",
    "df_test[\"ORIGIN_STAND\"] = df_test[\"ORIGIN_STAND\"].astype(\"category\").cat.set_categories(df_train[\"ORIGIN_STAND\"].cat.categories)\n",
    "df_test[\"TAXI_ID\"] = df_test[\"TAXI_ID\"].astype(\"category\").cat.set_categories(df_train[\"TAXI_ID\"].cat.categories)\n",
    "df_test[\"YEAR\"] = df_test[\"YEAR\"].astype(\"category\").cat.set_categories(df_train[\"YEAR\"].cat.categories)\n",
    "df_test[\"WK_OF_YR\"] = df_test[\"WK_OF_YR\"].astype(\"category\").cat.set_categories(df_train[\"WK_OF_YR\"].cat.categories)\n",
    "df_test[\"WK_DAY\"] = df_test[\"WK_DAY\"].astype(\"category\").cat.set_categories(df_train[\"WK_DAY\"].cat.categories)\n",
    "df_test[\"HR\"] = df_test[\"HR\"].astype(\"category\").cat.set_categories(df_train[\"HR\"].cat.categories)"
   ]
  },
  {
   "cell_type": "code",
   "execution_count": 3,
   "metadata": {},
   "outputs": [
    {
     "data": {
      "text/plain": [
       "0          0\n",
       "1          0\n",
       "2          0\n",
       "3          0\n",
       "4          0\n",
       "       ...  \n",
       "315        0\n",
       "316        0\n",
       "317        0\n",
       "318        0\n",
       "319    15003\n",
       "Name: ORIGIN_CALL, Length: 320, dtype: category\n",
       "Categories (29026, int64): [0, 1, 2, 3, ..., 29023, 29024, 29025, 29026]"
      ]
     },
     "execution_count": 3,
     "metadata": {},
     "output_type": "execute_result"
    }
   ],
   "source": [
    "df_test[\"ORIGIN_CALL\"]"
   ]
  },
  {
   "cell_type": "code",
   "execution_count": 244,
   "metadata": {
    "ExecuteTime": {
     "end_time": "2023-05-11T16:16:22.610310Z",
     "start_time": "2023-05-11T16:16:22.588168Z"
    }
   },
   "outputs": [],
   "source": [
    "def score(model):\n",
    "    pred = model.predict(valid)\n",
    "    print(f\"RMSE: {np.sqrt(np.sum((pred - valid_label)**2) / len(valid))}\")"
   ]
  },
  {
   "cell_type": "markdown",
   "metadata": {},
   "source": [
    "## Models"
   ]
  },
  {
   "cell_type": "markdown",
   "metadata": {},
   "source": [
    "### XGBoost"
   ]
  },
  {
   "cell_type": "code",
   "execution_count": 6,
   "metadata": {},
   "outputs": [],
   "source": [
    "reg = xgb.XGBRegressor(tree_method=\"gpu_hist\", n_estimators=200, enable_categorical=True, max_cat_to_onehot=1)\n",
    "reg.fit(train, train_label)\n",
    "preds = reg.predict(df_test)"
   ]
  },
  {
   "cell_type": "code",
   "execution_count": 9,
   "metadata": {},
   "outputs": [],
   "source": [
    "preds = reg.predict(df_test) # No taxi id, origin call, origin stand, no coords\n",
    "df_pred = pd.read_csv(\"../data/sampleSubmission.csv\")\n",
    "df_pred[\"TRAVEL_TIME\"] = preds\n",
    "df_pred.to_csv(\"./combined_xgboost_categorical_200_default.csv\", index=False)"
   ]
  },
  {
   "cell_type": "code",
   "execution_count": 248,
   "metadata": {},
   "outputs": [
    {
     "name": "stdout",
     "output_type": "stream",
     "text": [
      "RMSE: 479.1870131209387\n",
      "RMSE: 429.06258599828124\n",
      "RMSE: 789.9128936173889\n"
     ]
    }
   ],
   "source": [
    "# E V E R Y T H I N G\n",
    "pred = reg.predict(valid[valid[\"A\"] == 1])\n",
    "print(f\"RMSE: {np.sqrt(np.sum((pred - valid_label[valid['A'] == 1])**2) / len(valid[valid['A'] == 1]))}\")\n",
    "pred = reg.predict(valid[valid[\"B\"] == 1])\n",
    "print(f\"RMSE: {np.sqrt(np.sum((pred - valid_label[valid['B'] == 1])**2) / len(valid[valid['B'] == 1]))}\")\n",
    "pred = reg.predict(valid[valid[\"C\"] == 1])\n",
    "print(f\"RMSE: {np.sqrt(np.sum((pred - valid_label[valid['C'] == 1])**2) / len(valid[valid['C'] == 1]))}\")"
   ]
  },
  {
   "cell_type": "code",
   "execution_count": 8,
   "metadata": {},
   "outputs": [
    {
     "name": "stdout",
     "output_type": "stream",
     "text": [
      "RMSE: 477.84808351169596\n",
      "RMSE: 428.91400283658095\n",
      "RMSE: 786.1901650206082\n"
     ]
    }
   ],
   "source": [
    "# Yes taxi id, origin call, origin stand, no coords\n",
    "pred = reg.predict(valid[valid[\"A\"] == 1])\n",
    "print(f\"RMSE: {np.sqrt(np.sum((pred - valid_label[valid['A'] == 1])**2) / len(valid[valid['A'] == 1]))}\")\n",
    "pred = reg.predict(valid[valid[\"B\"] == 1])\n",
    "print(f\"RMSE: {np.sqrt(np.sum((pred - valid_label[valid['B'] == 1])**2) / len(valid[valid['B'] == 1]))}\")\n",
    "pred = reg.predict(valid[valid[\"C\"] == 1])\n",
    "print(f\"RMSE: {np.sqrt(np.sum((pred - valid_label[valid['C'] == 1])**2) / len(valid[valid['C'] == 1]))}\")"
   ]
  },
  {
   "cell_type": "code",
   "execution_count": 135,
   "metadata": {},
   "outputs": [
    {
     "name": "stdout",
     "output_type": "stream",
     "text": [
      "RMSE: 503.21808466721495\n",
      "RMSE: 430.7721133212752\n",
      "RMSE: 911.1326239670425\n"
     ]
    }
   ],
   "source": [
    "# simple\n",
    "pred = reg.predict(valid[valid[\"A\"] == 1])\n",
    "print(f\"RMSE: {np.sqrt(np.sum((pred - valid_label[valid['A'] == 1])**2) / len(valid[valid['A'] == 1]))}\")\n",
    "pred = reg.predict(valid[valid[\"B\"] == 1])\n",
    "print(f\"RMSE: {np.sqrt(np.sum((pred - valid_label[valid['B'] == 1])**2) / len(valid[valid['B'] == 1]))}\")\n",
    "pred = reg.predict(valid[valid[\"C\"] == 1])\n",
    "print(f\"RMSE: {np.sqrt(np.sum((pred - valid_label[valid['C'] == 1])**2) / len(valid[valid['C'] == 1]))}\")"
   ]
  },
  {
   "cell_type": "markdown",
   "metadata": {},
   "source": [
    "## Create prediction csv"
   ]
  },
  {
   "cell_type": "code",
   "execution_count": 16,
   "metadata": {
    "ExecuteTime": {
     "end_time": "2023-05-11T17:51:09.797968Z",
     "start_time": "2023-05-11T17:51:07.380690Z"
    }
   },
   "outputs": [],
   "source": [
    "import pandas as pd\n",
    "test = np.loadtxt(\"../data/numeric_testvf.csv\", delimiter=\",\", skiprows=1)[:, 3:]\n",
    "df_pred = pd.read_csv(\"../data/sampleSubmission.csv\")\n",
    "# preds = lin_reg.predict(test)\n",
    "# preds = KNN_Regressor.predict(test)\n",
    "# preds = grad_boost.predict(test)\n",
    "\n",
    "# df_pred[\"TRAVEL_TIME\"] = preds\n",
    "# df_pred.to_csv(\"./grad_boost_numeric_prune.csv\", index=False)\n",
    "# preds = random_forest.predict(test)\n",
    "\n",
    "# df_pred[\"TRAVEL_TIME\"] = preds\n",
    "# df_pred.to_csv(\"./random_forest_numeric_prune.csv\", index=False)\n",
    "# preds = reg.predict(test)\n",
    "\n",
    "df_pred[\"TRAVEL_TIME\"] = preds\n",
    "df_pred.to_csv(\"./xgboost_numeric_prune.csv\", index=False)"
   ]
  },
  {
   "cell_type": "code",
   "execution_count": 247,
   "metadata": {},
   "outputs": [
    {
     "name": "stdout",
     "output_type": "stream",
     "text": [
      "[ 957.6611   752.60284  780.598    719.68353  760.0907   882.75604\n",
      "  823.38434  750.3728   747.1309   837.69635  747.2265   855.37775\n",
      " 1015.7043  1510.5624   874.60767  942.7616  1114.02    1190.1124\n",
      "  895.9712  1091.3286   763.89056  820.5083   612.0671   896.9895\n",
      "  818.8046   820.55896  787.38635  841.4842   868.1567   889.4218\n",
      "  787.917    825.947    854.2789   999.2707  1435.5496   833.37396\n",
      "  834.36444  690.33795  829.9881   841.7452   674.4172   752.75635\n",
      " 2018.8619   779.18036  753.4257   688.04956  763.33813  847.5007\n",
      "  725.70325  720.7693  1036.3297   754.051    732.0543   892.9372\n",
      "  925.0432   687.0384   744.0416   790.23975 1259.5393   747.7781\n",
      "  852.99066  790.5606   949.1034  1032.2911   675.8869   804.9909\n",
      "  809.86554  683.07526 1060.402    658.7561  1340.2295   991.07043\n",
      "  819.4713  1270.9761   707.95526  923.86487  681.9069   972.11096\n",
      "  868.6488  1266.5344   772.0826   873.8238   840.0343   882.0674\n",
      "  641.65717  831.165   1812.1106  1108.9347   614.73517 1347.1327\n",
      "  834.25885  932.2154  1199.5763   814.2635   701.3847  1963.0457\n",
      "  832.7598  1130.4008   798.196   1577.6937   725.6126   950.0922\n",
      " 1171.3444   645.0909   672.3408   640.2399   831.1057   867.2128\n",
      "  844.325   1169.8892  1279.2832  1065.9941   753.34753  692.0261\n",
      "  880.5347   803.9323   693.45544  810.1579   739.7669   727.32654\n",
      "  690.40546  790.68915  740.95734  812.7256   628.5356   884.16187\n",
      "  749.79675 1276.8867   826.507    685.1002   555.22327  750.1345\n",
      "  836.43085 1069.1478   957.0927  1769.3472   935.42804  626.80316\n",
      " 1499.8608   932.7661  1615.071    665.4126  1346.5138  1275.6233\n",
      "  806.2275   874.9571   689.24756 1038.5321   839.4467   639.0479\n",
      " 1172.01     896.12225  865.49475 1306.3138   715.938    842.01483\n",
      "  912.6322  1170.5526   865.35693  908.3171   826.00854  974.7044\n",
      "  888.5046   746.12134  887.77246  766.6823   940.59875 1453.4545\n",
      " 1304.0651   769.45264  921.8617   810.1792   663.7127   870.9597\n",
      "  965.68774 1249.682    917.6531   948.1922   897.66437  861.3703\n",
      "  861.9164   859.5098  1153.1471   856.42755  846.4135  1984.1014\n",
      "  875.73486  844.40796  905.66797 1700.4646  1031.2395   700.68256\n",
      "  873.40765  829.9099  1010.6106   879.4354  1717.2382   793.5691\n",
      " 1239.0149   912.1272   875.50867 1180.8494   842.2822  1500.2712\n",
      " 1776.2134   830.584    995.16254 1411.7522  1540.8967  1077.4901\n",
      "  865.5014   839.71313 1604.9641   760.99133 1132.2363  1420.8917\n",
      " 1341.9268   834.6026   809.5249   918.44366 1182.5153  1748.9976\n",
      " 1354.6423   802.9778   808.26587  725.72815 1303.0029   813.2089\n",
      "  661.6329   639.0201   678.0365   662.0408   734.8487   656.4347\n",
      "  628.6751   522.6104   709.4071   686.71277  636.7075   629.62537\n",
      "  753.9098   651.6453   508.79453 1107.9595   604.4957   720.491\n",
      "  678.8986   625.1338  1197.6824   634.1179   574.2953   668.81445\n",
      "  784.1683   787.21674  595.55176  797.2503   683.2146   630.9786\n",
      "  661.8686   743.29724  636.83203  805.7019   603.7192  1272.0298\n",
      "  769.1305   549.99097  591.2833   740.44495  645.35516  818.9534\n",
      "  633.9      751.4146   614.6996   457.67465  663.9524   572.6153\n",
      "  572.4332   797.40063  578.9277   999.08856  716.3722   494.44196\n",
      "  697.7108   550.1366   579.81213 1072.0686   602.901   1087.2446\n",
      "  644.6717   593.8879   578.6052   845.2882   746.8067  1467.3438\n",
      " 1338.8223   770.33527  771.007    600.48145  647.53064  880.3513\n",
      " 1023.76825  647.4133   728.3175   922.2348   828.0967   810.63306\n",
      " 1080.1669   803.97174 1517.72     706.53723  831.35254  784.84546\n",
      "  755.5357  1037.9639   768.6803   892.32806  640.50525 1000.98956\n",
      "  763.2145  1504.6558 ]\n"
     ]
    }
   ],
   "source": [
    "print(preds)"
   ]
  },
  {
   "cell_type": "code",
   "execution_count": 186,
   "metadata": {
    "ExecuteTime": {
     "end_time": "2023-04-25T00:13:00.614244Z",
     "start_time": "2023-04-25T00:13:00.566921Z"
    }
   },
   "outputs": [],
   "source": [
    "df_pred[\"TRAVEL_TIME\"] = preds\n",
    "df_pred.to_csv(\"./combined_xgboost_1000_default_all.csv\", index=False)"
   ]
  }
 ],
 "metadata": {
  "kernelspec": {
   "display_name": "Python 3 (ipykernel)",
   "language": "python",
   "name": "python3"
  },
  "language_info": {
   "codemirror_mode": {
    "name": "ipython",
    "version": 3
   },
   "file_extension": ".py",
   "mimetype": "text/x-python",
   "name": "python",
   "nbconvert_exporter": "python",
   "pygments_lexer": "ipython3",
   "version": "3.9.5"
  }
 },
 "nbformat": 4,
 "nbformat_minor": 2
}
