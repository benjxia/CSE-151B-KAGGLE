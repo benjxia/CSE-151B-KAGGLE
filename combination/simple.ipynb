{
 "cells": [
  {
   "cell_type": "code",
   "execution_count": 1,
   "metadata": {
    "ExecuteTime": {
     "end_time": "2023-05-11T13:49:23.593065Z",
     "start_time": "2023-05-11T13:49:20.634888Z"
    }
   },
   "outputs": [],
   "source": [
    "import numpy as np\n",
    "import matplotlib.pyplot as plt\n",
    "from sklearn import neighbors, ensemble, kernel_ridge, svm\n",
    "from sklearn.linear_model import LinearRegression\n",
    "from sklearn.preprocessing import normalize\n",
    "import xgboost as xgb"
   ]
  },
  {
   "cell_type": "markdown",
   "metadata": {},
   "source": [
    "## Load data"
   ]
  },
  {
   "cell_type": "code",
   "execution_count": 3,
   "metadata": {
    "ExecuteTime": {
     "end_time": "2023-05-11T16:16:21.256126Z",
     "start_time": "2023-05-11T16:16:15.873296Z"
    }
   },
   "outputs": [],
   "source": [
    "# Ignore ORIGIN_CALL and other categorical columns\n",
    "np.random.seed(42)\n",
    "train_arr = np.loadtxt(\"../data/numeric_trainvf.csv\", dtype=np.float32, delimiter=\",\", skiprows=1)[:, 4:]\n",
    "mean = train_arr[:, -1].mean()\n",
    "std = train_arr[:, -1].std()\n",
    "train_arr = train_arr[train_arr[:, -1] < mean + 5 * std]\n",
    "train_arr = train_arr[train_arr[:, -1] > 30]\n",
    "# Split into training/validation sets\n",
    "np.random.shuffle(train_arr)\n",
    "valid_arr = train_arr[int(0.9 * train_arr.shape[0]):]\n",
    "train_arr = train_arr[:int(0.9 * train_arr.shape[0])]\n",
    "weights = train_arr[:, -1]\n",
    "\n",
    "train_label = train_arr[:, -1]\n",
    "train = train_arr[:, :-1]\n",
    "\n",
    "valid_label = valid_arr[:, -1]\n",
    "valid = valid_arr[:, :-1]\n"
   ]
  },
  {
   "cell_type": "code",
   "execution_count": 6,
   "metadata": {
    "ExecuteTime": {
     "end_time": "2023-05-11T16:16:22.610310Z",
     "start_time": "2023-05-11T16:16:22.588168Z"
    }
   },
   "outputs": [],
   "source": [
    "def score(model):\n",
    "    pred = model.predict(valid)\n",
    "    print(f\"RMSE: {np.sqrt(np.sum((pred - valid_label)**2) / len(valid))}\")"
   ]
  },
  {
   "cell_type": "markdown",
   "metadata": {},
   "source": [
    "## Models"
   ]
  },
  {
   "cell_type": "code",
   "execution_count": 4,
   "metadata": {
    "ExecuteTime": {
     "end_time": "2023-05-11T16:16:31.612587Z",
     "start_time": "2023-05-11T16:16:30.819653Z"
    }
   },
   "outputs": [
    {
     "name": "stdout",
     "output_type": "stream",
     "text": [
      "RMSE: 438.2685160161196\n"
     ]
    }
   ],
   "source": [
    "lin_reg = LinearRegression()\n",
    "lin_reg.fit(train, train_label)\n",
    "score(lin_reg)"
   ]
  },
  {
   "cell_type": "markdown",
   "metadata": {},
   "source": [
    "### KNN Regressor"
   ]
  },
  {
   "cell_type": "code",
   "execution_count": 5,
   "metadata": {
    "ExecuteTime": {
     "end_time": "2023-05-11T16:17:44.077109Z",
     "start_time": "2023-05-11T16:17:36.799444Z"
    }
   },
   "outputs": [
    {
     "data": {
      "text/plain": [
       "KNeighborsRegressor(n_neighbors=10)"
      ]
     },
     "execution_count": 5,
     "metadata": {},
     "output_type": "execute_result"
    }
   ],
   "source": [
    "KNN_Regressor = neighbors.KNeighborsRegressor(n_neighbors=10)\n",
    "KNN_Regressor.fit(train, train_label)"
   ]
  },
  {
   "cell_type": "code",
   "execution_count": 6,
   "metadata": {
    "ExecuteTime": {
     "end_time": "2023-05-11T16:18:10.755106Z",
     "start_time": "2023-05-11T16:17:44.081068Z"
    }
   },
   "outputs": [
    {
     "name": "stdout",
     "output_type": "stream",
     "text": [
      "RMSE: 445.49759614025527\n"
     ]
    }
   ],
   "source": [
    "score(KNN_Regressor)"
   ]
  },
  {
   "cell_type": "code",
   "execution_count": 7,
   "metadata": {
    "ExecuteTime": {
     "end_time": "2023-05-08T21:37:49.130281Z",
     "start_time": "2023-05-08T21:37:42.300195Z"
    }
   },
   "outputs": [
    {
     "data": {
      "text/plain": [
       "187.77357"
      ]
     },
     "execution_count": 7,
     "metadata": {},
     "output_type": "execute_result"
    }
   ],
   "source": [
    "np.std(KNN_Regressor.predict(valid))"
   ]
  },
  {
   "cell_type": "markdown",
   "metadata": {},
   "source": [
    "### Gradient Boosting"
   ]
  },
  {
   "cell_type": "code",
   "execution_count": 9,
   "metadata": {
    "ExecuteTime": {
     "end_time": "2023-05-11T17:08:50.544461Z",
     "start_time": "2023-05-11T16:19:33.617420Z"
    }
   },
   "outputs": [
    {
     "data": {
      "text/plain": [
       "GradientBoostingRegressor(learning_rate=0.001, n_estimators=200)"
      ]
     },
     "execution_count": 9,
     "metadata": {},
     "output_type": "execute_result"
    }
   ],
   "source": [
    "grad_boost = ensemble.GradientBoostingRegressor(learning_rate=0.001, n_estimators=200)\n",
    "grad_boost.fit(train, train_label, sample_weight=train_label)"
   ]
  },
  {
   "cell_type": "code",
   "execution_count": 10,
   "metadata": {
    "ExecuteTime": {
     "end_time": "2023-05-11T17:08:52.155895Z",
     "start_time": "2023-05-11T17:08:50.552524Z"
    }
   },
   "outputs": [
    {
     "name": "stdout",
     "output_type": "stream",
     "text": [
      "RMSE: 517.5286449968111\n"
     ]
    }
   ],
   "source": [
    "score(grad_boost)"
   ]
  },
  {
   "cell_type": "markdown",
   "metadata": {},
   "source": [
    "### Random Forest Regression"
   ]
  },
  {
   "cell_type": "code",
   "execution_count": 11,
   "metadata": {
    "ExecuteTime": {
     "end_time": "2023-04-26T11:12:29.709303Z",
     "start_time": "2023-04-26T10:44:53.802383Z"
    }
   },
   "outputs": [
    {
     "data": {
      "text/plain": [
       "RandomForestRegressor(max_depth=5, n_estimators=200, n_jobs=2)"
      ]
     },
     "execution_count": 11,
     "metadata": {},
     "output_type": "execute_result"
    }
   ],
   "source": [
    "random_forest = ensemble.RandomForestRegressor(n_estimators=200, n_jobs=2, max_depth=5)\n",
    "random_forest.fit(train, train_label)"
   ]
  },
  {
   "cell_type": "code",
   "execution_count": 12,
   "metadata": {
    "ExecuteTime": {
     "end_time": "2023-05-11T17:50:50.258000Z",
     "start_time": "2023-05-11T17:50:50.025384Z"
    }
   },
   "outputs": [
    {
     "name": "stdout",
     "output_type": "stream",
     "text": [
      "RMSE: 431.8290644444473\n"
     ]
    }
   ],
   "source": [
    "score(random_forest)"
   ]
  },
  {
   "cell_type": "markdown",
   "metadata": {},
   "source": [
    "### XGBoost"
   ]
  },
  {
   "cell_type": "code",
   "execution_count": 11,
   "metadata": {},
   "outputs": [
    {
     "data": {
      "text/plain": [
       "XGBRegressor(base_score=None, booster=None, callbacks=None,\n",
       "             colsample_bylevel=None, colsample_bynode=None,\n",
       "             colsample_bytree=None, early_stopping_rounds=None,\n",
       "             enable_categorical=False, eval_metric=None, feature_types=None,\n",
       "             gamma=None, gpu_id=None, grow_policy=None, importance_type=None,\n",
       "             interaction_constraints=None, learning_rate=None, max_bin=None,\n",
       "             max_cat_threshold=None, max_cat_to_onehot=None,\n",
       "             max_delta_step=None, max_depth=5, max_leaves=None,\n",
       "             min_child_weight=None, missing=nan, monotone_constraints=None,\n",
       "             n_estimators=100, n_jobs=None, num_parallel_tree=None,\n",
       "             predictor=None, random_state=None, ...)"
      ]
     },
     "execution_count": 11,
     "metadata": {},
     "output_type": "execute_result"
    }
   ],
   "source": [
    "reg = xgb.XGBRegressor(tree_method=\"gpu_hist\", n_estimators=100, max_depth=5)\n",
    "reg.fit(train, train_label)"
   ]
  },
  {
   "cell_type": "code",
   "execution_count": 16,
   "metadata": {},
   "outputs": [],
   "source": [
    "import pandas as pd\n",
    "test = np.loadtxt(\"../data/numeric_testvf.csv\", delimiter=\",\", skiprows=1)[:, 3:]\n",
    "preds = reg.predict(test)\n",
    "df_pred = pd.read_csv(\"../data/sampleSubmission.csv\")\n",
    "df_pred[\"TRAVEL_TIME\"] = preds\n",
    "df_pred.to_csv(\"./xgboost_numeric_unweighted_no_prune_100_5.csv\", index=False)"
   ]
  },
  {
   "cell_type": "code",
   "execution_count": 15,
   "metadata": {},
   "outputs": [
    {
     "name": "stdout",
     "output_type": "stream",
     "text": [
      "RMSE: 648.5610718712114\n",
      "RMSE: 765.8376189759441\n",
      "RMSE: 632.4334680943488\n"
     ]
    }
   ],
   "source": [
    "pred = reg.predict(valid[valid[:, 5] == 1])\n",
    "print(f\"RMSE: {np.sqrt(np.sum((pred - valid_label[valid[:, 5] == 1])**2) / len(valid[valid[:, 5] == 1]))}\")\n",
    "pred = reg.predict(valid[valid[:, 6] == 1])\n",
    "print(f\"RMSE: {np.sqrt(np.sum((pred - valid_label[valid[:, 6] == 1])**2) / len(valid[valid[:, 6] == 1]))}\")\n",
    "pred = reg.predict(valid[valid[:, 7] == 1])\n",
    "print(f\"RMSE: {np.sqrt(np.sum((pred - valid_label[valid[:, 7] == 1])**2) / len(valid[valid[:, 7] == 1]))}\")"
   ]
  },
  {
   "cell_type": "markdown",
   "metadata": {},
   "source": [
    "## Create prediction csv"
   ]
  },
  {
   "cell_type": "code",
   "execution_count": 16,
   "metadata": {
    "ExecuteTime": {
     "end_time": "2023-05-11T17:51:09.797968Z",
     "start_time": "2023-05-11T17:51:07.380690Z"
    }
   },
   "outputs": [],
   "source": [
    "import pandas as pd\n",
    "test = np.loadtxt(\"../data/numeric_testvf.csv\", delimiter=\",\", skiprows=1)[:, 3:]\n",
    "df_pred = pd.read_csv(\"../data/sampleSubmission.csv\")\n",
    "# preds = lin_reg.predict(test)\n",
    "# preds = KNN_Regressor.predict(test)\n",
    "# preds = grad_boost.predict(test)\n",
    "\n",
    "# df_pred[\"TRAVEL_TIME\"] = preds\n",
    "# df_pred.to_csv(\"./grad_boost_numeric_prune.csv\", index=False)\n",
    "# preds = random_forest.predict(test)\n",
    "\n",
    "# df_pred[\"TRAVEL_TIME\"] = preds\n",
    "# df_pred.to_csv(\"./random_forest_numeric_prune.csv\", index=False)\n",
    "# preds = reg.predict(test)\n",
    "\n",
    "df_pred[\"TRAVEL_TIME\"] = preds\n",
    "df_pred.to_csv(\"./xgboost_numeric_prune.csv\", index=False)"
   ]
  },
  {
   "cell_type": "code",
   "execution_count": 13,
   "metadata": {},
   "outputs": [
    {
     "name": "stdout",
     "output_type": "stream",
     "text": [
      "[ 858.68787  790.6242   858.68787  769.01306  791.0932   860.5886\n",
      "  858.68787  647.5201   910.2606   858.68787  716.3786   903.41797\n",
      " 1095.327    837.9578   899.7239  1015.648    900.9468  1347.3323\n",
      "  858.68787 1107.2839   858.68787  790.805   1115.9558   858.68787\n",
      "  772.871    796.76733  858.68787  858.68787  797.6424   858.68787\n",
      "  858.68787  790.6242   932.50616  869.53094 1408.8387   961.11584\n",
      "  804.2347   752.72235  858.68787  782.3307   764.27014  922.26794\n",
      " 1045.7333   910.2606   781.1745   794.23785  877.8405  1137.2795\n",
      "  657.6205   716.3786   780.4091   765.66376  752.72235  858.68787\n",
      "  858.68787  751.7747   910.2606   729.01117  943.3824   722.3846\n",
      "  858.68787 1045.7333  1037.3832  1173.6993   910.2606   910.2606\n",
      "  858.68787  886.645    884.403    780.4091  1091.1735   828.4643\n",
      "  858.68787 1277.1282   607.6983  1094.2213   641.7769  1240.048\n",
      " 1306.2747   889.2361   753.21136  907.2129   772.08167  733.8451\n",
      "  894.0468   669.02344 1530.4978  1009.44495  646.6344  1832.2987\n",
      "  742.29926 1072.2961   894.1818   775.6077   642.13885  991.35956\n",
      "  839.92975 1832.2987   731.1826  1053.7643   894.0468   819.6498\n",
      " 1005.2359   610.98395  610.98395  692.8628   742.9446   664.58575\n",
      "  819.6498  1009.16504 3163.4155   824.86554  643.01074  774.1819\n",
      "  783.26483  944.9735   670.7684   823.92566 1067.7123   777.11237\n",
      "  776.86285  827.2442   844.318    864.45447  610.98395 1497.4327\n",
      " 1041.426   1832.2987   970.50073  610.98395  610.98395  607.6983\n",
      "  962.7117  1236.1409  1155.0034  1565.8779   841.0794   670.7684\n",
      "  858.71936  769.065    933.6143   610.98395 1333.5839   967.38275\n",
      "  748.67474  678.96185  646.6344  1559.4938   819.6498   741.29047\n",
      " 1263.6686   871.6351   971.6819    88.07882  998.2569   860.66003\n",
      " 1021.6144  1001.08624  907.182    977.8742  1078.18    1074.3906\n",
      "  957.3092   853.9401   811.8688   863.0476   912.93365 1515.5266\n",
      "  926.3735   943.8349   940.63446  915.9537  1017.55817  898.2441\n",
      "  880.519    992.875   1030.3427   929.8195   984.26447 1037.4867\n",
      "  934.90735  870.23975 1263.7036   942.5553   886.589   1410.6595\n",
      "  948.4451   862.1      870.23975  978.39185 1515.5266   786.9768\n",
      "  859.72626  883.2486  1021.6144   954.5454  1238.3687   786.9768\n",
      " 1060.0299   934.90735  921.56775  916.26886  814.4006  2331.121\n",
      " 1019.86285  752.1282   943.8349  1766.6846  1033.9629  1028.5225\n",
      "  907.182    870.23975  907.9508   881.9126   871.0657  1571.2479\n",
      "  863.27814 1138.708    915.47736  977.8742  1207.8378  1116.0642\n",
      " 1628.9108   995.26105 1030.3427   868.11365 1015.62897  960.6562\n",
      "  598.3037   952.0243   598.3037   660.4257   541.6159   667.1593\n",
      "  585.2395   606.8025   725.20135  629.86176  601.35913  579.49817\n",
      "  727.62036  628.8224   488.12573  732.1369   657.7371   993.25244\n",
      "  598.3037   777.25946  706.98315  578.89594  548.8134   749.2128\n",
      "  847.17316  738.6866   578.89594  601.2161   622.16516  777.67334\n",
      "  926.01385  685.7683   639.66614  626.0404   671.5683   706.98315\n",
      "  702.5781   578.89594  604.22614  693.7129   860.95     598.28033\n",
      "  627.3136   639.8834   668.152    516.83105  586.5637   528.11255\n",
      "  578.89594  658.80396  604.29913  723.32745  556.6371   766.3141\n",
      "  706.98315  578.89594  625.1648   931.9333   628.2301   942.0843\n",
      "  592.58136  736.4811   639.39404  806.00507 1155.5175   789.04486\n",
      " 1324.7795   661.1488   784.9139   731.85126  988.0583   742.02454\n",
      " 1839.0074   687.23334  725.7249  1443.8329   784.9139   684.5203\n",
      " 2225.0227   742.3981  1558.7526   739.3652   837.1562   756.4628\n",
      "  876.24963  809.61365  767.60706 1317.7683   731.85126  814.2616\n",
      "  773.45996 1707.9993 ]\n"
     ]
    }
   ],
   "source": [
    "print(preds)"
   ]
  },
  {
   "cell_type": "code",
   "execution_count": null,
   "metadata": {
    "ExecuteTime": {
     "end_time": "2023-04-25T00:13:00.614244Z",
     "start_time": "2023-04-25T00:13:00.566921Z"
    }
   },
   "outputs": [],
   "source": [
    "df_pred[\"TRAVEL_TIME\"] = preds\n",
    "df_pred.to_csv(\"./predictions.csv\", index=False)"
   ]
  }
 ],
 "metadata": {
  "kernelspec": {
   "display_name": "Python 3 (ipykernel)",
   "language": "python",
   "name": "python3"
  },
  "language_info": {
   "codemirror_mode": {
    "name": "ipython",
    "version": 3
   },
   "file_extension": ".py",
   "mimetype": "text/x-python",
   "name": "python",
   "nbconvert_exporter": "python",
   "pygments_lexer": "ipython3",
   "version": "3.9.5"
  }
 },
 "nbformat": 4,
 "nbformat_minor": 2
}
