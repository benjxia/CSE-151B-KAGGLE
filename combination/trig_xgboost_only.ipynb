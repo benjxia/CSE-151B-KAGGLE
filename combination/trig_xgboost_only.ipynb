{
 "cells": [
  {
   "cell_type": "code",
   "execution_count": 18,
   "metadata": {
    "ExecuteTime": {
     "end_time": "2023-05-11T13:49:23.593065Z",
     "start_time": "2023-05-11T13:49:20.634888Z"
    }
   },
   "outputs": [],
   "source": [
    "import numpy as np\n",
    "import matplotlib.pyplot as plt\n",
    "from sklearn import neighbors, ensemble, kernel_ridge, svm\n",
    "from sklearn.linear_model import LinearRegression\n",
    "from sklearn.preprocessing import normalize\n",
    "import xgboost as xgb\n",
    "import pandas as pd\n",
    "from sklearn.model_selection import train_test_split\n",
    "from catboost import CatBoostRegressor\n",
    "from sklearn import neighbors, ensemble, kernel_ridge, svm"
   ]
  },
  {
   "cell_type": "markdown",
   "metadata": {},
   "source": [
    "## Load data"
   ]
  },
  {
   "cell_type": "code",
   "execution_count": 32,
   "metadata": {
    "ExecuteTime": {
     "end_time": "2023-05-11T16:16:21.256126Z",
     "start_time": "2023-05-11T16:16:15.873296Z"
    }
   },
   "outputs": [
    {
     "name": "stderr",
     "output_type": "stream",
     "text": [
      "/tmp/ipykernel_117/3451214352.py:31: SettingWithCopyWarning: \n",
      "A value is trying to be set on a copy of a slice from a DataFrame\n",
      "\n",
      "See the caveats in the documentation: https://pandas.pydata.org/pandas-docs/stable/user_guide/indexing.html#returning-a-view-versus-a-copy\n",
      "  train.drop(labels=[\"TARGET\"], inplace=True, axis=1)\n",
      "/tmp/ipykernel_117/3451214352.py:33: SettingWithCopyWarning: \n",
      "A value is trying to be set on a copy of a slice from a DataFrame\n",
      "\n",
      "See the caveats in the documentation: https://pandas.pydata.org/pandas-docs/stable/user_guide/indexing.html#returning-a-view-versus-a-copy\n",
      "  valid.drop(labels=[\"TARGET\"], inplace=True, axis=1)\n"
     ]
    }
   ],
   "source": [
    "# Ignore ORIGIN_CALL and other categorical columns\n",
    "np.random.seed(42)\n",
    "# train_arr = np.loadtxt(\"../data/numeric_trainvf.csv\", dtype=np.float32, delimiter=\",\", skiprows=1)[:, 4:]\n",
    "df_train = pd.read_csv(\"../data/combined_trainvf_trig.csv\", index_col=0)\n",
    "df_train.head()\n",
    "\n",
    "# Prune\n",
    "mean = df_train[\"TARGET\"].mean()\n",
    "std = df_train[\"TARGET\"].std()\n",
    "df_train = df_train[df_train[\"DIST\"] < 20]\n",
    "df_train = df_train[df_train[\"TARGET\"] > 30]\n",
    "df_train = df_train[df_train[\"TARGET\"] < 15000]\n",
    "\n",
    "# Categorical\n",
    "cat_list = [\"ORIGIN_CALL\", \"ORIGIN_STAND\", \"TAXI_ID\"]\n",
    "df_train[cat_list] = df_train[cat_list].astype(\"category\")\n",
    "\n",
    "\n",
    "# Test\n",
    "# test = np.loadtxt(\"../data/combined_testvf.csv\", delimiter=\",\", skiprows=1)[:, 3:]\n",
    "df_test = pd.read_csv(\"../data/combined_testvf_trig.csv\")\n",
    "for col in cat_list:\n",
    "    df_test[col] = df_test[col].astype(\"category\").cat.set_categories(df_train[col].cat.categories)\n",
    "\n",
    "droplist = []\n",
    "df_test.drop(labels=droplist, inplace=True, axis=1)\n",
    "df_train.drop(labels=droplist, inplace=True, axis=1)\n",
    "# Split\n",
    "train, valid = train_test_split(df_train, test_size=0.1)\n",
    "train_label = train[\"TARGET\"]\n",
    "train.drop(labels=[\"TARGET\"], inplace=True, axis=1)\n",
    "valid_label = valid[\"TARGET\"]\n",
    "valid.drop(labels=[\"TARGET\"], inplace=True, axis=1)"
   ]
  },
  {
   "cell_type": "code",
   "execution_count": 11,
   "metadata": {},
   "outputs": [
    {
     "data": {
      "text/plain": [
       "Index(['ORIGIN_CALL', 'ORIGIN_STAND', 'TAXI_ID', 'START_LONG', 'START_LAT',\n",
       "       'A', 'B', 'C', 'YEAR', 'WK_OF_YR', 'WK_DAY', 'MONTH', 'DAY', 'HR',\n",
       "       'DIST', 'WK_OF_YR_SIN', 'WK_OF_YR_COS', 'WK_DAY_SIN', 'WK_DAY_COS',\n",
       "       'MONTH_SIN', 'MONTH_COS', 'DAY_SIN', 'DAY_COS', 'HR_SIN', 'HR_COS'],\n",
       "      dtype='object')"
      ]
     },
     "execution_count": 11,
     "metadata": {},
     "output_type": "execute_result"
    }
   ],
   "source": [
    "df_test.columns"
   ]
  },
  {
   "cell_type": "code",
   "execution_count": 12,
   "metadata": {
    "ExecuteTime": {
     "end_time": "2023-05-11T16:16:22.610310Z",
     "start_time": "2023-05-11T16:16:22.588168Z"
    }
   },
   "outputs": [],
   "source": [
    "def score(model):\n",
    "    pred = model.predict(valid)\n",
    "    print(f\"RMSE: {np.sqrt(np.sum((pred - valid_label)**2) / len(valid))}\")"
   ]
  },
  {
   "cell_type": "markdown",
   "metadata": {},
   "source": [
    "## Models"
   ]
  },
  {
   "cell_type": "markdown",
   "metadata": {},
   "source": [
    "### XGBoost"
   ]
  },
  {
   "cell_type": "markdown",
   "metadata": {},
   "source": [
    "### Best validation model"
   ]
  },
  {
   "cell_type": "code",
   "execution_count": 45,
   "metadata": {
    "scrolled": false
   },
   "outputs": [
    {
     "name": "stdout",
     "output_type": "stream",
     "text": [
      "RMSE: 679.4278890032107\n"
     ]
    }
   ],
   "source": [
    "xgb_w = xgb.XGBRegressor(tree_method=\"gpu_hist\", \n",
    "                            booster=\"dart\",\n",
    "                            n_estimators=100, \n",
    "                            enable_categorical=True, \n",
    "                            max_cat_to_onehot=100, \n",
    "                            objective=\"reg:gamma\")\n",
    "xgb_w.fit(train, train_label, sample_weight=train_label)\n",
    "preds_xgbw = xgb_w.predict(df_test)\n",
    "score(xgb_w)"
   ]
  },
  {
   "cell_type": "code",
   "execution_count": 36,
   "metadata": {},
   "outputs": [
    {
     "name": "stdout",
     "output_type": "stream",
     "text": [
      "RMSE: 549.3118877097091\n"
     ]
    }
   ],
   "source": [
    "xgb_u = xgb.XGBRegressor(tree_method=\"gpu_hist\", \n",
    "                            booster=\"dart\",\n",
    "                            n_estimators=100, \n",
    "                            enable_categorical=True, \n",
    "                            max_cat_to_onehot=100, \n",
    "                            objective=\"reg:gamma\")\n",
    "xgb_u.fit(train, train_label)\n",
    "preds_xgbu = xgb_u.predict(df_test)\n",
    "score(xgb_u)"
   ]
  },
  {
   "cell_type": "code",
   "execution_count": 68,
   "metadata": {},
   "outputs": [
    {
     "name": "stdout",
     "output_type": "stream",
     "text": [
      "RMSE: 546.5346341703064\n"
     ]
    }
   ],
   "source": [
    "xgb_ung = xgb.XGBRegressor(tree_method=\"gpu_hist\", \n",
    "                            booster=\"dart\",\n",
    "                            n_estimators=100, \n",
    "                            enable_categorical=True, \n",
    "                            max_cat_to_onehot=100)\n",
    "xgb_ung.fit(train, train_label)\n",
    "preds_xgbung = xgb_u.predict(df_test)\n",
    "score(xgb_ung)"
   ]
  },
  {
   "cell_type": "code",
   "execution_count": 69,
   "metadata": {},
   "outputs": [],
   "source": [
    "df_pred = pd.read_csv(\"../data/sampleSubmission.csv\")\n",
    "df_pred[\"TRAVEL_TIME\"] = preds_xgbung\n",
    "df_pred.to_csv(\"./combined_xgboost100unweighted_no_gamma_20k.csv\", index=False)"
   ]
  },
  {
   "cell_type": "code",
   "execution_count": 58,
   "metadata": {},
   "outputs": [
    {
     "name": "stdout",
     "output_type": "stream",
     "text": [
      "RMSE: 749.5786329094999\n"
     ]
    }
   ],
   "source": [
    "xgb_a = xgb.XGBRegressor(tree_method=\"gpu_hist\", \n",
    "                            booster=\"dart\",\n",
    "                            n_estimators=100, \n",
    "                            enable_categorical=True, \n",
    "                            max_cat_to_onehot=100, \n",
    "                            objective=\"reg:gamma\")\n",
    "ada = ensemble.AdaBoostRegressor(base_estimator=xgb_a,\n",
    "                                 n_estimators=10)\n",
    "ada.fit(train, train_label)\n",
    "preds_ada = ada.predict(df_test)\n",
    "score(ada)"
   ]
  },
  {
   "cell_type": "code",
   "execution_count": 60,
   "metadata": {},
   "outputs": [
    {
     "name": "stdout",
     "output_type": "stream",
     "text": [
      "RMSE: 554.3772903730322\n"
     ]
    }
   ],
   "source": [
    "bag = ensemble.BaggingRegressor(base_estimator=xgb_a,\n",
    "                                n_estimators=10,\n",
    "                                n_jobs=-1)\n",
    "bag.fit(train,train_label)\n",
    "preds_bag = bag.predict(df_test)\n",
    "score(bag)"
   ]
  },
  {
   "cell_type": "code",
   "execution_count": 23,
   "metadata": {},
   "outputs": [],
   "source": [
    "df_pred = pd.read_csv(\"../data/sampleSubmission.csv\")\n",
    "df_pred[\"TRAVEL_TIME\"] = preds_xgbu\n",
    "df_pred.to_csv(\"./combined_xgboost100_gamma_unweighted_20km.csv\", index=False)"
   ]
  },
  {
   "cell_type": "code",
   "execution_count": 22,
   "metadata": {},
   "outputs": [
    {
     "name": "stdout",
     "output_type": "stream",
     "text": [
      "RMSE: 575.9377747976464\n"
     ]
    }
   ],
   "source": [
    "xgb_s = xgb.XGBRegressor(tree_method=\"gpu_hist\", \n",
    "                            booster=\"dart\",\n",
    "                            n_estimators=50,\n",
    "                            enable_categorical=True, \n",
    "                            objective=\"reg:gamma\")\n",
    "xgb_s.fit(train, train_label)\n",
    "preds_xgbs = xgb_s.predict(df_test)\n",
    "score(xgb_s)"
   ]
  },
  {
   "cell_type": "code",
   "execution_count": 70,
   "metadata": {},
   "outputs": [
    {
     "name": "stdout",
     "output_type": "stream",
     "text": [
      "RMSE: 590.4675900131641\n"
     ]
    }
   ],
   "source": [
    "xgb_t = xgb.XGBRegressor(tree_method=\"gpu_hist\", \n",
    "                            booster=\"dart\",\n",
    "                            n_estimators=4,\n",
    "#                             max_depth=10,\n",
    "                            enable_categorical=True)\n",
    "xgb_t.fit(train, train_label)\n",
    "preds_xgbt = xgb_t.predict(df_test)\n",
    "score(xgb_t)"
   ]
  },
  {
   "cell_type": "code",
   "execution_count": 28,
   "metadata": {},
   "outputs": [
    {
     "name": "stdout",
     "output_type": "stream",
     "text": [
      "RMSE: 556.5338213672427\n"
     ]
    }
   ],
   "source": [
    "score(xgb_t)\n",
    "# print(preds_xgbt)"
   ]
  },
  {
   "cell_type": "code",
   "execution_count": 12,
   "metadata": {},
   "outputs": [
    {
     "ename": "NameError",
     "evalue": "name 'preds_xgbt' is not defined",
     "output_type": "error",
     "traceback": [
      "\u001b[0;31m---------------------------------------------------------------------------\u001b[0m",
      "\u001b[0;31mNameError\u001b[0m                                 Traceback (most recent call last)",
      "\u001b[0;32m/tmp/ipykernel_117/1995011405.py\u001b[0m in \u001b[0;36m<module>\u001b[0;34m\u001b[0m\n\u001b[1;32m      1\u001b[0m \u001b[0mdf_pred\u001b[0m \u001b[0;34m=\u001b[0m \u001b[0mpd\u001b[0m\u001b[0;34m.\u001b[0m\u001b[0mread_csv\u001b[0m\u001b[0;34m(\u001b[0m\u001b[0;34m\"../data/sampleSubmission.csv\"\u001b[0m\u001b[0;34m)\u001b[0m\u001b[0;34m\u001b[0m\u001b[0;34m\u001b[0m\u001b[0m\n\u001b[0;32m----> 2\u001b[0;31m \u001b[0mdf_pred\u001b[0m\u001b[0;34m[\u001b[0m\u001b[0;34m\"TRAVEL_TIME\"\u001b[0m\u001b[0;34m]\u001b[0m \u001b[0;34m=\u001b[0m \u001b[0mpreds_xgbt\u001b[0m\u001b[0;34m\u001b[0m\u001b[0;34m\u001b[0m\u001b[0m\n\u001b[0m\u001b[1;32m      3\u001b[0m \u001b[0mdf_pred\u001b[0m\u001b[0;34m.\u001b[0m\u001b[0mto_csv\u001b[0m\u001b[0;34m(\u001b[0m\u001b[0;34m\"./combined_xgboost10_10_unweighted.csv\"\u001b[0m\u001b[0;34m,\u001b[0m \u001b[0mindex\u001b[0m\u001b[0;34m=\u001b[0m\u001b[0;32mFalse\u001b[0m\u001b[0;34m)\u001b[0m\u001b[0;34m\u001b[0m\u001b[0;34m\u001b[0m\u001b[0m\n",
      "\u001b[0;31mNameError\u001b[0m: name 'preds_xgbt' is not defined"
     ]
    }
   ],
   "source": [
    "df_pred = pd.read_csv(\"../data/sampleSubmission.csv\")\n",
    "df_pred[\"TRAVEL_TIME\"] = preds_xgbt\n",
    "df_pred.to_csv(\"./combined_xgboost10_10_unweighted.csv\", index=False)"
   ]
  },
  {
   "cell_type": "code",
   "execution_count": 43,
   "metadata": {},
   "outputs": [],
   "source": [
    "df_pred = pd.read_csv(\"../data/sampleSubmission.csv\")\n",
    "df_pred[\"TRAVEL_TIME\"] = preds_xgbw\n",
    "df_pred.to_csv(\"./combined_xgboost100_gamma_weighted.csv\", index=False)"
   ]
  },
  {
   "cell_type": "code",
   "execution_count": 71,
   "metadata": {},
   "outputs": [
    {
     "name": "stdout",
     "output_type": "stream",
     "text": [
      "A RMSE: 510.9136853805677\n",
      "B RMSE: 510.10049752537554\n",
      "C RMSE: 970.0575013407919\n"
     ]
    }
   ],
   "source": [
    "# XGB weighted\n",
    "pred = xgb_w.predict(valid[valid[\"A\"] == 1])\n",
    "print(f\"A RMSE: {np.sqrt(np.sum((pred - valid_label[valid['A'] == 1])**2) / len(valid[valid['A'] == 1]))}\")\n",
    "pred = xgb_w.predict(valid[valid[\"B\"] == 1])\n",
    "print(f\"B RMSE: {np.sqrt(np.sum((pred - valid_label[valid['B'] == 1])**2) / len(valid[valid['B'] == 1]))}\")\n",
    "pred = xgb_w.predict(valid[valid[\"C\"] == 1])\n",
    "print(f\"C RMSE: {np.sqrt(np.sum((pred - valid_label[valid['C'] == 1])**2) / len(valid[valid['C'] == 1]))}\")"
   ]
  },
  {
   "cell_type": "code",
   "execution_count": 48,
   "metadata": {},
   "outputs": [
    {
     "name": "stdout",
     "output_type": "stream",
     "text": [
      "A RMSE: 512.531899656653\n",
      "B RMSE: 506.74214998466533\n",
      "C RMSE: 954.320837020931\n"
     ]
    }
   ],
   "source": [
    "# XGB weighted cyclic only\n",
    "pred = xgb_w.predict(valid[valid[\"A\"] == 1])\n",
    "print(f\"A RMSE: {np.sqrt(np.sum((pred - valid_label[valid['A'] == 1])**2) / len(valid[valid['A'] == 1]))}\")\n",
    "pred = xgb_w.predict(valid[valid[\"B\"] == 1])\n",
    "print(f\"B RMSE: {np.sqrt(np.sum((pred - valid_label[valid['B'] == 1])**2) / len(valid[valid['B'] == 1]))}\")\n",
    "pred = xgb_w.predict(valid[valid[\"C\"] == 1])\n",
    "print(f\"C RMSE: {np.sqrt(np.sum((pred - valid_label[valid['C'] == 1])**2) / len(valid[valid['C'] == 1]))}\")"
   ]
  },
  {
   "cell_type": "code",
   "execution_count": 18,
   "metadata": {},
   "outputs": [
    {
     "name": "stdout",
     "output_type": "stream",
     "text": [
      "RMSE: 468.85291845795456\n",
      "RMSE: 427.4584547688408\n",
      "RMSE: 746.9309052942968\n"
     ]
    }
   ],
   "source": [
    "# XGB unweighted\n",
    "pred = xgb_u.predict(valid[valid[\"A\"] == 1])\n",
    "print(f\"RMSE: {np.sqrt(np.sum((pred - valid_label[valid['A'] == 1])**2) / len(valid[valid['A'] == 1]))}\")\n",
    "pred = xgb_u.predict(valid[valid[\"B\"] == 1])\n",
    "print(f\"RMSE: {np.sqrt(np.sum((pred - valid_label[valid['B'] == 1])**2) / len(valid[valid['B'] == 1]))}\")\n",
    "pred = xgb_u.predict(valid[valid[\"C\"] == 1])\n",
    "print(f\"RMSE: {np.sqrt(np.sum((pred - valid_label[valid['C'] == 1])**2) / len(valid[valid['C'] == 1]))}\")"
   ]
  },
  {
   "cell_type": "code",
   "execution_count": 49,
   "metadata": {},
   "outputs": [
    {
     "name": "stdout",
     "output_type": "stream",
     "text": [
      "RMSE: 469.5389575660827\n",
      "RMSE: 428.1545621570392\n",
      "RMSE: 744.9034366505489\n"
     ]
    }
   ],
   "source": [
    "# XGB unweighted cyclic only\n",
    "pred = xgb_u.predict(valid[valid[\"A\"] == 1])\n",
    "print(f\"RMSE: {np.sqrt(np.sum((pred - valid_label[valid['A'] == 1])**2) / len(valid[valid['A'] == 1]))}\")\n",
    "pred = xgb_u.predict(valid[valid[\"B\"] == 1])\n",
    "print(f\"RMSE: {np.sqrt(np.sum((pred - valid_label[valid['B'] == 1])**2) / len(valid[valid['B'] == 1]))}\")\n",
    "pred = xgb_u.predict(valid[valid[\"C\"] == 1])\n",
    "print(f\"RMSE: {np.sqrt(np.sum((pred - valid_label[valid['C'] == 1])**2) / len(valid[valid['C'] == 1]))}\")"
   ]
  },
  {
   "cell_type": "code",
   "execution_count": 33,
   "metadata": {},
   "outputs": [
    {
     "name": "stdout",
     "output_type": "stream",
     "text": [
      "RMSE: 475.7282301926467\n",
      "RMSE: 428.1946016597092\n",
      "RMSE: 755.8253364955112\n"
     ]
    }
   ],
   "source": [
    "# XGB small cyclic only\n",
    "pred = xgb_s.predict(valid[valid[\"A\"] == 1])\n",
    "print(f\"RMSE: {np.sqrt(np.sum((pred - valid_label[valid['A'] == 1])**2) / len(valid[valid['A'] == 1]))}\")\n",
    "pred = xgb_s.predict(valid[valid[\"B\"] == 1])\n",
    "print(f\"RMSE: {np.sqrt(np.sum((pred - valid_label[valid['B'] == 1])**2) / len(valid[valid['B'] == 1]))}\")\n",
    "pred = xgb_s.predict(valid[valid[\"C\"] == 1])\n",
    "print(f\"RMSE: {np.sqrt(np.sum((pred - valid_label[valid['C'] == 1])**2) / len(valid[valid['C'] == 1]))}\")"
   ]
  },
  {
   "cell_type": "code",
   "execution_count": 78,
   "metadata": {},
   "outputs": [
    {
     "data": {
      "text/plain": [
       "RandomForestRegressor(max_depth=5, n_estimators=200, n_jobs=2)"
      ]
     },
     "execution_count": 78,
     "metadata": {},
     "output_type": "execute_result"
    }
   ],
   "source": [
    "random_forest = ensemble.RandomForestRegressor(n_estimators=200, n_jobs=2, max_depth=5)\n",
    "random_forest.fit(train, train_label)"
   ]
  },
  {
   "cell_type": "code",
   "execution_count": 81,
   "metadata": {},
   "outputs": [
    {
     "name": "stdout",
     "output_type": "stream",
     "text": [
      "RMSE: 577.0332493102235\n"
     ]
    }
   ],
   "source": [
    "score(random_forest)"
   ]
  },
  {
   "cell_type": "code",
   "execution_count": 82,
   "metadata": {},
   "outputs": [
    {
     "name": "stdout",
     "output_type": "stream",
     "text": [
      "RMSE: 494.1426000218641\n",
      "RMSE: 435.9105837337067\n",
      "RMSE: 795.9367118992164\n"
     ]
    }
   ],
   "source": [
    "# E V E R Y T H I N G\n",
    "pred = random_forest.predict(valid[valid[\"A\"] == 1])\n",
    "print(f\"RMSE: {np.sqrt(np.sum((pred - valid_label[valid['A'] == 1])**2) / len(valid[valid['A'] == 1]))}\")\n",
    "pred = random_forest.predict(valid[valid[\"B\"] == 1])\n",
    "print(f\"RMSE: {np.sqrt(np.sum((pred - valid_label[valid['B'] == 1])**2) / len(valid[valid['B'] == 1]))}\")\n",
    "pred = random_forest.predict(valid[valid[\"C\"] == 1])\n",
    "print(f\"RMSE: {np.sqrt(np.sum((pred - valid_label[valid['C'] == 1])**2) / len(valid[valid['C'] == 1]))}\")"
   ]
  },
  {
   "cell_type": "code",
   "execution_count": 62,
   "metadata": {},
   "outputs": [],
   "source": [
    "preds = xgb_t.predict(df_test) # No taxi id, origin call, origin stand, no coords\n",
    "df_pred = pd.read_csv(\"../data/sampleSubmission.csv\")\n",
    "df_pred[\"TRAVEL_TIME\"] = preds\n",
    "df_pred.to_csv(\"./trig_xgboost_4.csv\", index=False)"
   ]
  },
  {
   "cell_type": "code",
   "execution_count": 73,
   "metadata": {},
   "outputs": [
    {
     "data": {
      "image/png": "[encoded data removed]",
      "text/plain": [
       "<Figure size 432x288 with 1 Axes>"
      ]
     },
     "metadata": {
      "needs_background": "light"
     },
     "output_type": "display_data"
    }
   ],
   "source": [
    "plt.hist(preds)\n",
    "plt.show()"
   ]
  },
  {
   "cell_type": "code",
   "execution_count": 66,
   "metadata": {},
   "outputs": [
    {
     "data": {
      "image/png": "[encoded data removed]",
      "text/plain": [
       "<Figure size 432x288 with 1 Axes>"
      ]
     },
     "metadata": {
      "needs_background": "light"
     },
     "output_type": "display_data"
    }
   ],
   "source": [
    "plt.hist(preds_full)\n",
    "plt.show()"
   ]
  },
  {
   "cell_type": "code",
   "execution_count": 54,
   "metadata": {},
   "outputs": [],
   "source": [
    "preds = reg.predict(df_test) # No taxi id, origin call, origin stand, no coords\n",
    "df_pred = pd.read_csv(\"../data/sampleSubmission.csv\")\n",
    "df_pred[\"TRAVEL_TIME\"] = preds\n",
    "df_pred.to_csv(\"./combined_xgboost_all_5_default_15kmax_TRIG.csv\", index=False)"
   ]
  },
  {
   "cell_type": "code",
   "execution_count": 108,
   "metadata": {},
   "outputs": [
    {
     "name": "stdout",
     "output_type": "stream",
     "text": [
      "RMSE: 531.4848147987065\n",
      "RMSE: 464.3774480486925\n",
      "RMSE: 837.7974275920382\n"
     ]
    }
   ],
   "source": [
    "# E V E R Y T H I N G\n",
    "pred = reg.predict(valid[valid[\"A\"] == 1])\n",
    "print(f\"RMSE: {np.sqrt(np.sum((pred - valid_label[valid['A'] == 1])**2) / len(valid[valid['A'] == 1]))}\")\n",
    "pred = reg.predict(valid[valid[\"B\"] == 1])\n",
    "print(f\"RMSE: {np.sqrt(np.sum((pred - valid_label[valid['B'] == 1])**2) / len(valid[valid['B'] == 1]))}\")\n",
    "pred = reg.predict(valid[valid[\"C\"] == 1])\n",
    "print(f\"RMSE: {np.sqrt(np.sum((pred - valid_label[valid['C'] == 1])**2) / len(valid[valid['C'] == 1]))}\")"
   ]
  },
  {
   "cell_type": "code",
   "execution_count": 8,
   "metadata": {},
   "outputs": [
    {
     "name": "stdout",
     "output_type": "stream",
     "text": [
      "RMSE: 477.84808351169596\n",
      "RMSE: 428.91400283658095\n",
      "RMSE: 786.1901650206082\n"
     ]
    }
   ],
   "source": [
    "# Yes taxi id, origin call, origin stand, no coords\n",
    "pred = reg.predict(valid[valid[\"A\"] == 1])\n",
    "print(f\"RMSE: {np.sqrt(np.sum((pred - valid_label[valid['A'] == 1])**2) / len(valid[valid['A'] == 1]))}\")\n",
    "pred = reg.predict(valid[valid[\"B\"] == 1])\n",
    "print(f\"RMSE: {np.sqrt(np.sum((pred - valid_label[valid['B'] == 1])**2) / len(valid[valid['B'] == 1]))}\")\n",
    "pred = reg.predict(valid[valid[\"C\"] == 1])\n",
    "print(f\"RMSE: {np.sqrt(np.sum((pred - valid_label[valid['C'] == 1])**2) / len(valid[valid['C'] == 1]))}\")"
   ]
  },
  {
   "cell_type": "code",
   "execution_count": 29,
   "metadata": {},
   "outputs": [
    {
     "name": "stdout",
     "output_type": "stream",
     "text": [
      "RMSE: 534.2977151110199\n",
      "RMSE: 463.64833608675974\n",
      "RMSE: 827.8829632643224\n"
     ]
    }
   ],
   "source": [
    "# simple\n",
    "pred = reg.predict(valid[valid[\"A\"] == 1])\n",
    "print(f\"RMSE: {np.sqrt(np.sum((pred - valid_label[valid['A'] == 1])**2) / len(valid[valid['A'] == 1]))}\")\n",
    "pred = reg.predict(valid[valid[\"B\"] == 1])\n",
    "print(f\"RMSE: {np.sqrt(np.sum((pred - valid_label[valid['B'] == 1])**2) / len(valid[valid['B'] == 1]))}\")\n",
    "pred = reg.predict(valid[valid[\"C\"] == 1])\n",
    "print(f\"RMSE: {np.sqrt(np.sum((pred - valid_label[valid['C'] == 1])**2) / len(valid[valid['C'] == 1]))}\")"
   ]
  },
  {
   "cell_type": "markdown",
   "metadata": {},
   "source": [
    "## Create prediction csv"
   ]
  },
  {
   "cell_type": "code",
   "execution_count": 9,
   "metadata": {
    "ExecuteTime": {
     "end_time": "2023-04-25T00:13:00.614244Z",
     "start_time": "2023-04-25T00:13:00.566921Z"
    }
   },
   "outputs": [],
   "source": [
    "df_pred[\"TRAVEL_TIME\"] = preds\n",
    "df_pred.to_csv(\"./combined_xgboost_4_all_notimecategories.csv\", index=False)"
   ]
  }
 ],
 "metadata": {
  "kernelspec": {
   "display_name": "Python 3 (ipykernel)",
   "language": "python",
   "name": "python3"
  },
  "language_info": {
   "codemirror_mode": {
    "name": "ipython",
    "version": 3
   },
   "file_extension": ".py",
   "mimetype": "text/x-python",
   "name": "python",
   "nbconvert_exporter": "python",
   "pygments_lexer": "ipython3",
   "version": "3.9.5"
  }
 },
 "nbformat": 4,
 "nbformat_minor": 2
}
