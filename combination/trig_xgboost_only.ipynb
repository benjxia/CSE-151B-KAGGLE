{
 "cells": [
  {
   "cell_type": "code",
   "execution_count": 1,
   "metadata": {
    "ExecuteTime": {
     "end_time": "2023-05-11T13:49:23.593065Z",
     "start_time": "2023-05-11T13:49:20.634888Z"
    }
   },
   "outputs": [],
   "source": [
    "import numpy as np\n",
    "import matplotlib.pyplot as plt\n",
    "from sklearn import neighbors, ensemble, kernel_ridge, svm\n",
    "from sklearn.linear_model import LinearRegression\n",
    "from sklearn.preprocessing import normalize\n",
    "import xgboost as xgb\n",
    "import pandas as pd\n",
    "from sklearn.model_selection import train_test_split\n",
    "from catboost import CatBoostRegressor\n",
    "from sklearn import neighbors, ensemble, kernel_ridge, svm"
   ]
  },
  {
   "cell_type": "markdown",
   "metadata": {},
   "source": [
    "## Load data"
   ]
  },
  {
   "cell_type": "code",
   "execution_count": 187,
   "metadata": {
    "ExecuteTime": {
     "end_time": "2023-05-11T16:16:21.256126Z",
     "start_time": "2023-05-11T16:16:15.873296Z"
    }
   },
   "outputs": [
    {
     "name": "stderr",
     "output_type": "stream",
     "text": [
      "/tmp/ipykernel_103/1083328072.py:43: SettingWithCopyWarning: \n",
      "A value is trying to be set on a copy of a slice from a DataFrame\n",
      "\n",
      "See the caveats in the documentation: https://pandas.pydata.org/pandas-docs/stable/user_guide/indexing.html#returning-a-view-versus-a-copy\n",
      "  valid.drop(labels=[\"TARGET\"], inplace=True, axis=1)\n"
     ]
    }
   ],
   "source": [
    "# Ignore ORIGIN_CALL and other categorical columns\n",
    "np.random.seed(42)\n",
    "# train_arr = np.loadtxt(\"../data/numeric_trainvf.csv\", dtype=np.float32, delimiter=\",\", skiprows=1)[:, 4:]\n",
    "df_train = pd.read_csv(\"../data/combined_trainvf_trig.csv\", index_col=0)\n",
    "df_train.head()\n",
    "\n",
    "# Prune\n",
    "mean = df_train[\"TARGET\"].mean()\n",
    "std = df_train[\"TARGET\"].std()\n",
    "\n",
    "df_train = df_train[df_train[\"DIST\"] < 20]\n",
    "df_train = df_train[df_train[\"TARGET\"] > 30]\n",
    "df_train = df_train[df_train[\"TARGET\"] < 15000]\n",
    "# for i in [\"START_LAT\", \"START_LONG\", \"DIST\"]:\n",
    "#     df_train.loc[df_train[\"A\"] == 1, i] = 0\n",
    "#     df_train.loc[df_train[\"C\"] == 1, i] = 0\n",
    "\n",
    "# Categorical\n",
    "cat_list = [\"ORIGIN_CALL\", \"ORIGIN_STAND\", \"TAXI_ID\"]\n",
    "df_train[cat_list] = df_train[cat_list].astype(\"category\")\n",
    "\n",
    "\n",
    "# Test\n",
    "# test = np.loadtxt(\"../data/combined_testvf.csv\", delimiter=\",\", skiprows=1)[:, 3:]\n",
    "df_test = pd.read_csv(\"../data/combined_testvf_trig.csv\")\n",
    "for col in cat_list:\n",
    "    df_test[col] = df_test[col].astype(\"category\").cat.set_categories(df_train[col].cat.categories)\n",
    "\n",
    "droplist = []\n",
    "\n",
    "\n",
    "# for i in [\"START_LAT\", \"START_LONG\", \"DIST\"]:\n",
    "#     df_test.loc[df_test[\"A\"] == 1, i] = 0\n",
    "#     df_test.loc[df_test[\"C\"] == 1, i] = 0\n",
    "# Split\n",
    "df_test.drop(labels=droplist, inplace=True, axis=1)\n",
    "df_train.drop(labels=droplist, inplace=True, axis=1)\n",
    "\n",
    "train, valid = train_test_split(df_train, test_size=0.1)\n",
    "train_label = train[\"TARGET\"]\n",
    "# train.drop(labels=[\"TARGET\"], inplace=True, axis=1)\n",
    "valid_label = valid[\"TARGET\"]\n",
    "valid.drop(labels=[\"TARGET\"], inplace=True, axis=1)"
   ]
  },
  {
   "cell_type": "code",
   "execution_count": 149,
   "metadata": {},
   "outputs": [],
   "source": [
    "df_pred = pd.read_csv(\"../data/sampleSubmission.csv\")\n",
    "df_pred[\"TRAVEL_TIME\"] = preds_cmb\n",
    "df_pred.to_csv(\"./combined_xgboost100_snapshot.csv\", index=False)"
   ]
  },
  {
   "cell_type": "code",
   "execution_count": 6,
   "metadata": {
    "ExecuteTime": {
     "end_time": "2023-05-11T16:16:22.610310Z",
     "start_time": "2023-05-11T16:16:22.588168Z"
    }
   },
   "outputs": [],
   "source": [
    "def score(model):\n",
    "    pred = model.predict(valid)\n",
    "    print(f\"RMSE: {np.sqrt(np.sum((pred - valid_label)**2) / len(valid))}\")"
   ]
  },
  {
   "cell_type": "markdown",
   "metadata": {},
   "source": [
    "## Models"
   ]
  },
  {
   "cell_type": "markdown",
   "metadata": {},
   "source": [
    "### XGBoost"
   ]
  },
  {
   "cell_type": "markdown",
   "metadata": {},
   "source": [
    "### Best validation model"
   ]
  },
  {
   "cell_type": "code",
   "execution_count": 13,
   "metadata": {
    "scrolled": false
   },
   "outputs": [
    {
     "name": "stdout",
     "output_type": "stream",
     "text": [
      "RMSE: 679.4278890032107\n"
     ]
    }
   ],
   "source": [
    "xgb_w = xgb.XGBRegressor(tree_method=\"gpu_hist\", \n",
    "                            booster=\"dart\",\n",
    "                            n_estimators=100, \n",
    "                            enable_categorical=True, \n",
    "                            max_cat_to_onehot=100,\n",
    "                            objective=\"reg:gamma\")\n",
    "xgb_w.fit(train[['ORIGIN_CALL', 'ORIGIN_STAND', 'TAXI_ID', 'START_LONG', 'START_LAT',\n",
    "       'A', 'B', 'C', 'YEAR', 'WK_OF_YR', 'WK_DAY', 'MONTH', 'DAY', 'HR',\n",
    "       'DIST', 'WK_OF_YR_SIN', 'WK_OF_YR_COS', 'WK_DAY_SIN', 'WK_DAY_COS',\n",
    "       'MONTH_SIN', 'MONTH_COS', 'DAY_SIN', 'DAY_COS', 'HR_SIN', 'HR_COS']], train[\"TARGET\"], sample_weight=train[\"TARGET\"])\n",
    "preds_xgbw = xgb_w.predict(df_test)\n",
    "score(xgb_w)"
   ]
  },
  {
   "cell_type": "code",
   "execution_count": 88,
   "metadata": {
    "scrolled": true
   },
   "outputs": [
    {
     "name": "stdout",
     "output_type": "stream",
     "text": [
      "RMSE: 549.3118877097091\n"
     ]
    }
   ],
   "source": [
    "xgb_u = xgb.XGBRegressor(tree_method=\"gpu_hist\", \n",
    "                            booster=\"dart\",\n",
    "                            n_estimators=100, \n",
    "                            enable_categorical=True, \n",
    "                            max_cat_to_onehot=100,\n",
    "                            objective=\"reg:gamma\")\n",
    "xgb_u.fit(train[['ORIGIN_CALL', 'ORIGIN_STAND', 'TAXI_ID', 'START_LONG', 'START_LAT',\n",
    "       'A', 'B', 'C', 'YEAR', 'WK_OF_YR', 'WK_DAY', 'MONTH', 'DAY', 'HR',\n",
    "       'DIST', 'WK_OF_YR_SIN', 'WK_OF_YR_COS', 'WK_DAY_SIN', 'WK_DAY_COS',\n",
    "       'MONTH_SIN', 'MONTH_COS', 'DAY_SIN', 'DAY_COS', 'HR_SIN', 'HR_COS']], train[\"TARGET\"])\n",
    "preds_xgbu = xgb_u.predict(df_test)\n",
    "score(xgb_u)"
   ]
  },
  {
   "cell_type": "code",
   "execution_count": 192,
   "metadata": {},
   "outputs": [],
   "source": [
    "spec_df = []\n",
    "# August\n",
    "spec_df.append(df_train[(df_train[\"HR\"] < 12)])\n",
    "xgb_aug = xgb.XGBRegressor(tree_method=\"gpu_hist\", \n",
    "                            booster=\"dart\",\n",
    "                            n_estimators=100, \n",
    "                            enable_categorical=True, \n",
    "                            max_cat_to_onehot=100,\n",
    "                            objective=\"reg:gamma\")\n",
    "xgb_aug.fit(spec_df[-1][['ORIGIN_CALL','ORIGIN_STAND', 'TAXI_ID', 'START_LONG', 'START_LAT',\n",
    "       'A', 'B', 'C', 'YEAR', 'WK_OF_YR', 'WK_DAY', 'MONTH', 'DAY', 'HR',\n",
    "       'DIST', 'WK_OF_YR_SIN', 'WK_OF_YR_COS', 'WK_DAY_SIN', 'WK_DAY_COS',\n",
    "       'MONTH_SIN', 'MONTH_COS', 'DAY_SIN', 'DAY_COS', 'HR_SIN', 'HR_COS']], spec_df[-1][\"TARGET\"],\n",
    "           sample_weight= spec_df[-1][\"TARGET\"])\n",
    "preds_aug = xgb_aug.predict(df_test[df_test[\"MONTH\"] == 8])\n",
    "\n",
    "\n",
    "# September\n",
    "spec_df.append(df_train[(df_train[\"WK_OF_YR\"] >= 38) & (df_train[\"WK_OF_YR\"] <= 42) & ((df_train[\"HR\"] > 22) | df_train[\"HR\"] < 4)])\n",
    "xgb_sep = xgb.XGBRegressor(tree_method=\"gpu_hist\", \n",
    "                            booster=\"dart\",\n",
    "                            n_estimators=100, \n",
    "                            enable_categorical=True, \n",
    "                            max_cat_to_onehot=100,\n",
    "                            objective=\"reg:gamma\")\n",
    "xgb_sep.fit(spec_df[-1][['ORIGIN_CALL','ORIGIN_STAND', 'TAXI_ID', 'START_LONG', 'START_LAT',\n",
    "       'A', 'B', 'C', 'YEAR', 'WK_OF_YR', 'WK_DAY', 'MONTH', 'DAY', 'HR',\n",
    "       'DIST', 'WK_OF_YR_SIN', 'WK_OF_YR_COS', 'WK_DAY_SIN', 'WK_DAY_COS',\n",
    "       'MONTH_SIN', 'MONTH_COS', 'DAY_SIN', 'DAY_COS', 'HR_SIN', 'HR_COS']], spec_df[-1][\"TARGET\"], \n",
    "            sample_weight=spec_df[-1][\"TARGET\"])\n",
    "preds_sep = xgb_sep.predict(df_test[(df_test[\"WK_OF_YR\"] == 40)])\n",
    "\n",
    "\n",
    "# Early october\n",
    "spec_df.append(df_train[(df_train[\"HR\"] < 12)])\n",
    "xgb_oct = xgb.XGBRegressor(tree_method=\"gpu_hist\", \n",
    "                            booster=\"dart\",\n",
    "                            n_estimators=100, \n",
    "                            enable_categorical=True, \n",
    "                            max_cat_to_onehot=100,\n",
    "                            objective=\"reg:gamma\")\n",
    "xgb_oct.fit(spec_df[-1][['ORIGIN_CALL','ORIGIN_STAND', 'TAXI_ID', 'START_LONG', 'START_LAT',\n",
    "       'A', 'B', 'C', 'YEAR', 'WK_OF_YR', 'WK_DAY', 'MONTH', 'DAY', 'HR',\n",
    "       'DIST', 'WK_OF_YR_SIN', 'WK_OF_YR_COS', 'WK_DAY_SIN', 'WK_DAY_COS',\n",
    "       'MONTH_SIN', 'MONTH_COS', 'DAY_SIN', 'DAY_COS', 'HR_SIN', 'HR_COS']], spec_df[-1][\"TARGET\"],\n",
    "           sample_weight=spec_df[-1][\"TARGET\"])\n",
    "preds_oct = xgb_oct.predict(df_test[(df_test[\"WK_OF_YR\"] == 41)])\n",
    "\n",
    "# Halloween\n",
    "preds_hal = xgb_u.predict(df_test[(df_test[\"WK_OF_YR\"] == 44)])\n",
    "\n",
    "# Christmas one\n",
    "spec_df.append(df_train[(df_train[\"MONTH\"] == 12) & (df_train[\"DAY\"] > 18)])\n",
    "xgb_x = xgb.XGBRegressor(tree_method=\"gpu_hist\", \n",
    "                            booster=\"dart\",\n",
    "                            n_estimators=100, \n",
    "                            enable_categorical=True, \n",
    "                            max_cat_to_onehot=100,\n",
    "                            objective=\"reg:gamma\")\n",
    "xgb_x.fit(spec_df[0][['ORIGIN_CALL','ORIGIN_STAND', 'TAXI_ID', 'START_LONG', 'START_LAT',\n",
    "       'A', 'B', 'C', 'YEAR', 'WK_OF_YR', 'WK_DAY', 'MONTH', 'DAY', 'HR',\n",
    "       'DIST', 'WK_OF_YR_SIN', 'WK_OF_YR_COS', 'WK_DAY_SIN', 'WK_DAY_COS',\n",
    "       'MONTH_SIN', 'MONTH_COS', 'DAY_SIN', 'DAY_COS', 'HR_SIN', 'HR_COS']], spec_df[0][\"TARGET\"])\n",
    "preds_xgbx = xgb_x.predict(df_test[df_test[\"MONTH\"] == 12])\n",
    "\n",
    "preds_cmb = np.zeros(320)\n",
    "preds_cmb[df_test[\"WK_OF_YR\"] == 51] = preds_xgbx\n",
    "preds_cmb[df_test[\"WK_OF_YR\"] == 33] = preds_aug\n",
    "preds_cmb[df_test[\"WK_OF_YR\"] == 40] = preds_sep\n",
    "preds_cmb[df_test[\"WK_OF_YR\"] == 41] = preds_oct\n",
    "preds_cmb[df_test[\"WK_OF_YR\"] == 44] = preds_hal"
   ]
  },
  {
   "cell_type": "code",
   "execution_count": 190,
   "metadata": {},
   "outputs": [],
   "source": [
    "xgb_u.save_model(\"best_validation.json\")\n",
    "xgb_w.save_model(\"best_validation_weighted.json\")\n",
    "xgb_x.save_model(\"best_christmas.json\")\n",
    "xgb_oct.save_model(\"early_oct.json\")\n",
    "xgb_sep.save_model(\"best_sep.json\")\n",
    "xgb_aug.save_model(\"bset_aug.json\")"
   ]
  },
  {
   "cell_type": "code",
   "execution_count": 191,
   "metadata": {},
   "outputs": [],
   "source": [
    "df_pred = pd.read_csv(\"../data/sampleSubmission.csv\")\n",
    "df_pred[\"TRAVEL_TIME\"] = preds_cmb\n",
    "df_pred.to_csv(\"./combined_xgboost100_snapshot2.csv\", index=False)"
   ]
  },
  {
   "cell_type": "code",
   "execution_count": 26,
   "metadata": {},
   "outputs": [
    {
     "data": {
      "image/png": "[encoded data removed]",
      "text/plain": [
       "<Figure size 432x288 with 1 Axes>"
      ]
     },
     "metadata": {
      "needs_background": "light"
     },
     "output_type": "display_data"
    }
   ],
   "source": [
    "train_sample = train.sample(n=20000)\n",
    "plt.gca().set_aspect('equal')\n",
    "preds_t_xgbu = xgb_u.predict(train_sample[['ORIGIN_CALL', 'ORIGIN_STAND', 'TAXI_ID', 'START_LONG', 'START_LAT',\n",
    "       'A', 'B', 'C', 'YEAR', 'WK_OF_YR', 'WK_DAY', 'MONTH', 'DAY', 'HR',\n",
    "       'DIST', 'WK_OF_YR_SIN', 'WK_OF_YR_COS', 'WK_DAY_SIN', 'WK_DAY_COS',\n",
    "       'MONTH_SIN', 'MONTH_COS', 'DAY_SIN', 'DAY_COS', 'HR_SIN', 'HR_COS']])\n",
    "line = LinearRegression()\n",
    "line.fit(train_sample[\"TARGET\"].to_numpy().reshape(-1, 1), preds_t_xgbu)\n",
    "\n",
    "plt.plot(np.arange(0, 14000), line.predict(np.arange(0, 14000).reshape(-1,1)), color=\"red\")\n",
    "plt.scatter(train_sample[\"TARGET\"], preds_t_xgbu)\n",
    "plt.xlabel(\"Ground Truth (Training)\")\n",
    "plt.ylabel(\"Predictions (Training)\")\n",
    "plt.show()"
   ]
  },
  {
   "cell_type": "code",
   "execution_count": 150,
   "metadata": {},
   "outputs": [
    {
     "data": {
      "image/png": "[encoded data removed]",
      "text/plain": [
       "<Figure size 432x288 with 1 Axes>"
      ]
     },
     "metadata": {
      "needs_background": "light"
     },
     "output_type": "display_data"
    }
   ],
   "source": [
    "plt.xlabel(\"Boosting Iterations\")\n",
    "plt.ylabel(\"RMSE Training Loss\")\n",
    "plt.title(\"XGBoost Training Loss\")\n",
    "plt.plot(xgb_u.evals_result()[\"validation_0\"][\"rmse\"])\n",
    "plt.show()\n"
   ]
  },
  {
   "cell_type": "code",
   "execution_count": 103,
   "metadata": {},
   "outputs": [],
   "source": [
    "xgbu_train = xgb_u.predict(train)"
   ]
  },
  {
   "cell_type": "code",
   "execution_count": 80,
   "metadata": {},
   "outputs": [
    {
     "name": "stdout",
     "output_type": "stream",
     "text": [
      "RMSE: 597.3936079632348\n"
     ]
    }
   ],
   "source": [
    "xgb_f = xgb.XGBRegressor(tree_method=\"gpu_hist\", \n",
    "                              n_estimators=800, \n",
    "                              enable_categorical=True, \n",
    "                              max_cat_to_onehot=100,\n",
    "                              learning_rate=0.01,\n",
    "                              objective=\"reg:gamma\",\n",
    "#                               sampling_method=\"gradient_based\",\n",
    "                              subsample=0.5,\n",
    "                              )\n",
    "xgb_f.fit(train, train_label)\n",
    "preds_xgbf = xgb_f.predict(df_test)\n",
    "score(xgb_f)"
   ]
  },
  {
   "cell_type": "code",
   "execution_count": 129,
   "metadata": {},
   "outputs": [],
   "source": [
    "df_pred = pd.read_csv(\"../data/sampleSubmission.csv\")\n",
    "df_pred[\"TRAVEL_TIME\"] = preds_xgbu\n",
    "df_pred.to_csv(\"./combined_xgboost100_max10k_gamma.csv\", index=False)"
   ]
  },
  {
   "cell_type": "code",
   "execution_count": 75,
   "metadata": {
    "scrolled": false
   },
   "outputs": [
    {
     "name": "stdout",
     "output_type": "stream",
     "text": [
      "RMSE: 571.1466201616595\n"
     ]
    }
   ],
   "source": [
    "xgb_f = xgb.XGBRegressor(tree_method=\"gpu_hist\", \n",
    "                            booster=\"dart\",\n",
    "                            n_estimators=100, \n",
    "                            enable_categorical=True, \n",
    "                            max_cat_to_onehot=400,\n",
    "                            max_cat_threshold=100,\n",
    "                            subsample=0.5,\n",
    "                            colsample_bytree=0.5,\n",
    "#                             learning_rate=0.01,\n",
    "                            objective=\"reg:gamma\"\n",
    "                        )\n",
    "xgb_f.fit(train, train_label, \n",
    "          sample_weight=np.sqrt(train_label), \n",
    "         )\n",
    "preds_xgbf = xgb_f.predict(df_test)\n",
    "score(xgb_f)"
   ]
  },
  {
   "cell_type": "code",
   "execution_count": 173,
   "metadata": {},
   "outputs": [
    {
     "data": {
      "image/png": "[encoded data removed]",
      "text/plain": [
       "<Figure size 432x288 with 1 Axes>"
      ]
     },
     "metadata": {
      "needs_background": "light"
     },
     "output_type": "display_data"
    }
   ],
   "source": [
    "xgb.plot_importance(xgb_u)\n",
    "plt.show()"
   ]
  },
  {
   "cell_type": "code",
   "execution_count": 78,
   "metadata": {},
   "outputs": [],
   "source": [
    "df_pred = pd.read_csv(\"../data/sampleSubmission.csv\")\n",
    "df_pred[\"TRAVEL_TIME\"] = preds_xgbf\n",
    "df_pred.to_csv(\"./combined_xgboost_xgbf.csv\", index=False)"
   ]
  },
  {
   "cell_type": "code",
   "execution_count": 73,
   "metadata": {},
   "outputs": [
    {
     "name": "stdout",
     "output_type": "stream",
     "text": [
      "RMSE: 539.9471300235914\n"
     ]
    }
   ],
   "source": [
    "stack = ensemble.StackingRegressor(estimators=[('u', xgb_u), ('w', xgb_w)], \n",
    "                                   final_estimator=xgb.XGBRegressor(tree_method=\"gpu_hist\"),\n",
    "#                                    n_jobs=-1,\n",
    "                                   passthrough=True)\n",
    "stack.fit(train, train_label)\n",
    "score(stack)"
   ]
  },
  {
   "cell_type": "code",
   "execution_count": 190,
   "metadata": {},
   "outputs": [
    {
     "name": "stdout",
     "output_type": "stream",
     "text": [
      "RMSE: 696.7636183988395\n"
     ]
    }
   ],
   "source": [
    "stack_w = ensemble.StackingRegressor(estimators=[('u', xgb_u), ('w', xgb_w)], \n",
    "                                   final_estimator=xgb.XGBRegressor(tree_method=\"gpu_hist\"),\n",
    "                                   n_jobs=-1,\n",
    "                                   passthrough=True)\n",
    "stack_w.fit(train, train_label, sample_weight=train_label)\n",
    "score(stack_w)"
   ]
  },
  {
   "cell_type": "code",
   "execution_count": 191,
   "metadata": {},
   "outputs": [],
   "source": [
    "preds_stackw = stack_w.predict(df_test)"
   ]
  },
  {
   "cell_type": "code",
   "execution_count": 159,
   "metadata": {},
   "outputs": [],
   "source": [
    "m = np.mean(preds_xgbu)\n",
    "s = np.std(preds_xgbu)\n",
    "preds_comb = preds_xgbu.copy()\n",
    "preds_comb[preds_xgbu > m] = preds_xgbw[preds_xgbu > m]"
   ]
  },
  {
   "cell_type": "code",
   "execution_count": 160,
   "metadata": {},
   "outputs": [],
   "source": [
    "preds_mean = preds_xgbw + preds_xgbu / 2"
   ]
  },
  {
   "cell_type": "code",
   "execution_count": 161,
   "metadata": {},
   "outputs": [],
   "source": [
    "df_pred = pd.read_csv(\"../data/sampleSubmission.csv\")\n",
    "df_pred[\"TRAVEL_TIME\"] = preds_comb\n",
    "df_pred.to_csv(\"./combined_xgboost100_gamma_staple.csv\", index=False)"
   ]
  },
  {
   "cell_type": "code",
   "execution_count": 194,
   "metadata": {},
   "outputs": [
    {
     "name": "stdout",
     "output_type": "stream",
     "text": [
      "255.47655\n",
      "541.30066\n",
      "616.3682\n",
      "652.86163\n",
      "353.0005\n",
      "644.54144\n"
     ]
    }
   ],
   "source": [
    "print(np.std(preds_xgbu))\n",
    "print(np.std(preds_xgbw))\n",
    "print(np.std(preds_comb))\n",
    "print(np.std(preds_mean))\n",
    "print(np.std(preds_stack))\n",
    "print(np.std(preds_stackw))"
   ]
  },
  {
   "cell_type": "code",
   "execution_count": 22,
   "metadata": {},
   "outputs": [
    {
     "data": {
      "image/png": "[encoded data removed]",
      "text/plain": [
       "<Figure size 432x288 with 1 Axes>"
      ]
     },
     "metadata": {
      "needs_background": "light"
     },
     "output_type": "display_data"
    }
   ],
   "source": [
    "plt.hist(preds_xgbu, bins=np.arange(0,2000, 50))\n",
    "plt.show()"
   ]
  },
  {
   "cell_type": "code",
   "execution_count": 54,
   "metadata": {},
   "outputs": [],
   "source": [
    "preds = reg.predict(df_test) # No taxi id, origin call, origin stand, no coords\n",
    "df_pred = pd.read_csv(\"../data/sampleSubmission.csv\")\n",
    "df_pred[\"TRAVEL_TIME\"] = preds\n",
    "df_pred.to_csv(\"./combined_xgboost_all_5_default_15kmax_TRIG.csv\", index=False)"
   ]
  },
  {
   "cell_type": "markdown",
   "metadata": {},
   "source": [
    "## Create prediction csv"
   ]
  },
  {
   "cell_type": "code",
   "execution_count": 9,
   "metadata": {
    "ExecuteTime": {
     "end_time": "2023-04-25T00:13:00.614244Z",
     "start_time": "2023-04-25T00:13:00.566921Z"
    }
   },
   "outputs": [],
   "source": [
    "df_pred[\"TRAVEL_TIME\"] = preds\n",
    "df_pred.to_csv(\"./combined_xgboost_4_all_notimecategories.csv\", index=False)"
   ]
  }
 ],
 "metadata": {
  "kernelspec": {
   "display_name": "Python 3 (ipykernel)",
   "language": "python",
   "name": "python3"
  },
  "language_info": {
   "codemirror_mode": {
    "name": "ipython",
    "version": 3
   },
   "file_extension": ".py",
   "mimetype": "text/x-python",
   "name": "python",
   "nbconvert_exporter": "python",
   "pygments_lexer": "ipython3",
   "version": "3.9.5"
  }
 },
 "nbformat": 4,
 "nbformat_minor": 2
}
