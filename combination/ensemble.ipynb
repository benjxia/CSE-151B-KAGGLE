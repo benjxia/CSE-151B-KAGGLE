{
 "cells": [
  {
   "cell_type": "code",
   "execution_count": 34,
   "metadata": {
    "ExecuteTime": {
     "end_time": "2023-05-11T13:49:23.593065Z",
     "start_time": "2023-05-11T13:49:20.634888Z"
    }
   },
   "outputs": [],
   "source": [
    "import numpy as np\n",
    "import matplotlib.pyplot as plt\n",
    "from sklearn import neighbors, ensemble, kernel_ridge, svm\n",
    "from sklearn.linear_model import LinearRegression\n",
    "from sklearn.preprocessing import normalize\n",
    "import xgboost as xgb"
   ]
  },
  {
   "cell_type": "markdown",
   "metadata": {},
   "source": [
    "## Load data"
   ]
  },
  {
   "cell_type": "code",
   "execution_count": 35,
   "metadata": {
    "ExecuteTime": {
     "end_time": "2023-05-11T16:16:21.256126Z",
     "start_time": "2023-05-11T16:16:15.873296Z"
    }
   },
   "outputs": [],
   "source": [
    "# Ignore ORIGIN_CALL and other categorical columns\n",
    "np.random.seed(42)\n",
    "train_arr = np.loadtxt(\"../data/simple_train.csv\", dtype=np.float32, delimiter=\",\", skiprows=1)\n",
    "# Split into training/validation sets\n",
    "np.random.shuffle(train_arr)\n",
    "valid_arr = train_arr[int(0.9 * train_arr.shape[0]):]\n",
    "train_arr = train_arr[:int(0.9 * train_arr.shape[0])]\n",
    "weights = train_arr[:, -1]\n",
    "\n",
    "train_label = train_arr[:, -1]\n",
    "train = train_arr[:, :-1]\n",
    "\n",
    "valid_label = valid_arr[:, -1]\n",
    "valid = valid_arr[:, :-1]\n",
    "\n",
    "# train = train[train_label > 50]\n",
    "# train = train[train_label < 15000]"
   ]
  },
  {
   "cell_type": "code",
   "execution_count": 36,
   "metadata": {
    "ExecuteTime": {
     "end_time": "2023-05-11T16:16:22.610310Z",
     "start_time": "2023-05-11T16:16:22.588168Z"
    }
   },
   "outputs": [],
   "source": [
    "def score(model):\n",
    "    pred = model.predict(valid)\n",
    "    print(f\"RMSE: {np.sqrt(np.sum((pred - valid_label)**2) / len(valid))}\")"
   ]
  },
  {
   "cell_type": "markdown",
   "metadata": {},
   "source": [
    "## Models"
   ]
  },
  {
   "cell_type": "code",
   "execution_count": 11,
   "metadata": {
    "ExecuteTime": {
     "end_time": "2023-05-11T16:16:31.612587Z",
     "start_time": "2023-05-11T16:16:30.819653Z"
    }
   },
   "outputs": [
    {
     "name": "stdout",
     "output_type": "stream",
     "text": [
      "RMSE: 626.0896381277727\n"
     ]
    }
   ],
   "source": [
    "lin_reg = LinearRegression()\n",
    "lin_reg.fit(train, train_label)\n",
    "score(lin_reg)"
   ]
  },
  {
   "cell_type": "markdown",
   "metadata": {},
   "source": [
    "### KNN Regressor"
   ]
  },
  {
   "cell_type": "code",
   "execution_count": 5,
   "metadata": {
    "ExecuteTime": {
     "end_time": "2023-05-11T16:17:44.077109Z",
     "start_time": "2023-05-11T16:17:36.799444Z"
    }
   },
   "outputs": [
    {
     "data": {
      "text/plain": [
       "KNeighborsRegressor(n_neighbors=10)"
      ]
     },
     "execution_count": 5,
     "metadata": {},
     "output_type": "execute_result"
    }
   ],
   "source": [
    "KNN_Regressor = neighbors.KNeighborsRegressor(n_neighbors=10)\n",
    "KNN_Regressor.fit(train, train_label)"
   ]
  },
  {
   "cell_type": "code",
   "execution_count": 9,
   "metadata": {
    "ExecuteTime": {
     "end_time": "2023-05-11T16:18:10.755106Z",
     "start_time": "2023-05-11T16:17:44.081068Z"
    }
   },
   "outputs": [],
   "source": [
    "# score(KNN_Regressor)"
   ]
  },
  {
   "cell_type": "code",
   "execution_count": null,
   "metadata": {
    "ExecuteTime": {
     "end_time": "2023-05-08T21:37:49.130281Z",
     "start_time": "2023-05-08T21:37:42.300195Z"
    }
   },
   "outputs": [],
   "source": [
    "np.std(KNN_Regressor.predict(valid))"
   ]
  },
  {
   "cell_type": "markdown",
   "metadata": {},
   "source": [
    "### Gradient Boosting"
   ]
  },
  {
   "cell_type": "code",
   "execution_count": null,
   "metadata": {
    "ExecuteTime": {
     "end_time": "2023-05-11T17:08:50.544461Z",
     "start_time": "2023-05-11T16:19:33.617420Z"
    }
   },
   "outputs": [],
   "source": [
    "grad_boost = ensemble.GradientBoostingRegressor(learning_rate=0.001, n_estimators=200)\n",
    "grad_boost.fit(train, train_label, sample_weight=train_label)"
   ]
  },
  {
   "cell_type": "code",
   "execution_count": null,
   "metadata": {
    "ExecuteTime": {
     "end_time": "2023-05-11T17:08:52.155895Z",
     "start_time": "2023-05-11T17:08:50.552524Z"
    }
   },
   "outputs": [],
   "source": [
    "score(grad_boost)"
   ]
  },
  {
   "cell_type": "markdown",
   "metadata": {},
   "source": [
    "### Random Forest Regression"
   ]
  },
  {
   "cell_type": "code",
   "execution_count": null,
   "metadata": {
    "ExecuteTime": {
     "end_time": "2023-04-26T11:12:29.709303Z",
     "start_time": "2023-04-26T10:44:53.802383Z"
    }
   },
   "outputs": [],
   "source": [
    "random_forest = ensemble.RandomForestRegressor()\n",
    "random_forest.fit(train, train_label)"
   ]
  },
  {
   "cell_type": "code",
   "execution_count": null,
   "metadata": {
    "ExecuteTime": {
     "end_time": "2023-05-11T17:50:50.258000Z",
     "start_time": "2023-05-11T17:50:50.025384Z"
    }
   },
   "outputs": [],
   "source": [
    "score(random_forest)"
   ]
  },
  {
   "cell_type": "markdown",
   "metadata": {},
   "source": [
    "### XGBoost"
   ]
  },
  {
   "cell_type": "code",
   "execution_count": 38,
   "metadata": {},
   "outputs": [
    {
     "name": "stdout",
     "output_type": "stream",
     "text": [
      "RMSE: 626.0294442386097\n"
     ]
    }
   ],
   "source": [
    "reg = xgb.XGBRegressor(tree_method=\"gpu_hist\", n_estimators=10, max_depth=5)\n",
    "reg.fit(train, train_label)\n",
    "score(reg)"
   ]
  },
  {
   "cell_type": "code",
   "execution_count": 39,
   "metadata": {},
   "outputs": [
    {
     "name": "stdout",
     "output_type": "stream",
     "text": [
      "RMSE: 711.4520695232186\n",
      "RMSE: 668.5472153042178\n",
      "RMSE: 668.5472153042178\n"
     ]
    }
   ],
   "source": [
    "reg_A = xgb.XGBRegressor(tree_method=\"gpu_hist\", n_estimators=10)\n",
    "reg_A.fit(train[train[:, -3] == 1], train_label[train[:, -3] == 1], sample_weight=weights[train[:, -3] == 1])\n",
    "score(reg_A)\n",
    "reg_B = xgb.XGBRegressor(tree_method=\"gpu_hist\", n_estimators=10)\n",
    "reg_B.fit(train[train[:, -2] == 1], train_label[train[:, -2] == 1], sample_weight=weights[train[:, -2] == 1])\n",
    "score(reg_B)\n",
    "reg_C = xgb.XGBRegressor(tree_method=\"gpu_hist\", n_estimators=10)\n",
    "reg_C.fit(train[train[:, -1] == 1], train_label[train[:, -1] == 1], sample_weight=weights[train[:, -1] == 1])\n",
    "score(reg_B)"
   ]
  },
  {
   "cell_type": "code",
   "execution_count": 40,
   "metadata": {},
   "outputs": [
    {
     "name": "stdout",
     "output_type": "stream",
     "text": [
      "RMSE: 818.6087403796305\n"
     ]
    }
   ],
   "source": [
    "reg_weighted = xgb.XGBRegressor(tree_method=\"gpu_hist\", n_estimators=10)\n",
    "reg_weighted.fit(train, train_label, sample_weight=weights)\n",
    "score(reg_weighted)"
   ]
  },
  {
   "cell_type": "code",
   "execution_count": 42,
   "metadata": {},
   "outputs": [
    {
     "name": "stdout",
     "output_type": "stream",
     "text": [
      "A RMSE: 462.3780449503996\n",
      "B RMSE: 470.302302187638\n",
      "C RMSE: 891.7508490351014\n",
      "---A expert---\n",
      "A RMSE: 556.9294858550196\n",
      "B RMSE: 607.3162752117859\n",
      "C RMSE: 932.1894320894835\n",
      "---B expert---\n",
      "A RMSE: 506.91515210687817\n",
      "B RMSE: 547.1156501886231\n",
      "C RMSE: 906.5777842192924\n",
      "---C expert---\n",
      "A RMSE: 1198.168542142165\n",
      "B RMSE: 1258.658907040706\n",
      "C RMSE: 1245.7625784032157\n",
      "---\n",
      "A RMSE: 543.9072889575858\n",
      "B RMSE: 543.5884146469983\n",
      "C RMSE: 1242.1898737532392\n"
     ]
    }
   ],
   "source": [
    "def detailed_score(model):\n",
    "    pred = model.predict(valid[valid[:, -3] == 1])\n",
    "    print(f\"A RMSE: {np.sqrt(np.sum((pred - valid_label[valid[:, -3] == 1])**2) / len(valid_label[valid[:, -3] == 1]))}\")\n",
    "    pred = model.predict(valid[valid[:, -2] == 1])\n",
    "    print(f\"B RMSE: {np.sqrt(np.sum((pred - valid_label[valid[:, -2] == 1])**2) / len(valid_label[valid[:, -2] == 1]))}\")\n",
    "    pred = model.predict(valid[valid[:, -1] == 1])\n",
    "    print(f\"C RMSE: {np.sqrt(np.sum((pred - valid_label[valid[:, -1] == 1])**2) / len(valid_label[valid[:, -1] == 1]))}\")\n",
    "detailed_score(reg)\n",
    "print(\"---A expert---\")\n",
    "detailed_score(reg_A)\n",
    "print(\"---B expert---\")\n",
    "detailed_score(reg_B)\n",
    "print(\"---C expert---\")\n",
    "detailed_score(reg_C)\n",
    "print(\"---\")\n",
    "detailed_score(reg_weighted)"
   ]
  },
  {
   "cell_type": "markdown",
   "metadata": {},
   "source": [
    "## Create prediction csv"
   ]
  },
  {
   "cell_type": "code",
   "execution_count": 30,
   "metadata": {
    "ExecuteTime": {
     "end_time": "2023-05-11T17:51:09.797968Z",
     "start_time": "2023-05-11T17:51:07.380690Z"
    }
   },
   "outputs": [],
   "source": [
    "import pandas as pd\n",
    "# Ignore ORIGIN_CALL and other categorical columns\n",
    "test = np.loadtxt(\"../data/simple_test.csv\", delimiter=\",\", skiprows=1)\n",
    "df_pred = pd.read_csv(\"../data/sampleSubmission.csv\")\n",
    "preds = reg.predict(test)"
   ]
  },
  {
   "cell_type": "code",
   "execution_count": 31,
   "metadata": {},
   "outputs": [
    {
     "name": "stdout",
     "output_type": "stream",
     "text": [
      "[ 660.4614   660.4614   660.4614   660.4614   660.4614   690.3557\n",
      "  660.4614   690.3557   660.4614   660.4614   660.4614   838.57355\n",
      "  838.57355  838.57355  838.57355  838.57355  838.57355  838.57355\n",
      "  660.4614   838.57355  660.4614   690.3557   690.3557   660.4614\n",
      "  660.4614   660.4614   660.4614   660.4614   660.4614   660.4614\n",
      "  660.4614   660.4614   838.57355  838.57355  838.57355  838.57355\n",
      "  690.3557   660.4614   660.4614   660.4614   660.4614   838.57355\n",
      "  838.57355  660.4614   660.4614   660.4614   838.57355  838.57355\n",
      "  660.4614   660.4614   660.4614   660.4614   660.4614   660.4614\n",
      "  660.4614   660.4614   660.4614   660.4614   838.57355  690.3557\n",
      "  660.4614   838.57355  838.57355  690.3557   660.4614   660.4614\n",
      "  660.4614   690.3557   838.57355  660.4614  1015.5895   838.57355\n",
      "  660.4614   838.57355  699.0338   811.1405   699.0338   811.1405\n",
      "  811.1405   811.1405   805.04297  699.0338   805.04297  805.04297\n",
      "  699.0338   805.04297  811.1405   811.1405   699.0338   805.04297\n",
      "  805.04297  811.1405   811.1405   805.04297  683.87616 1013.6858\n",
      "  805.04297  805.04297  805.04297  811.1405   699.0338   699.0338\n",
      "  811.1405   699.0338   699.0338   805.04297  699.0338   699.0338\n",
      "  699.0338   805.04297  805.04297  805.04297  699.0338   805.04297\n",
      "  805.04297  811.1405   699.0338   683.87616  811.1405   699.0338\n",
      "  805.04297  805.04297  805.04297  805.04297  699.0338   968.3139\n",
      "  811.1405   805.04297  811.1405   699.0338   699.0338   699.0338\n",
      " 1013.6858   811.1405   811.1405   811.1405   699.0338   699.0338\n",
      "  805.04297  805.04297  811.1405   699.0338   805.04297  683.87616\n",
      "  805.04297  805.04297  699.0338   811.1405   699.0338   699.0338\n",
      "  805.04297  973.48035  837.3048   973.48035  837.3048   932.0052\n",
      "  932.0052   973.48035  932.0052   932.0052   973.48035  837.3048\n",
      "  973.48035  932.0052   973.48035  932.0052  1081.9669   973.48035\n",
      "  837.3048   932.0052   932.0052   932.0052   837.3048   932.0052\n",
      "  932.0052   837.3048   932.0052   973.48035  973.48035  973.48035\n",
      "  932.0052   932.0052   973.48035  837.3048   932.0052   837.3048\n",
      "  973.48035  932.0052   932.0052  1081.9669   973.48035  932.0052\n",
      "  973.48035  837.3048   932.0052   837.3048   837.3048   932.0052\n",
      " 1081.9669   932.0052  1029.5254   973.48035  932.0052   837.3048\n",
      "  837.3048   932.0052   932.0052   973.48035  973.48035  837.3048\n",
      "  932.0052   932.0052   837.3048   932.0052   932.0052   973.48035\n",
      "  790.09045  932.0052   932.0052   932.0052  1081.9669   837.3048\n",
      "  898.92206  837.3048   932.0052   932.0052   837.3048   973.48035\n",
      "  570.2503   597.65247  570.2503   597.65247  597.65247  597.65247\n",
      "  597.65247  597.65247  597.65247  597.65247  597.65247  570.2503\n",
      "  597.65247  597.65247  570.2503   602.5298   597.65247  597.65247\n",
      "  570.2503   597.65247  597.65247  570.2503   570.2503   597.65247\n",
      "  602.5298   597.65247  570.2503   597.65247  597.65247  597.65247\n",
      "  597.65247  597.65247  597.65247  597.65247  597.65247  597.65247\n",
      "  597.65247  570.2503   597.65247  597.65247  597.65247  597.65247\n",
      "  597.65247  597.65247  597.65247  570.2503   597.65247  570.2503\n",
      "  570.2503   597.65247  597.65247  597.65247  598.038    597.65247\n",
      "  597.65247  570.2503   597.65247  602.5298   597.65247  597.65247\n",
      "  597.65247  597.65247  759.63916  867.1828   777.18414  969.06964\n",
      "  777.18414  759.63916  777.18414  759.63916  969.06964  969.06964\n",
      " 1287.5247   903.54785  777.18414 1287.5247   777.18414  777.18414\n",
      "  777.18414  777.18414  969.06964  777.18414  759.63916  777.18414\n",
      "  859.51337  903.54785  969.06964  777.18414  759.63916  969.06964\n",
      "  777.18414  777.18414]\n"
     ]
    }
   ],
   "source": [
    "print(preds)"
   ]
  },
  {
   "cell_type": "code",
   "execution_count": 33,
   "metadata": {
    "ExecuteTime": {
     "end_time": "2023-04-25T00:13:00.614244Z",
     "start_time": "2023-04-25T00:13:00.566921Z"
    }
   },
   "outputs": [],
   "source": [
    "df_pred[\"TRAVEL_TIME\"] = preds\n",
    "df_pred.to_csv(\"./simple_xgboost_10000_5.csv\", index=False)"
   ]
  }
 ],
 "metadata": {
  "kernelspec": {
   "display_name": "Python 3 (ipykernel)",
   "language": "python",
   "name": "python3"
  },
  "language_info": {
   "codemirror_mode": {
    "name": "ipython",
    "version": 3
   },
   "file_extension": ".py",
   "mimetype": "text/x-python",
   "name": "python",
   "nbconvert_exporter": "python",
   "pygments_lexer": "ipython3",
   "version": "3.9.5"
  }
 },
 "nbformat": 4,
 "nbformat_minor": 2
}
