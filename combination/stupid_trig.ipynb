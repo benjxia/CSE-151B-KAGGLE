{
 "cells": [
  {
   "cell_type": "code",
   "execution_count": 1,
   "metadata": {
    "ExecuteTime": {
     "end_time": "2023-05-11T13:49:23.593065Z",
     "start_time": "2023-05-11T13:49:20.634888Z"
    }
   },
   "outputs": [],
   "source": [
    "import numpy as np\n",
    "import matplotlib.pyplot as plt\n",
    "from sklearn import neighbors, ensemble, kernel_ridge, svm\n",
    "from sklearn.linear_model import LinearRegression\n",
    "from sklearn.preprocessing import normalize\n",
    "import xgboost as xgb\n",
    "import pandas as pd\n",
    "from sklearn.model_selection import train_test_split\n"
   ]
  },
  {
   "cell_type": "markdown",
   "metadata": {},
   "source": [
    "## Load data"
   ]
  },
  {
   "cell_type": "code",
   "execution_count": 2,
   "metadata": {
    "ExecuteTime": {
     "end_time": "2023-05-11T16:16:21.256126Z",
     "start_time": "2023-05-11T16:16:15.873296Z"
    }
   },
   "outputs": [
    {
     "name": "stderr",
     "output_type": "stream",
     "text": [
      "/tmp/ipykernel_103/391381445.py:27: SettingWithCopyWarning: \n",
      "A value is trying to be set on a copy of a slice from a DataFrame\n",
      "\n",
      "See the caveats in the documentation: https://pandas.pydata.org/pandas-docs/stable/user_guide/indexing.html#returning-a-view-versus-a-copy\n",
      "  train.drop(labels=[\"TARGET\"], inplace=True, axis=1)\n",
      "/tmp/ipykernel_103/391381445.py:29: SettingWithCopyWarning: \n",
      "A value is trying to be set on a copy of a slice from a DataFrame\n",
      "\n",
      "See the caveats in the documentation: https://pandas.pydata.org/pandas-docs/stable/user_guide/indexing.html#returning-a-view-versus-a-copy\n",
      "  valid.drop(labels=[\"TARGET\"], inplace=True, axis=1)\n"
     ]
    }
   ],
   "source": [
    "# Ignore ORIGIN_CALL and other categorical columns\n",
    "np.random.seed(42)\n",
    "# train_arr = np.loadtxt(\"../data/numeric_trainvf.csv\", dtype=np.float32, delimiter=\",\", skiprows=1)[:, 4:]\n",
    "df_train = pd.read_csv(\"../data/combined_trainvf_trig.csv\", index_col=0)\n",
    "df_train.head()\n",
    "# Prune\n",
    "df_train = df_train[df_train[\"DIST\"] < 25]\n",
    "df_train = df_train[df_train[\"TARGET\"] > 30]\n",
    "df_train = df_train[df_train[\"TARGET\"] < 20000]\n",
    "\n",
    "# Categorical\n",
    "df_train[\"ORIGIN_CALL\"] = df_train[\"ORIGIN_CALL\"].astype(\"category\")\n",
    "df_train[\"ORIGIN_STAND\"] = df_train[\"ORIGIN_STAND\"].astype(\"category\")\n",
    "df_train[\"TAXI_ID\"] = df_train[\"TAXI_ID\"].astype(\"category\")\n",
    "df_train[\"YEAR\"] = df_train[\"YEAR\"].astype(\"category\")\n",
    "df_train[\"WK_OF_YR\"] = df_train[\"WK_OF_YR\"].astype(\"category\")\n",
    "df_train[\"WK_DAY\"] = df_train[\"WK_DAY\"].astype(\"category\")\n",
    "df_train[\"HR\"] = df_train[\"HR\"].astype(\"category\")\n",
    "df_train[\"MONTH\"] = df_train[\"MONTH\"].astype(\"category\")\n",
    "droplist = [\"ORIGIN_CALL\",'WK_OF_YR_SIN',\n",
    "       'WK_OF_YR_COS', 'WK_DAY_SIN', 'WK_DAY_COS', 'MONTH_SIN', 'MONTH_COS',\n",
    "       'DAY_SIN', 'DAY_COS', 'HR_SIN', 'HR_COS']\n",
    "df_train.drop(labels=droplist, inplace=True, axis=1)\n",
    "# Split\n",
    "train, valid = train_test_split(df_train, test_size=0.1)\n",
    "train_label = train[\"TARGET\"]\n",
    "train.drop(labels=[\"TARGET\"], inplace=True, axis=1)\n",
    "valid_label = valid[\"TARGET\"]\n",
    "valid.drop(labels=[\"TARGET\"], inplace=True, axis=1)\n",
    "\n",
    "# Test\n",
    "# test = np.loadtxt(\"../data/combined_testvf.csv\", delimiter=\",\", skiprows=1)[:, 3:]\n",
    "df_test = pd.read_csv(\"../data/combined_testvf_trig.csv\")\n",
    "# df_test[\"ORIGIN_CALL\"] = df_test[\"ORIGIN_CALL\"].astype(\"category\").cat.set_categories(df_train[\"ORIGIN_CALL\"].cat.categories)\n",
    "df_test[\"ORIGIN_STAND\"] = df_test[\"ORIGIN_STAND\"].astype(\"category\").cat.set_categories(df_train[\"ORIGIN_STAND\"].cat.categories)\n",
    "df_test[\"TAXI_ID\"] = df_test[\"TAXI_ID\"].astype(\"category\").cat.set_categories(df_train[\"TAXI_ID\"].cat.categories)\n",
    "df_test[\"YEAR\"] = df_test[\"YEAR\"].astype(\"category\").cat.set_categories(df_train[\"YEAR\"].cat.categories)\n",
    "df_test[\"WK_OF_YR\"] = df_test[\"WK_OF_YR\"].astype(\"category\").cat.set_categories(df_train[\"WK_OF_YR\"].cat.categories)\n",
    "df_test[\"WK_DAY\"] = df_test[\"WK_DAY\"].astype(\"category\").cat.set_categories(df_train[\"WK_DAY\"].cat.categories)\n",
    "df_test[\"HR\"] = df_test[\"HR\"].astype(\"category\").cat.set_categories(df_train[\"HR\"].cat.categories)\n",
    "df_test[\"MONTH\"] = df_test[\"MONTH\"].astype(\"category\").cat.set_categories(df_train[\"MONTH\"].cat.categories)\n",
    "df_test.drop(labels=droplist, inplace=True, axis=1)"
   ]
  },
  {
   "cell_type": "code",
   "execution_count": 83,
   "metadata": {},
   "outputs": [
    {
     "data": {
      "text/plain": [
       "Index(['ORIGIN_STAND', 'TAXI_ID', 'START_LONG', 'START_LAT', 'A', 'B', 'C',\n",
       "       'YEAR', 'WK_OF_YR', 'WK_DAY', 'MONTH', 'DAY', 'HR', 'DIST'],\n",
       "      dtype='object')"
      ]
     },
     "execution_count": 83,
     "metadata": {},
     "output_type": "execute_result"
    }
   ],
   "source": [
    "df_test.columns"
   ]
  },
  {
   "cell_type": "code",
   "execution_count": 7,
   "metadata": {
    "ExecuteTime": {
     "end_time": "2023-05-11T16:16:22.610310Z",
     "start_time": "2023-05-11T16:16:22.588168Z"
    }
   },
   "outputs": [],
   "source": [
    "def score(model):\n",
    "    pred = model.predict(valid)\n",
    "    print(f\"RMSE: {np.sqrt(np.sum((pred - valid_label)**2) / len(valid))}\")"
   ]
  },
  {
   "cell_type": "markdown",
   "metadata": {},
   "source": [
    "## Models"
   ]
  },
  {
   "cell_type": "markdown",
   "metadata": {},
   "source": [
    "### XGBoost"
   ]
  },
  {
   "cell_type": "code",
   "execution_count": 86,
   "metadata": {
    "scrolled": false
   },
   "outputs": [
    {
     "name": "stdout",
     "output_type": "stream",
     "text": [
      "RMSE: 705.6048584179125\n"
     ]
    }
   ],
   "source": [
    "reg_full = xgb.XGBRegressor(tree_method=\"gpu_hist\", n_estimators=50, enable_categorical=True, max_cat_to_onehot=1)\n",
    "reg_full.fit(train, train_label, sample_weight=train_label)\n",
    "preds_full = reg_full.predict(df_test)\n",
    "score(reg_full)"
   ]
  },
  {
   "cell_type": "code",
   "execution_count": 42,
   "metadata": {},
   "outputs": [
    {
     "name": "stdout",
     "output_type": "stream",
     "text": [
      "RMSE: 551.6365852644103\n",
      "RMSE: 527.3901936871165\n",
      "RMSE: 1012.7738073630297\n"
     ]
    }
   ],
   "source": [
    "# E V E R Y T H I N G\n",
    "pred = reg_full.predict(valid[valid[\"A\"] == 1])\n",
    "print(f\"RMSE: {np.sqrt(np.sum((pred - valid_label[valid['A'] == 1])**2) / len(valid[valid['A'] == 1]))}\")\n",
    "pred = reg_full.predict(valid[valid[\"B\"] == 1])\n",
    "print(f\"RMSE: {np.sqrt(np.sum((pred - valid_label[valid['B'] == 1])**2) / len(valid[valid['B'] == 1]))}\")\n",
    "pred = reg_full.predict(valid[valid[\"C\"] == 1])\n",
    "print(f\"RMSE: {np.sqrt(np.sum((pred - valid_label[valid['C'] == 1])**2) / len(valid[valid['C'] == 1]))}\")"
   ]
  },
  {
   "cell_type": "code",
   "execution_count": 31,
   "metadata": {},
   "outputs": [
    {
     "ename": "NameError",
     "evalue": "name 'reg_full' is not defined",
     "output_type": "error",
     "traceback": [
      "\u001b[0;31m---------------------------------------------------------------------------\u001b[0m",
      "\u001b[0;31mNameError\u001b[0m                                 Traceback (most recent call last)",
      "\u001b[0;32m/tmp/ipykernel_93/2058989632.py\u001b[0m in \u001b[0;36m<module>\u001b[0;34m\u001b[0m\n\u001b[0;32m----> 1\u001b[0;31m \u001b[0mpreds\u001b[0m \u001b[0;34m=\u001b[0m \u001b[0mreg_full\u001b[0m\u001b[0;34m.\u001b[0m\u001b[0mpredict\u001b[0m\u001b[0;34m(\u001b[0m\u001b[0mdf_test\u001b[0m\u001b[0;34m)\u001b[0m \u001b[0;31m# No taxi id, origin call, origin stand, no coords\u001b[0m\u001b[0;34m\u001b[0m\u001b[0;34m\u001b[0m\u001b[0m\n\u001b[0m\u001b[1;32m      2\u001b[0m \u001b[0mdf_pred\u001b[0m \u001b[0;34m=\u001b[0m \u001b[0mpd\u001b[0m\u001b[0;34m.\u001b[0m\u001b[0mread_csv\u001b[0m\u001b[0;34m(\u001b[0m\u001b[0;34m\"../data/sampleSubmission.csv\"\u001b[0m\u001b[0;34m)\u001b[0m\u001b[0;34m\u001b[0m\u001b[0;34m\u001b[0m\u001b[0m\n\u001b[1;32m      3\u001b[0m \u001b[0mdf_pred\u001b[0m\u001b[0;34m[\u001b[0m\u001b[0;34m\"TRAVEL_TIME\"\u001b[0m\u001b[0;34m]\u001b[0m \u001b[0;34m=\u001b[0m \u001b[0mpreds\u001b[0m\u001b[0;34m\u001b[0m\u001b[0;34m\u001b[0m\u001b[0m\n\u001b[1;32m      4\u001b[0m \u001b[0mdf_pred\u001b[0m\u001b[0;34m.\u001b[0m\u001b[0mto_csv\u001b[0m\u001b[0;34m(\u001b[0m\u001b[0;34m\"./combined_xgboost_all_50_default_nomaxtime.csv\"\u001b[0m\u001b[0;34m,\u001b[0m \u001b[0mindex\u001b[0m\u001b[0;34m=\u001b[0m\u001b[0;32mFalse\u001b[0m\u001b[0;34m)\u001b[0m\u001b[0;34m\u001b[0m\u001b[0;34m\u001b[0m\u001b[0m\n",
      "\u001b[0;31mNameError\u001b[0m: name 'reg_full' is not defined"
     ]
    }
   ],
   "source": [
    "preds = reg_full.predict(df_test) # No taxi id, origin call, origin stand, no coords\n",
    "df_pred = pd.read_csv(\"../data/sampleSubmission.csv\")\n",
    "df_pred[\"TRAVEL_TIME\"] = preds\n",
    "df_pred.to_csv(\"./combined_xgboost_all_50_default_TRIG.csv\", index=False)"
   ]
  },
  {
   "cell_type": "markdown",
   "metadata": {},
   "source": [
    "### Best public model"
   ]
  },
  {
   "cell_type": "code",
   "execution_count": 12,
   "metadata": {},
   "outputs": [],
   "source": [
    "reg = xgb.XGBRegressor(tree_method=\"gpu_hist\", n_estimators=4, enable_categorical=True)\n",
    "reg.fit(train, train_label)\n",
    "preds = reg.predict(df_test)"
   ]
  },
  {
   "cell_type": "code",
   "execution_count": 13,
   "metadata": {
    "scrolled": true
   },
   "outputs": [
    {
     "name": "stdout",
     "output_type": "stream",
     "text": [
      "[ 636.8959   532.11896  635.8766   532.11896  582.97504  753.14624\n",
      "  636.8959   664.64716  635.8766   636.8959   532.11896  646.6156\n",
      "  699.82166 1218.2314   692.4171   927.34985  699.82166 1288.7341\n",
      "  687.8616   839.9587   636.8959   687.8616   636.8959   700.78503\n",
      "  532.11896  664.64716  636.8959   687.8616   608.3116   697.1676\n",
      "  636.8959   532.11896  674.3669   766.9878  1136.0228   646.6156\n",
      "  662.1067   532.11896  636.8959   562.9479   563.992    646.6156\n",
      " 1350.6658   636.8959   532.11896  532.11896  646.6156   646.6156\n",
      "  586.04785  532.11896  757.3739   634.12274  532.11896  660.1102\n",
      "  697.1676   532.11896  621.1355   577.48267 1017.17487  636.8959\n",
      "  609.6194   646.6156   699.82166  687.8616   621.1355   636.8959\n",
      "  636.8959   621.1355   733.37604  516.35864 1055.0509   766.9878\n",
      "  636.8959   969.7227   512.085    766.9878   512.085    748.61774\n",
      "  661.8573  1017.67535  592.1429   619.8942   619.8942   650.5705\n",
      "  512.085    643.88635 1000.84705  643.80707  483.94733  957.34155\n",
      "  592.1429   616.0558   689.6086   592.1429   536.81635 1509.8083\n",
      "  592.1429  1100.671    592.1429   642.60516  512.085    592.1429\n",
      "  859.9078   497.43597  507.8399   619.8942   619.8942   531.3755\n",
      "  592.1429   790.04846  872.6906   592.1429   550.66534  559.94\n",
      "  619.8942   616.0558   483.94733  534.5283   596.80365  528.09656\n",
      "  582.3947   592.1429   582.3947   582.3947   497.43597  738.5742\n",
      "  596.80365  716.5835   616.0558   497.43597  465.23312  512.085\n",
      "  596.80365  812.78937  616.0558  1017.17487  684.3307   483.94733\n",
      "  592.1429   592.1429  1065.1274   497.43597  657.93256  727.18384\n",
      "  620.87524  613.59033  505.55185  697.46045  592.1429   505.55185\n",
      "  654.8529   695.8199   646.6156   714.9885   646.6156   618.63745\n",
      "  668.0686   668.0686   618.63745  668.0686   668.0686   699.82166\n",
      "  668.0686   574.7037   668.0686   593.0992   674.3669   858.318\n",
      " 1017.67535  632.4354   695.8199   668.0686   604.8817   618.63745\n",
      "  668.7178   806.3817   708.7434   668.0686   668.0686   642.53033\n",
      "  651.75146  618.63745  722.64465  692.4171   593.0992  1229.9476\n",
      "  640.7921   618.63745  667.67365 1279.6836   586.5512   618.63745\n",
      "  665.80023  646.6156   640.7921   646.6156  1454.9869   618.63745\n",
      " 1267.9827   650.5105   680.5142   699.5604   618.63745  873.3778\n",
      " 1321.2112   667.67365  696.5688  1074.7499   714.9885   789.58887\n",
      "  618.63745  667.67365 1160.9465   593.0992   765.3322   858.318\n",
      "  840.9527   618.63745  618.63745  668.0686   960.3309  1160.9465\n",
      "  988.97736  646.6156   668.0686   570.6445   959.88995  642.53033\n",
      "  473.86945  478.48987  505.5349   478.48987  612.31647  511.79517\n",
      "  478.48987  460.0368   543.58826  519.0675   478.48987  449.66687\n",
      "  541.3492   478.48987  412.38147  564.83264  460.0368   501.70706\n",
      "  483.35092  478.48987  786.95605  496.20047  424.1735   501.70706\n",
      "  578.20355  606.09393  424.1735   619.81445  500.67383  478.48987\n",
      "  478.48987  635.06604  485.52823  658.62463  478.48987 1133.5388\n",
      "  550.72845  424.1735   478.48987  543.27875  485.52823  619.81445\n",
      "  496.88358  523.891    478.48987  371.75888  478.48987  424.1735\n",
      "  424.1735   830.5038   485.52823  685.06885  478.48987  437.55505\n",
      "  753.77405  424.1735   478.48987  507.7122   452.99844 1016.2257\n",
      "  500.67383  518.8335   483.94733  829.60583  591.8075  1160.9465\n",
      "  930.38947  581.25323  564.05615  512.085    512.7378   823.2006\n",
      "  872.69635  540.33075  591.8075   727.9968   554.308    632.8277\n",
      "  647.36456  619.06085 1130.9574   650.5705   618.63226  564.05615\n",
      "  557.3464   829.60583  587.96906  498.32892  548.0169   806.3817\n",
      "  568.17285  682.0301 ]\n"
     ]
    }
   ],
   "source": [
    "print(preds)"
   ]
  },
  {
   "cell_type": "code",
   "execution_count": 11,
   "metadata": {},
   "outputs": [],
   "source": [
    "df_pred = pd.read_csv(\"../data/sampleSubmission.csv\")\n",
    "df_pred[\"TRAVEL_TIME\"] = preds\n",
    "df_pred.to_csv(\"./combined_xgboost_noorigincall_4_mctooh_10.csv\", index=False)"
   ]
  },
  {
   "cell_type": "code",
   "execution_count": 82,
   "metadata": {},
   "outputs": [],
   "source": [
    "preds_combined = preds + preds_full / 2"
   ]
  },
  {
   "cell_type": "code",
   "execution_count": 83,
   "metadata": {},
   "outputs": [
    {
     "name": "stdout",
     "output_type": "stream",
     "text": [
      "[1276.1924  1090.9568  1170.3938  1024.0698  1133.3923  1313.6172\n",
      " 1173.5781  1181.8596  1214.4435  1160.9861  1072.5726  1406.6819\n",
      " 1460.3394  2377.5422  1370.973   1668.2456  1354.3307  2108.3599\n",
      " 1221.1959  1649.9497  1121.5939  1165.1921  1168.4341  1411.3047\n",
      "  993.46765 1238.9847  1176.1893  1170.0126  1213.3047  1200.0282\n",
      " 1128.2544  1056.483   1167.5645  1469.9329  2516.7515  1568.2969\n",
      " 1399.1887  1121.2574  1270.6532  1684.6573   964.1573  1205.0161\n",
      " 2829.218   1099.1218  1050.4863  1066.0546  1176.0645  1155.7227\n",
      " 1265.1001  1053.0219  1402.4852  1287.0151  1067.2312  1231.4438\n",
      " 1354.5741   991.97314 1105.3911  1133.8948  2101.9087  1132.2039\n",
      " 1155.8794  1270.4766  1281.3204  1337.2988  1021.7158  1208.3973\n",
      " 1183.9081  1066.9937  1777.3767   939.1366  2175.3726  1666.7982\n",
      " 1213.3438  2296.7004   975.7856  1614.7509   882.21277 1919.2567\n",
      " 1531.1177  1716.667   1096.4426  1097.7395  1186.2424  1169.367\n",
      "  899.3263  1195.2212  3606.594   1437.0144   886.85474 1364.9995\n",
      " 1213.333   1153.4263  1662.17    1076.9573  1196.2035  2818.12\n",
      " 1052.3999  2155.279   1059.0901   969.17957 1021.42883 1042.4729\n",
      " 1704.7979   893.6744  1012.4746  1046.8367  1204.8734  1450.9187\n",
      " 1056.3433  1549.637   1567.0283  1793.3484  1175.6567   941.3453\n",
      " 1115.8622  1229.1398   872.86664 1078.3606  1613.9143  1006.77124\n",
      " 1039.6688  1008.60004  954.14874  977.46826  980.2898  1232.7195\n",
      " 1138.7179  1519.6699  1202.896   1335.5845   897.2533   891.704\n",
      " 1256.6926  1661.3665  1230.0122  2231.096   1158.4648   835.72125\n",
      " 1211.2561  1085.2965  2772.375    913.6701  1574.3527  1666.8813\n",
      " 1185.0386  1082.5284   907.4525  1504.4265  1104.1289   960.3351\n",
      " 1158.6104  1238.4817  1199.155   1344.4124  1149.5674  1112.9329\n",
      " 1224.8008  1260.4556  1038.7515  1041.1381  1198.7249  1296.6323\n",
      " 1176.1853  1027.8246  1146.7946  1068.0614  1309.7126  2105.7542\n",
      " 1779.5205  1068.1777  1276.4169  1093.422   1105.5266  1175.7598\n",
      " 1311.7853  1954.6416  1239.8948  1012.7113  1167.0371  1107.3416\n",
      " 1252.7937  1113.5461  1297.9158  1371.176   1000.46893 2201.0872\n",
      " 1189.404   1136.779   1224.388   2805.4802  1415.4924  1049.0344\n",
      " 1159.071    810.5093  1280.7356  1454.1536  2206.1086   989.89233\n",
      " 2340.2908  1246.8201  1670.5721  1498.1755  1188.7078  2124.7246\n",
      " 3051.8555  1075.6514  1318.717   2202.1116  1404.4326  1579.6788\n",
      " 1149.9463  1222.5463  2771.9797  1134.8723  1458.391   1286.9493\n",
      " 1476.3256  1049.7012  1049.2047  1156.5072  2902.51    2622.6528\n",
      " 2299.3652  1030.35    1125.3008  1011.24304 2007.3545  1111.8112\n",
      "  906.30176  940.79584 1105.627    835.8368  1205.7345  1047.8398\n",
      "  844.0215   777.8218   961.47076 1086.9752   772.67944  821.1437\n",
      " 1060.9612  1011.0052   704.3971  1075.8268   895.8775  1341.0374\n",
      "  974.975    862.4752  2299.2844   919.99384  791.6597  1196.91\n",
      " 1038.8584  1148.8367   855.6421  1121.6176  1222.8376   855.94507\n",
      "  877.48444 1092.4348   939.76227 1216.8997   715.5709  2111.016\n",
      " 1059.7422   761.8921   892.1831   798.3407   681.6392  1142.0388\n",
      " 1088.0566   665.99475  845.49854  688.07007  904.6415   746.6127\n",
      "  757.58496 1410.1777   860.71716 1264.2124  1005.56854  853.0575\n",
      " 1094.1597   748.18115  836.26965 1020.41406  939.17285 1129.3862\n",
      "  871.5325   829.7748   796.10986 1635.5032  1009.38684 2784.837\n",
      " 2107.7144  1177.5493  1048.1067   880.7505  1154.2534  2256.928\n",
      " 2135.1667  1328.0299  1054.2035  1217.7615  1024.2507  1302.7844\n",
      " 1511.2607  1119.5868  2765.079   1122.1165  1181.065    939.5608\n",
      " 1013.8412  1465.6403  1162.9468  1239.7783  1027.8168  1594.4175\n",
      " 1336.324   1397.943  ]\n"
     ]
    }
   ],
   "source": [
    "print(preds_combined)"
   ]
  },
  {
   "cell_type": "code",
   "execution_count": 67,
   "metadata": {},
   "outputs": [
    {
     "data": {
      "image/png": "[encoded data removed]",
      "text/plain": [
       "<Figure size 432x288 with 1 Axes>"
      ]
     },
     "metadata": {
      "needs_background": "light"
     },
     "output_type": "display_data"
    }
   ],
   "source": [
    "plt.hist(preds)\n",
    "plt.show()"
   ]
  },
  {
   "cell_type": "code",
   "execution_count": 66,
   "metadata": {},
   "outputs": [
    {
     "data": {
      "image/png": "[encoded data removed]",
      "text/plain": [
       "<Figure size 432x288 with 1 Axes>"
      ]
     },
     "metadata": {
      "needs_background": "light"
     },
     "output_type": "display_data"
    }
   ],
   "source": [
    "plt.hist(preds_full)\n",
    "plt.show()"
   ]
  },
  {
   "cell_type": "code",
   "execution_count": 54,
   "metadata": {},
   "outputs": [],
   "source": [
    "preds = reg.predict(df_test) # No taxi id, origin call, origin stand, no coords\n",
    "df_pred = pd.read_csv(\"../data/sampleSubmission.csv\")\n",
    "df_pred[\"TRAVEL_TIME\"] = preds\n",
    "df_pred.to_csv(\"./combined_xgboost_all_5_default_15kmax_TRIG.csv\", index=False)"
   ]
  },
  {
   "cell_type": "code",
   "execution_count": 108,
   "metadata": {},
   "outputs": [
    {
     "name": "stdout",
     "output_type": "stream",
     "text": [
      "RMSE: 531.4848147987065\n",
      "RMSE: 464.3774480486925\n",
      "RMSE: 837.7974275920382\n"
     ]
    }
   ],
   "source": [
    "# E V E R Y T H I N G\n",
    "pred = reg.predict(valid[valid[\"A\"] == 1])\n",
    "print(f\"RMSE: {np.sqrt(np.sum((pred - valid_label[valid['A'] == 1])**2) / len(valid[valid['A'] == 1]))}\")\n",
    "pred = reg.predict(valid[valid[\"B\"] == 1])\n",
    "print(f\"RMSE: {np.sqrt(np.sum((pred - valid_label[valid['B'] == 1])**2) / len(valid[valid['B'] == 1]))}\")\n",
    "pred = reg.predict(valid[valid[\"C\"] == 1])\n",
    "print(f\"RMSE: {np.sqrt(np.sum((pred - valid_label[valid['C'] == 1])**2) / len(valid[valid['C'] == 1]))}\")"
   ]
  },
  {
   "cell_type": "code",
   "execution_count": 8,
   "metadata": {},
   "outputs": [
    {
     "name": "stdout",
     "output_type": "stream",
     "text": [
      "RMSE: 477.84808351169596\n",
      "RMSE: 428.91400283658095\n",
      "RMSE: 786.1901650206082\n"
     ]
    }
   ],
   "source": [
    "# Yes taxi id, origin call, origin stand, no coords\n",
    "pred = reg.predict(valid[valid[\"A\"] == 1])\n",
    "print(f\"RMSE: {np.sqrt(np.sum((pred - valid_label[valid['A'] == 1])**2) / len(valid[valid['A'] == 1]))}\")\n",
    "pred = reg.predict(valid[valid[\"B\"] == 1])\n",
    "print(f\"RMSE: {np.sqrt(np.sum((pred - valid_label[valid['B'] == 1])**2) / len(valid[valid['B'] == 1]))}\")\n",
    "pred = reg.predict(valid[valid[\"C\"] == 1])\n",
    "print(f\"RMSE: {np.sqrt(np.sum((pred - valid_label[valid['C'] == 1])**2) / len(valid[valid['C'] == 1]))}\")"
   ]
  },
  {
   "cell_type": "code",
   "execution_count": 29,
   "metadata": {},
   "outputs": [
    {
     "name": "stdout",
     "output_type": "stream",
     "text": [
      "RMSE: 534.2977151110199\n",
      "RMSE: 463.64833608675974\n",
      "RMSE: 827.8829632643224\n"
     ]
    }
   ],
   "source": [
    "# simple\n",
    "pred = reg.predict(valid[valid[\"A\"] == 1])\n",
    "print(f\"RMSE: {np.sqrt(np.sum((pred - valid_label[valid['A'] == 1])**2) / len(valid[valid['A'] == 1]))}\")\n",
    "pred = reg.predict(valid[valid[\"B\"] == 1])\n",
    "print(f\"RMSE: {np.sqrt(np.sum((pred - valid_label[valid['B'] == 1])**2) / len(valid[valid['B'] == 1]))}\")\n",
    "pred = reg.predict(valid[valid[\"C\"] == 1])\n",
    "print(f\"RMSE: {np.sqrt(np.sum((pred - valid_label[valid['C'] == 1])**2) / len(valid[valid['C'] == 1]))}\")"
   ]
  },
  {
   "cell_type": "markdown",
   "metadata": {},
   "source": [
    "## Create prediction csv"
   ]
  },
  {
   "cell_type": "code",
   "execution_count": 9,
   "metadata": {
    "ExecuteTime": {
     "end_time": "2023-04-25T00:13:00.614244Z",
     "start_time": "2023-04-25T00:13:00.566921Z"
    }
   },
   "outputs": [],
   "source": [
    "df_pred[\"TRAVEL_TIME\"] = preds\n",
    "df_pred.to_csv(\"./combined_xgboost_4_all_notimecategories.csv\", index=False)"
   ]
  }
 ],
 "metadata": {
  "kernelspec": {
   "display_name": "Python 3 (ipykernel)",
   "language": "python",
   "name": "python3"
  },
  "language_info": {
   "codemirror_mode": {
    "name": "ipython",
    "version": 3
   },
   "file_extension": ".py",
   "mimetype": "text/x-python",
   "name": "python",
   "nbconvert_exporter": "python",
   "pygments_lexer": "ipython3",
   "version": "3.9.5"
  }
 },
 "nbformat": 4,
 "nbformat_minor": 2
}
