{
 "cells": [
  {
   "cell_type": "code",
   "execution_count": 1,
   "metadata": {
    "collapsed": true,
    "ExecuteTime": {
     "start_time": "2023-05-01T01:09:19.235079Z",
     "end_time": "2023-05-01T01:09:24.744981Z"
    }
   },
   "outputs": [],
   "source": [
    "from sklearn.cluster import KMeans\n",
    "import numpy as np\n",
    "import matplotlib.pyplot as plt\n",
    "import ast\n",
    "import pandas as pd"
   ]
  },
  {
   "cell_type": "code",
   "execution_count": 2,
   "outputs": [],
   "source": [
    "df: pd.DataFrame = pd.read_csv(\"../data/train.csv\")"
   ],
   "metadata": {
    "collapsed": false,
    "ExecuteTime": {
     "start_time": "2023-05-01T01:09:24.753979Z",
     "end_time": "2023-05-01T01:09:51.262504Z"
    }
   }
  },
  {
   "cell_type": "code",
   "execution_count": 3,
   "outputs": [],
   "source": [
    "start = np.zeros((len(df), 2), dtype=np.float32)\n",
    "cnt = 0\n",
    "for i in range(len(df)):\n",
    "    row_list = ast.literal_eval(df.iloc[i][\"POLYLINE\"])\n",
    "    if len(row_list) == 0:\n",
    "        continue\n",
    "    start[i] = np.array(row_list)[-1]\n",
    "    cnt += 1"
   ],
   "metadata": {
    "collapsed": false,
    "ExecuteTime": {
     "start_time": "2023-05-01T01:09:51.298504Z",
     "end_time": "2023-05-01T01:28:26.941297Z"
    }
   }
  },
  {
   "cell_type": "code",
   "execution_count": 4,
   "outputs": [],
   "source": [
    "start = start[:cnt]"
   ],
   "metadata": {
    "collapsed": false,
    "ExecuteTime": {
     "start_time": "2023-05-01T01:28:26.945301Z",
     "end_time": "2023-05-01T01:28:26.955304Z"
    }
   }
  },
  {
   "cell_type": "code",
   "execution_count": 11,
   "outputs": [
    {
     "name": "stdout",
     "output_type": "stream",
     "text": [
      "warning: width and height keywords ignored for Cylindrical Equidistant projection"
     ]
    },
    {
     "data": {
      "text/plain": "[<matplotlib.lines.Line2D at 0x28f8bf97640>]"
     },
     "execution_count": 11,
     "metadata": {},
     "output_type": "execute_result"
    }
   ],
   "source": [
    "%matplotlib qt\n",
    "from mpl_toolkits.basemap import Basemap\n",
    "fig = plt.figure(figsize=(8, 8))\n",
    "m = Basemap(projection='cyl', resolution=None,\n",
    "            width=8E6, height=8E6,\n",
    "            lat_0=37.5, lon_0=-15,)\n",
    "m.etopo(scale=0.5, alpha=0.5)\n",
    "\n",
    "# Map (long, lat) to (x, y) for plotting\n",
    "x, y = m(start[:, 0], start[:, 1])\n",
    "plt.plot(x, y, 'ok', markersize=5)\n"
   ],
   "metadata": {
    "collapsed": false,
    "ExecuteTime": {
     "start_time": "2023-05-01T01:50:53.341138Z",
     "end_time": "2023-05-01T01:50:55.514120Z"
    }
   }
  },
  {
   "cell_type": "code",
   "execution_count": 9,
   "outputs": [],
   "source": [
    "np.save(\"start_full.npy\", start)"
   ],
   "metadata": {
    "collapsed": false,
    "ExecuteTime": {
     "start_time": "2023-05-01T01:29:48.803250Z",
     "end_time": "2023-05-01T01:29:48.830250Z"
    }
   }
  }
 ],
 "metadata": {
  "kernelspec": {
   "display_name": "Python 3",
   "language": "python",
   "name": "python3"
  },
  "language_info": {
   "codemirror_mode": {
    "name": "ipython",
    "version": 2
   },
   "file_extension": ".py",
   "mimetype": "text/x-python",
   "name": "python",
   "nbconvert_exporter": "python",
   "pygments_lexer": "ipython2",
   "version": "2.7.6"
  }
 },
 "nbformat": 4,
 "nbformat_minor": 0
}
