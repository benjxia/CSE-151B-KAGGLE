{
 "cells": [
  {
   "cell_type": "code",
   "execution_count": 9,
   "metadata": {
    "ExecuteTime": {
     "end_time": "2023-05-01T01:09:24.744981Z",
     "start_time": "2023-05-01T01:09:19.235079Z"
    },
    "collapsed": true
   },
   "outputs": [],
   "source": [
    "from sklearn.cluster import KMeans\n",
    "import numpy as np\n",
    "import matplotlib.pyplot as plt\n",
    "import ast\n",
    "import pandas as pd"
   ]
  },
  {
   "cell_type": "code",
   "execution_count": 10,
   "metadata": {
    "ExecuteTime": {
     "end_time": "2023-05-01T01:09:51.262504Z",
     "start_time": "2023-05-01T01:09:24.753979Z"
    },
    "collapsed": false
   },
   "outputs": [],
   "source": [
    "df: pd.DataFrame = pd.read_csv(\"../data/train.csv\")"
   ]
  },
  {
   "cell_type": "code",
   "execution_count": 11,
   "metadata": {
    "ExecuteTime": {
     "end_time": "2023-05-01T01:28:26.941297Z",
     "start_time": "2023-05-01T01:09:51.298504Z"
    },
    "collapsed": false
   },
   "outputs": [],
   "source": [
    "# Parse polylines\n",
    "start = np.zeros((len(df), 2), dtype=np.float32)\n",
    "cnt = 0\n",
    "for i in range(len(df)):\n",
    "    row_list = ast.literal_eval(df.iloc[i][\"POLYLINE\"])\n",
    "    if len(row_list) == 0:\n",
    "        row_list=[0, 0] # Set to 0 for invalid entries\n",
    "    start[i] = np.array(row_list)[0]\n",
    "    cnt += 1"
   ]
  },
  {
   "cell_type": "code",
   "execution_count": 12,
   "metadata": {
    "ExecuteTime": {
     "end_time": "2023-05-01T01:28:26.955304Z",
     "start_time": "2023-05-01T01:28:26.945301Z"
    },
    "collapsed": false
   },
   "outputs": [],
   "source": [
    "start = start[:cnt]"
   ]
  },
  {
   "cell_type": "code",
   "execution_count": 17,
   "metadata": {},
   "outputs": [],
   "source": [
    "# Parse polylines\n",
    "end = np.zeros((len(df), 2), dtype=np.float32)\n",
    "cnt = 0\n",
    "for i in range(len(df)):\n",
    "    row_list = ast.literal_eval(df.iloc[i][\"POLYLINE\"])\n",
    "    if len(row_list) == 0:\n",
    "        row_list=[0, 0] # Set to 0 for invalid entries\n",
    "    end[i] = np.array(row_list)[-1]\n",
    "    cnt += 1"
   ]
  },
  {
   "cell_type": "code",
   "execution_count": 13,
   "metadata": {
    "ExecuteTime": {
     "end_time": "2023-05-01T01:50:55.514120Z",
     "start_time": "2023-05-01T01:50:53.341138Z"
    },
    "collapsed": false
   },
   "outputs": [
    {
     "name": "stdout",
     "output_type": "stream",
     "text": [
      "warning: width and height keywords ignored for Cylindrical Equidistant projection"
     ]
    },
    {
     "data": {
      "text/plain": [
       "[<matplotlib.lines.Line2D at 0x17847e28fa0>]"
      ]
     },
     "execution_count": 13,
     "metadata": {},
     "output_type": "execute_result"
    }
   ],
   "source": [
    "# %matplotlib qt\n",
    "# from mpl_toolkits.basemap import Basemap\n",
    "# fig = plt.figure(figsize=(8, 8))\n",
    "# m = Basemap(projection='cyl', resolution=None,\n",
    "#             width=8E6, height=8E6,\n",
    "#             lat_0=37.5, lon_0=-15,)\n",
    "# m.etopo(scale=0.5, alpha=0.5)\n",
    "\n",
    "# # Map (long, lat) to (x, y) for plotting\n",
    "# x, y = m(start[:, 0], start[:, 1])\n",
    "# plt.plot(x, y, 'ok', markersize=5)\n"
   ]
  },
  {
   "cell_type": "code",
   "execution_count": 23,
   "metadata": {},
   "outputs": [
    {
     "data": {
      "text/plain": [
       "array([-8.620893, 41.14988 ], dtype=float32)"
      ]
     },
     "execution_count": 23,
     "metadata": {},
     "output_type": "execute_result"
    }
   ],
   "source": [
    "end[-1]\n",
    "start[-1]"
   ]
  },
  {
   "cell_type": "code",
   "execution_count": 18,
   "metadata": {
    "ExecuteTime": {
     "end_time": "2023-05-01T01:29:48.830250Z",
     "start_time": "2023-05-01T01:29:48.803250Z"
    },
    "collapsed": false
   },
   "outputs": [],
   "source": [
    "np.save(\"start_full.npy\", start)\n",
    "np.save(\"end_full.npy\", end)"
   ]
  }
 ],
 "metadata": {
  "kernelspec": {
   "display_name": "Python 3",
   "language": "python",
   "name": "python3"
  },
  "language_info": {
   "codemirror_mode": {
    "name": "ipython",
    "version": 3
   },
   "file_extension": ".py",
   "mimetype": "text/x-python",
   "name": "python",
   "nbconvert_exporter": "python",
   "pygments_lexer": "ipython3",
   "version": "3.9.7"
  }
 },
 "nbformat": 4,
 "nbformat_minor": 0
}
