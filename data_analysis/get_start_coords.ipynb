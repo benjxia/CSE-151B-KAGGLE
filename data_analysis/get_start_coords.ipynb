{
 "cells": [
  {
   "cell_type": "code",
   "execution_count": 1,
   "metadata": {
    "ExecuteTime": {
     "start_time": "2023-05-01T00:15:42.990370Z",
     "end_time": "2023-05-01T00:15:55.855696Z"
    }
   },
   "outputs": [],
   "source": [
    "from sklearn.cluster import KMeans\n",
    "import numpy as np\n",
    "import matplotlib.pyplot as plt\n",
    "import ast\n",
    "import math\n",
    "import pandas as pd"
   ]
  },
  {
   "cell_type": "markdown",
   "source": [
    "### Extract starting coordinates of each taxi ride in training set"
   ],
   "metadata": {
    "collapsed": false
   }
  },
  {
   "cell_type": "code",
   "execution_count": 2,
   "metadata": {
    "ExecuteTime": {
     "start_time": "2023-05-01T00:15:55.860796Z",
     "end_time": "2023-05-01T00:16:22.109340Z"
    }
   },
   "outputs": [],
   "source": [
    "df: pd.DataFrame = pd.read_csv(\"../data/train.csv\")\n",
    "metadataDF: pd.DataFrame = pd.read_csv(\"../data/metaData_taxistandsID_name_GPSlocation.csv\")"
   ]
  },
  {
   "cell_type": "code",
   "execution_count": 3,
   "metadata": {
    "ExecuteTime": {
     "start_time": "2023-05-01T00:16:22.523520Z",
     "end_time": "2023-05-01T00:39:13.003608Z"
    }
   },
   "outputs": [],
   "source": [
    "start = np.zeros((len(df), 2), dtype=np.float32)\n",
    "cnt = 0\n",
    "for i in range(len(df)):\n",
    "    if (df.iloc[i][\"CALL_TYPE\"] == 'B') and not math.isnan((df.iloc[i][\"ORIGIN_STAND\"])):\n",
    "        #print(df.iloc[i][\"ORIGIN_STAND\"])\n",
    "        taxi_stand = (int) (df.iloc[i][\"ORIGIN_STAND\"])-1\n",
    "        #print(taxi_stand)\n",
    "        #print(metadataDF.iloc[taxi_stand][\"Longitude\"], metadataDF.iloc[taxi_stand][\"Latitude\"])\n",
    "        start[i] = np.array((metadataDF.iloc[taxi_stand][\"Longitude\"], metadataDF.iloc[taxi_stand][\"Latitude\"]))\n",
    "        #print(start[i])\n",
    "    else:\n",
    "        row_list = ast.literal_eval(df.iloc[i][\"POLYLINE\"])\n",
    "        if len(row_list) == 0:\n",
    "            continue\n",
    "        start[i] = np.array(row_list)[0]\n",
    "    cnt += 1"
   ]
  },
  {
   "cell_type": "code",
   "execution_count": 4,
   "metadata": {
    "ExecuteTime": {
     "start_time": "2023-05-01T00:39:13.016921Z",
     "end_time": "2023-05-01T00:39:13.094054Z"
    }
   },
   "outputs": [
    {
     "name": "stdout",
     "output_type": "stream",
     "text": [
      "[[-8.618643  41.14141  ]\n",
      " [-8.641984  41.15998  ]\n",
      " [-8.612964  41.140358 ]\n",
      " ...\n",
      " [ 0.         0.       ]\n",
      " [-8.630466  41.15512  ]\n",
      " [-8.6159525 41.14052  ]]\n"
     ]
    }
   ],
   "source": [
    "print(start)"
   ]
  },
  {
   "cell_type": "code",
   "execution_count": 14,
   "outputs": [],
   "source": [
    "np.save(\"start.npy\", start)"
   ],
   "metadata": {
    "collapsed": false,
    "ExecuteTime": {
     "start_time": "2023-05-01T00:48:27.600442Z",
     "end_time": "2023-05-01T00:48:27.623449Z"
    }
   }
  },
  {
   "cell_type": "code",
   "execution_count": 15,
   "outputs": [],
   "source": [
    "arr = np.load(\"start.npy\")"
   ],
   "metadata": {
    "collapsed": false,
    "ExecuteTime": {
     "start_time": "2023-05-01T00:48:37.232041Z",
     "end_time": "2023-05-01T00:48:37.261042Z"
    }
   }
  }
 ],
 "metadata": {
  "kernelspec": {
   "display_name": "Python 3",
   "language": "python",
   "name": "python3"
  },
  "language_info": {
   "codemirror_mode": {
    "name": "ipython",
    "version": 3
   },
   "file_extension": ".py",
   "mimetype": "text/x-python",
   "name": "python",
   "nbconvert_exporter": "python",
   "pygments_lexer": "ipython3",
   "version": "3.10.0"
  },
  "orig_nbformat": 4
 },
 "nbformat": 4,
 "nbformat_minor": 2
}
