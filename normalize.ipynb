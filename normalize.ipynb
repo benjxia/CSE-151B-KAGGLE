{
 "cells": [
  {
   "cell_type": "code",
   "execution_count": 14,
   "metadata": {
    "collapsed": true,
    "ExecuteTime": {
     "start_time": "2023-05-11T16:14:38.611446Z",
     "end_time": "2023-05-11T16:14:38.631038Z"
    }
   },
   "outputs": [],
   "source": [
    "import pandas as pd\n",
    "import numpy as np\n",
    "from sklearn.preprocessing import StandardScaler"
   ]
  },
  {
   "cell_type": "code",
   "execution_count": 15,
   "outputs": [],
   "source": [
    "train_set = pd.read_csv(\"./data/processed_trainv5.csv\")\n",
    "valid_set = pd.read_csv(\"./data/processed_validv5.csv\")\n",
    "test_set = pd.read_csv(\"./data/processed_testv5.csv\")"
   ],
   "metadata": {
    "collapsed": false,
    "ExecuteTime": {
     "start_time": "2023-05-11T16:14:39.913175Z",
     "end_time": "2023-05-11T16:14:41.707497Z"
    }
   }
  },
  {
   "cell_type": "code",
   "execution_count": 16,
   "outputs": [],
   "source": [
    "scaler = StandardScaler()\n",
    "train_set[[\"LONG\", \"LAT\", \"WK_OF_YR\", \"WK_DAY\", \"QTR_HR\"]] = scaler.fit_transform(train_set[[\"LONG\", \"LAT\", \"WK_OF_YR\", \"WK_DAY\", \"QTR_HR\"]])\n",
    "valid_set[[\"LONG\", \"LAT\", \"WK_OF_YR\", \"WK_DAY\", \"QTR_HR\"]] = scaler.transform(valid_set[[\"LONG\", \"LAT\", \"WK_OF_YR\", \"WK_DAY\", \"QTR_HR\"]])\n",
    "test_set[[\"LONG\", \"LAT\", \"WK_OF_YR\", \"WK_DAY\", \"QTR_HR\"]] = scaler.transform(test_set[[\"LONG\", \"LAT\", \"WK_OF_YR\", \"WK_DAY\", \"QTR_HR\"]])"
   ],
   "metadata": {
    "collapsed": false,
    "ExecuteTime": {
     "start_time": "2023-05-11T16:14:42.140634Z",
     "end_time": "2023-05-11T16:14:42.515022Z"
    }
   }
  },
  {
   "cell_type": "code",
   "execution_count": 17,
   "outputs": [
    {
     "data": {
      "text/plain": "   ORIGIN_CALL  ORIGIN_STAND  TAXI_ID      LONG       LAT  A  B  C  YEAR  \\\n0            0            23      188  0.175258 -0.630185  0  1  0     0   \n1            0             0      388 -1.231196 -0.412604  0  0  1     0   \n2            0            34      140  0.067556 -0.930338  0  1  0     0   \n3            0            43       49 -1.167175 -0.475792  0  1  0     0   \n4            0             0      153 -0.092495 -0.513475  0  1  0     1   \n\n   WK_OF_YR    WK_DAY    QTR_HR  TARGET  \n0  0.825481 -1.031961 -0.539283     630  \n1  1.432698  0.030677 -1.463326    1845  \n2  0.420669  0.561996 -0.576245     930  \n3  1.162823  0.561996  0.569569     375  \n4 -0.388953  0.561996 -0.724092     645  ",
      "text/html": "<div>\n<style scoped>\n    .dataframe tbody tr th:only-of-type {\n        vertical-align: middle;\n    }\n\n    .dataframe tbody tr th {\n        vertical-align: top;\n    }\n\n    .dataframe thead th {\n        text-align: right;\n    }\n</style>\n<table border=\"1\" class=\"dataframe\">\n  <thead>\n    <tr style=\"text-align: right;\">\n      <th></th>\n      <th>ORIGIN_CALL</th>\n      <th>ORIGIN_STAND</th>\n      <th>TAXI_ID</th>\n      <th>LONG</th>\n      <th>LAT</th>\n      <th>A</th>\n      <th>B</th>\n      <th>C</th>\n      <th>YEAR</th>\n      <th>WK_OF_YR</th>\n      <th>WK_DAY</th>\n      <th>QTR_HR</th>\n      <th>TARGET</th>\n    </tr>\n  </thead>\n  <tbody>\n    <tr>\n      <th>0</th>\n      <td>0</td>\n      <td>23</td>\n      <td>188</td>\n      <td>0.175258</td>\n      <td>-0.630185</td>\n      <td>0</td>\n      <td>1</td>\n      <td>0</td>\n      <td>0</td>\n      <td>0.825481</td>\n      <td>-1.031961</td>\n      <td>-0.539283</td>\n      <td>630</td>\n    </tr>\n    <tr>\n      <th>1</th>\n      <td>0</td>\n      <td>0</td>\n      <td>388</td>\n      <td>-1.231196</td>\n      <td>-0.412604</td>\n      <td>0</td>\n      <td>0</td>\n      <td>1</td>\n      <td>0</td>\n      <td>1.432698</td>\n      <td>0.030677</td>\n      <td>-1.463326</td>\n      <td>1845</td>\n    </tr>\n    <tr>\n      <th>2</th>\n      <td>0</td>\n      <td>34</td>\n      <td>140</td>\n      <td>0.067556</td>\n      <td>-0.930338</td>\n      <td>0</td>\n      <td>1</td>\n      <td>0</td>\n      <td>0</td>\n      <td>0.420669</td>\n      <td>0.561996</td>\n      <td>-0.576245</td>\n      <td>930</td>\n    </tr>\n    <tr>\n      <th>3</th>\n      <td>0</td>\n      <td>43</td>\n      <td>49</td>\n      <td>-1.167175</td>\n      <td>-0.475792</td>\n      <td>0</td>\n      <td>1</td>\n      <td>0</td>\n      <td>0</td>\n      <td>1.162823</td>\n      <td>0.561996</td>\n      <td>0.569569</td>\n      <td>375</td>\n    </tr>\n    <tr>\n      <th>4</th>\n      <td>0</td>\n      <td>0</td>\n      <td>153</td>\n      <td>-0.092495</td>\n      <td>-0.513475</td>\n      <td>0</td>\n      <td>1</td>\n      <td>0</td>\n      <td>1</td>\n      <td>-0.388953</td>\n      <td>0.561996</td>\n      <td>-0.724092</td>\n      <td>645</td>\n    </tr>\n  </tbody>\n</table>\n</div>"
     },
     "execution_count": 17,
     "metadata": {},
     "output_type": "execute_result"
    }
   ],
   "source": [
    "train_set.head()"
   ],
   "metadata": {
    "collapsed": false,
    "ExecuteTime": {
     "start_time": "2023-05-11T16:14:43.329301Z",
     "end_time": "2023-05-11T16:14:43.372273Z"
    }
   }
  },
  {
   "cell_type": "code",
   "execution_count": 18,
   "outputs": [],
   "source": [
    "train_set.to_csv(\"data/processed_trainv5_normal.csv\", index=False)\n",
    "valid_set.to_csv(\"data/processed_validv5_normal.csv\", index=False)\n",
    "test_set.to_csv(\"data/processed_testv5_normal.csv\", index=False)"
   ],
   "metadata": {
    "collapsed": false,
    "ExecuteTime": {
     "start_time": "2023-05-11T16:14:58.824174Z",
     "end_time": "2023-05-11T16:15:16.901002Z"
    }
   }
  }
 ],
 "metadata": {
  "kernelspec": {
   "display_name": "Python 3",
   "language": "python",
   "name": "python3"
  },
  "language_info": {
   "codemirror_mode": {
    "name": "ipython",
    "version": 2
   },
   "file_extension": ".py",
   "mimetype": "text/x-python",
   "name": "python",
   "nbconvert_exporter": "python",
   "pygments_lexer": "ipython2",
   "version": "2.7.6"
  }
 },
 "nbformat": 4,
 "nbformat_minor": 0
}
