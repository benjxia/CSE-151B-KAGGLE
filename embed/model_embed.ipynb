{
 "cells": [
  {
   "cell_type": "code",
   "execution_count": 1,
   "metadata": {
    "ExecuteTime": {
     "end_time": "2023-05-20T15:22:03.046106Z",
     "start_time": "2023-05-20T15:21:57.044471Z"
    }
   },
   "outputs": [],
   "source": [
    "from Indexed_Dataset import *\n",
    "import torch\n",
    "from torch import nn\n",
    "from torch.utils.data import DataLoader\n",
    "import numpy as np\n",
    "import random\n",
    "from torch.utils.data import WeightedRandomSampler"
   ]
  },
  {
   "cell_type": "code",
   "execution_count": 2,
   "metadata": {
    "ExecuteTime": {
     "end_time": "2023-04-25T11:04:14.785832Z",
     "start_time": "2023-04-25T11:04:14.731012Z"
    }
   },
   "outputs": [
    {
     "data": {
      "text/plain": [
       "<torch._C.Generator at 0x7f1684220fd0>"
      ]
     },
     "execution_count": 2,
     "metadata": {},
     "output_type": "execute_result"
    }
   ],
   "source": [
    "torch.manual_seed(42)\n",
    "np.random.seed(42)\n",
    "# torch.use_deterministic_algorithms(True)\n",
    "def seed_worker(worker_id):\n",
    "    worker_seed = torch.initial_seed() % 2**32\n",
    "    np.random.seed(worker_seed)\n",
    "    random.seed(worker_seed)\n",
    "\n",
    "g = torch.Generator()\n",
    "g.manual_seed(42)"
   ]
  },
  {
   "cell_type": "code",
   "execution_count": 3,
   "metadata": {},
   "outputs": [],
   "source": [
    "train_arr = np.loadtxt(\"../data/embed_trainvf.csv\", dtype=np.float32, delimiter=\",\", skiprows=1)\n",
    "mean = train_arr[:, -1].mean()\n",
    "std = train_arr[:, -1].std()\n",
    "train_arr = train_arr[train_arr[:, -1] < mean + 5 * std]\n",
    "train_arr = train_arr[train_arr[:, -1] > 50]"
   ]
  },
  {
   "cell_type": "code",
   "execution_count": 4,
   "metadata": {},
   "outputs": [],
   "source": [
    "# Split into training/validation sets\n",
    "np.random.shuffle(train_arr)\n",
    "valid_arr = train_arr[int(0.9 * train_arr.shape[0]):]\n",
    "train_arr = train_arr[:int(0.9 * train_arr.shape[0])]\n",
    "weights = train_arr[:, -1]"
   ]
  },
  {
   "cell_type": "code",
   "execution_count": 5,
   "metadata": {
    "ExecuteTime": {
     "end_time": "2023-04-25T11:04:15.775358Z",
     "start_time": "2023-04-25T11:04:14.785832Z"
    }
   },
   "outputs": [],
   "source": [
    "sampler = WeightedRandomSampler(weights=weights, num_samples=train_arr.shape[0], replacement=True)\n",
    "\n",
    "train_set = Indexed_Dataset(arr=train_arr)\n",
    "train_load = DataLoader(dataset=train_set,\n",
    "                        batch_size=32,\n",
    "#                         sampler=sampler,\n",
    "                        shuffle=True,\n",
    "                        num_workers=8,\n",
    "                        worker_init_fn=seed_worker,\n",
    "                        generator=g,)\n",
    "\n",
    "valid_set = Indexed_Dataset(arr=valid_arr)\n",
    "valid_load = DataLoader(dataset=valid_set,\n",
    "                        batch_size=32,\n",
    "                        # num_workers=8,\n",
    "                        shuffle=True,\n",
    "                        worker_init_fn=seed_worker,\n",
    "                        generator=g,)\n",
    "\n",
    "device = \"cuda\" if torch.cuda.is_available() else \"cpu\""
   ]
  },
  {
   "cell_type": "code",
   "execution_count": 6,
   "metadata": {
    "ExecuteTime": {
     "end_time": "2023-04-25T11:06:37.789948Z",
     "start_time": "2023-04-25T11:06:37.758708Z"
    }
   },
   "outputs": [],
   "source": [
    "class TravelRegressor(nn.Module):\n",
    "    def __init__(self):\n",
    "        super().__init__()\n",
    "        origin_call_dim = 6\n",
    "        origin_stand_dim = 5\n",
    "        taxi_id_dim = 5\n",
    "        year_dim = 2\n",
    "        wk_of_yr_dim = 5\n",
    "        wk_day_dim = 5\n",
    "        hr_dim = 5\n",
    "        \n",
    "        self.embed_origin_call: nn.Module = nn.Embedding(29027, origin_call_dim)\n",
    "        self.embed_origin_stand: nn.Module = nn.Embedding(64, origin_stand_dim)\n",
    "        self.embed_taxi_id: nn.Module = nn.Embedding(448, taxi_id_dim)\n",
    "        self.embed_year: nn.Module = nn.Embedding(2, year_dim)\n",
    "        self.embed_wk_of_yr: nn.Module = nn.Embedding(52, wk_of_yr_dim)\n",
    "        self.embed_wk_day: nn.Module = nn.Embedding(7, wk_day_dim)\n",
    "        self.embed_hr: nn.Module = nn.Embedding(24, hr_dim)\n",
    "        self.feed_forward = nn.Sequential(\n",
    "            nn.Linear(6 + \n",
    "                      origin_call_dim + \n",
    "                      origin_stand_dim + \n",
    "                      taxi_id_dim + \n",
    "                      year_dim + \n",
    "                      wk_of_yr_dim +\n",
    "                      wk_day_dim + \n",
    "                      hr_dim\n",
    "                      ,1000),\n",
    "            nn.ReLU(),\n",
    "            nn.Dropout(0.5),\n",
    "            nn.Linear(1000, 1000),\n",
    "            nn.ReLU(),\n",
    "            nn.Dropout(0.5),\n",
    "            nn.Linear(1000, 800),\n",
    "            nn.ReLU(),\n",
    "            nn.Linear(800, 1)\n",
    "        )\n",
    "\n",
    "    def forward(self, input: torch.Tensor):\n",
    "        origin_call = self.embed_origin_call(input[:, 0].to(dtype=torch.int32))\n",
    "        origin_stand = self.embed_origin_stand(input[:, 1].to(dtype=torch.int32))\n",
    "        taxi_id = self.embed_taxi_id(input[:, 2].to(dtype=torch.int32))\n",
    "        year = self.embed_year(input[:, 8].to(dtype=torch.int32))\n",
    "        wk_of_year = self.embed_wk_of_yr(input[:, 9].to(dtype=torch.int32))\n",
    "        wk_day = self.embed_wk_day(input[:, 10].to(dtype=torch.int32))\n",
    "        hr = self.embed_hr(input[:, 11].to(dtype=torch.int32))\n",
    "        input = torch.cat((origin_call, \n",
    "                           origin_stand, \n",
    "                           taxi_id, \n",
    "                           input[:, 3:8],\n",
    "                           year,\n",
    "                           wk_of_year,\n",
    "                           wk_day,\n",
    "                           hr,\n",
    "                           input[:, 12:]\n",
    "                           ), dim=1).to(dtype=torch.float32)\n",
    "        input = self.feed_forward(input.to(dtype=torch.float32))\n",
    "        return input\n",
    "\n",
    "model = TravelRegressor().to(device)"
   ]
  },
  {
   "cell_type": "code",
   "execution_count": 7,
   "metadata": {
    "ExecuteTime": {
     "end_time": "2023-04-25T11:06:39.219554Z",
     "start_time": "2023-04-25T11:06:39.190938Z"
    }
   },
   "outputs": [
    {
     "data": {
      "text/plain": [
       "torch.Size([1, 1])"
      ]
     },
     "execution_count": 7,
     "metadata": {},
     "output_type": "execute_result"
    }
   ],
   "source": [
    "model.eval()\n",
    "model(train_set[0][0].unsqueeze(0).to(device)).size()\n",
    "# train_set[0][0].unsqueeze(0).size()"
   ]
  },
  {
   "cell_type": "code",
   "execution_count": 8,
   "metadata": {},
   "outputs": [],
   "source": [
    "def weight_mse(pred, act):\n",
    "    denom = torch.sum(act)\n",
    "    return torch.sum(act * ((pred - act)**2 / len(act))) / denom"
   ]
  },
  {
   "cell_type": "code",
   "execution_count": 9,
   "metadata": {
    "ExecuteTime": {
     "end_time": "2023-04-16T14:02:31.352229Z",
     "start_time": "2023-04-16T14:02:31.304302Z"
    }
   },
   "outputs": [],
   "source": [
    "mse = nn.MSELoss(reduction=\"mean\")\n",
    "weight_mse\n",
    "optimizer = torch.optim.Adam(model.parameters(), lr=0.01)"
   ]
  },
  {
   "cell_type": "code",
   "execution_count": 10,
   "metadata": {
    "ExecuteTime": {
     "end_time": "2023-04-16T14:02:31.357059Z",
     "start_time": "2023-04-16T14:02:31.335915Z"
    }
   },
   "outputs": [],
   "source": [
    "def validate():\n",
    "    lossfn_valid = nn.MSELoss(reduction=\"mean\")\n",
    "    model.eval()\n",
    "    loss = torch.tensor([0]).to(device, dtype=torch.float32)\n",
    "    with torch.no_grad():\n",
    "        for i, (entry, target) in enumerate(valid_load):\n",
    "            entry = entry.to(device, dtype=torch.float32)\n",
    "            target = target.to(device, dtype=torch.float32)\n",
    "            preds = model(entry)\n",
    "            loss += lossfn_valid(preds, target) * entry.size()[0]\n",
    "\n",
    "    return loss / len(valid_set)"
   ]
  },
  {
   "cell_type": "code",
   "execution_count": 11,
   "metadata": {
    "ExecuteTime": {
     "end_time": "2023-04-16T14:02:31.405736Z",
     "start_time": "2023-04-16T14:02:31.362017Z"
    }
   },
   "outputs": [],
   "source": [
    "rmse_loss = []\n",
    "valid_loss = []\n",
    "def train(num_iter: int):\n",
    "    for epoch in range(num_iter):\n",
    "        rolling_loss = 0\n",
    "        entries = 0\n",
    "        for i, (entry, target) in enumerate(train_load):\n",
    "            model.train()\n",
    "            entry = entry.to(device, dtype=torch.float32)\n",
    "            target = target.to(device, dtype=torch.float32)\n",
    "            preds = model(entry)\n",
    "\n",
    "            optimizer.zero_grad()\n",
    "            loss = mse(preds, target) # or weighted mse\n",
    "            loss.backward()\n",
    "            optimizer.step()\n",
    "            rolling_loss += mse(preds, target) * entry.size(0)\n",
    "            entries += entry.size(0)\n",
    "            if (i + 1) % 1000 == 0 or i == 0:\n",
    "                rolling_loss /= entries\n",
    "                print(f\"[Epoch: {epoch + 1}]\\t[Iter: {i + 1}]\\t[RMSE: {torch.sqrt(rolling_loss)}]\\t[STD: {torch.std(preds).item()}]\")\n",
    "                rmse_loss.append(torch.sqrt(rolling_loss).item())\n",
    "                valid_loss.append(torch.sqrt(validate()).item())\n",
    "                entries = 0\n",
    "                rolling_loss = 0\n"
   ]
  },
  {
   "cell_type": "code",
   "execution_count": 12,
   "metadata": {
    "scrolled": false
   },
   "outputs": [
    {
     "name": "stdout",
     "output_type": "stream",
     "text": [
      "[Epoch: 1]\t[Iter: 1]\t[RMSE: 1006.3919677734375]\t[STD: 0.3617648184299469]\n",
      "[Epoch: 1]\t[Iter: 1000]\t[RMSE: 473.1615905761719]\t[STD: 179.396728515625]\n",
      "[Epoch: 1]\t[Iter: 2000]\t[RMSE: 447.7195129394531]\t[STD: 318.3050537109375]\n",
      "[Epoch: 1]\t[Iter: 3000]\t[RMSE: 458.6820373535156]\t[STD: 250.34286499023438]\n",
      "[Epoch: 1]\t[Iter: 4000]\t[RMSE: 439.86419677734375]\t[STD: 168.06307983398438]\n",
      "[Epoch: 1]\t[Iter: 5000]\t[RMSE: 442.2196960449219]\t[STD: 191.48721313476562]\n",
      "[Epoch: 1]\t[Iter: 6000]\t[RMSE: 436.3139953613281]\t[STD: 152.5717010498047]\n",
      "[Epoch: 1]\t[Iter: 7000]\t[RMSE: 439.9997253417969]\t[STD: 165.5200958251953]\n",
      "[Epoch: 1]\t[Iter: 8000]\t[RMSE: 441.57745361328125]\t[STD: 204.3330535888672]\n",
      "[Epoch: 1]\t[Iter: 9000]\t[RMSE: 432.00140380859375]\t[STD: 183.07028198242188]\n",
      "[Epoch: 1]\t[Iter: 10000]\t[RMSE: 442.86273193359375]\t[STD: 165.4134979248047]\n",
      "[Epoch: 1]\t[Iter: 11000]\t[RMSE: 433.8179626464844]\t[STD: 130.3238067626953]\n",
      "[Epoch: 1]\t[Iter: 12000]\t[RMSE: 440.5931091308594]\t[STD: 148.11878967285156]\n",
      "[Epoch: 1]\t[Iter: 13000]\t[RMSE: 437.6910400390625]\t[STD: 134.7712860107422]\n",
      "[Epoch: 1]\t[Iter: 14000]\t[RMSE: 436.4452819824219]\t[STD: 214.4464111328125]\n",
      "[Epoch: 1]\t[Iter: 15000]\t[RMSE: 431.7679748535156]\t[STD: 112.42593383789062]\n",
      "[Epoch: 1]\t[Iter: 16000]\t[RMSE: 437.83551025390625]\t[STD: 227.91744995117188]\n",
      "[Epoch: 1]\t[Iter: 17000]\t[RMSE: 438.69622802734375]\t[STD: 163.67491149902344]\n",
      "[Epoch: 1]\t[Iter: 18000]\t[RMSE: 442.2392883300781]\t[STD: 120.46507263183594]\n",
      "[Epoch: 1]\t[Iter: 19000]\t[RMSE: 436.3071594238281]\t[STD: 186.00831604003906]\n",
      "[Epoch: 1]\t[Iter: 20000]\t[RMSE: 435.0695495605469]\t[STD: 143.7498321533203]\n",
      "[Epoch: 1]\t[Iter: 21000]\t[RMSE: 437.3233337402344]\t[STD: 116.06035614013672]\n",
      "[Epoch: 1]\t[Iter: 22000]\t[RMSE: 446.9828796386719]\t[STD: 163.84169006347656]\n",
      "[Epoch: 1]\t[Iter: 23000]\t[RMSE: 438.84417724609375]\t[STD: 174.0406951904297]\n",
      "[Epoch: 1]\t[Iter: 24000]\t[RMSE: 430.7477722167969]\t[STD: 206.19053649902344]\n",
      "[Epoch: 1]\t[Iter: 25000]\t[RMSE: 433.518798828125]\t[STD: 169.44732666015625]\n",
      "[Epoch: 1]\t[Iter: 26000]\t[RMSE: 453.30126953125]\t[STD: 136.2335205078125]\n",
      "[Epoch: 1]\t[Iter: 27000]\t[RMSE: 437.3549499511719]\t[STD: 113.0007095336914]\n",
      "[Epoch: 1]\t[Iter: 28000]\t[RMSE: 429.30584716796875]\t[STD: 131.58106994628906]\n",
      "[Epoch: 1]\t[Iter: 29000]\t[RMSE: 432.0557861328125]\t[STD: 189.20590209960938]\n",
      "[Epoch: 1]\t[Iter: 30000]\t[RMSE: 440.2513122558594]\t[STD: 155.1583251953125]\n",
      "[Epoch: 1]\t[Iter: 31000]\t[RMSE: 443.8258361816406]\t[STD: 183.4368133544922]\n",
      "[Epoch: 1]\t[Iter: 32000]\t[RMSE: 427.73553466796875]\t[STD: 143.78884887695312]\n",
      "[Epoch: 1]\t[Iter: 33000]\t[RMSE: 431.3038024902344]\t[STD: 146.05406188964844]\n",
      "[Epoch: 1]\t[Iter: 34000]\t[RMSE: 433.5293884277344]\t[STD: 148.72938537597656]\n",
      "[Epoch: 1]\t[Iter: 35000]\t[RMSE: 441.08599853515625]\t[STD: 164.82920837402344]\n",
      "[Epoch: 1]\t[Iter: 36000]\t[RMSE: 430.3030090332031]\t[STD: 171.88092041015625]\n",
      "[Epoch: 1]\t[Iter: 37000]\t[RMSE: 432.35211181640625]\t[STD: 128.62197875976562]\n",
      "[Epoch: 1]\t[Iter: 38000]\t[RMSE: 423.9949035644531]\t[STD: 155.55377197265625]\n",
      "[Epoch: 1]\t[Iter: 39000]\t[RMSE: 431.6231689453125]\t[STD: 93.85612487792969]\n",
      "[Epoch: 1]\t[Iter: 40000]\t[RMSE: 426.5407409667969]\t[STD: 255.50839233398438]\n",
      "[Epoch: 1]\t[Iter: 41000]\t[RMSE: 429.0068359375]\t[STD: 162.94784545898438]\n",
      "[Epoch: 1]\t[Iter: 42000]\t[RMSE: 433.22027587890625]\t[STD: 266.8546447753906]\n",
      "[Epoch: 1]\t[Iter: 43000]\t[RMSE: 429.63543701171875]\t[STD: 139.3138885498047]\n",
      "[Epoch: 1]\t[Iter: 44000]\t[RMSE: 432.7721862792969]\t[STD: 158.09193420410156]\n",
      "[Epoch: 1]\t[Iter: 45000]\t[RMSE: 437.62030029296875]\t[STD: 169.99005126953125]\n",
      "[Epoch: 1]\t[Iter: 46000]\t[RMSE: 434.5632629394531]\t[STD: 175.02325439453125]\n"
     ]
    }
   ],
   "source": [
    "train(1)"
   ]
  },
  {
   "cell_type": "code",
   "execution_count": 13,
   "metadata": {},
   "outputs": [
    {
     "data": {
      "image/png": "[encoded data removed]",
      "text/plain": [
       "<Figure size 432x288 with 1 Axes>"
      ]
     },
     "metadata": {
      "needs_background": "light"
     },
     "output_type": "display_data"
    }
   ],
   "source": [
    "import matplotlib.pyplot as plt\n",
    "%matplotlib inline\n",
    "plt.plot(rmse_loss, label=\"training\")\n",
    "plt.plot(valid_loss, label=\"validation\")\n",
    "plt.xlabel(\"Iteration's\")\n",
    "plt.ylabel(\"RMSE Loss\")\n",
    "plt.legend()\n",
    "plt.show()"
   ]
  },
  {
   "cell_type": "code",
   "execution_count": 14,
   "metadata": {},
   "outputs": [
    {
     "data": {
      "text/plain": [
       "508.0405578613281"
      ]
     },
     "execution_count": 14,
     "metadata": {},
     "output_type": "execute_result"
    }
   ],
   "source": [
    "torch.sqrt(validate()).item()"
   ]
  },
  {
   "cell_type": "code",
   "execution_count": 15,
   "metadata": {
    "scrolled": false
   },
   "outputs": [],
   "source": [
    "model.eval()\n",
    "with torch.no_grad():\n",
    "    test = torch.from_numpy(np.loadtxt(\"../data/embed_testvf.csv\", skiprows=1, dtype=np.float32, delimiter=\",\")).to(device)\n",
    "    out = model(test)\n"
   ]
  },
  {
   "cell_type": "code",
   "execution_count": 16,
   "metadata": {
    "scrolled": false
   },
   "outputs": [
    {
     "name": "stdout",
     "output_type": "stream",
     "text": [
      "tensor([[  595.1992],\n",
      "        [  481.4519],\n",
      "        [  503.8652],\n",
      "        [  516.5054],\n",
      "        [  483.1253],\n",
      "        [  449.2710],\n",
      "        [  501.9019],\n",
      "        [  563.2676],\n",
      "        [  491.9269],\n",
      "        [  513.7612],\n",
      "        [  495.0778],\n",
      "        [  515.0652],\n",
      "        [  582.3671],\n",
      "        [  786.9874],\n",
      "        [  495.2583],\n",
      "        [  672.3882],\n",
      "        [  604.8181],\n",
      "        [  829.1578],\n",
      "        [  561.3132],\n",
      "        [  589.0206],\n",
      "        [  470.7342],\n",
      "        [  516.1517],\n",
      "        [  357.7119],\n",
      "        [  771.2283],\n",
      "        [  463.6952],\n",
      "        [  765.3706],\n",
      "        [  502.5200],\n",
      "        [  493.2202],\n",
      "        [  487.5332],\n",
      "        [  513.8613],\n",
      "        [  524.6701],\n",
      "        [  526.9084],\n",
      "        [  523.0247],\n",
      "        [  598.2922],\n",
      "        [  732.7845],\n",
      "        [  490.8768],\n",
      "        [  583.6222],\n",
      "        [  435.1229],\n",
      "        [  503.9504],\n",
      "        [  521.0700],\n",
      "        [  555.7860],\n",
      "        [  455.8601],\n",
      "        [  690.2720],\n",
      "        [  632.6428],\n",
      "        [  519.6885],\n",
      "        [  540.1182],\n",
      "        [  458.3257],\n",
      "        [  505.3116],\n",
      "        [  445.1023],\n",
      "        [  471.0464],\n",
      "        [  553.7476],\n",
      "        [  520.2934],\n",
      "        [  424.9615],\n",
      "        [  812.2925],\n",
      "        [  540.5214],\n",
      "        [  521.3600],\n",
      "        [  508.6449],\n",
      "        [  469.8693],\n",
      "        [  712.7961],\n",
      "        [  474.3599],\n",
      "        [  515.0479],\n",
      "        [  482.4171],\n",
      "        [  512.6895],\n",
      "        [  607.7244],\n",
      "        [  604.5793],\n",
      "        [  521.0477],\n",
      "        [  541.7872],\n",
      "        [  450.3740],\n",
      "        [  615.1163],\n",
      "        [  545.2424],\n",
      "        [  725.2794],\n",
      "        [  582.4255],\n",
      "        [  518.7063],\n",
      "        [  619.6613],\n",
      "        [  398.6058],\n",
      "        [  652.9870],\n",
      "        [  580.4540],\n",
      "        [  508.7945],\n",
      "        [  635.5886],\n",
      "        [  673.1253],\n",
      "        [  501.5596],\n",
      "        [  534.8200],\n",
      "        [  593.0626],\n",
      "        [  670.5837],\n",
      "        [  437.8105],\n",
      "        [  440.4895],\n",
      "        [  848.9644],\n",
      "        [  509.4862],\n",
      "        [  416.4267],\n",
      "        [  651.4343],\n",
      "        [  518.0784],\n",
      "        [  532.5058],\n",
      "        [  658.7816],\n",
      "        [  533.2770],\n",
      "        [  474.3373],\n",
      "        [  940.3775],\n",
      "        [  499.6575],\n",
      "        [  688.0609],\n",
      "        [  436.6326],\n",
      "        [  605.2205],\n",
      "        [  505.5205],\n",
      "        [  447.7634],\n",
      "        [  548.0242],\n",
      "        [  455.4205],\n",
      "        [  440.2748],\n",
      "        [  362.2493],\n",
      "        [  604.1792],\n",
      "        [  447.3973],\n",
      "        [  479.8404],\n",
      "        [  622.2539],\n",
      "        [  796.2014],\n",
      "        [  543.2538],\n",
      "        [  439.4519],\n",
      "        [  391.1066],\n",
      "        [  591.9127],\n",
      "        [  484.4790],\n",
      "        [  406.5741],\n",
      "        [  463.8413],\n",
      "        [  538.4537],\n",
      "        [  455.6212],\n",
      "        [  484.5197],\n",
      "        [  344.1704],\n",
      "        [  392.8720],\n",
      "        [  469.2073],\n",
      "        [  423.5623],\n",
      "        [  610.5925],\n",
      "        [  470.0515],\n",
      "        [  576.2729],\n",
      "        [  465.5324],\n",
      "        [  480.8871],\n",
      "        [  376.6782],\n",
      "        [  461.9413],\n",
      "        [  487.8950],\n",
      "        [  627.9520],\n",
      "        [  605.1223],\n",
      "        [  747.6726],\n",
      "        [  512.2867],\n",
      "        [  452.6687],\n",
      "        [  592.3729],\n",
      "        [  568.6763],\n",
      "        [  717.2174],\n",
      "        [  415.8408],\n",
      "        [  631.7548],\n",
      "        [  652.5543],\n",
      "        [  502.9784],\n",
      "        [  508.3569],\n",
      "        [  384.0759],\n",
      "        [  693.0660],\n",
      "        [  434.9197],\n",
      "        [  387.2309],\n",
      "        [  545.2129],\n",
      "        [  595.8369],\n",
      "        [  541.2258],\n",
      "        [28417.0430],\n",
      "        [  455.9074],\n",
      "        [  653.4059],\n",
      "        [  571.2543],\n",
      "        [  587.6975],\n",
      "        [  509.4729],\n",
      "        [  513.8083],\n",
      "        [  612.7711],\n",
      "        [  534.9595],\n",
      "        [  581.0881],\n",
      "        [  404.4648],\n",
      "        [  582.1176],\n",
      "        [  567.3980],\n",
      "        [  523.6949],\n",
      "        [  598.3364],\n",
      "        [  679.0743],\n",
      "        [  774.8484],\n",
      "        [  624.5334],\n",
      "        [  515.5086],\n",
      "        [  438.2644],\n",
      "        [  490.9500],\n",
      "        [  552.7875],\n",
      "        [  634.4655],\n",
      "        [  804.0652],\n",
      "        [  753.3862],\n",
      "        [  549.3241],\n",
      "        [  508.3626],\n",
      "        [  542.0603],\n",
      "        [  494.3255],\n",
      "        [  612.9199],\n",
      "        [  526.2643],\n",
      "        [  450.9684],\n",
      "        [  927.3186],\n",
      "        [  571.6990],\n",
      "        [  515.9241],\n",
      "        [  556.7183],\n",
      "        [  663.6582],\n",
      "        [  745.7197],\n",
      "        [  361.3350],\n",
      "        [  633.2314],\n",
      "        [  572.1115],\n",
      "        [  617.4126],\n",
      "        [  510.8727],\n",
      "        [  867.2424],\n",
      "        [  407.3199],\n",
      "        [  566.7027],\n",
      "        [  522.6324],\n",
      "        [  468.6794],\n",
      "        [  803.5854],\n",
      "        [  443.2256],\n",
      "        [ 1091.0984],\n",
      "        [  805.0368],\n",
      "        [  445.3834],\n",
      "        [  604.1577],\n",
      "        [  771.2777],\n",
      "        [  834.7839],\n",
      "        [  682.9124],\n",
      "        [  490.1263],\n",
      "        [  663.8724],\n",
      "        [  639.2593],\n",
      "        [  502.2574],\n",
      "        [  574.7347],\n",
      "        [  791.5211],\n",
      "        [  471.6371],\n",
      "        [  464.0672],\n",
      "        [  463.9546],\n",
      "        [  549.7011],\n",
      "        [  751.3311],\n",
      "        [  825.2370],\n",
      "        [  756.0643],\n",
      "        [  475.4867],\n",
      "        [  562.3020],\n",
      "        [  424.6358],\n",
      "        [  750.4182],\n",
      "        [  562.5673],\n",
      "        [  396.8203],\n",
      "        [  389.5934],\n",
      "        [  391.8552],\n",
      "        [  424.3530],\n",
      "        [  444.9354],\n",
      "        [  444.0002],\n",
      "        [  378.3857],\n",
      "        [  318.9179],\n",
      "        [  447.3443],\n",
      "        [  407.9576],\n",
      "        [  408.6855],\n",
      "        [  393.6366],\n",
      "        [  417.8279],\n",
      "        [  397.7134],\n",
      "        [  415.5937],\n",
      "        [  463.6483],\n",
      "        [  386.5191],\n",
      "        [  426.1066],\n",
      "        [  449.6814],\n",
      "        [  383.8514],\n",
      "        [  607.8470],\n",
      "        [  452.2528],\n",
      "        [  466.5404],\n",
      "        [  358.7578],\n",
      "        [  451.1777],\n",
      "        [  444.3892],\n",
      "        [  811.3457],\n",
      "        [  483.8592],\n",
      "        [  410.8832],\n",
      "        [  386.2736],\n",
      "        [  442.1531],\n",
      "        [  519.7629],\n",
      "        [  406.6482],\n",
      "        [  463.0875],\n",
      "        [  377.8647],\n",
      "        [  593.4325],\n",
      "        [  421.1730],\n",
      "        [  345.0421],\n",
      "        [  396.9275],\n",
      "        [  423.4086],\n",
      "        [  387.0902],\n",
      "        [  468.8513],\n",
      "        [  465.4847],\n",
      "        [  406.1601],\n",
      "        [  404.2338],\n",
      "        [  290.4044],\n",
      "        [  416.5707],\n",
      "        [  367.4949],\n",
      "        [  428.6852],\n",
      "        [  465.5782],\n",
      "        [  372.7299],\n",
      "        [  528.8926],\n",
      "        [  403.8390],\n",
      "        [  324.1176],\n",
      "        [  496.5601],\n",
      "        [  378.7983],\n",
      "        [  372.0948],\n",
      "        [  431.3878],\n",
      "        [  374.9001],\n",
      "        [  697.5527],\n",
      "        [  384.4322],\n",
      "        [  387.5485],\n",
      "        [  338.1189],\n",
      "        [  503.9286],\n",
      "        [  473.3092],\n",
      "        [  500.3182],\n",
      "        [  526.5817],\n",
      "        [  574.7300],\n",
      "        [  425.4997],\n",
      "        [  370.5826],\n",
      "        [  514.8131],\n",
      "        [  402.0385],\n",
      "        [  578.1067],\n",
      "        [  379.3566],\n",
      "        [  436.5119],\n",
      "        [  814.5234],\n",
      "        [  483.8080],\n",
      "        [  451.5921],\n",
      "        [  498.9928],\n",
      "        [  489.3632],\n",
      "        [  728.3012],\n",
      "        [  324.5379],\n",
      "        [  544.2661],\n",
      "        [  461.1811],\n",
      "        [  421.5283],\n",
      "        [  490.9740],\n",
      "        [  439.3053],\n",
      "        [  530.2706],\n",
      "        [  386.1236],\n",
      "        [  471.8861],\n",
      "        [  400.1602],\n",
      "        [  706.8621]], device='cuda:0')\n"
     ]
    }
   ],
   "source": [
    "print(out)"
   ]
  },
  {
   "cell_type": "code",
   "execution_count": null,
   "metadata": {},
   "outputs": [],
   "source": []
  }
 ],
 "metadata": {
  "kernelspec": {
   "display_name": "Python 3 (ipykernel)",
   "language": "python",
   "name": "python3"
  },
  "language_info": {
   "codemirror_mode": {
    "name": "ipython",
    "version": 3
   },
   "file_extension": ".py",
   "mimetype": "text/x-python",
   "name": "python",
   "nbconvert_exporter": "python",
   "pygments_lexer": "ipython3",
   "version": "3.9.7"
  }
 },
 "nbformat": 4,
 "nbformat_minor": 1
}
