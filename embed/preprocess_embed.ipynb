{
 "cells": [
  {
   "cell_type": "code",
   "execution_count": 1,
   "metadata": {
    "ExecuteTime": {
     "end_time": "2023-05-13T11:56:53.663507Z",
     "start_time": "2023-05-13T11:56:53.651222Z"
    },
    "collapsed": true
   },
   "outputs": [],
   "source": [
    "import pandas as pd\n",
    "from sklearn import preprocessing, metrics\n",
    "import numpy as np\n",
    "from datetime import datetime\n",
    "import ast"
   ]
  },
  {
   "cell_type": "code",
   "execution_count": 2,
   "metadata": {
    "ExecuteTime": {
     "end_time": "2023-05-13T12:48:25.769296Z",
     "start_time": "2023-05-13T12:47:59.249417Z"
    },
    "collapsed": false
   },
   "outputs": [],
   "source": [
    "df_train: pd.DataFrame = pd.read_csv(\"../data/train.csv\")\n",
    "df_test: pd.DataFrame = pd.read_csv(\"../data/test_public.csv\")\n",
    "df_meta: pd.DataFrame = pd.read_csv(\"../data/metaData_taxistandsID_name_GPSlocation.csv\")"
   ]
  },
  {
   "cell_type": "markdown",
   "metadata": {
    "collapsed": false
   },
   "source": [
    "### Get starting coordinates"
   ]
  },
  {
   "cell_type": "code",
   "execution_count": 3,
   "metadata": {
    "ExecuteTime": {
     "end_time": "2023-05-13T12:31:29.901019Z",
     "start_time": "2023-05-13T12:31:29.822971Z"
    },
    "collapsed": false
   },
   "outputs": [],
   "source": [
    "def parse_row_polyline():\n",
    "    start_coords = np.zeros((len(df_train), 2))\n",
    "    end_coords = np.zeros((len(df_train), 2))\n",
    "    for i in range(len(df_train)):\n",
    "        row = ast.literal_eval(df_train.iloc[i][\"POLYLINE\"])\n",
    "        if len(row) == 0:\n",
    "            continue\n",
    "        start_coords[i] = row[0]\n",
    "        end_coords[i] = row[-1]\n",
    "    return start_coords, end_coords\n",
    "\n",
    "# start_coords, end_coords = parse_row_polyline()\n",
    "# np.save(\"start_full.npy\", start_coords)\n",
    "# np.save(\"end_full.npy\", end_coords)\n",
    "start_coords = np.load(\"../start_full.npy\")\n",
    "end_coords = np.load(\"../end_full.npy\")\n"
   ]
  },
  {
   "cell_type": "code",
   "execution_count": 4,
   "metadata": {
    "ExecuteTime": {
     "end_time": "2023-05-13T12:49:00.822435Z",
     "start_time": "2023-05-13T12:49:00.736097Z"
    },
    "collapsed": false
   },
   "outputs": [],
   "source": [
    "df_train[\"START_LONG\"] = start_coords[:, 0]\n",
    "df_train[\"START_LAT\"] = start_coords[:, 1]\n",
    "df_train[\"END_LONG\"] = end_coords[:, 0]\n",
    "df_train[\"END_LAT\"] = end_coords[:, 1]"
   ]
  },
  {
   "cell_type": "code",
   "execution_count": 5,
   "metadata": {
    "ExecuteTime": {
     "end_time": "2023-05-13T12:54:48.702574Z",
     "start_time": "2023-05-13T12:54:48.633772Z"
    },
    "collapsed": false
   },
   "outputs": [
    {
     "data": {
      "text/html": [
       "<div>\n",
       "<style scoped>\n",
       "    .dataframe tbody tr th:only-of-type {\n",
       "        vertical-align: middle;\n",
       "    }\n",
       "\n",
       "    .dataframe tbody tr th {\n",
       "        vertical-align: top;\n",
       "    }\n",
       "\n",
       "    .dataframe thead th {\n",
       "        text-align: right;\n",
       "    }\n",
       "</style>\n",
       "<table border=\"1\" class=\"dataframe\">\n",
       "  <thead>\n",
       "    <tr style=\"text-align: right;\">\n",
       "      <th></th>\n",
       "      <th>TRIP_ID</th>\n",
       "      <th>CALL_TYPE</th>\n",
       "      <th>ORIGIN_CALL</th>\n",
       "      <th>ORIGIN_STAND</th>\n",
       "      <th>TAXI_ID</th>\n",
       "      <th>TIMESTAMP</th>\n",
       "      <th>DAY_TYPE</th>\n",
       "      <th>MISSING_DATA</th>\n",
       "      <th>POLYLINE</th>\n",
       "      <th>START_LONG</th>\n",
       "      <th>START_LAT</th>\n",
       "      <th>END_LONG</th>\n",
       "      <th>END_LAT</th>\n",
       "    </tr>\n",
       "  </thead>\n",
       "  <tbody>\n",
       "    <tr>\n",
       "      <th>0</th>\n",
       "      <td>1372636858620000589</td>\n",
       "      <td>C</td>\n",
       "      <td>NaN</td>\n",
       "      <td>NaN</td>\n",
       "      <td>20000589</td>\n",
       "      <td>1372636858</td>\n",
       "      <td>A</td>\n",
       "      <td>False</td>\n",
       "      <td>[[-8.618643,41.141412],[-8.618499,41.141376],[...</td>\n",
       "      <td>-8.618643</td>\n",
       "      <td>41.141412</td>\n",
       "      <td>-8.630838</td>\n",
       "      <td>41.154489</td>\n",
       "    </tr>\n",
       "    <tr>\n",
       "      <th>1</th>\n",
       "      <td>1372637303620000596</td>\n",
       "      <td>B</td>\n",
       "      <td>NaN</td>\n",
       "      <td>7.0</td>\n",
       "      <td>20000596</td>\n",
       "      <td>1372637303</td>\n",
       "      <td>A</td>\n",
       "      <td>False</td>\n",
       "      <td>[[-8.639847,41.159826],[-8.640351,41.159871],[...</td>\n",
       "      <td>-8.639847</td>\n",
       "      <td>41.159826</td>\n",
       "      <td>-8.665740</td>\n",
       "      <td>41.170671</td>\n",
       "    </tr>\n",
       "    <tr>\n",
       "      <th>2</th>\n",
       "      <td>1372636951620000320</td>\n",
       "      <td>C</td>\n",
       "      <td>NaN</td>\n",
       "      <td>NaN</td>\n",
       "      <td>20000320</td>\n",
       "      <td>1372636951</td>\n",
       "      <td>A</td>\n",
       "      <td>False</td>\n",
       "      <td>[[-8.612964,41.140359],[-8.613378,41.14035],[-...</td>\n",
       "      <td>-8.612964</td>\n",
       "      <td>41.140359</td>\n",
       "      <td>-8.615970</td>\n",
       "      <td>41.140530</td>\n",
       "    </tr>\n",
       "    <tr>\n",
       "      <th>3</th>\n",
       "      <td>1372636854620000520</td>\n",
       "      <td>C</td>\n",
       "      <td>NaN</td>\n",
       "      <td>NaN</td>\n",
       "      <td>20000520</td>\n",
       "      <td>1372636854</td>\n",
       "      <td>A</td>\n",
       "      <td>False</td>\n",
       "      <td>[[-8.574678,41.151951],[-8.574705,41.151942],[...</td>\n",
       "      <td>-8.574678</td>\n",
       "      <td>41.151951</td>\n",
       "      <td>-8.607996</td>\n",
       "      <td>41.142915</td>\n",
       "    </tr>\n",
       "    <tr>\n",
       "      <th>4</th>\n",
       "      <td>1372637091620000337</td>\n",
       "      <td>C</td>\n",
       "      <td>NaN</td>\n",
       "      <td>NaN</td>\n",
       "      <td>20000337</td>\n",
       "      <td>1372637091</td>\n",
       "      <td>A</td>\n",
       "      <td>False</td>\n",
       "      <td>[[-8.645994,41.18049],[-8.645949,41.180517],[-...</td>\n",
       "      <td>-8.645994</td>\n",
       "      <td>41.180490</td>\n",
       "      <td>-8.687268</td>\n",
       "      <td>41.178087</td>\n",
       "    </tr>\n",
       "  </tbody>\n",
       "</table>\n",
       "</div>"
      ],
      "text/plain": [
       "               TRIP_ID CALL_TYPE  ORIGIN_CALL  ORIGIN_STAND   TAXI_ID  \\\n",
       "0  1372636858620000589         C          NaN           NaN  20000589   \n",
       "1  1372637303620000596         B          NaN           7.0  20000596   \n",
       "2  1372636951620000320         C          NaN           NaN  20000320   \n",
       "3  1372636854620000520         C          NaN           NaN  20000520   \n",
       "4  1372637091620000337         C          NaN           NaN  20000337   \n",
       "\n",
       "    TIMESTAMP DAY_TYPE  MISSING_DATA  \\\n",
       "0  1372636858        A         False   \n",
       "1  1372637303        A         False   \n",
       "2  1372636951        A         False   \n",
       "3  1372636854        A         False   \n",
       "4  1372637091        A         False   \n",
       "\n",
       "                                            POLYLINE  START_LONG  START_LAT  \\\n",
       "0  [[-8.618643,41.141412],[-8.618499,41.141376],[...   -8.618643  41.141412   \n",
       "1  [[-8.639847,41.159826],[-8.640351,41.159871],[...   -8.639847  41.159826   \n",
       "2  [[-8.612964,41.140359],[-8.613378,41.14035],[-...   -8.612964  41.140359   \n",
       "3  [[-8.574678,41.151951],[-8.574705,41.151942],[...   -8.574678  41.151951   \n",
       "4  [[-8.645994,41.18049],[-8.645949,41.180517],[-...   -8.645994  41.180490   \n",
       "\n",
       "   END_LONG    END_LAT  \n",
       "0 -8.630838  41.154489  \n",
       "1 -8.665740  41.170671  \n",
       "2 -8.615970  41.140530  \n",
       "3 -8.607996  41.142915  \n",
       "4 -8.687268  41.178087  "
      ]
     },
     "execution_count": 5,
     "metadata": {},
     "output_type": "execute_result"
    }
   ],
   "source": [
    "df_train.head()"
   ]
  },
  {
   "cell_type": "code",
   "execution_count": 6,
   "metadata": {
    "ExecuteTime": {
     "end_time": "2023-05-13T12:56:18.486151Z",
     "start_time": "2023-05-13T12:56:18.148639Z"
    },
    "collapsed": false
   },
   "outputs": [],
   "source": [
    "import matplotlib.pyplot as plt\n",
    "central_long = df_train[df_train[\"CALL_TYPE\"] == \"A\"][\"START_LONG\"].median()\n",
    "central_lat = df_train[df_train[\"CALL_TYPE\"] == \"A\"][\"START_LAT\"].median()"
   ]
  },
  {
   "cell_type": "markdown",
   "metadata": {
    "collapsed": false
   },
   "source": [
    "### Delete useless rows/Columns"
   ]
  },
  {
   "cell_type": "code",
   "execution_count": 7,
   "metadata": {
    "ExecuteTime": {
     "end_time": "2023-05-13T12:58:14.120649Z",
     "start_time": "2023-05-13T12:58:12.292205Z"
    },
    "collapsed": false
   },
   "outputs": [],
   "source": [
    "# Remove rows with MISSING_DATA == true\n",
    "df_train.drop(df_train[df_train[\"MISSING_DATA\"] == True].index, inplace=True)\n",
    "df_train.drop(labels=\"MISSING_DATA\", axis=1, inplace=True)\n",
    "# Not really necessary to remove rows for test set, do remove columns though :)\n",
    "df_test.drop(labels=\"MISSING_DATA\", axis=1, inplace=True)\n",
    "\n",
    "# Delete column DAY_TYPE\n",
    "df_train.drop(labels=\"DAY_TYPE\", axis=1, inplace=True)\n",
    "df_test.drop(labels=\"DAY_TYPE\", axis=1, inplace=True)\n",
    "\n",
    "# Delete column TRIP_ID\n",
    "df_train.drop(labels=\"TRIP_ID\", axis=1, inplace=True)\n",
    "df_test.drop(labels=\"TRIP_ID\", axis=1, inplace=True)\n"
   ]
  },
  {
   "cell_type": "markdown",
   "metadata": {
    "collapsed": false
   },
   "source": [
    "### Encode categorical"
   ]
  },
  {
   "cell_type": "code",
   "execution_count": 8,
   "metadata": {
    "ExecuteTime": {
     "end_time": "2023-05-13T12:58:23.477086Z",
     "start_time": "2023-05-13T12:58:21.629851Z"
    },
    "collapsed": false
   },
   "outputs": [],
   "source": [
    "# one-hot encoding for call types\n",
    "df_train = df_train.join(pd.get_dummies(df_train[\"CALL_TYPE\"]))\n",
    "df_train.drop(labels=\"CALL_TYPE\", axis=1, inplace=True)\n",
    "\n",
    "df_test = df_test.join(pd.get_dummies(df_test[\"CALL_TYPE\"]))\n",
    "df_test.drop(labels=\"CALL_TYPE\", axis=1, inplace=True)"
   ]
  },
  {
   "cell_type": "code",
   "execution_count": 9,
   "metadata": {
    "ExecuteTime": {
     "end_time": "2023-05-13T13:01:49.917489Z",
     "start_time": "2023-05-13T13:01:49.589899Z"
    },
    "collapsed": false
   },
   "outputs": [],
   "source": [
    "# Taxi id's -> indices\n",
    "LE_TAXI_ID = preprocessing.LabelEncoder()\n",
    "LE_TAXI_ID.fit(df_train[\"TAXI_ID\"])\n",
    "df_train[\"TAXI_ID\"] = LE_TAXI_ID.transform(df_train[\"TAXI_ID\"])\n",
    "\n",
    "df_test[\"TAXI_ID\"] = LE_TAXI_ID.transform(df_test[\"TAXI_ID\"])"
   ]
  },
  {
   "cell_type": "code",
   "execution_count": 10,
   "metadata": {
    "ExecuteTime": {
     "end_time": "2023-05-13T13:03:18.531121Z",
     "start_time": "2023-05-13T13:03:16.741412Z"
    },
    "collapsed": false
   },
   "outputs": [
    {
     "name": "stderr",
     "output_type": "stream",
     "text": [
      "C:\\Users\\benjx\\AppData\\Local\\Temp/ipykernel_5836/2795008712.py:10: SettingWithCopyWarning: \n",
      "A value is trying to be set on a copy of a slice from a DataFrame\n",
      "\n",
      "See the caveats in the documentation: https://pandas.pydata.org/pandas-docs/stable/user_guide/indexing.html#returning-a-view-versus-a-copy\n",
      "  new_col[i] = 0\n"
     ]
    }
   ],
   "source": [
    "# ORIGIN_CALL's -> indices\n",
    "df_train.at[pd.isna(df_train[\"ORIGIN_CALL\"]) == True, \"ORIGIN_CALL\"] = 0\n",
    "val_cnt = df_train[\"ORIGIN_CALL\"].value_counts().to_dict()\n",
    "df_train[\"ORIGIN_CALL\"] = df_train[\"ORIGIN_CALL\"].map(lambda x : x  if val_cnt[x] > 1 else 0 )\n",
    "\n",
    "# Only give ORIGIN_CALL's that appear more than once any special treatment in indexing\n",
    "multi_occurences = set(df_train[\"ORIGIN_CALL\"].unique())\n",
    "new_col = df_test[\"ORIGIN_CALL\"]\n",
    "for i, x in enumerate(new_col):\n",
    "    if x not in multi_occurences:\n",
    "        new_col[i] = 0\n",
    "\n",
    "df_test[\"ORIGIN_CALL\"] = new_col\n",
    "\n",
    "LE_ORIGIN_CALL = preprocessing.LabelEncoder()\n",
    "LE_ORIGIN_CALL.fit(df_train[\"ORIGIN_CALL\"])\n",
    "df_train[\"ORIGIN_CALL\"] = LE_ORIGIN_CALL.transform(df_train[\"ORIGIN_CALL\"])\n",
    "df_test[\"ORIGIN_CALL\"] = LE_ORIGIN_CALL.transform(df_test[\"ORIGIN_CALL\"])\n"
   ]
  },
  {
   "cell_type": "code",
   "execution_count": 11,
   "metadata": {
    "ExecuteTime": {
     "end_time": "2023-05-13T13:04:31.869892Z",
     "start_time": "2023-05-13T13:04:31.831460Z"
    },
    "collapsed": false
   },
   "outputs": [
    {
     "data": {
      "text/plain": [
       "0        1373970\n",
       "2          57571\n",
       "29025       6406\n",
       "1           2499\n",
       "6056        1314\n",
       "          ...   \n",
       "28761          2\n",
       "23433          2\n",
       "24686          2\n",
       "656            2\n",
       "28680          2\n",
       "Name: ORIGIN_CALL, Length: 29027, dtype: int64"
      ]
     },
     "execution_count": 11,
     "metadata": {},
     "output_type": "execute_result"
    }
   ],
   "source": [
    "df_train[\"ORIGIN_CALL\"].value_counts()"
   ]
  },
  {
   "cell_type": "code",
   "execution_count": 12,
   "metadata": {
    "ExecuteTime": {
     "end_time": "2023-05-13T13:07:07.660520Z",
     "start_time": "2023-05-13T13:07:07.393930Z"
    },
    "collapsed": false
   },
   "outputs": [],
   "source": [
    "# Encode ORIGIN_STAND\n",
    "LE_ORIGIN_STAND = preprocessing.LabelEncoder()\n",
    "LE_ORIGIN_STAND.fit(df_train[\"ORIGIN_STAND\"])\n",
    "df_train[\"ORIGIN_STAND\"] = LE_ORIGIN_STAND.transform(df_train[\"ORIGIN_STAND\"])\n",
    "df_test[\"ORIGIN_STAND\"] = LE_ORIGIN_STAND.transform(df_test[\"ORIGIN_STAND\"])"
   ]
  },
  {
   "cell_type": "markdown",
   "metadata": {
    "collapsed": false
   },
   "source": [
    "### Datetime"
   ]
  },
  {
   "cell_type": "code",
   "execution_count": 13,
   "metadata": {
    "ExecuteTime": {
     "end_time": "2023-05-13T13:05:42.412125Z",
     "start_time": "2023-05-13T13:05:34.232973Z"
    },
    "collapsed": false
   },
   "outputs": [],
   "source": [
    "df_train[\"YEAR\"] = df_train[\"TIMESTAMP\"].apply(lambda x: datetime.fromtimestamp(x).year)\n",
    "df_train[\"WK_OF_YR\"] = df_train[\"TIMESTAMP\"].apply(lambda x: datetime.fromtimestamp(x).isocalendar().week)\n",
    "df_train[\"WK_DAY\"] = df_train[\"TIMESTAMP\"].apply(lambda x: datetime.fromtimestamp(x).weekday()) # WHY ARE YOU LIKE THIS??? ALL THE OTHERS ARE FIELDS\n",
    "df_train[\"HR\"] = df_train[\"TIMESTAMP\"].apply(lambda x: datetime.fromtimestamp(x).hour)\n",
    "# df_train.drop(labels=\"TIMESTAMP\", axis=1, inplace=True)\n",
    "\n",
    "\n",
    "df_test[\"YEAR\"] = df_test[\"TIMESTAMP\"].apply(lambda x: datetime.fromtimestamp(x).year)\n",
    "df_test[\"WK_OF_YR\"] = df_test[\"TIMESTAMP\"].apply(lambda x: datetime.fromtimestamp(x).isocalendar().week)\n",
    "df_test[\"WK_DAY\"] = df_test[\"TIMESTAMP\"].apply(lambda x: datetime.fromtimestamp(x).weekday()) # WHY ARE YOU LIKE THIS??? ALL THE OTHERS ARE FIELDS\n",
    "df_test[\"HR\"] = df_test[\"TIMESTAMP\"].apply(lambda x: datetime.fromtimestamp(x).hour)\n",
    "# df_test.drop(labels=\"TIMESTAMP\", axis=1, inplace=True)\n",
    "# TODO: use timestamps for nearest neighbors coordinate estimation in test set instead of whatever this is\n",
    "# TODO: drop TIMESTAMP column later after nearest neighbor stuff"
   ]
  },
  {
   "attachments": {},
   "cell_type": "markdown",
   "metadata": {},
   "source": [
    "### Encode datetime"
   ]
  },
  {
   "cell_type": "code",
   "execution_count": 19,
   "metadata": {},
   "outputs": [],
   "source": [
    "LE_year = preprocessing.LabelEncoder()\n",
    "LE_year.fit(df_train[\"YEAR\"])\n",
    "df_train[\"YEAR\"] = LE_year.transform(df_train[\"YEAR\"])\n",
    "df_test[\"YEAR\"] = LE_year.transform(df_test[\"YEAR\"])\n",
    "\n",
    "LE_wk_of_yr = preprocessing.LabelEncoder()\n",
    "LE_wk_of_yr.fit(df_train[\"WK_OF_YR\"])\n",
    "df_train[\"WK_OF_YR\"] = LE_wk_of_yr.transform(df_train[\"WK_OF_YR\"])\n",
    "df_test[\"WK_OF_YR\"] = LE_wk_of_yr.transform(df_test[\"WK_OF_YR\"])\n",
    "\n",
    "LE_wkday = preprocessing.LabelEncoder()\n",
    "LE_wkday.fit(df_train[\"WK_DAY\"])\n",
    "df_train[\"WK_DAY\"] = LE_wkday.transform(df_train[\"WK_DAY\"])\n",
    "df_test[\"WK_DAY\"] = LE_wkday.transform(df_test[\"WK_DAY\"])\n",
    "\n",
    "LE_hr = preprocessing.LabelEncoder()\n",
    "LE_hr.fit(df_train[\"HR\"])\n",
    "df_train[\"HR\"] = LE_hr.transform(df_train[\"HR\"])\n",
    "df_test[\"HR\"] = LE_hr.transform(df_test[\"HR\"])"
   ]
  },
  {
   "cell_type": "markdown",
   "metadata": {
    "collapsed": false
   },
   "source": [
    "### Create target column"
   ]
  },
  {
   "cell_type": "code",
   "execution_count": 14,
   "metadata": {
    "ExecuteTime": {
     "end_time": "2023-05-13T13:06:11.043996Z",
     "start_time": "2023-05-13T13:06:06.206416Z"
    },
    "collapsed": false
   },
   "outputs": [],
   "source": [
    "df_train[\"TARGET\"] = df_train[\"POLYLINE\"].apply(lambda x : 15 * max(x.count(\"[\") - 1, 0))\n",
    "df_train.drop(labels=\"POLYLINE\", axis=1, inplace=True)"
   ]
  },
  {
   "cell_type": "code",
   "execution_count": 22,
   "metadata": {
    "ExecuteTime": {
     "end_time": "2023-05-13T13:07:35.171265Z",
     "start_time": "2023-05-13T13:07:35.108395Z"
    },
    "collapsed": false
   },
   "outputs": [
    {
     "data": {
      "text/html": [
       "<div>\n",
       "<style scoped>\n",
       "    .dataframe tbody tr th:only-of-type {\n",
       "        vertical-align: middle;\n",
       "    }\n",
       "\n",
       "    .dataframe tbody tr th {\n",
       "        vertical-align: top;\n",
       "    }\n",
       "\n",
       "    .dataframe thead th {\n",
       "        text-align: right;\n",
       "    }\n",
       "</style>\n",
       "<table border=\"1\" class=\"dataframe\">\n",
       "  <thead>\n",
       "    <tr style=\"text-align: right;\">\n",
       "      <th></th>\n",
       "      <th>ORIGIN_CALL</th>\n",
       "      <th>ORIGIN_STAND</th>\n",
       "      <th>TAXI_ID</th>\n",
       "      <th>TIMESTAMP</th>\n",
       "      <th>START_LONG</th>\n",
       "      <th>START_LAT</th>\n",
       "      <th>END_LONG</th>\n",
       "      <th>END_LAT</th>\n",
       "      <th>A</th>\n",
       "      <th>B</th>\n",
       "      <th>C</th>\n",
       "      <th>YEAR</th>\n",
       "      <th>WK_OF_YR</th>\n",
       "      <th>WK_DAY</th>\n",
       "      <th>HR</th>\n",
       "      <th>TARGET</th>\n",
       "    </tr>\n",
       "  </thead>\n",
       "  <tbody>\n",
       "    <tr>\n",
       "      <th>0</th>\n",
       "      <td>0</td>\n",
       "      <td>63</td>\n",
       "      <td>367</td>\n",
       "      <td>1372636858</td>\n",
       "      <td>-8.618643</td>\n",
       "      <td>41.141412</td>\n",
       "      <td>-8.630838</td>\n",
       "      <td>41.154489</td>\n",
       "      <td>0</td>\n",
       "      <td>0</td>\n",
       "      <td>1</td>\n",
       "      <td>0</td>\n",
       "      <td>25</td>\n",
       "      <td>6</td>\n",
       "      <td>17</td>\n",
       "      <td>345</td>\n",
       "    </tr>\n",
       "    <tr>\n",
       "      <th>1</th>\n",
       "      <td>0</td>\n",
       "      <td>6</td>\n",
       "      <td>371</td>\n",
       "      <td>1372637303</td>\n",
       "      <td>-8.639847</td>\n",
       "      <td>41.159826</td>\n",
       "      <td>-8.665740</td>\n",
       "      <td>41.170671</td>\n",
       "      <td>0</td>\n",
       "      <td>1</td>\n",
       "      <td>0</td>\n",
       "      <td>0</td>\n",
       "      <td>25</td>\n",
       "      <td>6</td>\n",
       "      <td>17</td>\n",
       "      <td>285</td>\n",
       "    </tr>\n",
       "    <tr>\n",
       "      <th>2</th>\n",
       "      <td>0</td>\n",
       "      <td>63</td>\n",
       "      <td>204</td>\n",
       "      <td>1372636951</td>\n",
       "      <td>-8.612964</td>\n",
       "      <td>41.140359</td>\n",
       "      <td>-8.615970</td>\n",
       "      <td>41.140530</td>\n",
       "      <td>0</td>\n",
       "      <td>0</td>\n",
       "      <td>1</td>\n",
       "      <td>0</td>\n",
       "      <td>25</td>\n",
       "      <td>6</td>\n",
       "      <td>17</td>\n",
       "      <td>975</td>\n",
       "    </tr>\n",
       "    <tr>\n",
       "      <th>3</th>\n",
       "      <td>0</td>\n",
       "      <td>63</td>\n",
       "      <td>330</td>\n",
       "      <td>1372636854</td>\n",
       "      <td>-8.574678</td>\n",
       "      <td>41.151951</td>\n",
       "      <td>-8.607996</td>\n",
       "      <td>41.142915</td>\n",
       "      <td>0</td>\n",
       "      <td>0</td>\n",
       "      <td>1</td>\n",
       "      <td>0</td>\n",
       "      <td>25</td>\n",
       "      <td>6</td>\n",
       "      <td>17</td>\n",
       "      <td>645</td>\n",
       "    </tr>\n",
       "    <tr>\n",
       "      <th>4</th>\n",
       "      <td>0</td>\n",
       "      <td>63</td>\n",
       "      <td>217</td>\n",
       "      <td>1372637091</td>\n",
       "      <td>-8.645994</td>\n",
       "      <td>41.180490</td>\n",
       "      <td>-8.687268</td>\n",
       "      <td>41.178087</td>\n",
       "      <td>0</td>\n",
       "      <td>0</td>\n",
       "      <td>1</td>\n",
       "      <td>0</td>\n",
       "      <td>25</td>\n",
       "      <td>6</td>\n",
       "      <td>17</td>\n",
       "      <td>435</td>\n",
       "    </tr>\n",
       "  </tbody>\n",
       "</table>\n",
       "</div>"
      ],
      "text/plain": [
       "   ORIGIN_CALL  ORIGIN_STAND  TAXI_ID   TIMESTAMP  START_LONG  START_LAT  \\\n",
       "0            0            63      367  1372636858   -8.618643  41.141412   \n",
       "1            0             6      371  1372637303   -8.639847  41.159826   \n",
       "2            0            63      204  1372636951   -8.612964  41.140359   \n",
       "3            0            63      330  1372636854   -8.574678  41.151951   \n",
       "4            0            63      217  1372637091   -8.645994  41.180490   \n",
       "\n",
       "   END_LONG    END_LAT  A  B  C  YEAR  WK_OF_YR  WK_DAY  HR  TARGET  \n",
       "0 -8.630838  41.154489  0  0  1     0        25       6  17     345  \n",
       "1 -8.665740  41.170671  0  1  0     0        25       6  17     285  \n",
       "2 -8.615970  41.140530  0  0  1     0        25       6  17     975  \n",
       "3 -8.607996  41.142915  0  0  1     0        25       6  17     645  \n",
       "4 -8.687268  41.178087  0  0  1     0        25       6  17     435  "
      ]
     },
     "execution_count": 22,
     "metadata": {},
     "output_type": "execute_result"
    }
   ],
   "source": [
    "df_train.head()"
   ]
  },
  {
   "cell_type": "code",
   "execution_count": 23,
   "metadata": {
    "ExecuteTime": {
     "end_time": "2023-05-13T13:08:39.161267Z",
     "start_time": "2023-05-13T13:08:39.149074Z"
    },
    "collapsed": false
   },
   "outputs": [
    {
     "data": {
      "text/html": [
       "<div>\n",
       "<style scoped>\n",
       "    .dataframe tbody tr th:only-of-type {\n",
       "        vertical-align: middle;\n",
       "    }\n",
       "\n",
       "    .dataframe tbody tr th {\n",
       "        vertical-align: top;\n",
       "    }\n",
       "\n",
       "    .dataframe thead th {\n",
       "        text-align: right;\n",
       "    }\n",
       "</style>\n",
       "<table border=\"1\" class=\"dataframe\">\n",
       "  <thead>\n",
       "    <tr style=\"text-align: right;\">\n",
       "      <th></th>\n",
       "      <th>ORIGIN_CALL</th>\n",
       "      <th>ORIGIN_STAND</th>\n",
       "      <th>TAXI_ID</th>\n",
       "      <th>TIMESTAMP</th>\n",
       "      <th>A</th>\n",
       "      <th>B</th>\n",
       "      <th>C</th>\n",
       "      <th>YEAR</th>\n",
       "      <th>WK_OF_YR</th>\n",
       "      <th>WK_DAY</th>\n",
       "      <th>HR</th>\n",
       "    </tr>\n",
       "  </thead>\n",
       "  <tbody>\n",
       "    <tr>\n",
       "      <th>0</th>\n",
       "      <td>0</td>\n",
       "      <td>14</td>\n",
       "      <td>342</td>\n",
       "      <td>1408039037</td>\n",
       "      <td>0</td>\n",
       "      <td>1</td>\n",
       "      <td>0</td>\n",
       "      <td>1</td>\n",
       "      <td>32</td>\n",
       "      <td>3</td>\n",
       "      <td>10</td>\n",
       "    </tr>\n",
       "    <tr>\n",
       "      <th>1</th>\n",
       "      <td>0</td>\n",
       "      <td>56</td>\n",
       "      <td>78</td>\n",
       "      <td>1408038611</td>\n",
       "      <td>0</td>\n",
       "      <td>1</td>\n",
       "      <td>0</td>\n",
       "      <td>1</td>\n",
       "      <td>32</td>\n",
       "      <td>3</td>\n",
       "      <td>10</td>\n",
       "    </tr>\n",
       "    <tr>\n",
       "      <th>2</th>\n",
       "      <td>0</td>\n",
       "      <td>14</td>\n",
       "      <td>239</td>\n",
       "      <td>1408038568</td>\n",
       "      <td>0</td>\n",
       "      <td>1</td>\n",
       "      <td>0</td>\n",
       "      <td>1</td>\n",
       "      <td>32</td>\n",
       "      <td>3</td>\n",
       "      <td>10</td>\n",
       "    </tr>\n",
       "    <tr>\n",
       "      <th>3</th>\n",
       "      <td>0</td>\n",
       "      <td>52</td>\n",
       "      <td>309</td>\n",
       "      <td>1408039090</td>\n",
       "      <td>0</td>\n",
       "      <td>1</td>\n",
       "      <td>0</td>\n",
       "      <td>1</td>\n",
       "      <td>32</td>\n",
       "      <td>3</td>\n",
       "      <td>10</td>\n",
       "    </tr>\n",
       "    <tr>\n",
       "      <th>4</th>\n",
       "      <td>0</td>\n",
       "      <td>17</td>\n",
       "      <td>393</td>\n",
       "      <td>1408039177</td>\n",
       "      <td>0</td>\n",
       "      <td>1</td>\n",
       "      <td>0</td>\n",
       "      <td>1</td>\n",
       "      <td>32</td>\n",
       "      <td>3</td>\n",
       "      <td>10</td>\n",
       "    </tr>\n",
       "  </tbody>\n",
       "</table>\n",
       "</div>"
      ],
      "text/plain": [
       "   ORIGIN_CALL  ORIGIN_STAND  TAXI_ID   TIMESTAMP  A  B  C  YEAR  WK_OF_YR  \\\n",
       "0            0            14      342  1408039037  0  1  0     1        32   \n",
       "1            0            56       78  1408038611  0  1  0     1        32   \n",
       "2            0            14      239  1408038568  0  1  0     1        32   \n",
       "3            0            52      309  1408039090  0  1  0     1        32   \n",
       "4            0            17      393  1408039177  0  1  0     1        32   \n",
       "\n",
       "   WK_DAY  HR  \n",
       "0       3  10  \n",
       "1       3  10  \n",
       "2       3  10  \n",
       "3       3  10  \n",
       "4       3  10  "
      ]
     },
     "execution_count": 23,
     "metadata": {},
     "output_type": "execute_result"
    }
   ],
   "source": [
    "df_test.head()"
   ]
  },
  {
   "cell_type": "code",
   "execution_count": 25,
   "metadata": {
    "ExecuteTime": {
     "end_time": "2023-05-13T13:25:28.084978Z",
     "start_time": "2023-05-13T13:25:16.057752Z"
    },
    "collapsed": false
   },
   "outputs": [],
   "source": [
    "df_train.to_csv(\"../data/embed_train.csv\", index=False)\n",
    "df_test.to_csv(\"../data/embed_test.csv\", index=False)"
   ]
  },
  {
   "cell_type": "markdown",
   "metadata": {
    "collapsed": false
   },
   "source": [
    "### Continue in `finalize.ipynb`"
   ]
  }
 ],
 "metadata": {
  "kernelspec": {
   "display_name": "Python 3",
   "language": "python",
   "name": "python3"
  },
  "language_info": {
   "codemirror_mode": {
    "name": "ipython",
    "version": 3
   },
   "file_extension": ".py",
   "mimetype": "text/x-python",
   "name": "python",
   "nbconvert_exporter": "python",
   "pygments_lexer": "ipython3",
   "version": "3.9.7"
  }
 },
 "nbformat": 4,
 "nbformat_minor": 0
}
