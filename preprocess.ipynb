{
 "cells": [
  {
   "cell_type": "markdown",
   "source": [
    "## Imports"
   ],
   "metadata": {
    "collapsed": false
   }
  },
  {
   "cell_type": "code",
   "execution_count": 39,
   "metadata": {
    "ExecuteTime": {
     "start_time": "2023-04-09T22:15:04.271427Z",
     "end_time": "2023-04-09T22:15:04.481427Z"
    }
   },
   "outputs": [],
   "source": [
    "import pandas as pd\n",
    "import numpy as np"
   ]
  },
  {
   "cell_type": "markdown",
   "source": [
    "## Load `train.csv`"
   ],
   "metadata": {
    "collapsed": false
   }
  },
  {
   "cell_type": "code",
   "execution_count": 40,
   "metadata": {
    "ExecuteTime": {
     "start_time": "2023-04-09T22:15:04.295430Z",
     "end_time": "2023-04-09T22:15:31.496941Z"
    }
   },
   "outputs": [],
   "source": [
    "df: pd.DataFrame = pd.read_csv('train.csv')"
   ]
  },
  {
   "cell_type": "code",
   "execution_count": 41,
   "metadata": {
    "ExecuteTime": {
     "start_time": "2023-04-09T22:15:31.507942Z",
     "end_time": "2023-04-09T22:15:31.555688Z"
    }
   },
   "outputs": [
    {
     "data": {
      "text/plain": "               TRIP_ID CALL_TYPE  ORIGIN_CALL  ORIGIN_STAND   TAXI_ID  \\\n0  1372636858620000589         C          NaN           NaN  20000589   \n1  1372637303620000596         B          NaN           7.0  20000596   \n2  1372636951620000320         C          NaN           NaN  20000320   \n3  1372636854620000520         C          NaN           NaN  20000520   \n4  1372637091620000337         C          NaN           NaN  20000337   \n\n    TIMESTAMP DAY_TYPE  MISSING_DATA  \\\n0  1372636858        A         False   \n1  1372637303        A         False   \n2  1372636951        A         False   \n3  1372636854        A         False   \n4  1372637091        A         False   \n\n                                            POLYLINE  \n0  [[-8.618643,41.141412],[-8.618499,41.141376],[...  \n1  [[-8.639847,41.159826],[-8.640351,41.159871],[...  \n2  [[-8.612964,41.140359],[-8.613378,41.14035],[-...  \n3  [[-8.574678,41.151951],[-8.574705,41.151942],[...  \n4  [[-8.645994,41.18049],[-8.645949,41.180517],[-...  ",
      "text/html": "<div>\n<style scoped>\n    .dataframe tbody tr th:only-of-type {\n        vertical-align: middle;\n    }\n\n    .dataframe tbody tr th {\n        vertical-align: top;\n    }\n\n    .dataframe thead th {\n        text-align: right;\n    }\n</style>\n<table border=\"1\" class=\"dataframe\">\n  <thead>\n    <tr style=\"text-align: right;\">\n      <th></th>\n      <th>TRIP_ID</th>\n      <th>CALL_TYPE</th>\n      <th>ORIGIN_CALL</th>\n      <th>ORIGIN_STAND</th>\n      <th>TAXI_ID</th>\n      <th>TIMESTAMP</th>\n      <th>DAY_TYPE</th>\n      <th>MISSING_DATA</th>\n      <th>POLYLINE</th>\n    </tr>\n  </thead>\n  <tbody>\n    <tr>\n      <th>0</th>\n      <td>1372636858620000589</td>\n      <td>C</td>\n      <td>NaN</td>\n      <td>NaN</td>\n      <td>20000589</td>\n      <td>1372636858</td>\n      <td>A</td>\n      <td>False</td>\n      <td>[[-8.618643,41.141412],[-8.618499,41.141376],[...</td>\n    </tr>\n    <tr>\n      <th>1</th>\n      <td>1372637303620000596</td>\n      <td>B</td>\n      <td>NaN</td>\n      <td>7.0</td>\n      <td>20000596</td>\n      <td>1372637303</td>\n      <td>A</td>\n      <td>False</td>\n      <td>[[-8.639847,41.159826],[-8.640351,41.159871],[...</td>\n    </tr>\n    <tr>\n      <th>2</th>\n      <td>1372636951620000320</td>\n      <td>C</td>\n      <td>NaN</td>\n      <td>NaN</td>\n      <td>20000320</td>\n      <td>1372636951</td>\n      <td>A</td>\n      <td>False</td>\n      <td>[[-8.612964,41.140359],[-8.613378,41.14035],[-...</td>\n    </tr>\n    <tr>\n      <th>3</th>\n      <td>1372636854620000520</td>\n      <td>C</td>\n      <td>NaN</td>\n      <td>NaN</td>\n      <td>20000520</td>\n      <td>1372636854</td>\n      <td>A</td>\n      <td>False</td>\n      <td>[[-8.574678,41.151951],[-8.574705,41.151942],[...</td>\n    </tr>\n    <tr>\n      <th>4</th>\n      <td>1372637091620000337</td>\n      <td>C</td>\n      <td>NaN</td>\n      <td>NaN</td>\n      <td>20000337</td>\n      <td>1372637091</td>\n      <td>A</td>\n      <td>False</td>\n      <td>[[-8.645994,41.18049],[-8.645949,41.180517],[-...</td>\n    </tr>\n  </tbody>\n</table>\n</div>"
     },
     "execution_count": 41,
     "metadata": {},
     "output_type": "execute_result"
    }
   ],
   "source": [
    "df.head()"
   ]
  },
  {
   "cell_type": "code",
   "execution_count": 42,
   "outputs": [
    {
     "data": {
      "text/plain": "Int64Index([ 105621,  171397,  299137,  457486,  738466,  782321,  848552,\n             932391, 1275934, 1432196],\n           dtype='int64')"
     },
     "execution_count": 42,
     "metadata": {},
     "output_type": "execute_result"
    }
   ],
   "source": [
    "df[df[\"MISSING_DATA\"] == True].index"
   ],
   "metadata": {
    "collapsed": false,
    "ExecuteTime": {
     "start_time": "2023-04-09T22:15:31.531689Z",
     "end_time": "2023-04-09T22:15:31.612203Z"
    }
   }
  },
  {
   "cell_type": "markdown",
   "source": [
    "## Delete rows where `MISSING_DATA` is true and delete column `MISSING_DATA`"
   ],
   "metadata": {
    "collapsed": false
   }
  },
  {
   "cell_type": "code",
   "execution_count": 43,
   "outputs": [],
   "source": [
    "df.drop(df[df[\"MISSING_DATA\"] == True].index, inplace=True)"
   ],
   "metadata": {
    "collapsed": false,
    "ExecuteTime": {
     "start_time": "2023-04-09T22:15:31.560691Z",
     "end_time": "2023-04-09T22:15:31.790154Z"
    }
   }
  },
  {
   "cell_type": "code",
   "execution_count": 44,
   "outputs": [],
   "source": [
    "df.drop(labels=\"MISSING_DATA\", axis=1, inplace=True)"
   ],
   "metadata": {
    "collapsed": false,
    "ExecuteTime": {
     "start_time": "2023-04-09T22:15:31.819154Z",
     "end_time": "2023-04-09T22:15:31.953663Z"
    }
   }
  },
  {
   "cell_type": "markdown",
   "source": [
    "## Delete column `DAY_TYPE`"
   ],
   "metadata": {
    "collapsed": false
   }
  },
  {
   "cell_type": "code",
   "execution_count": 45,
   "outputs": [],
   "source": [
    "df.drop(labels=\"DAY_TYPE\", axis=1, inplace=True)"
   ],
   "metadata": {
    "collapsed": false,
    "ExecuteTime": {
     "start_time": "2023-04-09T22:15:31.970665Z",
     "end_time": "2023-04-09T22:15:32.103798Z"
    }
   }
  },
  {
   "cell_type": "markdown",
   "source": [
    "## Delete column `TRIP_ID`"
   ],
   "metadata": {
    "collapsed": false
   }
  },
  {
   "cell_type": "code",
   "execution_count": 46,
   "outputs": [],
   "source": [
    "df.drop(labels=\"TRIP_ID\", axis=1, inplace=True)"
   ],
   "metadata": {
    "collapsed": false,
    "ExecuteTime": {
     "start_time": "2023-04-09T22:15:32.107797Z",
     "end_time": "2023-04-09T22:15:32.278937Z"
    }
   }
  },
  {
   "cell_type": "markdown",
   "source": [
    "## Set `ORIGIN_STAND` to 0 for entries with null `ORIGIN_STAND`"
   ],
   "metadata": {
    "collapsed": false
   }
  },
  {
   "cell_type": "code",
   "execution_count": 47,
   "outputs": [],
   "source": [
    "df.at[pd.isna(df[\"ORIGIN_STAND\"]) == True, \"ORIGIN_STAND\"] = 0"
   ],
   "metadata": {
    "collapsed": false,
    "ExecuteTime": {
     "start_time": "2023-04-09T22:15:32.282932Z",
     "end_time": "2023-04-09T22:15:32.446179Z"
    }
   }
  },
  {
   "cell_type": "markdown",
   "source": [
    "## Set `ORIGIN_CALL` to 0 for entries with null `ORIGIN_CALL`"
   ],
   "metadata": {
    "collapsed": false
   }
  },
  {
   "cell_type": "code",
   "execution_count": 50,
   "outputs": [],
   "source": [
    "df.at[pd.isna(df[\"ORIGIN_CALL\"]) == True, \"ORIGIN_CALL\"] = 0"
   ],
   "metadata": {
    "collapsed": false,
    "ExecuteTime": {
     "start_time": "2023-04-09T22:15:58.347609Z",
     "end_time": "2023-04-09T22:15:58.412607Z"
    }
   }
  },
  {
   "cell_type": "markdown",
   "source": [
    "## Assigning integers to `CALL_TYPE`"
   ],
   "metadata": {
    "collapsed": false
   }
  },
  {
   "cell_type": "code",
   "execution_count": 52,
   "outputs": [],
   "source": [
    "df.at[df[\"CALL_TYPE\"] == \"A\", \"CALL_TYPE\"] = 0\n",
    "df.at[df[\"CALL_TYPE\"] == \"B\", \"CALL_TYPE\"] = 1\n",
    "df.at[df[\"CALL_TYPE\"] == \"C\", \"CALL_TYPE\"] = 2\n",
    "df[\"CALL_TYPE\"] = df[\"CALL_TYPE\"].astype(np.int32)"
   ],
   "metadata": {
    "collapsed": false,
    "ExecuteTime": {
     "start_time": "2023-04-09T22:18:03.720975Z",
     "end_time": "2023-04-09T22:18:05.695803Z"
    }
   }
  },
  {
   "cell_type": "markdown",
   "source": [
    "## Convert `POLYLINE` column to `TARGET` column."
   ],
   "metadata": {
    "collapsed": false
   }
  },
  {
   "cell_type": "code",
   "execution_count": 68,
   "outputs": [],
   "source": [
    "df[\"TARGET\"] = df[\"POLYLINE\"].apply(lambda x : 15 * max(x.count(\"[\") - 1, 0))\n",
    "df.drop(labels=\"POLYLINE\", axis=1, inplace=True)"
   ],
   "metadata": {
    "collapsed": false,
    "ExecuteTime": {
     "start_time": "2023-04-09T22:30:54.169234Z",
     "end_time": "2023-04-09T22:30:54.309239Z"
    }
   }
  },
  {
   "cell_type": "code",
   "execution_count": 69,
   "outputs": [
    {
     "data": {
      "text/plain": "   CALL_TYPE  ORIGIN_CALL  ORIGIN_STAND   TAXI_ID   TIMESTAMP  TARGET\n0          2          0.0           0.0  20000589  1372636858     345\n1          1          0.0           7.0  20000596  1372637303     285\n2          2          0.0           0.0  20000320  1372636951     975\n3          2          0.0           0.0  20000520  1372636854     645\n4          2          0.0           0.0  20000337  1372637091     435",
      "text/html": "<div>\n<style scoped>\n    .dataframe tbody tr th:only-of-type {\n        vertical-align: middle;\n    }\n\n    .dataframe tbody tr th {\n        vertical-align: top;\n    }\n\n    .dataframe thead th {\n        text-align: right;\n    }\n</style>\n<table border=\"1\" class=\"dataframe\">\n  <thead>\n    <tr style=\"text-align: right;\">\n      <th></th>\n      <th>CALL_TYPE</th>\n      <th>ORIGIN_CALL</th>\n      <th>ORIGIN_STAND</th>\n      <th>TAXI_ID</th>\n      <th>TIMESTAMP</th>\n      <th>TARGET</th>\n    </tr>\n  </thead>\n  <tbody>\n    <tr>\n      <th>0</th>\n      <td>2</td>\n      <td>0.0</td>\n      <td>0.0</td>\n      <td>20000589</td>\n      <td>1372636858</td>\n      <td>345</td>\n    </tr>\n    <tr>\n      <th>1</th>\n      <td>1</td>\n      <td>0.0</td>\n      <td>7.0</td>\n      <td>20000596</td>\n      <td>1372637303</td>\n      <td>285</td>\n    </tr>\n    <tr>\n      <th>2</th>\n      <td>2</td>\n      <td>0.0</td>\n      <td>0.0</td>\n      <td>20000320</td>\n      <td>1372636951</td>\n      <td>975</td>\n    </tr>\n    <tr>\n      <th>3</th>\n      <td>2</td>\n      <td>0.0</td>\n      <td>0.0</td>\n      <td>20000520</td>\n      <td>1372636854</td>\n      <td>645</td>\n    </tr>\n    <tr>\n      <th>4</th>\n      <td>2</td>\n      <td>0.0</td>\n      <td>0.0</td>\n      <td>20000337</td>\n      <td>1372637091</td>\n      <td>435</td>\n    </tr>\n  </tbody>\n</table>\n</div>"
     },
     "execution_count": 69,
     "metadata": {},
     "output_type": "execute_result"
    }
   ],
   "source": [
    "df.head()"
   ],
   "metadata": {
    "collapsed": false,
    "ExecuteTime": {
     "start_time": "2023-04-09T22:30:57.906680Z",
     "end_time": "2023-04-09T22:30:57.928750Z"
    }
   }
  },
  {
   "cell_type": "code",
   "execution_count": null,
   "outputs": [],
   "source": [
    "# TODO: convert timestamp column to date + time + day of week n stuff"
   ],
   "metadata": {
    "collapsed": false
   }
  }
 ],
 "metadata": {
  "kernelspec": {
   "display_name": "Python 3",
   "language": "python",
   "name": "python3"
  },
  "language_info": {
   "codemirror_mode": {
    "name": "ipython",
    "version": 3
   },
   "file_extension": ".py",
   "mimetype": "text/x-python",
   "name": "python",
   "nbconvert_exporter": "python",
   "pygments_lexer": "ipython3",
   "version": "3.9.7"
  },
  "orig_nbformat": 4
 },
 "nbformat": 4,
 "nbformat_minor": 2
}
