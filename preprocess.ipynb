{
 "cells": [
  {
   "cell_type": "markdown",
   "source": [
    "## Imports"
   ],
   "metadata": {
    "collapsed": false
   }
  },
  {
   "cell_type": "code",
   "execution_count": 15,
   "metadata": {
    "ExecuteTime": {
     "start_time": "2023-04-10T18:29:06.499426Z",
     "end_time": "2023-04-10T18:29:06.655672Z"
    }
   },
   "outputs": [],
   "source": [
    "import pandas as pd\n",
    "import numpy as np\n",
    "from datetime import datetime\n",
    "import time"
   ]
  },
  {
   "cell_type": "markdown",
   "source": [
    "## Load `train.csv`"
   ],
   "metadata": {
    "collapsed": false
   }
  },
  {
   "cell_type": "code",
   "execution_count": 16,
   "metadata": {
    "ExecuteTime": {
     "start_time": "2023-04-10T18:29:06.515046Z",
     "end_time": "2023-04-10T18:29:34.917476Z"
    }
   },
   "outputs": [],
   "source": [
    "df: pd.DataFrame = pd.read_csv('train.csv')"
   ]
  },
  {
   "cell_type": "code",
   "execution_count": 17,
   "metadata": {
    "ExecuteTime": {
     "start_time": "2023-04-10T18:29:34.933101Z",
     "end_time": "2023-04-10T18:29:34.948730Z"
    }
   },
   "outputs": [
    {
     "data": {
      "text/plain": "               TRIP_ID CALL_TYPE  ORIGIN_CALL  ORIGIN_STAND   TAXI_ID  \\\n0  1372636858620000589         C          NaN           NaN  20000589   \n1  1372637303620000596         B          NaN           7.0  20000596   \n2  1372636951620000320         C          NaN           NaN  20000320   \n3  1372636854620000520         C          NaN           NaN  20000520   \n4  1372637091620000337         C          NaN           NaN  20000337   \n\n    TIMESTAMP DAY_TYPE  MISSING_DATA  \\\n0  1372636858        A         False   \n1  1372637303        A         False   \n2  1372636951        A         False   \n3  1372636854        A         False   \n4  1372637091        A         False   \n\n                                            POLYLINE  \n0  [[-8.618643,41.141412],[-8.618499,41.141376],[...  \n1  [[-8.639847,41.159826],[-8.640351,41.159871],[...  \n2  [[-8.612964,41.140359],[-8.613378,41.14035],[-...  \n3  [[-8.574678,41.151951],[-8.574705,41.151942],[...  \n4  [[-8.645994,41.18049],[-8.645949,41.180517],[-...  ",
      "text/html": "<div>\n<style scoped>\n    .dataframe tbody tr th:only-of-type {\n        vertical-align: middle;\n    }\n\n    .dataframe tbody tr th {\n        vertical-align: top;\n    }\n\n    .dataframe thead th {\n        text-align: right;\n    }\n</style>\n<table border=\"1\" class=\"dataframe\">\n  <thead>\n    <tr style=\"text-align: right;\">\n      <th></th>\n      <th>TRIP_ID</th>\n      <th>CALL_TYPE</th>\n      <th>ORIGIN_CALL</th>\n      <th>ORIGIN_STAND</th>\n      <th>TAXI_ID</th>\n      <th>TIMESTAMP</th>\n      <th>DAY_TYPE</th>\n      <th>MISSING_DATA</th>\n      <th>POLYLINE</th>\n    </tr>\n  </thead>\n  <tbody>\n    <tr>\n      <th>0</th>\n      <td>1372636858620000589</td>\n      <td>C</td>\n      <td>NaN</td>\n      <td>NaN</td>\n      <td>20000589</td>\n      <td>1372636858</td>\n      <td>A</td>\n      <td>False</td>\n      <td>[[-8.618643,41.141412],[-8.618499,41.141376],[...</td>\n    </tr>\n    <tr>\n      <th>1</th>\n      <td>1372637303620000596</td>\n      <td>B</td>\n      <td>NaN</td>\n      <td>7.0</td>\n      <td>20000596</td>\n      <td>1372637303</td>\n      <td>A</td>\n      <td>False</td>\n      <td>[[-8.639847,41.159826],[-8.640351,41.159871],[...</td>\n    </tr>\n    <tr>\n      <th>2</th>\n      <td>1372636951620000320</td>\n      <td>C</td>\n      <td>NaN</td>\n      <td>NaN</td>\n      <td>20000320</td>\n      <td>1372636951</td>\n      <td>A</td>\n      <td>False</td>\n      <td>[[-8.612964,41.140359],[-8.613378,41.14035],[-...</td>\n    </tr>\n    <tr>\n      <th>3</th>\n      <td>1372636854620000520</td>\n      <td>C</td>\n      <td>NaN</td>\n      <td>NaN</td>\n      <td>20000520</td>\n      <td>1372636854</td>\n      <td>A</td>\n      <td>False</td>\n      <td>[[-8.574678,41.151951],[-8.574705,41.151942],[...</td>\n    </tr>\n    <tr>\n      <th>4</th>\n      <td>1372637091620000337</td>\n      <td>C</td>\n      <td>NaN</td>\n      <td>NaN</td>\n      <td>20000337</td>\n      <td>1372637091</td>\n      <td>A</td>\n      <td>False</td>\n      <td>[[-8.645994,41.18049],[-8.645949,41.180517],[-...</td>\n    </tr>\n  </tbody>\n</table>\n</div>"
     },
     "execution_count": 17,
     "metadata": {},
     "output_type": "execute_result"
    }
   ],
   "source": [
    "df.head()"
   ]
  },
  {
   "cell_type": "markdown",
   "source": [
    "## Delete rows where `MISSING_DATA` is true and delete column `MISSING_DATA`"
   ],
   "metadata": {
    "collapsed": false
   }
  },
  {
   "cell_type": "code",
   "execution_count": 18,
   "outputs": [],
   "source": [
    "df.drop(df[df[\"MISSING_DATA\"] == True].index, inplace=True)"
   ],
   "metadata": {
    "collapsed": false,
    "ExecuteTime": {
     "start_time": "2023-04-10T18:29:34.948730Z",
     "end_time": "2023-04-10T18:29:35.276851Z"
    }
   }
  },
  {
   "cell_type": "code",
   "execution_count": 19,
   "outputs": [],
   "source": [
    "df.drop(labels=\"MISSING_DATA\", axis=1, inplace=True)"
   ],
   "metadata": {
    "collapsed": false,
    "ExecuteTime": {
     "start_time": "2023-04-10T18:29:35.308099Z",
     "end_time": "2023-04-10T18:29:35.508965Z"
    }
   }
  },
  {
   "cell_type": "markdown",
   "source": [
    "## Delete column `DAY_TYPE`"
   ],
   "metadata": {
    "collapsed": false
   }
  },
  {
   "cell_type": "code",
   "execution_count": 20,
   "outputs": [],
   "source": [
    "df.drop(labels=\"DAY_TYPE\", axis=1, inplace=True)"
   ],
   "metadata": {
    "collapsed": false,
    "ExecuteTime": {
     "start_time": "2023-04-10T18:29:35.508965Z",
     "end_time": "2023-04-10T18:29:35.688761Z"
    }
   }
  },
  {
   "cell_type": "markdown",
   "source": [
    "## Set `ORIGIN_STAND` to 0 for entries with null `ORIGIN_STAND`"
   ],
   "metadata": {
    "collapsed": false
   }
  },
  {
   "cell_type": "code",
   "execution_count": 21,
   "outputs": [],
   "source": [
    "df.at[pd.isna(df[\"ORIGIN_STAND\"]) == True, \"ORIGIN_STAND\"] = 0"
   ],
   "metadata": {
    "collapsed": false,
    "ExecuteTime": {
     "start_time": "2023-04-10T18:29:35.657488Z",
     "end_time": "2023-04-10T18:29:35.816237Z"
    }
   }
  },
  {
   "cell_type": "markdown",
   "source": [
    "## Set `ORIGIN_CALL` to 0 for entries with null `ORIGIN_CALL`"
   ],
   "metadata": {
    "collapsed": false
   }
  },
  {
   "cell_type": "code",
   "execution_count": 22,
   "outputs": [],
   "source": [
    "df.at[pd.isna(df[\"ORIGIN_CALL\"]) == True, \"ORIGIN_CALL\"] = 0"
   ],
   "metadata": {
    "collapsed": false,
    "ExecuteTime": {
     "start_time": "2023-04-10T18:29:35.816237Z",
     "end_time": "2023-04-10T18:29:35.863088Z"
    }
   }
  },
  {
   "cell_type": "markdown",
   "source": [
    "## Delete column `TRIP_ID`"
   ],
   "metadata": {
    "collapsed": false
   }
  },
  {
   "cell_type": "code",
   "execution_count": 23,
   "outputs": [],
   "source": [
    "df.drop(labels=\"TRIP_ID\", axis=1, inplace=True)"
   ],
   "metadata": {
    "collapsed": false,
    "ExecuteTime": {
     "start_time": "2023-04-10T18:29:35.988093Z",
     "end_time": "2023-04-10T18:29:36.003715Z"
    }
   }
  },
  {
   "cell_type": "markdown",
   "source": [
    "## Assigning integers to `CALL_TYPE`"
   ],
   "metadata": {
    "collapsed": false
   }
  },
  {
   "cell_type": "code",
   "execution_count": 24,
   "outputs": [],
   "source": [
    "df.at[df[\"CALL_TYPE\"] == \"A\", \"CALL_TYPE\"] = 0\n",
    "df.at[df[\"CALL_TYPE\"] == \"B\", \"CALL_TYPE\"] = 1\n",
    "df.at[df[\"CALL_TYPE\"] == \"C\", \"CALL_TYPE\"] = 2\n",
    "df[\"CALL_TYPE\"] = df[\"CALL_TYPE\"].astype(np.int32)"
   ],
   "metadata": {
    "collapsed": false,
    "ExecuteTime": {
     "start_time": "2023-04-10T18:29:36.115601Z",
     "end_time": "2023-04-10T18:29:36.896833Z"
    }
   }
  },
  {
   "cell_type": "markdown",
   "source": [
    "## Convert `TIMESTAMP` column to date + time + day of week"
   ],
   "metadata": {
    "collapsed": false
   }
  },
  {
   "cell_type": "code",
   "execution_count": 25,
   "outputs": [],
   "source": [
    "df[\"MONTH\"] = df[\"TIMESTAMP\"].apply(lambda x: datetime.fromtimestamp(x).month)\n",
    "df[\"DAY\"] = df[\"TIMESTAMP\"].apply(lambda x: datetime.fromtimestamp(x).day)\n",
    "df[\"WEEKDAY\"] = df[\"TIMESTAMP\"].apply(lambda x: datetime.fromtimestamp(x).weekday())\n",
    "df[\"HR\"] = df[\"TIMESTAMP\"].apply(lambda x: datetime.fromtimestamp(x).hour)\n",
    "df[\"MIN\"] = df[\"TIMESTAMP\"].apply(lambda x: datetime.fromtimestamp(x).minute)\n",
    "df.drop(labels=\"TIMESTAMP\", axis=1, inplace=True)\n"
   ],
   "metadata": {
    "collapsed": false,
    "ExecuteTime": {
     "start_time": "2023-04-10T18:29:36.943706Z",
     "end_time": "2023-04-10T18:29:47.002031Z"
    }
   }
  },
  {
   "cell_type": "markdown",
   "source": [
    "## Convert `POLYLINE` column to `TARGET` column."
   ],
   "metadata": {
    "collapsed": false
   }
  },
  {
   "cell_type": "code",
   "execution_count": 26,
   "outputs": [],
   "source": [
    "df[\"TARGET\"] = df[\"POLYLINE\"].apply(lambda x : 15 * max(x.count(\"[\") - 1, 0))\n",
    "df.drop(labels=\"POLYLINE\", axis=1, inplace=True)"
   ],
   "metadata": {
    "collapsed": false,
    "ExecuteTime": {
     "start_time": "2023-04-10T18:29:47.033386Z",
     "end_time": "2023-04-10T18:29:50.361872Z"
    }
   }
  },
  {
   "cell_type": "code",
   "execution_count": 27,
   "outputs": [],
   "source": [
    "df.to_csv(\"processed_train.csv\", index=False)"
   ],
   "metadata": {
    "collapsed": false,
    "ExecuteTime": {
     "start_time": "2023-04-10T18:29:50.361872Z",
     "end_time": "2023-04-10T18:29:58.294799Z"
    }
   }
  }
 ],
 "metadata": {
  "kernelspec": {
   "display_name": "Python 3",
   "language": "python",
   "name": "python3"
  },
  "language_info": {
   "codemirror_mode": {
    "name": "ipython",
    "version": 3
   },
   "file_extension": ".py",
   "mimetype": "text/x-python",
   "name": "python",
   "nbconvert_exporter": "python",
   "pygments_lexer": "ipython3",
   "version": "3.9.7"
  },
  "orig_nbformat": 4
 },
 "nbformat": 4,
 "nbformat_minor": 2
}
