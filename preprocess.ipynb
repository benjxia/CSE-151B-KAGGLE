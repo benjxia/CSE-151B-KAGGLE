{
 "cells": [
  {
   "cell_type": "markdown",
   "metadata": {
    "collapsed": false
   },
   "source": [
    "## Imports"
   ]
  },
  {
   "cell_type": "code",
   "execution_count": 20,
   "metadata": {
    "ExecuteTime": {
     "start_time": "2023-04-24T23:15:13.903388Z",
     "end_time": "2023-04-24T23:15:14.102645Z"
    }
   },
   "outputs": [],
   "source": [
    "import pandas as pd\n",
    "import numpy as np\n",
    "from sklearn.preprocessing import LabelEncoder, OneHotEncoder\n",
    "from datetime import datetime"
   ]
  },
  {
   "cell_type": "markdown",
   "metadata": {
    "collapsed": false
   },
   "source": [
    "## Load `train.csv`"
   ]
  },
  {
   "cell_type": "code",
   "execution_count": 21,
   "metadata": {
    "ExecuteTime": {
     "start_time": "2023-04-24T23:15:13.924387Z",
     "end_time": "2023-04-24T23:15:35.163434Z"
    }
   },
   "outputs": [],
   "source": [
    "df_train: pd.DataFrame = pd.read_csv(\"data/train.csv\")\n",
    "\n",
    "df_test: pd.DataFrame = pd.read_csv(\"data/test_public.csv\")"
   ]
  },
  {
   "cell_type": "code",
   "execution_count": 22,
   "metadata": {
    "ExecuteTime": {
     "start_time": "2023-04-24T23:15:35.166426Z",
     "end_time": "2023-04-24T23:15:35.254987Z"
    }
   },
   "outputs": [
    {
     "data": {
      "text/plain": "               TRIP_ID CALL_TYPE  ORIGIN_CALL  ORIGIN_STAND   TAXI_ID  \\\n0  1372636858620000589         C          NaN           NaN  20000589   \n1  1372637303620000596         B          NaN           7.0  20000596   \n2  1372636951620000320         C          NaN           NaN  20000320   \n3  1372636854620000520         C          NaN           NaN  20000520   \n4  1372637091620000337         C          NaN           NaN  20000337   \n\n    TIMESTAMP DAY_TYPE  MISSING_DATA  \\\n0  1372636858        A         False   \n1  1372637303        A         False   \n2  1372636951        A         False   \n3  1372636854        A         False   \n4  1372637091        A         False   \n\n                                            POLYLINE  \n0  [[-8.618643,41.141412],[-8.618499,41.141376],[...  \n1  [[-8.639847,41.159826],[-8.640351,41.159871],[...  \n2  [[-8.612964,41.140359],[-8.613378,41.14035],[-...  \n3  [[-8.574678,41.151951],[-8.574705,41.151942],[...  \n4  [[-8.645994,41.18049],[-8.645949,41.180517],[-...  ",
      "text/html": "<div>\n<style scoped>\n    .dataframe tbody tr th:only-of-type {\n        vertical-align: middle;\n    }\n\n    .dataframe tbody tr th {\n        vertical-align: top;\n    }\n\n    .dataframe thead th {\n        text-align: right;\n    }\n</style>\n<table border=\"1\" class=\"dataframe\">\n  <thead>\n    <tr style=\"text-align: right;\">\n      <th></th>\n      <th>TRIP_ID</th>\n      <th>CALL_TYPE</th>\n      <th>ORIGIN_CALL</th>\n      <th>ORIGIN_STAND</th>\n      <th>TAXI_ID</th>\n      <th>TIMESTAMP</th>\n      <th>DAY_TYPE</th>\n      <th>MISSING_DATA</th>\n      <th>POLYLINE</th>\n    </tr>\n  </thead>\n  <tbody>\n    <tr>\n      <th>0</th>\n      <td>1372636858620000589</td>\n      <td>C</td>\n      <td>NaN</td>\n      <td>NaN</td>\n      <td>20000589</td>\n      <td>1372636858</td>\n      <td>A</td>\n      <td>False</td>\n      <td>[[-8.618643,41.141412],[-8.618499,41.141376],[...</td>\n    </tr>\n    <tr>\n      <th>1</th>\n      <td>1372637303620000596</td>\n      <td>B</td>\n      <td>NaN</td>\n      <td>7.0</td>\n      <td>20000596</td>\n      <td>1372637303</td>\n      <td>A</td>\n      <td>False</td>\n      <td>[[-8.639847,41.159826],[-8.640351,41.159871],[...</td>\n    </tr>\n    <tr>\n      <th>2</th>\n      <td>1372636951620000320</td>\n      <td>C</td>\n      <td>NaN</td>\n      <td>NaN</td>\n      <td>20000320</td>\n      <td>1372636951</td>\n      <td>A</td>\n      <td>False</td>\n      <td>[[-8.612964,41.140359],[-8.613378,41.14035],[-...</td>\n    </tr>\n    <tr>\n      <th>3</th>\n      <td>1372636854620000520</td>\n      <td>C</td>\n      <td>NaN</td>\n      <td>NaN</td>\n      <td>20000520</td>\n      <td>1372636854</td>\n      <td>A</td>\n      <td>False</td>\n      <td>[[-8.574678,41.151951],[-8.574705,41.151942],[...</td>\n    </tr>\n    <tr>\n      <th>4</th>\n      <td>1372637091620000337</td>\n      <td>C</td>\n      <td>NaN</td>\n      <td>NaN</td>\n      <td>20000337</td>\n      <td>1372637091</td>\n      <td>A</td>\n      <td>False</td>\n      <td>[[-8.645994,41.18049],[-8.645949,41.180517],[-...</td>\n    </tr>\n  </tbody>\n</table>\n</div>"
     },
     "execution_count": 22,
     "metadata": {},
     "output_type": "execute_result"
    }
   ],
   "source": [
    "df_train.head()"
   ]
  },
  {
   "cell_type": "markdown",
   "metadata": {
    "collapsed": false
   },
   "source": [
    "## Delete rows where `MISSING_DATA` is true and delete column `MISSING_DATA`"
   ]
  },
  {
   "cell_type": "code",
   "execution_count": 23,
   "metadata": {
    "ExecuteTime": {
     "start_time": "2023-04-24T23:15:35.236994Z",
     "end_time": "2023-04-24T23:15:35.641221Z"
    },
    "collapsed": false
   },
   "outputs": [],
   "source": [
    "df_train.drop(df_train[df_train[\"MISSING_DATA\"] == True].index, inplace=True)\n",
    "df_train.drop(labels=\"MISSING_DATA\", axis=1, inplace=True)\n",
    "\n",
    "df_test.drop(df_test[df_test[\"MISSING_DATA\"] == True].index, inplace=True)\n",
    "df_test.drop(labels=\"MISSING_DATA\", axis=1, inplace=True)"
   ]
  },
  {
   "cell_type": "markdown",
   "metadata": {
    "collapsed": false
   },
   "source": [
    "## Delete column `DAY_TYPE`"
   ]
  },
  {
   "cell_type": "code",
   "execution_count": 24,
   "metadata": {
    "ExecuteTime": {
     "start_time": "2023-04-24T23:15:35.731222Z",
     "end_time": "2023-04-24T23:15:35.806221Z"
    },
    "collapsed": false
   },
   "outputs": [],
   "source": [
    "df_train.drop(labels=\"DAY_TYPE\", axis=1, inplace=True)\n",
    "\n",
    "df_test.drop(labels=\"DAY_TYPE\", axis=1, inplace=True)"
   ]
  },
  {
   "cell_type": "markdown",
   "metadata": {
    "collapsed": false
   },
   "source": [
    "## Delete column `TRIP_ID`"
   ]
  },
  {
   "cell_type": "code",
   "execution_count": 25,
   "metadata": {
    "ExecuteTime": {
     "start_time": "2023-04-24T23:15:35.969421Z",
     "end_time": "2023-04-24T23:15:35.973420Z"
    },
    "collapsed": false
   },
   "outputs": [],
   "source": [
    "df_train.drop(labels=\"TRIP_ID\", axis=1, inplace=True)\n",
    "\n",
    "df_test.drop(labels=\"TRIP_ID\", axis=1, inplace=True)"
   ]
  },
  {
   "cell_type": "markdown",
   "metadata": {
    "collapsed": false
   },
   "source": [
    "## Set `ORIGIN_STAND` and `ORIGIN_CALL` to 0 for entries with null `ORIGIN_STAND`"
   ]
  },
  {
   "cell_type": "code",
   "execution_count": 26,
   "metadata": {
    "ExecuteTime": {
     "start_time": "2023-04-24T23:15:35.978421Z",
     "end_time": "2023-04-24T23:15:36.150423Z"
    },
    "collapsed": false
   },
   "outputs": [],
   "source": [
    "df_train.at[pd.isna(df_train[\"ORIGIN_CALL\"]) == True, \"ORIGIN_CALL\"] = 0\n",
    "df_train.at[pd.isna(df_train[\"ORIGIN_STAND\"]) == True, \"ORIGIN_STAND\"] = 0\n",
    "\n",
    "df_test.at[pd.isna(df_test[\"ORIGIN_CALL\"]) == True, \"ORIGIN_CALL\"] = 0\n",
    "df_test.at[pd.isna(df_test[\"ORIGIN_STAND\"]) == True, \"ORIGIN_STAND\"] = 0\n",
    "\n",
    "# df_train.drop(labels=\"ORIGIN_CALL\", axis=1, inplace=True)\n",
    "# df_test.drop(labels=\"ORIGIN_CALL\", axis=1, inplace=True)"
   ]
  },
  {
   "cell_type": "code",
   "execution_count": 27,
   "metadata": {
    "ExecuteTime": {
     "start_time": "2023-04-24T23:15:36.154421Z",
     "end_time": "2023-04-24T23:15:36.485703Z"
    },
    "collapsed": false
   },
   "outputs": [],
   "source": [
    "# NOTE: EMBEDDING INFO STUFF\n",
    "# LE_ORIGIN_CALL = LabelEncoder() DO NOT READD, TEST SET HAS NEW ORIGIN_CALL'S\n",
    "# LE_ORIGIN_CALL.fit(df_train[\"ORIGIN_CALL\"])\n",
    "# df_train[\"ORIGIN_CALL\"] = LE_ORIGIN_CALL.transform(df_train[\"ORIGIN_CALL\"])\n",
    "LE_ORIGIN_STAND = LabelEncoder()\n",
    "LE_ORIGIN_STAND.fit(df_train[\"ORIGIN_STAND\"])\n",
    "df_train[\"ORIGIN_STAND\"] = LE_ORIGIN_STAND.transform(df_train[\"ORIGIN_STAND\"])\n",
    "\n",
    "\n",
    "# df_test[\"ORIGIN_CALL\"] = LE_ORIGIN_CALL.transform(df_test[\"ORIGIN_CALL\"])\n",
    "df_test[\"ORIGIN_STAND\"] = LE_ORIGIN_STAND.transform(df_test[\"ORIGIN_STAND\"])"
   ]
  },
  {
   "cell_type": "markdown",
   "metadata": {
    "collapsed": false
   },
   "source": [
    "## One-hot encoding for `CALL_TYPE`"
   ]
  },
  {
   "cell_type": "code",
   "execution_count": 28,
   "metadata": {
    "ExecuteTime": {
     "start_time": "2023-04-24T23:15:36.571701Z",
     "end_time": "2023-04-24T23:15:37.196575Z"
    },
    "collapsed": false
   },
   "outputs": [],
   "source": [
    "# one-hot encoding\n",
    "df_train = df_train.join(pd.get_dummies(df_train[\"CALL_TYPE\"]))\n",
    "df_train.drop(labels=\"CALL_TYPE\", axis=1, inplace=True)\n",
    "\n",
    "df_test = df_test.join(pd.get_dummies(df_test[\"CALL_TYPE\"]))\n",
    "df_test.drop(labels=\"CALL_TYPE\", axis=1, inplace=True)"
   ]
  },
  {
   "cell_type": "markdown",
   "metadata": {
    "collapsed": false
   },
   "source": [
    "## Assign indices to TAXI_ID for embeddings"
   ]
  },
  {
   "cell_type": "code",
   "execution_count": 29,
   "metadata": {
    "ExecuteTime": {
     "start_time": "2023-04-24T23:15:37.197576Z",
     "end_time": "2023-04-24T23:15:37.536701Z"
    },
    "collapsed": false
   },
   "outputs": [],
   "source": [
    "# TODO: set taxi id to indices\n",
    "LE_TAXI_ID = LabelEncoder()\n",
    "LE_TAXI_ID.fit(df_train[\"TAXI_ID\"])\n",
    "df_train[\"TAXI_ID\"] = LE_TAXI_ID.transform(df_train[\"TAXI_ID\"])\n",
    "\n",
    "df_test[\"TAXI_ID\"] = LE_TAXI_ID.transform(df_test[\"TAXI_ID\"])"
   ]
  },
  {
   "cell_type": "code",
   "execution_count": 30,
   "metadata": {
    "ExecuteTime": {
     "start_time": "2023-04-24T23:15:37.545778Z",
     "end_time": "2023-04-24T23:15:37.558061Z"
    },
    "collapsed": false
   },
   "outputs": [
    {
     "data": {
      "text/plain": "   ORIGIN_CALL  ORIGIN_STAND  TAXI_ID   TIMESTAMP  \\\n0          0.0             0      367  1372636858   \n1          0.0             7      371  1372637303   \n2          0.0             0      204  1372636951   \n3          0.0             0      330  1372636854   \n4          0.0             0      217  1372637091   \n\n                                            POLYLINE  A  B  C  \n0  [[-8.618643,41.141412],[-8.618499,41.141376],[...  0  0  1  \n1  [[-8.639847,41.159826],[-8.640351,41.159871],[...  0  1  0  \n2  [[-8.612964,41.140359],[-8.613378,41.14035],[-...  0  0  1  \n3  [[-8.574678,41.151951],[-8.574705,41.151942],[...  0  0  1  \n4  [[-8.645994,41.18049],[-8.645949,41.180517],[-...  0  0  1  ",
      "text/html": "<div>\n<style scoped>\n    .dataframe tbody tr th:only-of-type {\n        vertical-align: middle;\n    }\n\n    .dataframe tbody tr th {\n        vertical-align: top;\n    }\n\n    .dataframe thead th {\n        text-align: right;\n    }\n</style>\n<table border=\"1\" class=\"dataframe\">\n  <thead>\n    <tr style=\"text-align: right;\">\n      <th></th>\n      <th>ORIGIN_CALL</th>\n      <th>ORIGIN_STAND</th>\n      <th>TAXI_ID</th>\n      <th>TIMESTAMP</th>\n      <th>POLYLINE</th>\n      <th>A</th>\n      <th>B</th>\n      <th>C</th>\n    </tr>\n  </thead>\n  <tbody>\n    <tr>\n      <th>0</th>\n      <td>0.0</td>\n      <td>0</td>\n      <td>367</td>\n      <td>1372636858</td>\n      <td>[[-8.618643,41.141412],[-8.618499,41.141376],[...</td>\n      <td>0</td>\n      <td>0</td>\n      <td>1</td>\n    </tr>\n    <tr>\n      <th>1</th>\n      <td>0.0</td>\n      <td>7</td>\n      <td>371</td>\n      <td>1372637303</td>\n      <td>[[-8.639847,41.159826],[-8.640351,41.159871],[...</td>\n      <td>0</td>\n      <td>1</td>\n      <td>0</td>\n    </tr>\n    <tr>\n      <th>2</th>\n      <td>0.0</td>\n      <td>0</td>\n      <td>204</td>\n      <td>1372636951</td>\n      <td>[[-8.612964,41.140359],[-8.613378,41.14035],[-...</td>\n      <td>0</td>\n      <td>0</td>\n      <td>1</td>\n    </tr>\n    <tr>\n      <th>3</th>\n      <td>0.0</td>\n      <td>0</td>\n      <td>330</td>\n      <td>1372636854</td>\n      <td>[[-8.574678,41.151951],[-8.574705,41.151942],[...</td>\n      <td>0</td>\n      <td>0</td>\n      <td>1</td>\n    </tr>\n    <tr>\n      <th>4</th>\n      <td>0.0</td>\n      <td>0</td>\n      <td>217</td>\n      <td>1372637091</td>\n      <td>[[-8.645994,41.18049],[-8.645949,41.180517],[-...</td>\n      <td>0</td>\n      <td>0</td>\n      <td>1</td>\n    </tr>\n  </tbody>\n</table>\n</div>"
     },
     "execution_count": 30,
     "metadata": {},
     "output_type": "execute_result"
    }
   ],
   "source": [
    "df_train.head()"
   ]
  },
  {
   "cell_type": "markdown",
   "metadata": {
    "collapsed": false
   },
   "source": [
    "## Convert `TIMESTAMP` column to date + time + day of week"
   ]
  },
  {
   "cell_type": "code",
   "execution_count": 31,
   "metadata": {
    "ExecuteTime": {
     "start_time": "2023-04-24T23:15:37.556060Z",
     "end_time": "2023-04-24T23:15:47.220493Z"
    },
    "collapsed": false
   },
   "outputs": [],
   "source": [
    "df_train[\"YEAR\"] = df_train[\"TIMESTAMP\"].apply(lambda x: datetime.fromtimestamp(x).year)\n",
    "df_train[\"MONTH\"] = df_train[\"TIMESTAMP\"].apply(lambda x: datetime.fromtimestamp(x).month)\n",
    "df_train[\"DAY\"] = df_train[\"TIMESTAMP\"].apply(lambda x: datetime.fromtimestamp(x).day)\n",
    "df_train[\"WEEKDAY\"] = df_train[\"TIMESTAMP\"].apply(lambda x: datetime.fromtimestamp(x).weekday()) # WHY ARE YOU LIKE THIS??? ALL THE OTHERS ARE FIELDS\n",
    "df_train[\"HR\"] = df_train[\"TIMESTAMP\"].apply(lambda x: datetime.fromtimestamp(x).hour)\n",
    "df_train[\"MIN\"] = df_train[\"TIMESTAMP\"].apply(lambda x: datetime.fromtimestamp(x).minute)\n",
    "df_train.drop(labels=\"TIMESTAMP\", axis=1, inplace=True)\n",
    "\n",
    "df_test[\"YEAR\"] = df_test[\"TIMESTAMP\"].apply(lambda x: datetime.fromtimestamp(x).year)\n",
    "df_test[\"MONTH\"] = df_test[\"TIMESTAMP\"].apply(lambda x: datetime.fromtimestamp(x).month)\n",
    "df_test[\"DAY\"] = df_test[\"TIMESTAMP\"].apply(lambda x: datetime.fromtimestamp(x).day)\n",
    "df_test[\"WEEKDAY\"] = df_test[\"TIMESTAMP\"].apply(lambda x: datetime.fromtimestamp(x).weekday())\n",
    "df_test[\"HR\"] = df_test[\"TIMESTAMP\"].apply(lambda x: datetime.fromtimestamp(x).hour)\n",
    "df_test[\"MIN\"] = df_test[\"TIMESTAMP\"].apply(lambda x: datetime.fromtimestamp(x).minute)\n",
    "df_test.drop(labels=\"TIMESTAMP\", axis=1, inplace=True)\n"
   ]
  },
  {
   "cell_type": "markdown",
   "metadata": {
    "collapsed": false
   },
   "source": [
    "## Convert `POLYLINE` column to `TARGET` column."
   ]
  },
  {
   "cell_type": "code",
   "execution_count": 32,
   "metadata": {
    "ExecuteTime": {
     "start_time": "2023-04-24T23:15:47.224240Z",
     "end_time": "2023-04-24T23:15:50.420350Z"
    },
    "collapsed": false
   },
   "outputs": [],
   "source": [
    "df_train[\"TARGET\"] = df_train[\"POLYLINE\"].apply(lambda x : 15 * max(x.count(\"[\") - 1, 0))\n",
    "df_train.drop(labels=\"POLYLINE\", axis=1, inplace=True)\n",
    "\n",
    "# wtf am i doing\n",
    "# df_test[\"TARGET\"] = df_test[\"POLYLINE\"].apply(lambda x : 15 * max(x.count(\"[\") - 1, 0))\n",
    "# df_test.drop(labels=\"POLYLINE\", axis=1, inplace=True)"
   ]
  },
  {
   "cell_type": "markdown",
   "metadata": {
    "collapsed": false
   },
   "source": [
    "## Get information for embeddings later"
   ]
  },
  {
   "cell_type": "code",
   "execution_count": 33,
   "metadata": {
    "ExecuteTime": {
     "start_time": "2023-04-24T23:15:50.422347Z",
     "end_time": "2023-04-24T23:15:50.476346Z"
    },
    "collapsed": false
   },
   "outputs": [
    {
     "name": "stdout",
     "output_type": "stream",
     "text": [
      "CALL_TYPE: 3\n",
      "ORIGIN_STAND: 64\n",
      "TAXI_ID: 448\n"
     ]
    }
   ],
   "source": [
    "print(f\"CALL_TYPE: 3\")\n",
    "# print(f\"ORIGIN_CALL: {len(df_train['ORIGIN_CALL'].unique())}\")\n",
    "print(f\"ORIGIN_STAND: {len(df_train['ORIGIN_STAND'].unique())}\")\n",
    "print(f\"TAXI_ID: {len(df_train['TAXI_ID'].unique())}\")"
   ]
  },
  {
   "cell_type": "markdown",
   "metadata": {
    "collapsed": false
   },
   "source": [
    "## Export"
   ]
  },
  {
   "cell_type": "code",
   "execution_count": 34,
   "metadata": {
    "ExecuteTime": {
     "start_time": "2023-04-24T23:15:50.475348Z",
     "end_time": "2023-04-24T23:15:50.481352Z"
    },
    "collapsed": false
   },
   "outputs": [
    {
     "data": {
      "text/plain": "   ORIGIN_CALL  ORIGIN_STAND  TAXI_ID  A  B  C  YEAR  MONTH  DAY  WEEKDAY  HR  \\\n0          0.0             0      367  0  0  1  2013      6   30        6  17   \n1          0.0             7      371  0  1  0  2013      6   30        6  17   \n2          0.0             0      204  0  0  1  2013      6   30        6  17   \n3          0.0             0      330  0  0  1  2013      6   30        6  17   \n4          0.0             0      217  0  0  1  2013      6   30        6  17   \n\n   MIN  TARGET  \n0    0     345  \n1    8     285  \n2    2     975  \n3    0     645  \n4    4     435  ",
      "text/html": "<div>\n<style scoped>\n    .dataframe tbody tr th:only-of-type {\n        vertical-align: middle;\n    }\n\n    .dataframe tbody tr th {\n        vertical-align: top;\n    }\n\n    .dataframe thead th {\n        text-align: right;\n    }\n</style>\n<table border=\"1\" class=\"dataframe\">\n  <thead>\n    <tr style=\"text-align: right;\">\n      <th></th>\n      <th>ORIGIN_CALL</th>\n      <th>ORIGIN_STAND</th>\n      <th>TAXI_ID</th>\n      <th>A</th>\n      <th>B</th>\n      <th>C</th>\n      <th>YEAR</th>\n      <th>MONTH</th>\n      <th>DAY</th>\n      <th>WEEKDAY</th>\n      <th>HR</th>\n      <th>MIN</th>\n      <th>TARGET</th>\n    </tr>\n  </thead>\n  <tbody>\n    <tr>\n      <th>0</th>\n      <td>0.0</td>\n      <td>0</td>\n      <td>367</td>\n      <td>0</td>\n      <td>0</td>\n      <td>1</td>\n      <td>2013</td>\n      <td>6</td>\n      <td>30</td>\n      <td>6</td>\n      <td>17</td>\n      <td>0</td>\n      <td>345</td>\n    </tr>\n    <tr>\n      <th>1</th>\n      <td>0.0</td>\n      <td>7</td>\n      <td>371</td>\n      <td>0</td>\n      <td>1</td>\n      <td>0</td>\n      <td>2013</td>\n      <td>6</td>\n      <td>30</td>\n      <td>6</td>\n      <td>17</td>\n      <td>8</td>\n      <td>285</td>\n    </tr>\n    <tr>\n      <th>2</th>\n      <td>0.0</td>\n      <td>0</td>\n      <td>204</td>\n      <td>0</td>\n      <td>0</td>\n      <td>1</td>\n      <td>2013</td>\n      <td>6</td>\n      <td>30</td>\n      <td>6</td>\n      <td>17</td>\n      <td>2</td>\n      <td>975</td>\n    </tr>\n    <tr>\n      <th>3</th>\n      <td>0.0</td>\n      <td>0</td>\n      <td>330</td>\n      <td>0</td>\n      <td>0</td>\n      <td>1</td>\n      <td>2013</td>\n      <td>6</td>\n      <td>30</td>\n      <td>6</td>\n      <td>17</td>\n      <td>0</td>\n      <td>645</td>\n    </tr>\n    <tr>\n      <th>4</th>\n      <td>0.0</td>\n      <td>0</td>\n      <td>217</td>\n      <td>0</td>\n      <td>0</td>\n      <td>1</td>\n      <td>2013</td>\n      <td>6</td>\n      <td>30</td>\n      <td>6</td>\n      <td>17</td>\n      <td>4</td>\n      <td>435</td>\n    </tr>\n  </tbody>\n</table>\n</div>"
     },
     "execution_count": 34,
     "metadata": {},
     "output_type": "execute_result"
    }
   ],
   "source": [
    "df_train.head()\n",
    "# df_test.head()"
   ]
  },
  {
   "cell_type": "code",
   "execution_count": 35,
   "metadata": {
    "ExecuteTime": {
     "start_time": "2023-04-24T23:15:50.480347Z",
     "end_time": "2023-04-24T23:15:50.496345Z"
    },
    "collapsed": false
   },
   "outputs": [
    {
     "data": {
      "text/plain": "   ORIGIN_CALL  ORIGIN_STAND  TAXI_ID  A  B  C  YEAR  MONTH  DAY  WEEKDAY  HR  \\\n0          0.0            15      342  0  1  0  2014      8   14        3  10   \n1          0.0            57       78  0  1  0  2014      8   14        3  10   \n2          0.0            15      239  0  1  0  2014      8   14        3  10   \n3          0.0            53      309  0  1  0  2014      8   14        3  10   \n4          0.0            18      393  0  1  0  2014      8   14        3  10   \n\n   MIN  \n0   57  \n1   50  \n2   49  \n3   58  \n4   59  ",
      "text/html": "<div>\n<style scoped>\n    .dataframe tbody tr th:only-of-type {\n        vertical-align: middle;\n    }\n\n    .dataframe tbody tr th {\n        vertical-align: top;\n    }\n\n    .dataframe thead th {\n        text-align: right;\n    }\n</style>\n<table border=\"1\" class=\"dataframe\">\n  <thead>\n    <tr style=\"text-align: right;\">\n      <th></th>\n      <th>ORIGIN_CALL</th>\n      <th>ORIGIN_STAND</th>\n      <th>TAXI_ID</th>\n      <th>A</th>\n      <th>B</th>\n      <th>C</th>\n      <th>YEAR</th>\n      <th>MONTH</th>\n      <th>DAY</th>\n      <th>WEEKDAY</th>\n      <th>HR</th>\n      <th>MIN</th>\n    </tr>\n  </thead>\n  <tbody>\n    <tr>\n      <th>0</th>\n      <td>0.0</td>\n      <td>15</td>\n      <td>342</td>\n      <td>0</td>\n      <td>1</td>\n      <td>0</td>\n      <td>2014</td>\n      <td>8</td>\n      <td>14</td>\n      <td>3</td>\n      <td>10</td>\n      <td>57</td>\n    </tr>\n    <tr>\n      <th>1</th>\n      <td>0.0</td>\n      <td>57</td>\n      <td>78</td>\n      <td>0</td>\n      <td>1</td>\n      <td>0</td>\n      <td>2014</td>\n      <td>8</td>\n      <td>14</td>\n      <td>3</td>\n      <td>10</td>\n      <td>50</td>\n    </tr>\n    <tr>\n      <th>2</th>\n      <td>0.0</td>\n      <td>15</td>\n      <td>239</td>\n      <td>0</td>\n      <td>1</td>\n      <td>0</td>\n      <td>2014</td>\n      <td>8</td>\n      <td>14</td>\n      <td>3</td>\n      <td>10</td>\n      <td>49</td>\n    </tr>\n    <tr>\n      <th>3</th>\n      <td>0.0</td>\n      <td>53</td>\n      <td>309</td>\n      <td>0</td>\n      <td>1</td>\n      <td>0</td>\n      <td>2014</td>\n      <td>8</td>\n      <td>14</td>\n      <td>3</td>\n      <td>10</td>\n      <td>58</td>\n    </tr>\n    <tr>\n      <th>4</th>\n      <td>0.0</td>\n      <td>18</td>\n      <td>393</td>\n      <td>0</td>\n      <td>1</td>\n      <td>0</td>\n      <td>2014</td>\n      <td>8</td>\n      <td>14</td>\n      <td>3</td>\n      <td>10</td>\n      <td>59</td>\n    </tr>\n  </tbody>\n</table>\n</div>"
     },
     "execution_count": 35,
     "metadata": {},
     "output_type": "execute_result"
    }
   ],
   "source": [
    "df_test.head()"
   ]
  },
  {
   "attachments": {},
   "cell_type": "markdown",
   "metadata": {},
   "source": [
    "### Remove outliers"
   ]
  },
  {
   "cell_type": "code",
   "execution_count": 36,
   "metadata": {
    "ExecuteTime": {
     "start_time": "2023-04-24T23:15:50.499346Z",
     "end_time": "2023-04-24T23:15:50.837398Z"
    }
   },
   "outputs": [],
   "source": [
    "df_train = df_train[df_train[\"TARGET\"] > 30]\n",
    "df_train = df_train[df_train[\"TARGET\"] < df_train[\"TARGET\"].mean() + 5 * df_train[\"TARGET\"].std()]"
   ]
  },
  {
   "cell_type": "markdown",
   "source": [
    "### [0, 1] Normalization"
   ],
   "metadata": {
    "collapsed": false
   }
  },
  {
   "cell_type": "code",
   "execution_count": 37,
   "outputs": [],
   "source": [
    "df_train[\"YEAR\"] -= 2013\n",
    "df_test[\"YEAR\"] -= 2013"
   ],
   "metadata": {
    "collapsed": false,
    "ExecuteTime": {
     "start_time": "2023-04-24T23:15:50.828392Z",
     "end_time": "2023-04-24T23:15:50.857282Z"
    }
   }
  },
  {
   "cell_type": "code",
   "execution_count": 39,
   "outputs": [
    {
     "data": {
      "text/plain": "   ORIGIN_CALL  ORIGIN_STAND  TAXI_ID  A  B  C  YEAR  MONTH  DAY  WEEKDAY  HR  \\\n0          0.0            58      197  0  1  0     0      9   20        4  19   \n1      55972.0             0      411  1  0  0     0      7    8        0  12   \n2          0.0            13      405  0  1  0     0      7   24        2   6   \n3          0.0             0       97  0  0  1     0     12   26        3  18   \n4          0.0             0      255  0  0  1     0      8   20        1  18   \n\n   MIN  TARGET  \n0   23     330  \n1   14     300  \n2    6     600  \n3   10     630  \n4   52     675  ",
      "text/html": "<div>\n<style scoped>\n    .dataframe tbody tr th:only-of-type {\n        vertical-align: middle;\n    }\n\n    .dataframe tbody tr th {\n        vertical-align: top;\n    }\n\n    .dataframe thead th {\n        text-align: right;\n    }\n</style>\n<table border=\"1\" class=\"dataframe\">\n  <thead>\n    <tr style=\"text-align: right;\">\n      <th></th>\n      <th>ORIGIN_CALL</th>\n      <th>ORIGIN_STAND</th>\n      <th>TAXI_ID</th>\n      <th>A</th>\n      <th>B</th>\n      <th>C</th>\n      <th>YEAR</th>\n      <th>MONTH</th>\n      <th>DAY</th>\n      <th>WEEKDAY</th>\n      <th>HR</th>\n      <th>MIN</th>\n      <th>TARGET</th>\n    </tr>\n  </thead>\n  <tbody>\n    <tr>\n      <th>0</th>\n      <td>0.0</td>\n      <td>58</td>\n      <td>197</td>\n      <td>0</td>\n      <td>1</td>\n      <td>0</td>\n      <td>0</td>\n      <td>9</td>\n      <td>20</td>\n      <td>4</td>\n      <td>19</td>\n      <td>23</td>\n      <td>330</td>\n    </tr>\n    <tr>\n      <th>1</th>\n      <td>55972.0</td>\n      <td>0</td>\n      <td>411</td>\n      <td>1</td>\n      <td>0</td>\n      <td>0</td>\n      <td>0</td>\n      <td>7</td>\n      <td>8</td>\n      <td>0</td>\n      <td>12</td>\n      <td>14</td>\n      <td>300</td>\n    </tr>\n    <tr>\n      <th>2</th>\n      <td>0.0</td>\n      <td>13</td>\n      <td>405</td>\n      <td>0</td>\n      <td>1</td>\n      <td>0</td>\n      <td>0</td>\n      <td>7</td>\n      <td>24</td>\n      <td>2</td>\n      <td>6</td>\n      <td>6</td>\n      <td>600</td>\n    </tr>\n    <tr>\n      <th>3</th>\n      <td>0.0</td>\n      <td>0</td>\n      <td>97</td>\n      <td>0</td>\n      <td>0</td>\n      <td>1</td>\n      <td>0</td>\n      <td>12</td>\n      <td>26</td>\n      <td>3</td>\n      <td>18</td>\n      <td>10</td>\n      <td>630</td>\n    </tr>\n    <tr>\n      <th>4</th>\n      <td>0.0</td>\n      <td>0</td>\n      <td>255</td>\n      <td>0</td>\n      <td>0</td>\n      <td>1</td>\n      <td>0</td>\n      <td>8</td>\n      <td>20</td>\n      <td>1</td>\n      <td>18</td>\n      <td>52</td>\n      <td>675</td>\n    </tr>\n  </tbody>\n</table>\n</div>"
     },
     "execution_count": 39,
     "metadata": {},
     "output_type": "execute_result"
    }
   ],
   "source": [
    "df_train.head()"
   ],
   "metadata": {
    "collapsed": false,
    "ExecuteTime": {
     "start_time": "2023-04-25T00:03:49.847806Z",
     "end_time": "2023-04-25T00:03:50.091695Z"
    }
   }
  },
  {
   "cell_type": "markdown",
   "metadata": {
    "collapsed": false
   },
   "source": [
    "#### Split training set"
   ]
  },
  {
   "cell_type": "code",
   "execution_count": 38,
   "metadata": {
    "ExecuteTime": {
     "start_time": "2023-04-24T23:15:50.861277Z",
     "end_time": "2023-04-24T23:15:57.150505Z"
    },
    "collapsed": false
   },
   "outputs": [],
   "source": [
    "df_train = df_train.sample(frac=1).reset_index(drop=True)\n",
    "df_valid = df_train[int(0.9 * len(df_train)):]\n",
    "df_train = df_train[:int(0.9 * len(df_train))]\n",
    "df_train.to_csv(\"data/processed_trainv2.csv\", index=False)\n",
    "df_valid.to_csv(\"data/processed_validv2.csv\", index=False)\n",
    "df_test.to_csv(\"data/processed_testv2.csv\", index=False)\n"
   ]
  }
 ],
 "metadata": {
  "kernelspec": {
   "display_name": "Python 3",
   "language": "python",
   "name": "python3"
  },
  "language_info": {
   "codemirror_mode": {
    "name": "ipython",
    "version": 3
   },
   "file_extension": ".py",
   "mimetype": "text/x-python",
   "name": "python",
   "nbconvert_exporter": "python",
   "pygments_lexer": "ipython3",
   "version": "3.9.7"
  },
  "orig_nbformat": 4
 },
 "nbformat": 4,
 "nbformat_minor": 2
}
