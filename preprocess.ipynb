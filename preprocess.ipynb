{
 "cells": [
  {
   "cell_type": "markdown",
   "metadata": {
    "collapsed": false
   },
   "source": [
    "## Imports"
   ]
  },
  {
   "cell_type": "code",
   "execution_count": 1,
   "metadata": {
    "ExecuteTime": {
     "start_time": "2023-05-11T13:21:40.853355Z",
     "end_time": "2023-05-11T13:21:44.963581Z"
    }
   },
   "outputs": [],
   "source": [
    "import pandas as pd\n",
    "import numpy as np\n",
    "from sklearn.preprocessing import LabelEncoder, OneHotEncoder\n",
    "from datetime import datetime\n"
   ]
  },
  {
   "cell_type": "markdown",
   "metadata": {
    "collapsed": false
   },
   "source": [
    "## Load `train.csv`"
   ]
  },
  {
   "cell_type": "code",
   "execution_count": 2,
   "metadata": {
    "ExecuteTime": {
     "start_time": "2023-05-11T13:21:44.971572Z",
     "end_time": "2023-05-11T13:22:08.406214Z"
    }
   },
   "outputs": [],
   "source": [
    "df_train: pd.DataFrame = pd.read_csv(\"data/train.csv\")\n",
    "\n",
    "df_test: pd.DataFrame = pd.read_csv(\"data/test_public.csv\")"
   ]
  },
  {
   "cell_type": "code",
   "execution_count": 3,
   "metadata": {
    "ExecuteTime": {
     "start_time": "2023-05-11T13:22:08.422210Z",
     "end_time": "2023-05-11T13:22:08.461202Z"
    }
   },
   "outputs": [
    {
     "data": {
      "text/plain": "               TRIP_ID CALL_TYPE  ORIGIN_CALL  ORIGIN_STAND   TAXI_ID  \\\n0  1372636858620000589         C          NaN           NaN  20000589   \n1  1372637303620000596         B          NaN           7.0  20000596   \n2  1372636951620000320         C          NaN           NaN  20000320   \n3  1372636854620000520         C          NaN           NaN  20000520   \n4  1372637091620000337         C          NaN           NaN  20000337   \n\n    TIMESTAMP DAY_TYPE  MISSING_DATA  \\\n0  1372636858        A         False   \n1  1372637303        A         False   \n2  1372636951        A         False   \n3  1372636854        A         False   \n4  1372637091        A         False   \n\n                                            POLYLINE  \n0  [[-8.618643,41.141412],[-8.618499,41.141376],[...  \n1  [[-8.639847,41.159826],[-8.640351,41.159871],[...  \n2  [[-8.612964,41.140359],[-8.613378,41.14035],[-...  \n3  [[-8.574678,41.151951],[-8.574705,41.151942],[...  \n4  [[-8.645994,41.18049],[-8.645949,41.180517],[-...  ",
      "text/html": "<div>\n<style scoped>\n    .dataframe tbody tr th:only-of-type {\n        vertical-align: middle;\n    }\n\n    .dataframe tbody tr th {\n        vertical-align: top;\n    }\n\n    .dataframe thead th {\n        text-align: right;\n    }\n</style>\n<table border=\"1\" class=\"dataframe\">\n  <thead>\n    <tr style=\"text-align: right;\">\n      <th></th>\n      <th>TRIP_ID</th>\n      <th>CALL_TYPE</th>\n      <th>ORIGIN_CALL</th>\n      <th>ORIGIN_STAND</th>\n      <th>TAXI_ID</th>\n      <th>TIMESTAMP</th>\n      <th>DAY_TYPE</th>\n      <th>MISSING_DATA</th>\n      <th>POLYLINE</th>\n    </tr>\n  </thead>\n  <tbody>\n    <tr>\n      <th>0</th>\n      <td>1372636858620000589</td>\n      <td>C</td>\n      <td>NaN</td>\n      <td>NaN</td>\n      <td>20000589</td>\n      <td>1372636858</td>\n      <td>A</td>\n      <td>False</td>\n      <td>[[-8.618643,41.141412],[-8.618499,41.141376],[...</td>\n    </tr>\n    <tr>\n      <th>1</th>\n      <td>1372637303620000596</td>\n      <td>B</td>\n      <td>NaN</td>\n      <td>7.0</td>\n      <td>20000596</td>\n      <td>1372637303</td>\n      <td>A</td>\n      <td>False</td>\n      <td>[[-8.639847,41.159826],[-8.640351,41.159871],[...</td>\n    </tr>\n    <tr>\n      <th>2</th>\n      <td>1372636951620000320</td>\n      <td>C</td>\n      <td>NaN</td>\n      <td>NaN</td>\n      <td>20000320</td>\n      <td>1372636951</td>\n      <td>A</td>\n      <td>False</td>\n      <td>[[-8.612964,41.140359],[-8.613378,41.14035],[-...</td>\n    </tr>\n    <tr>\n      <th>3</th>\n      <td>1372636854620000520</td>\n      <td>C</td>\n      <td>NaN</td>\n      <td>NaN</td>\n      <td>20000520</td>\n      <td>1372636854</td>\n      <td>A</td>\n      <td>False</td>\n      <td>[[-8.574678,41.151951],[-8.574705,41.151942],[...</td>\n    </tr>\n    <tr>\n      <th>4</th>\n      <td>1372637091620000337</td>\n      <td>C</td>\n      <td>NaN</td>\n      <td>NaN</td>\n      <td>20000337</td>\n      <td>1372637091</td>\n      <td>A</td>\n      <td>False</td>\n      <td>[[-8.645994,41.18049],[-8.645949,41.180517],[-...</td>\n    </tr>\n  </tbody>\n</table>\n</div>"
     },
     "execution_count": 3,
     "metadata": {},
     "output_type": "execute_result"
    }
   ],
   "source": [
    "df_train.head()"
   ]
  },
  {
   "cell_type": "markdown",
   "source": [
    "### Add coordinates"
   ],
   "metadata": {
    "collapsed": false
   }
  },
  {
   "cell_type": "code",
   "execution_count": 5,
   "outputs": [],
   "source": [
    "start_coords = np.load(\"./data_analysis/start_full.npy\")\n",
    "start_test = np.load(\"./data_analysis/start_test.npy\")\n",
    "df_train[\"LONG\"] = start_coords[:, 0]\n",
    "df_train[\"LAT\"] = start_coords[:, 1]\n",
    "\n",
    "df_test[\"LONG\"] = start_test[:, 0]\n",
    "df_test[\"LAT\"] = start_test[:, 1]\n",
    "\n"
   ],
   "metadata": {
    "collapsed": false,
    "ExecuteTime": {
     "start_time": "2023-05-11T13:34:35.898014Z",
     "end_time": "2023-05-11T13:34:35.961207Z"
    }
   }
  },
  {
   "cell_type": "markdown",
   "metadata": {
    "collapsed": false
   },
   "source": [
    "## Delete rows where `MISSING_DATA` is true and delete column `MISSING_DATA`"
   ]
  },
  {
   "cell_type": "code",
   "execution_count": 6,
   "metadata": {
    "ExecuteTime": {
     "start_time": "2023-05-11T13:34:44.810762Z",
     "end_time": "2023-05-11T13:34:45.613527Z"
    },
    "collapsed": false
   },
   "outputs": [],
   "source": [
    "df_train.drop(df_train[df_train[\"MISSING_DATA\"] == True].index, inplace=True)\n",
    "df_train.drop(labels=\"MISSING_DATA\", axis=1, inplace=True)\n",
    "\n",
    "df_test.drop(df_test[df_test[\"MISSING_DATA\"] == True].index, inplace=True)\n",
    "df_test.drop(labels=\"MISSING_DATA\", axis=1, inplace=True)"
   ]
  },
  {
   "cell_type": "markdown",
   "metadata": {
    "collapsed": false
   },
   "source": [
    "## Delete column `DAY_TYPE`"
   ]
  },
  {
   "cell_type": "code",
   "execution_count": 7,
   "metadata": {
    "ExecuteTime": {
     "start_time": "2023-05-11T13:34:47.123443Z",
     "end_time": "2023-05-11T13:34:47.196443Z"
    },
    "collapsed": false
   },
   "outputs": [],
   "source": [
    "df_train.drop(labels=\"DAY_TYPE\", axis=1, inplace=True)\n",
    "\n",
    "df_test.drop(labels=\"DAY_TYPE\", axis=1, inplace=True)"
   ]
  },
  {
   "cell_type": "markdown",
   "metadata": {
    "collapsed": false
   },
   "source": [
    "## Delete column `TRIP_ID`"
   ]
  },
  {
   "cell_type": "code",
   "execution_count": 8,
   "metadata": {
    "ExecuteTime": {
     "start_time": "2023-05-11T13:34:49.563989Z",
     "end_time": "2023-05-11T13:34:49.630982Z"
    },
    "collapsed": false
   },
   "outputs": [],
   "source": [
    "df_train.drop(labels=\"TRIP_ID\", axis=1, inplace=True)\n",
    "\n",
    "df_test.drop(labels=\"TRIP_ID\", axis=1, inplace=True)"
   ]
  },
  {
   "cell_type": "markdown",
   "metadata": {
    "collapsed": false
   },
   "source": [
    "## Set `ORIGIN_STAND` and `ORIGIN_CALL` to 0 for entries with null `ORIGIN_STAND`"
   ]
  },
  {
   "cell_type": "code",
   "execution_count": 9,
   "metadata": {
    "ExecuteTime": {
     "start_time": "2023-05-11T13:35:05.118513Z",
     "end_time": "2023-05-11T13:35:05.284100Z"
    },
    "collapsed": false
   },
   "outputs": [],
   "source": [
    "df_train.at[pd.isna(df_train[\"ORIGIN_CALL\"]) == True, \"ORIGIN_CALL\"] = 0\n",
    "df_train.at[pd.isna(df_train[\"ORIGIN_STAND\"]) == True, \"ORIGIN_STAND\"] = 0\n",
    "\n",
    "df_test.at[pd.isna(df_test[\"ORIGIN_CALL\"]) == True, \"ORIGIN_CALL\"] = 0\n",
    "df_test.at[pd.isna(df_test[\"ORIGIN_STAND\"]) == True, \"ORIGIN_STAND\"] = 0\n",
    "\n",
    "# df_train.drop(labels=\"ORIGIN_CALL\", axis=1, inplace=True)\n",
    "# df_test.drop(labels=\"ORIGIN_CALL\", axis=1, inplace=True)"
   ]
  },
  {
   "cell_type": "markdown",
   "source": [
    "### Convert ORIGIN_CALL to indices for embeddings"
   ],
   "metadata": {
    "collapsed": false
   }
  },
  {
   "cell_type": "code",
   "execution_count": 10,
   "metadata": {
    "ExecuteTime": {
     "start_time": "2023-05-11T13:35:08.585592Z",
     "end_time": "2023-05-11T13:35:09.587734Z"
    },
    "collapsed": false
   },
   "outputs": [],
   "source": [
    "# NOTE: EMBEDDING INFO STUFF\n",
    "# TODO: Convert ORIGIN_CALL to embeddings, impute missing values\n",
    "# Look for caller's with 1 total taxi ride, set them all to some default index (Training set)\n",
    "# Look for callers in test set not in training set -> set them to the default index\n",
    "# Set nn.embeddings pad_idx to that default idx\n",
    "val_cnt = df_train[\"ORIGIN_CALL\"].value_counts().to_dict()\n",
    "df_train[\"ORIGIN_CALL\"] = df_train[\"ORIGIN_CALL\"].map(lambda x : x  if val_cnt[x] > 1 else 0 )"
   ]
  },
  {
   "cell_type": "code",
   "execution_count": 11,
   "outputs": [
    {
     "data": {
      "text/plain": "0.0        1373970\n2002.0       57571\n63882.0       6406\n2001.0        2499\n13168.0       1314\n            ...   \n63189.0          2\n50313.0          2\n53254.0          2\n3675.0           2\n62998.0          2\nName: ORIGIN_CALL, Length: 29027, dtype: int64"
     },
     "execution_count": 11,
     "metadata": {},
     "output_type": "execute_result"
    }
   ],
   "source": [
    "df_train[\"ORIGIN_CALL\"].value_counts()"
   ],
   "metadata": {
    "collapsed": false,
    "ExecuteTime": {
     "start_time": "2023-05-11T13:35:11.449931Z",
     "end_time": "2023-05-11T13:35:11.495936Z"
    }
   }
  },
  {
   "cell_type": "code",
   "execution_count": 12,
   "outputs": [
    {
     "name": "stderr",
     "output_type": "stream",
     "text": [
      "C:\\Users\\benjx\\AppData\\Local\\Temp/ipykernel_14680/1392256516.py:5: SettingWithCopyWarning: \n",
      "A value is trying to be set on a copy of a slice from a DataFrame\n",
      "\n",
      "See the caveats in the documentation: https://pandas.pydata.org/pandas-docs/stable/user_guide/indexing.html#returning-a-view-versus-a-copy\n",
      "  new_col[i] = 0\n"
     ]
    }
   ],
   "source": [
    "multi_occurences = set(df_train[\"ORIGIN_CALL\"].unique())\n",
    "new_col = df_test[\"ORIGIN_CALL\"]\n",
    "for i, x in enumerate(new_col):\n",
    "    if x not in multi_occurences:\n",
    "        new_col[i] = 0\n",
    "df_test[\"ORIGIN_CALL\"] = new_col"
   ],
   "metadata": {
    "collapsed": false,
    "ExecuteTime": {
     "start_time": "2023-05-11T13:35:15.000571Z",
     "end_time": "2023-05-11T13:35:15.080571Z"
    }
   }
  },
  {
   "cell_type": "code",
   "execution_count": 13,
   "outputs": [],
   "source": [
    "LE_ORIGIN_CALL = LabelEncoder()\n",
    "LE_ORIGIN_CALL.fit(df_train[\"ORIGIN_CALL\"])\n",
    "df_train[\"ORIGIN_CALL\"] = LE_ORIGIN_CALL.transform(df_train[\"ORIGIN_CALL\"])\n",
    "\n",
    "LE_ORIGIN_STAND = LabelEncoder()\n",
    "LE_ORIGIN_STAND.fit(df_train[\"ORIGIN_STAND\"])\n",
    "df_train[\"ORIGIN_STAND\"] = LE_ORIGIN_STAND.transform(df_train[\"ORIGIN_STAND\"])\n",
    "\n",
    "\n",
    "df_test[\"ORIGIN_CALL\"] = LE_ORIGIN_CALL.transform(df_test[\"ORIGIN_CALL\"])\n",
    "df_test[\"ORIGIN_STAND\"] = LE_ORIGIN_STAND.transform(df_test[\"ORIGIN_STAND\"])"
   ],
   "metadata": {
    "collapsed": false,
    "ExecuteTime": {
     "start_time": "2023-05-11T13:35:25.005558Z",
     "end_time": "2023-05-11T13:35:25.545348Z"
    }
   }
  },
  {
   "cell_type": "markdown",
   "metadata": {
    "collapsed": false
   },
   "source": [
    "## One-hot encoding for `CALL_TYPE`"
   ]
  },
  {
   "cell_type": "code",
   "execution_count": 14,
   "metadata": {
    "ExecuteTime": {
     "start_time": "2023-05-11T13:35:44.899728Z",
     "end_time": "2023-05-11T13:35:45.781876Z"
    },
    "collapsed": false
   },
   "outputs": [],
   "source": [
    "# one-hot encoding\n",
    "df_train = df_train.join(pd.get_dummies(df_train[\"CALL_TYPE\"]))\n",
    "df_train.drop(labels=\"CALL_TYPE\", axis=1, inplace=True)\n",
    "\n",
    "df_test = df_test.join(pd.get_dummies(df_test[\"CALL_TYPE\"]))\n",
    "df_test.drop(labels=\"CALL_TYPE\", axis=1, inplace=True)"
   ]
  },
  {
   "cell_type": "markdown",
   "metadata": {
    "collapsed": false
   },
   "source": [
    "## Assign indices to TAXI_ID for embeddings"
   ]
  },
  {
   "cell_type": "code",
   "execution_count": 15,
   "metadata": {
    "ExecuteTime": {
     "start_time": "2023-05-11T13:35:51.660546Z",
     "end_time": "2023-05-11T13:35:51.940779Z"
    },
    "collapsed": false
   },
   "outputs": [],
   "source": [
    "# TODO: set taxi id to indices\n",
    "LE_TAXI_ID = LabelEncoder()\n",
    "LE_TAXI_ID.fit(df_train[\"TAXI_ID\"])\n",
    "df_train[\"TAXI_ID\"] = LE_TAXI_ID.transform(df_train[\"TAXI_ID\"])\n",
    "\n",
    "df_test[\"TAXI_ID\"] = LE_TAXI_ID.transform(df_test[\"TAXI_ID\"])"
   ]
  },
  {
   "cell_type": "code",
   "execution_count": 16,
   "metadata": {
    "ExecuteTime": {
     "start_time": "2023-05-11T13:35:53.775782Z",
     "end_time": "2023-05-11T13:35:53.799117Z"
    },
    "collapsed": false
   },
   "outputs": [
    {
     "data": {
      "text/plain": "   ORIGIN_CALL  ORIGIN_STAND  TAXI_ID   TIMESTAMP  \\\n0            0             0      367  1372636858   \n1            0             7      371  1372637303   \n2            0             0      204  1372636951   \n3            0             0      330  1372636854   \n4            0             0      217  1372637091   \n\n                                            POLYLINE      LONG        LAT  A  \\\n0  [[-8.618643,41.141412],[-8.618499,41.141376],[... -8.618643  41.141411  0   \n1  [[-8.639847,41.159826],[-8.640351,41.159871],[... -8.639847  41.159824  0   \n2  [[-8.612964,41.140359],[-8.613378,41.14035],[-... -8.612964  41.140358  0   \n3  [[-8.574678,41.151951],[-8.574705,41.151942],[... -8.574678  41.151951  0   \n4  [[-8.645994,41.18049],[-8.645949,41.180517],[-... -8.645994  41.180489  0   \n\n   B  C  \n0  0  1  \n1  1  0  \n2  0  1  \n3  0  1  \n4  0  1  ",
      "text/html": "<div>\n<style scoped>\n    .dataframe tbody tr th:only-of-type {\n        vertical-align: middle;\n    }\n\n    .dataframe tbody tr th {\n        vertical-align: top;\n    }\n\n    .dataframe thead th {\n        text-align: right;\n    }\n</style>\n<table border=\"1\" class=\"dataframe\">\n  <thead>\n    <tr style=\"text-align: right;\">\n      <th></th>\n      <th>ORIGIN_CALL</th>\n      <th>ORIGIN_STAND</th>\n      <th>TAXI_ID</th>\n      <th>TIMESTAMP</th>\n      <th>POLYLINE</th>\n      <th>LONG</th>\n      <th>LAT</th>\n      <th>A</th>\n      <th>B</th>\n      <th>C</th>\n    </tr>\n  </thead>\n  <tbody>\n    <tr>\n      <th>0</th>\n      <td>0</td>\n      <td>0</td>\n      <td>367</td>\n      <td>1372636858</td>\n      <td>[[-8.618643,41.141412],[-8.618499,41.141376],[...</td>\n      <td>-8.618643</td>\n      <td>41.141411</td>\n      <td>0</td>\n      <td>0</td>\n      <td>1</td>\n    </tr>\n    <tr>\n      <th>1</th>\n      <td>0</td>\n      <td>7</td>\n      <td>371</td>\n      <td>1372637303</td>\n      <td>[[-8.639847,41.159826],[-8.640351,41.159871],[...</td>\n      <td>-8.639847</td>\n      <td>41.159824</td>\n      <td>0</td>\n      <td>1</td>\n      <td>0</td>\n    </tr>\n    <tr>\n      <th>2</th>\n      <td>0</td>\n      <td>0</td>\n      <td>204</td>\n      <td>1372636951</td>\n      <td>[[-8.612964,41.140359],[-8.613378,41.14035],[-...</td>\n      <td>-8.612964</td>\n      <td>41.140358</td>\n      <td>0</td>\n      <td>0</td>\n      <td>1</td>\n    </tr>\n    <tr>\n      <th>3</th>\n      <td>0</td>\n      <td>0</td>\n      <td>330</td>\n      <td>1372636854</td>\n      <td>[[-8.574678,41.151951],[-8.574705,41.151942],[...</td>\n      <td>-8.574678</td>\n      <td>41.151951</td>\n      <td>0</td>\n      <td>0</td>\n      <td>1</td>\n    </tr>\n    <tr>\n      <th>4</th>\n      <td>0</td>\n      <td>0</td>\n      <td>217</td>\n      <td>1372637091</td>\n      <td>[[-8.645994,41.18049],[-8.645949,41.180517],[-...</td>\n      <td>-8.645994</td>\n      <td>41.180489</td>\n      <td>0</td>\n      <td>0</td>\n      <td>1</td>\n    </tr>\n  </tbody>\n</table>\n</div>"
     },
     "execution_count": 16,
     "metadata": {},
     "output_type": "execute_result"
    }
   ],
   "source": [
    "df_train.head()"
   ]
  },
  {
   "cell_type": "code",
   "execution_count": 17,
   "outputs": [
    {
     "data": {
      "text/plain": "   ORIGIN_CALL  ORIGIN_STAND  TAXI_ID   TIMESTAMP      LONG        LAT  A  B  \\\n0            0            15      342  1408039037 -8.585876  41.148628  0  1   \n1            0            57       78  1408038611 -8.610707  41.145718  0  1   \n2            0            15      239  1408038568 -8.585876  41.148628  0  1   \n3            0            53      309  1408039090 -8.614013  41.141209  0  1   \n4            0            18      393  1408039177 -8.619603  41.148319  0  1   \n\n   C  \n0  0  \n1  0  \n2  0  \n3  0  \n4  0  ",
      "text/html": "<div>\n<style scoped>\n    .dataframe tbody tr th:only-of-type {\n        vertical-align: middle;\n    }\n\n    .dataframe tbody tr th {\n        vertical-align: top;\n    }\n\n    .dataframe thead th {\n        text-align: right;\n    }\n</style>\n<table border=\"1\" class=\"dataframe\">\n  <thead>\n    <tr style=\"text-align: right;\">\n      <th></th>\n      <th>ORIGIN_CALL</th>\n      <th>ORIGIN_STAND</th>\n      <th>TAXI_ID</th>\n      <th>TIMESTAMP</th>\n      <th>LONG</th>\n      <th>LAT</th>\n      <th>A</th>\n      <th>B</th>\n      <th>C</th>\n    </tr>\n  </thead>\n  <tbody>\n    <tr>\n      <th>0</th>\n      <td>0</td>\n      <td>15</td>\n      <td>342</td>\n      <td>1408039037</td>\n      <td>-8.585876</td>\n      <td>41.148628</td>\n      <td>0</td>\n      <td>1</td>\n      <td>0</td>\n    </tr>\n    <tr>\n      <th>1</th>\n      <td>0</td>\n      <td>57</td>\n      <td>78</td>\n      <td>1408038611</td>\n      <td>-8.610707</td>\n      <td>41.145718</td>\n      <td>0</td>\n      <td>1</td>\n      <td>0</td>\n    </tr>\n    <tr>\n      <th>2</th>\n      <td>0</td>\n      <td>15</td>\n      <td>239</td>\n      <td>1408038568</td>\n      <td>-8.585876</td>\n      <td>41.148628</td>\n      <td>0</td>\n      <td>1</td>\n      <td>0</td>\n    </tr>\n    <tr>\n      <th>3</th>\n      <td>0</td>\n      <td>53</td>\n      <td>309</td>\n      <td>1408039090</td>\n      <td>-8.614013</td>\n      <td>41.141209</td>\n      <td>0</td>\n      <td>1</td>\n      <td>0</td>\n    </tr>\n    <tr>\n      <th>4</th>\n      <td>0</td>\n      <td>18</td>\n      <td>393</td>\n      <td>1408039177</td>\n      <td>-8.619603</td>\n      <td>41.148319</td>\n      <td>0</td>\n      <td>1</td>\n      <td>0</td>\n    </tr>\n  </tbody>\n</table>\n</div>"
     },
     "execution_count": 17,
     "metadata": {},
     "output_type": "execute_result"
    }
   ],
   "source": [
    "df_test.head()"
   ],
   "metadata": {
    "collapsed": false,
    "ExecuteTime": {
     "start_time": "2023-05-11T13:35:59.898463Z",
     "end_time": "2023-05-11T13:35:59.934439Z"
    }
   }
  },
  {
   "cell_type": "markdown",
   "metadata": {
    "collapsed": false
   },
   "source": [
    "## Convert `TIMESTAMP` column to quarter hours, week of year, etc."
   ]
  },
  {
   "cell_type": "code",
   "execution_count": 18,
   "metadata": {
    "ExecuteTime": {
     "start_time": "2023-05-11T13:36:13.745075Z",
     "end_time": "2023-05-11T13:36:26.404827Z"
    },
    "collapsed": false
   },
   "outputs": [],
   "source": [
    "df_train[\"YEAR\"] = df_train[\"TIMESTAMP\"].apply(lambda x: datetime.fromtimestamp(x).year)\n",
    "df_train[\"WK_OF_YR\"] = df_train[\"TIMESTAMP\"].apply(lambda x: datetime.fromtimestamp(x).isocalendar().week)\n",
    "df_train[\"WK_DAY\"] = df_train[\"TIMESTAMP\"].apply(lambda x: datetime.fromtimestamp(x).weekday()) # WHY ARE YOU LIKE THIS??? ALL THE OTHERS ARE FIELDS\n",
    "df_train[\"QTR_HR\"] = df_train[\"TIMESTAMP\"].apply(lambda x: datetime.fromtimestamp(x).hour + 0.25 * (datetime.fromtimestamp(x).minute // 15))\n",
    "\n",
    "df_train.drop(labels=\"TIMESTAMP\", axis=1, inplace=True)\n",
    "\n",
    "\n",
    "df_test[\"YEAR\"] = df_test[\"TIMESTAMP\"].apply(lambda x: datetime.fromtimestamp(x).year)\n",
    "df_test[\"WK_OF_YR\"] = df_test[\"TIMESTAMP\"].apply(lambda x: datetime.fromtimestamp(x).isocalendar().week)\n",
    "df_test[\"WK_DAY\"] = df_test[\"TIMESTAMP\"].apply(lambda x: datetime.fromtimestamp(x).weekday()) # WHY ARE YOU LIKE THIS??? ALL THE OTHERS ARE FIELDS\n",
    "df_test[\"QTR_HR\"] = df_test[\"TIMESTAMP\"].apply(lambda x: datetime.fromtimestamp(x).hour + 0.25 * (datetime.fromtimestamp(x).minute // 15))\n",
    "\n",
    "df_test.drop(labels=\"TIMESTAMP\", axis=1, inplace=True)\n"
   ]
  },
  {
   "cell_type": "code",
   "execution_count": null,
   "metadata": {
    "ExecuteTime": {
     "start_time": "2023-05-07T23:12:18.252984Z",
     "end_time": "2023-05-07T23:12:18.265987Z"
    },
    "collapsed": false
   },
   "outputs": [],
   "source": [
    "# LE_WK_OF_YR = LabelEncoder()\n",
    "# LE_WK_OF_YR.fit(df_train[\"WK_OF_YR\"])\n",
    "# df_train[\"WK_OF_YR\"] = LE_WK_OF_YR.transform(df_train[\"WK_OF_YR\"])\n",
    "#\n",
    "# LE_WK_DAY = LabelEncoder()\n",
    "# LE_WK_DAY.fit(df_train[\"WK_DAY\"])\n",
    "# df_train[\"WK_DAY\"] = LE_WK_DAY.transform(df_train[\"WK_DAY\"])\n",
    "#\n",
    "# LE_QTR_HR = LabelEncoder()\n",
    "# LE_QTR_HR.fit(df_train[\"QTR_HR\"])\n",
    "# df_train[\"QTR_HR\"] = LE_QTR_HR.transform(df_train[\"QTR_HR\"])"
   ]
  },
  {
   "cell_type": "code",
   "execution_count": null,
   "metadata": {
    "ExecuteTime": {
     "start_time": "2023-05-07T23:12:18.283981Z",
     "end_time": "2023-05-07T23:12:18.431983Z"
    },
    "collapsed": false
   },
   "outputs": [],
   "source": [
    "df_train.head()"
   ]
  },
  {
   "cell_type": "markdown",
   "metadata": {
    "collapsed": false
   },
   "source": [
    "## Convert `POLYLINE` column to `TARGET` column."
   ]
  },
  {
   "cell_type": "code",
   "execution_count": 19,
   "metadata": {
    "ExecuteTime": {
     "start_time": "2023-05-11T13:36:36.362538Z",
     "end_time": "2023-05-11T13:36:40.172049Z"
    },
    "collapsed": false
   },
   "outputs": [],
   "source": [
    "df_train[\"TARGET\"] = df_train[\"POLYLINE\"].apply(lambda x : 15 * max(x.count(\"[\") - 1, 0))\n",
    "df_train.drop(labels=\"POLYLINE\", axis=1, inplace=True)\n",
    "\n",
    "# wtf am i doing\n",
    "# df_test[\"TARGET\"] = df_test[\"POLYLINE\"].apply(lambda x : 15 * max(x.count(\"[\") - 1, 0))\n",
    "# df_test.drop(labels=\"POLYLINE\", axis=1, inplace=True)"
   ]
  },
  {
   "cell_type": "markdown",
   "metadata": {
    "collapsed": false
   },
   "source": [
    "## Get information for embeddings later"
   ]
  },
  {
   "cell_type": "code",
   "execution_count": null,
   "metadata": {
    "ExecuteTime": {
     "start_time": "2023-05-07T23:12:24.222161Z",
     "end_time": "2023-05-07T23:12:24.236165Z"
    },
    "collapsed": false
   },
   "outputs": [],
   "source": [
    "# print(f\"CALL_TYPE: 3\")\n",
    "# print(f\"ORIGIN_CALL: {len(df_train['ORIGIN_CALL'].unique())}\")\n",
    "# print(f\"ORIGIN_STAND: {len(df_train['ORIGIN_STAND'].unique())}\")\n",
    "# print(f\"TAXI_ID: {len(df_train['TAXI_ID'].unique())}\")\n",
    "# print(f\"Unique week #: {len(df_train['WK_OF_YR'].unique())}\")\n",
    "# print(f\"Unique qtr hrs #: {len(df_train['QTR_HR'].unique())}\")"
   ]
  },
  {
   "cell_type": "code",
   "execution_count": 20,
   "outputs": [
    {
     "data": {
      "text/plain": "array([    0, 15138, 15935, ..., 20172,  2514, 28680], dtype=int64)"
     },
     "execution_count": 20,
     "metadata": {},
     "output_type": "execute_result"
    }
   ],
   "source": [
    "df_train[\"ORIGIN_CALL\"].unique()"
   ],
   "metadata": {
    "collapsed": false,
    "ExecuteTime": {
     "start_time": "2023-05-11T13:36:45.870496Z",
     "end_time": "2023-05-11T13:36:45.904805Z"
    }
   }
  },
  {
   "cell_type": "markdown",
   "metadata": {
    "collapsed": false
   },
   "source": [
    "## Export"
   ]
  },
  {
   "cell_type": "code",
   "execution_count": 21,
   "metadata": {
    "ExecuteTime": {
     "start_time": "2023-05-11T13:36:48.393768Z",
     "end_time": "2023-05-11T13:36:48.426913Z"
    },
    "collapsed": false
   },
   "outputs": [
    {
     "data": {
      "text/plain": "   ORIGIN_CALL  ORIGIN_STAND  TAXI_ID      LONG        LAT  A  B  C  YEAR  \\\n0            0             0      367 -8.618643  41.141411  0  0  1  2013   \n1            0             7      371 -8.639847  41.159824  0  1  0  2013   \n2            0             0      204 -8.612964  41.140358  0  0  1  2013   \n3            0             0      330 -8.574678  41.151951  0  0  1  2013   \n4            0             0      217 -8.645994  41.180489  0  0  1  2013   \n\n   WK_OF_YR  WK_DAY  QTR_HR  TARGET  \n0        26       6    17.0     345  \n1        26       6    17.0     285  \n2        26       6    17.0     975  \n3        26       6    17.0     645  \n4        26       6    17.0     435  ",
      "text/html": "<div>\n<style scoped>\n    .dataframe tbody tr th:only-of-type {\n        vertical-align: middle;\n    }\n\n    .dataframe tbody tr th {\n        vertical-align: top;\n    }\n\n    .dataframe thead th {\n        text-align: right;\n    }\n</style>\n<table border=\"1\" class=\"dataframe\">\n  <thead>\n    <tr style=\"text-align: right;\">\n      <th></th>\n      <th>ORIGIN_CALL</th>\n      <th>ORIGIN_STAND</th>\n      <th>TAXI_ID</th>\n      <th>LONG</th>\n      <th>LAT</th>\n      <th>A</th>\n      <th>B</th>\n      <th>C</th>\n      <th>YEAR</th>\n      <th>WK_OF_YR</th>\n      <th>WK_DAY</th>\n      <th>QTR_HR</th>\n      <th>TARGET</th>\n    </tr>\n  </thead>\n  <tbody>\n    <tr>\n      <th>0</th>\n      <td>0</td>\n      <td>0</td>\n      <td>367</td>\n      <td>-8.618643</td>\n      <td>41.141411</td>\n      <td>0</td>\n      <td>0</td>\n      <td>1</td>\n      <td>2013</td>\n      <td>26</td>\n      <td>6</td>\n      <td>17.0</td>\n      <td>345</td>\n    </tr>\n    <tr>\n      <th>1</th>\n      <td>0</td>\n      <td>7</td>\n      <td>371</td>\n      <td>-8.639847</td>\n      <td>41.159824</td>\n      <td>0</td>\n      <td>1</td>\n      <td>0</td>\n      <td>2013</td>\n      <td>26</td>\n      <td>6</td>\n      <td>17.0</td>\n      <td>285</td>\n    </tr>\n    <tr>\n      <th>2</th>\n      <td>0</td>\n      <td>0</td>\n      <td>204</td>\n      <td>-8.612964</td>\n      <td>41.140358</td>\n      <td>0</td>\n      <td>0</td>\n      <td>1</td>\n      <td>2013</td>\n      <td>26</td>\n      <td>6</td>\n      <td>17.0</td>\n      <td>975</td>\n    </tr>\n    <tr>\n      <th>3</th>\n      <td>0</td>\n      <td>0</td>\n      <td>330</td>\n      <td>-8.574678</td>\n      <td>41.151951</td>\n      <td>0</td>\n      <td>0</td>\n      <td>1</td>\n      <td>2013</td>\n      <td>26</td>\n      <td>6</td>\n      <td>17.0</td>\n      <td>645</td>\n    </tr>\n    <tr>\n      <th>4</th>\n      <td>0</td>\n      <td>0</td>\n      <td>217</td>\n      <td>-8.645994</td>\n      <td>41.180489</td>\n      <td>0</td>\n      <td>0</td>\n      <td>1</td>\n      <td>2013</td>\n      <td>26</td>\n      <td>6</td>\n      <td>17.0</td>\n      <td>435</td>\n    </tr>\n  </tbody>\n</table>\n</div>"
     },
     "execution_count": 21,
     "metadata": {},
     "output_type": "execute_result"
    }
   ],
   "source": [
    "df_train.head()\n",
    "# df_test.head()"
   ]
  },
  {
   "cell_type": "code",
   "execution_count": 22,
   "metadata": {
    "ExecuteTime": {
     "start_time": "2023-05-11T13:36:51.041192Z",
     "end_time": "2023-05-11T13:36:51.065862Z"
    },
    "collapsed": false
   },
   "outputs": [
    {
     "data": {
      "text/plain": "   ORIGIN_CALL  ORIGIN_STAND  TAXI_ID      LONG        LAT  A  B  C  YEAR  \\\n0            0            15      342 -8.585876  41.148628  0  1  0  2014   \n1            0            57       78 -8.610707  41.145718  0  1  0  2014   \n2            0            15      239 -8.585876  41.148628  0  1  0  2014   \n3            0            53      309 -8.614013  41.141209  0  1  0  2014   \n4            0            18      393 -8.619603  41.148319  0  1  0  2014   \n\n   WK_OF_YR  WK_DAY  QTR_HR  \n0        33       3   10.75  \n1        33       3   10.75  \n2        33       3   10.75  \n3        33       3   10.75  \n4        33       3   10.75  ",
      "text/html": "<div>\n<style scoped>\n    .dataframe tbody tr th:only-of-type {\n        vertical-align: middle;\n    }\n\n    .dataframe tbody tr th {\n        vertical-align: top;\n    }\n\n    .dataframe thead th {\n        text-align: right;\n    }\n</style>\n<table border=\"1\" class=\"dataframe\">\n  <thead>\n    <tr style=\"text-align: right;\">\n      <th></th>\n      <th>ORIGIN_CALL</th>\n      <th>ORIGIN_STAND</th>\n      <th>TAXI_ID</th>\n      <th>LONG</th>\n      <th>LAT</th>\n      <th>A</th>\n      <th>B</th>\n      <th>C</th>\n      <th>YEAR</th>\n      <th>WK_OF_YR</th>\n      <th>WK_DAY</th>\n      <th>QTR_HR</th>\n    </tr>\n  </thead>\n  <tbody>\n    <tr>\n      <th>0</th>\n      <td>0</td>\n      <td>15</td>\n      <td>342</td>\n      <td>-8.585876</td>\n      <td>41.148628</td>\n      <td>0</td>\n      <td>1</td>\n      <td>0</td>\n      <td>2014</td>\n      <td>33</td>\n      <td>3</td>\n      <td>10.75</td>\n    </tr>\n    <tr>\n      <th>1</th>\n      <td>0</td>\n      <td>57</td>\n      <td>78</td>\n      <td>-8.610707</td>\n      <td>41.145718</td>\n      <td>0</td>\n      <td>1</td>\n      <td>0</td>\n      <td>2014</td>\n      <td>33</td>\n      <td>3</td>\n      <td>10.75</td>\n    </tr>\n    <tr>\n      <th>2</th>\n      <td>0</td>\n      <td>15</td>\n      <td>239</td>\n      <td>-8.585876</td>\n      <td>41.148628</td>\n      <td>0</td>\n      <td>1</td>\n      <td>0</td>\n      <td>2014</td>\n      <td>33</td>\n      <td>3</td>\n      <td>10.75</td>\n    </tr>\n    <tr>\n      <th>3</th>\n      <td>0</td>\n      <td>53</td>\n      <td>309</td>\n      <td>-8.614013</td>\n      <td>41.141209</td>\n      <td>0</td>\n      <td>1</td>\n      <td>0</td>\n      <td>2014</td>\n      <td>33</td>\n      <td>3</td>\n      <td>10.75</td>\n    </tr>\n    <tr>\n      <th>4</th>\n      <td>0</td>\n      <td>18</td>\n      <td>393</td>\n      <td>-8.619603</td>\n      <td>41.148319</td>\n      <td>0</td>\n      <td>1</td>\n      <td>0</td>\n      <td>2014</td>\n      <td>33</td>\n      <td>3</td>\n      <td>10.75</td>\n    </tr>\n  </tbody>\n</table>\n</div>"
     },
     "execution_count": 22,
     "metadata": {},
     "output_type": "execute_result"
    }
   ],
   "source": [
    "df_test.head()"
   ]
  },
  {
   "attachments": {},
   "cell_type": "markdown",
   "metadata": {},
   "source": [
    "### Remove outliers"
   ]
  },
  {
   "cell_type": "code",
   "execution_count": 23,
   "metadata": {
    "ExecuteTime": {
     "start_time": "2023-05-11T13:37:08.226388Z",
     "end_time": "2023-05-11T13:37:08.521392Z"
    }
   },
   "outputs": [],
   "source": [
    "df_train = df_train[df_train[\"TARGET\"] > 30]\n",
    "df_train = df_train[df_train[\"TARGET\"] < df_train[\"TARGET\"].mean() + 5 * df_train[\"TARGET\"].std()]"
   ]
  },
  {
   "cell_type": "markdown",
   "metadata": {
    "collapsed": false
   },
   "source": [
    "### [0, 1] Normalization"
   ]
  },
  {
   "cell_type": "code",
   "execution_count": 24,
   "metadata": {
    "ExecuteTime": {
     "start_time": "2023-05-11T13:37:12.265793Z",
     "end_time": "2023-05-11T13:37:12.298798Z"
    },
    "collapsed": false
   },
   "outputs": [],
   "source": [
    "from sklearn.preprocessing import normalize\n",
    "df_train[\"YEAR\"] -= 2013\n",
    "df_test[\"YEAR\"] -= 2013\n",
    "# df_train[\"YEAR\"] = normalize(df_train[\"YEAR\"])\n",
    "\n",
    "# TODO: do in ensemble.ipynb"
   ]
  },
  {
   "cell_type": "code",
   "execution_count": null,
   "metadata": {
    "ExecuteTime": {
     "start_time": "2023-05-07T23:12:24.867164Z",
     "end_time": "2023-05-07T23:12:25.024171Z"
    },
    "collapsed": false
   },
   "outputs": [],
   "source": []
  },
  {
   "cell_type": "markdown",
   "metadata": {
    "collapsed": false
   },
   "source": [
    "#### Split training set"
   ]
  },
  {
   "cell_type": "code",
   "execution_count": 25,
   "metadata": {
    "ExecuteTime": {
     "start_time": "2023-05-11T13:37:19.955857Z",
     "end_time": "2023-05-11T13:38:19.754298Z"
    },
    "collapsed": false
   },
   "outputs": [],
   "source": [
    "df_train = df_train.sample(frac=1).reset_index(drop=True)\n",
    "df_valid = df_train[int(0.9 * len(df_train)):]\n",
    "df_train = df_train[:int(0.9 * len(df_train))]\n",
    "df_train.to_csv(\"data/processed_trainv5.csv\", index=False)\n",
    "df_valid.to_csv(\"data/processed_validv5.csv\", index=False)\n",
    "df_test.to_csv(\"data/processed_testv5.csv\", index=False)\n"
   ]
  }
 ],
 "metadata": {
  "kernelspec": {
   "display_name": "Python 3",
   "language": "python",
   "name": "python3"
  },
  "language_info": {
   "codemirror_mode": {
    "name": "ipython",
    "version": 3
   },
   "file_extension": ".py",
   "mimetype": "text/x-python",
   "name": "python",
   "nbconvert_exporter": "python",
   "pygments_lexer": "ipython3",
   "version": "3.9.7"
  },
  "orig_nbformat": 4
 },
 "nbformat": 4,
 "nbformat_minor": 2
}
