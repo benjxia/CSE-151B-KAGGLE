{
 "cells": [
  {
   "cell_type": "markdown",
   "metadata": {
    "collapsed": false
   },
   "source": [
    "## Imports"
   ]
  },
  {
   "cell_type": "code",
   "execution_count": 2,
   "metadata": {
    "ExecuteTime": {
     "start_time": "2023-05-13T20:20:17.743391Z",
     "end_time": "2023-05-13T20:20:17.761466Z"
    }
   },
   "outputs": [],
   "source": [
    "import pandas as pd\n",
    "import numpy as np\n",
    "from sklearn.preprocessing import LabelEncoder, OneHotEncoder\n",
    "from datetime import datetime\n"
   ]
  },
  {
   "cell_type": "markdown",
   "metadata": {
    "collapsed": false
   },
   "source": [
    "## Load `train.csv`"
   ]
  },
  {
   "cell_type": "code",
   "execution_count": 57,
   "metadata": {
    "ExecuteTime": {
     "start_time": "2023-05-13T21:18:01.125136Z",
     "end_time": "2023-05-13T21:18:29.556107Z"
    }
   },
   "outputs": [],
   "source": [
    "df_train: pd.DataFrame = pd.read_csv(\"data/train.csv\")\n",
    "\n",
    "df_test: pd.DataFrame = pd.read_csv(\"data/test_public.csv\")"
   ]
  },
  {
   "cell_type": "code",
   "execution_count": 62,
   "metadata": {
    "ExecuteTime": {
     "start_time": "2023-05-13T21:19:06.934807Z",
     "end_time": "2023-05-13T21:19:07.035282Z"
    }
   },
   "outputs": [
    {
     "data": {
      "text/plain": "0          False\n1          False\n2          False\n3          False\n4          False\n           ...  \n1710665    False\n1710666    False\n1710667    False\n1710668    False\n1710669    False\nName: TIMESTAMP, Length: 1710670, dtype: bool"
     },
     "execution_count": 62,
     "metadata": {},
     "output_type": "execute_result"
    }
   ],
   "source": [
    "df_train.head()\n",
    "df_train[\"TIMESTAMP\"] == None"
   ]
  },
  {
   "cell_type": "markdown",
   "source": [
    "### Add coordinates"
   ],
   "metadata": {
    "collapsed": false
   }
  },
  {
   "cell_type": "code",
   "execution_count": 5,
   "outputs": [],
   "source": [
    "# start_coords = np.load(\"./data_analysis/start_full.npy\")\n",
    "# start_test = np.load(\"./data_analysis/start_test.npy\")\n",
    "# df_train[\"LONG\"] = start_coords[:, 0]\n",
    "# df_train[\"LAT\"] = start_coords[:, 1]\n",
    "#\n",
    "# df_test[\"LONG\"] = start_test[:, 0]\n",
    "# df_test[\"LAT\"] = start_test[:, 1]\n",
    "\n"
   ],
   "metadata": {
    "collapsed": false,
    "ExecuteTime": {
     "start_time": "2023-05-11T13:34:35.898014Z",
     "end_time": "2023-05-11T13:34:35.961207Z"
    }
   }
  },
  {
   "cell_type": "markdown",
   "metadata": {
    "collapsed": false
   },
   "source": [
    "## Delete rows where `MISSING_DATA` is true and delete column `MISSING_DATA`"
   ]
  },
  {
   "cell_type": "code",
   "execution_count": 63,
   "metadata": {
    "ExecuteTime": {
     "start_time": "2023-05-13T21:19:13.348341Z",
     "end_time": "2023-05-13T21:19:14.056435Z"
    },
    "collapsed": false
   },
   "outputs": [],
   "source": [
    "df_train.drop(df_train[df_train[\"MISSING_DATA\"] == True].index, inplace=True)\n",
    "df_train.drop(labels=\"MISSING_DATA\", axis=1, inplace=True)\n",
    "\n",
    "df_test.drop(df_test[df_test[\"MISSING_DATA\"] == True].index, inplace=True)\n",
    "df_test.drop(labels=\"MISSING_DATA\", axis=1, inplace=True)"
   ]
  },
  {
   "cell_type": "markdown",
   "metadata": {
    "collapsed": false
   },
   "source": [
    "## Delete column `DAY_TYPE`"
   ]
  },
  {
   "cell_type": "code",
   "execution_count": 64,
   "metadata": {
    "ExecuteTime": {
     "start_time": "2023-05-13T21:19:16.234228Z",
     "end_time": "2023-05-13T21:19:16.408950Z"
    },
    "collapsed": false
   },
   "outputs": [],
   "source": [
    "df_train.drop(labels=\"DAY_TYPE\", axis=1, inplace=True)\n",
    "\n",
    "df_test.drop(labels=\"DAY_TYPE\", axis=1, inplace=True)"
   ]
  },
  {
   "cell_type": "markdown",
   "metadata": {
    "collapsed": false
   },
   "source": [
    "## Delete column `TRIP_ID`"
   ]
  },
  {
   "cell_type": "code",
   "execution_count": 65,
   "metadata": {
    "ExecuteTime": {
     "start_time": "2023-05-13T21:19:18.529474Z",
     "end_time": "2023-05-13T21:19:18.547672Z"
    },
    "collapsed": false
   },
   "outputs": [],
   "source": [
    "df_train.drop(labels=\"TRIP_ID\", axis=1, inplace=True)\n",
    "\n",
    "df_test.drop(labels=\"TRIP_ID\", axis=1, inplace=True)"
   ]
  },
  {
   "cell_type": "markdown",
   "metadata": {
    "collapsed": false
   },
   "source": [
    "## Set `ORIGIN_STAND` and `ORIGIN_CALL` to 0 for entries with null `ORIGIN_STAND`"
   ]
  },
  {
   "cell_type": "code",
   "execution_count": 66,
   "metadata": {
    "ExecuteTime": {
     "start_time": "2023-05-13T21:19:24.539455Z",
     "end_time": "2023-05-13T21:19:24.706501Z"
    },
    "collapsed": false
   },
   "outputs": [],
   "source": [
    "# df_train.at[pd.isna(df_train[\"ORIGIN_CALL\"]) == True, \"ORIGIN_CALL\"] = 0\n",
    "# df_train.at[pd.isna(df_train[\"ORIGIN_STAND\"]) == True, \"ORIGIN_STAND\"] = 0\n",
    "#\n",
    "# df_test.at[pd.isna(df_test[\"ORIGIN_CALL\"]) == True, \"ORIGIN_CALL\"] = 0\n",
    "# df_test.at[pd.isna(df_test[\"ORIGIN_STAND\"]) == True, \"ORIGIN_STAND\"] = 0\n",
    "\n",
    "df_train.drop(labels=\"ORIGIN_CALL\", axis=1, inplace=True)\n",
    "df_test.drop(labels=\"ORIGIN_CALL\", axis=1, inplace=True)\n",
    "\n",
    "df_train.drop(labels=\"ORIGIN_STAND\", axis=1, inplace=True)\n",
    "df_test.drop(labels=\"ORIGIN_STAND\", axis=1, inplace=True)"
   ]
  },
  {
   "cell_type": "markdown",
   "source": [
    "### Convert ORIGIN_CALL to indices for embeddings"
   ],
   "metadata": {
    "collapsed": false
   }
  },
  {
   "cell_type": "code",
   "execution_count": 10,
   "metadata": {
    "ExecuteTime": {
     "start_time": "2023-05-11T13:35:08.585592Z",
     "end_time": "2023-05-11T13:35:09.587734Z"
    },
    "collapsed": false
   },
   "outputs": [],
   "source": [
    "# NOTE: EMBEDDING INFO STUFF\n",
    "# TODO: Convert ORIGIN_CALL to embeddings, impute missing values\n",
    "# Look for caller's with 1 total taxi ride, set them all to some default index (Training set)\n",
    "# Look for callers in test set not in training set -> set them to the default index\n",
    "# Set nn.embeddings pad_idx to that default idx\n",
    "# val_cnt = df_train[\"ORIGIN_CALL\"].value_counts().to_dict()\n",
    "# df_train[\"ORIGIN_CALL\"] = df_train[\"ORIGIN_CALL\"].map(lambda x : x  if val_cnt[x] > 1 else 0 )"
   ]
  },
  {
   "cell_type": "code",
   "execution_count": 11,
   "outputs": [
    {
     "data": {
      "text/plain": "0.0        1373970\n2002.0       57571\n63882.0       6406\n2001.0        2499\n13168.0       1314\n            ...   \n63189.0          2\n50313.0          2\n53254.0          2\n3675.0           2\n62998.0          2\nName: ORIGIN_CALL, Length: 29027, dtype: int64"
     },
     "execution_count": 11,
     "metadata": {},
     "output_type": "execute_result"
    }
   ],
   "source": [
    "df_train[\"ORIGIN_CALL\"].value_counts()"
   ],
   "metadata": {
    "collapsed": false,
    "ExecuteTime": {
     "start_time": "2023-05-11T13:35:11.449931Z",
     "end_time": "2023-05-11T13:35:11.495936Z"
    }
   }
  },
  {
   "cell_type": "code",
   "execution_count": 12,
   "outputs": [
    {
     "name": "stderr",
     "output_type": "stream",
     "text": [
      "C:\\Users\\benjx\\AppData\\Local\\Temp/ipykernel_14680/1392256516.py:5: SettingWithCopyWarning: \n",
      "A value is trying to be set on a copy of a slice from a DataFrame\n",
      "\n",
      "See the caveats in the documentation: https://pandas.pydata.org/pandas-docs/stable/user_guide/indexing.html#returning-a-view-versus-a-copy\n",
      "  new_col[i] = 0\n"
     ]
    }
   ],
   "source": [
    "# multi_occurrences = set(df_train[\"ORIGIN_CALL\"].unique())\n",
    "# new_col = df_test[\"ORIGIN_CALL\"]\n",
    "# for i, x in enumerate(new_col):\n",
    "#     if x not in multi_occurrences:\n",
    "#         new_col[i] = 0\n",
    "# df_test[\"ORIGIN_CALL\"] = new_col"
   ],
   "metadata": {
    "collapsed": false,
    "ExecuteTime": {
     "start_time": "2023-05-11T13:35:15.000571Z",
     "end_time": "2023-05-11T13:35:15.080571Z"
    }
   }
  },
  {
   "cell_type": "code",
   "execution_count": 13,
   "outputs": [],
   "source": [
    "# LE_ORIGIN_CALL = LabelEncoder()\n",
    "# LE_ORIGIN_CALL.fit(df_train[\"ORIGIN_CALL\"])\n",
    "# df_train[\"ORIGIN_CALL\"] = LE_ORIGIN_CALL.transform(df_train[\"ORIGIN_CALL\"])\n",
    "#\n",
    "# LE_ORIGIN_STAND = LabelEncoder()\n",
    "# LE_ORIGIN_STAND.fit(df_train[\"ORIGIN_STAND\"])\n",
    "# df_train[\"ORIGIN_STAND\"] = LE_ORIGIN_STAND.transform(df_train[\"ORIGIN_STAND\"])\n",
    "#\n",
    "#\n",
    "# df_test[\"ORIGIN_CALL\"] = LE_ORIGIN_CALL.transform(df_test[\"ORIGIN_CALL\"])\n",
    "# df_test[\"ORIGIN_STAND\"] = LE_ORIGIN_STAND.transform(df_test[\"ORIGIN_STAND\"])"
   ],
   "metadata": {
    "collapsed": false,
    "ExecuteTime": {
     "start_time": "2023-05-11T13:35:25.005558Z",
     "end_time": "2023-05-11T13:35:25.545348Z"
    }
   }
  },
  {
   "cell_type": "markdown",
   "metadata": {
    "collapsed": false
   },
   "source": [
    "## One-hot encoding for `CALL_TYPE`"
   ]
  },
  {
   "cell_type": "code",
   "execution_count": 89,
   "metadata": {
    "ExecuteTime": {
     "start_time": "2023-05-13T21:31:15.336020Z",
     "end_time": "2023-05-13T21:31:16.554623Z"
    },
    "collapsed": false
   },
   "outputs": [],
   "source": [
    "# one-hot encoding\n",
    "df_train = df_train.join(pd.get_dummies(df_train[\"CALL_TYPE\"]))\n",
    "df_train.drop(labels=\"CALL_TYPE\", axis=1, inplace=True)\n",
    "\n",
    "df_test = df_test.join(pd.get_dummies(df_test[\"CALL_TYPE\"]))\n",
    "df_test.drop(labels=\"CALL_TYPE\", axis=1, inplace=True)"
   ]
  },
  {
   "cell_type": "markdown",
   "metadata": {
    "collapsed": false
   },
   "source": [
    "## Assign indices to TAXI_ID for embeddings"
   ]
  },
  {
   "cell_type": "code",
   "execution_count": 15,
   "metadata": {
    "ExecuteTime": {
     "start_time": "2023-05-11T13:35:51.660546Z",
     "end_time": "2023-05-11T13:35:51.940779Z"
    },
    "collapsed": false
   },
   "outputs": [],
   "source": [
    "# TODO: set taxi id to indices\n",
    "LE_TAXI_ID = LabelEncoder()\n",
    "LE_TAXI_ID.fit(df_train[\"TAXI_ID\"])\n",
    "df_train[\"TAXI_ID\"] = LE_TAXI_ID.transform(df_train[\"TAXI_ID\"])\n",
    "\n",
    "df_test[\"TAXI_ID\"] = LE_TAXI_ID.transform(df_test[\"TAXI_ID\"])"
   ]
  },
  {
   "cell_type": "code",
   "execution_count": 67,
   "outputs": [],
   "source": [
    "df_train.drop(labels=\"TAXI_ID\", axis=1, inplace=True)\n",
    "df_test.drop(labels=\"TAXI_ID\", axis=1, inplace=True)"
   ],
   "metadata": {
    "collapsed": false,
    "ExecuteTime": {
     "start_time": "2023-05-13T21:19:35.417376Z",
     "end_time": "2023-05-13T21:19:35.563335Z"
    }
   }
  },
  {
   "cell_type": "code",
   "execution_count": 68,
   "metadata": {
    "ExecuteTime": {
     "start_time": "2023-05-13T21:19:37.809846Z",
     "end_time": "2023-05-13T21:19:37.986303Z"
    },
    "collapsed": false
   },
   "outputs": [
    {
     "data": {
      "text/plain": "  CALL_TYPE   TIMESTAMP                                           POLYLINE\n0         C  1372636858  [[-8.618643,41.141412],[-8.618499,41.141376],[...\n1         B  1372637303  [[-8.639847,41.159826],[-8.640351,41.159871],[...\n2         C  1372636951  [[-8.612964,41.140359],[-8.613378,41.14035],[-...\n3         C  1372636854  [[-8.574678,41.151951],[-8.574705,41.151942],[...\n4         C  1372637091  [[-8.645994,41.18049],[-8.645949,41.180517],[-...",
      "text/html": "<div>\n<style scoped>\n    .dataframe tbody tr th:only-of-type {\n        vertical-align: middle;\n    }\n\n    .dataframe tbody tr th {\n        vertical-align: top;\n    }\n\n    .dataframe thead th {\n        text-align: right;\n    }\n</style>\n<table border=\"1\" class=\"dataframe\">\n  <thead>\n    <tr style=\"text-align: right;\">\n      <th></th>\n      <th>CALL_TYPE</th>\n      <th>TIMESTAMP</th>\n      <th>POLYLINE</th>\n    </tr>\n  </thead>\n  <tbody>\n    <tr>\n      <th>0</th>\n      <td>C</td>\n      <td>1372636858</td>\n      <td>[[-8.618643,41.141412],[-8.618499,41.141376],[...</td>\n    </tr>\n    <tr>\n      <th>1</th>\n      <td>B</td>\n      <td>1372637303</td>\n      <td>[[-8.639847,41.159826],[-8.640351,41.159871],[...</td>\n    </tr>\n    <tr>\n      <th>2</th>\n      <td>C</td>\n      <td>1372636951</td>\n      <td>[[-8.612964,41.140359],[-8.613378,41.14035],[-...</td>\n    </tr>\n    <tr>\n      <th>3</th>\n      <td>C</td>\n      <td>1372636854</td>\n      <td>[[-8.574678,41.151951],[-8.574705,41.151942],[...</td>\n    </tr>\n    <tr>\n      <th>4</th>\n      <td>C</td>\n      <td>1372637091</td>\n      <td>[[-8.645994,41.18049],[-8.645949,41.180517],[-...</td>\n    </tr>\n  </tbody>\n</table>\n</div>"
     },
     "execution_count": 68,
     "metadata": {},
     "output_type": "execute_result"
    }
   ],
   "source": [
    "df_train.head()"
   ]
  },
  {
   "cell_type": "code",
   "execution_count": 73,
   "outputs": [
    {
     "data": {
      "text/plain": "1710660"
     },
     "execution_count": 73,
     "metadata": {},
     "output_type": "execute_result"
    }
   ],
   "source": [
    "len(df_train[\"POLYLINE\"])"
   ],
   "metadata": {
    "collapsed": false,
    "ExecuteTime": {
     "start_time": "2023-05-13T21:21:03.744871Z",
     "end_time": "2023-05-13T21:21:03.846868Z"
    }
   }
  },
  {
   "cell_type": "code",
   "execution_count": 17,
   "outputs": [
    {
     "data": {
      "text/plain": "   ORIGIN_CALL  ORIGIN_STAND  TAXI_ID   TIMESTAMP      LONG        LAT  A  B  \\\n0            0            15      342  1408039037 -8.585876  41.148628  0  1   \n1            0            57       78  1408038611 -8.610707  41.145718  0  1   \n2            0            15      239  1408038568 -8.585876  41.148628  0  1   \n3            0            53      309  1408039090 -8.614013  41.141209  0  1   \n4            0            18      393  1408039177 -8.619603  41.148319  0  1   \n\n   C  \n0  0  \n1  0  \n2  0  \n3  0  \n4  0  ",
      "text/html": "<div>\n<style scoped>\n    .dataframe tbody tr th:only-of-type {\n        vertical-align: middle;\n    }\n\n    .dataframe tbody tr th {\n        vertical-align: top;\n    }\n\n    .dataframe thead th {\n        text-align: right;\n    }\n</style>\n<table border=\"1\" class=\"dataframe\">\n  <thead>\n    <tr style=\"text-align: right;\">\n      <th></th>\n      <th>ORIGIN_CALL</th>\n      <th>ORIGIN_STAND</th>\n      <th>TAXI_ID</th>\n      <th>TIMESTAMP</th>\n      <th>LONG</th>\n      <th>LAT</th>\n      <th>A</th>\n      <th>B</th>\n      <th>C</th>\n    </tr>\n  </thead>\n  <tbody>\n    <tr>\n      <th>0</th>\n      <td>0</td>\n      <td>15</td>\n      <td>342</td>\n      <td>1408039037</td>\n      <td>-8.585876</td>\n      <td>41.148628</td>\n      <td>0</td>\n      <td>1</td>\n      <td>0</td>\n    </tr>\n    <tr>\n      <th>1</th>\n      <td>0</td>\n      <td>57</td>\n      <td>78</td>\n      <td>1408038611</td>\n      <td>-8.610707</td>\n      <td>41.145718</td>\n      <td>0</td>\n      <td>1</td>\n      <td>0</td>\n    </tr>\n    <tr>\n      <th>2</th>\n      <td>0</td>\n      <td>15</td>\n      <td>239</td>\n      <td>1408038568</td>\n      <td>-8.585876</td>\n      <td>41.148628</td>\n      <td>0</td>\n      <td>1</td>\n      <td>0</td>\n    </tr>\n    <tr>\n      <th>3</th>\n      <td>0</td>\n      <td>53</td>\n      <td>309</td>\n      <td>1408039090</td>\n      <td>-8.614013</td>\n      <td>41.141209</td>\n      <td>0</td>\n      <td>1</td>\n      <td>0</td>\n    </tr>\n    <tr>\n      <th>4</th>\n      <td>0</td>\n      <td>18</td>\n      <td>393</td>\n      <td>1408039177</td>\n      <td>-8.619603</td>\n      <td>41.148319</td>\n      <td>0</td>\n      <td>1</td>\n      <td>0</td>\n    </tr>\n  </tbody>\n</table>\n</div>"
     },
     "execution_count": 17,
     "metadata": {},
     "output_type": "execute_result"
    }
   ],
   "source": [
    "df_test.head()"
   ],
   "metadata": {
    "collapsed": false,
    "ExecuteTime": {
     "start_time": "2023-05-11T13:35:59.898463Z",
     "end_time": "2023-05-11T13:35:59.934439Z"
    }
   }
  },
  {
   "cell_type": "markdown",
   "metadata": {
    "collapsed": false
   },
   "source": [
    "## Convert `TIMESTAMP` column to quarter hours, week of year, etc."
   ]
  },
  {
   "cell_type": "code",
   "execution_count": 74,
   "metadata": {
    "ExecuteTime": {
     "start_time": "2023-05-13T21:21:39.245966Z",
     "end_time": "2023-05-13T21:21:53.132053Z"
    },
    "collapsed": false
   },
   "outputs": [],
   "source": [
    "df_train[\"YEAR\"] = df_train[\"TIMESTAMP\"].apply(lambda x: datetime.fromtimestamp(x).year)\n",
    "df_train[\"MONTH\"] = df_train[\"TIMESTAMP\"].apply(lambda x: datetime.fromtimestamp(x).month)\n",
    "df_train[\"DAY\"] = df_train[\"TIMESTAMP\"].apply(lambda x: datetime.fromtimestamp(x).day)\n",
    "df_train[\"WEEKDAY\"] = df_train[\"TIMESTAMP\"].apply(lambda x: datetime.fromtimestamp(x).weekday()) # WHY ARE YOU LIKE THIS??? ALL THE OTHERS ARE FIELDS\n",
    "df_train[\"HR\"] = df_train[\"TIMESTAMP\"].apply(lambda x: datetime.fromtimestamp(x).hour)\n",
    "df_train.drop(labels=\"TIMESTAMP\", axis=1, inplace=True)\n",
    "\n",
    "df_test[\"YEAR\"] = df_test[\"TIMESTAMP\"].apply(lambda x: datetime.fromtimestamp(x).year)\n",
    "df_test[\"MONTH\"] = df_test[\"TIMESTAMP\"].apply(lambda x: datetime.fromtimestamp(x).month)\n",
    "df_test[\"DAY\"] = df_test[\"TIMESTAMP\"].apply(lambda x: datetime.fromtimestamp(x).day)\n",
    "df_test[\"WEEKDAY\"] = df_test[\"TIMESTAMP\"].apply(lambda x: datetime.fromtimestamp(x).weekday())\n",
    "df_test[\"HR\"] = df_test[\"TIMESTAMP\"].apply(lambda x: datetime.fromtimestamp(x).hour)\n",
    "df_test.drop(labels=\"TIMESTAMP\", axis=1, inplace=True)"
   ]
  },
  {
   "cell_type": "code",
   "execution_count": null,
   "metadata": {
    "ExecuteTime": {
     "start_time": "2023-05-07T23:12:18.252984Z",
     "end_time": "2023-05-07T23:12:18.265987Z"
    },
    "collapsed": false
   },
   "outputs": [],
   "source": [
    "# LE_WK_OF_YR = LabelEncoder()\n",
    "# LE_WK_OF_YR.fit(df_train[\"WK_OF_YR\"])\n",
    "# df_train[\"WK_OF_YR\"] = LE_WK_OF_YR.transform(df_train[\"WK_OF_YR\"])\n",
    "#\n",
    "# LE_WK_DAY = LabelEncoder()\n",
    "# LE_WK_DAY.fit(df_train[\"WK_DAY\"])\n",
    "# df_train[\"WK_DAY\"] = LE_WK_DAY.transform(df_train[\"WK_DAY\"])\n",
    "#\n",
    "# LE_QTR_HR = LabelEncoder()\n",
    "# LE_QTR_HR.fit(df_train[\"QTR_HR\"])\n",
    "# df_train[\"QTR_HR\"] = LE_QTR_HR.transform(df_train[\"QTR_HR\"])"
   ]
  },
  {
   "cell_type": "code",
   "execution_count": 90,
   "metadata": {
    "ExecuteTime": {
     "start_time": "2023-05-13T21:31:20.954948Z",
     "end_time": "2023-05-13T21:31:21.098945Z"
    },
    "collapsed": false
   },
   "outputs": [
    {
     "data": {
      "text/plain": "   YEAR_2013  YEAR_2014  MONTH_1  MONTH_2  MONTH_3  MONTH_4  MONTH_5  MONTH_6  \\\n0        0.0        1.0      0.0      0.0      0.0      0.0      0.0      0.0   \n1        0.0        1.0      0.0      0.0      0.0      0.0      0.0      0.0   \n2        0.0        1.0      0.0      0.0      0.0      0.0      0.0      0.0   \n3        0.0        1.0      0.0      0.0      0.0      0.0      0.0      0.0   \n4        0.0        1.0      0.0      0.0      0.0      0.0      0.0      0.0   \n\n   MONTH_7  MONTH_8  ...  HR_17  HR_18  HR_19  HR_20  HR_21  HR_22  HR_23  A  \\\n0      0.0      1.0  ...    0.0    0.0    0.0    0.0    0.0    0.0    0.0  0   \n1      0.0      1.0  ...    0.0    0.0    0.0    0.0    0.0    0.0    0.0  0   \n2      0.0      1.0  ...    0.0    0.0    0.0    0.0    0.0    0.0    0.0  0   \n3      0.0      1.0  ...    0.0    0.0    0.0    0.0    0.0    0.0    0.0  0   \n4      0.0      1.0  ...    0.0    0.0    0.0    0.0    0.0    0.0    0.0  0   \n\n   B  C  \n0  1  0  \n1  1  0  \n2  1  0  \n3  1  0  \n4  1  0  \n\n[5 rows x 79 columns]",
      "text/html": "<div>\n<style scoped>\n    .dataframe tbody tr th:only-of-type {\n        vertical-align: middle;\n    }\n\n    .dataframe tbody tr th {\n        vertical-align: top;\n    }\n\n    .dataframe thead th {\n        text-align: right;\n    }\n</style>\n<table border=\"1\" class=\"dataframe\">\n  <thead>\n    <tr style=\"text-align: right;\">\n      <th></th>\n      <th>YEAR_2013</th>\n      <th>YEAR_2014</th>\n      <th>MONTH_1</th>\n      <th>MONTH_2</th>\n      <th>MONTH_3</th>\n      <th>MONTH_4</th>\n      <th>MONTH_5</th>\n      <th>MONTH_6</th>\n      <th>MONTH_7</th>\n      <th>MONTH_8</th>\n      <th>...</th>\n      <th>HR_17</th>\n      <th>HR_18</th>\n      <th>HR_19</th>\n      <th>HR_20</th>\n      <th>HR_21</th>\n      <th>HR_22</th>\n      <th>HR_23</th>\n      <th>A</th>\n      <th>B</th>\n      <th>C</th>\n    </tr>\n  </thead>\n  <tbody>\n    <tr>\n      <th>0</th>\n      <td>0.0</td>\n      <td>1.0</td>\n      <td>0.0</td>\n      <td>0.0</td>\n      <td>0.0</td>\n      <td>0.0</td>\n      <td>0.0</td>\n      <td>0.0</td>\n      <td>0.0</td>\n      <td>1.0</td>\n      <td>...</td>\n      <td>0.0</td>\n      <td>0.0</td>\n      <td>0.0</td>\n      <td>0.0</td>\n      <td>0.0</td>\n      <td>0.0</td>\n      <td>0.0</td>\n      <td>0</td>\n      <td>1</td>\n      <td>0</td>\n    </tr>\n    <tr>\n      <th>1</th>\n      <td>0.0</td>\n      <td>1.0</td>\n      <td>0.0</td>\n      <td>0.0</td>\n      <td>0.0</td>\n      <td>0.0</td>\n      <td>0.0</td>\n      <td>0.0</td>\n      <td>0.0</td>\n      <td>1.0</td>\n      <td>...</td>\n      <td>0.0</td>\n      <td>0.0</td>\n      <td>0.0</td>\n      <td>0.0</td>\n      <td>0.0</td>\n      <td>0.0</td>\n      <td>0.0</td>\n      <td>0</td>\n      <td>1</td>\n      <td>0</td>\n    </tr>\n    <tr>\n      <th>2</th>\n      <td>0.0</td>\n      <td>1.0</td>\n      <td>0.0</td>\n      <td>0.0</td>\n      <td>0.0</td>\n      <td>0.0</td>\n      <td>0.0</td>\n      <td>0.0</td>\n      <td>0.0</td>\n      <td>1.0</td>\n      <td>...</td>\n      <td>0.0</td>\n      <td>0.0</td>\n      <td>0.0</td>\n      <td>0.0</td>\n      <td>0.0</td>\n      <td>0.0</td>\n      <td>0.0</td>\n      <td>0</td>\n      <td>1</td>\n      <td>0</td>\n    </tr>\n    <tr>\n      <th>3</th>\n      <td>0.0</td>\n      <td>1.0</td>\n      <td>0.0</td>\n      <td>0.0</td>\n      <td>0.0</td>\n      <td>0.0</td>\n      <td>0.0</td>\n      <td>0.0</td>\n      <td>0.0</td>\n      <td>1.0</td>\n      <td>...</td>\n      <td>0.0</td>\n      <td>0.0</td>\n      <td>0.0</td>\n      <td>0.0</td>\n      <td>0.0</td>\n      <td>0.0</td>\n      <td>0.0</td>\n      <td>0</td>\n      <td>1</td>\n      <td>0</td>\n    </tr>\n    <tr>\n      <th>4</th>\n      <td>0.0</td>\n      <td>1.0</td>\n      <td>0.0</td>\n      <td>0.0</td>\n      <td>0.0</td>\n      <td>0.0</td>\n      <td>0.0</td>\n      <td>0.0</td>\n      <td>0.0</td>\n      <td>1.0</td>\n      <td>...</td>\n      <td>0.0</td>\n      <td>0.0</td>\n      <td>0.0</td>\n      <td>0.0</td>\n      <td>0.0</td>\n      <td>0.0</td>\n      <td>0.0</td>\n      <td>0</td>\n      <td>1</td>\n      <td>0</td>\n    </tr>\n  </tbody>\n</table>\n<p>5 rows × 79 columns</p>\n</div>"
     },
     "execution_count": 90,
     "metadata": {},
     "output_type": "execute_result"
    }
   ],
   "source": [
    "df_test.head()"
   ]
  },
  {
   "cell_type": "code",
   "execution_count": 37,
   "outputs": [
    {
     "data": {
      "text/plain": "OneHotEncoder()",
      "text/html": "<style>#sk-container-id-1 {color: black;background-color: white;}#sk-container-id-1 pre{padding: 0;}#sk-container-id-1 div.sk-toggleable {background-color: white;}#sk-container-id-1 label.sk-toggleable__label {cursor: pointer;display: block;width: 100%;margin-bottom: 0;padding: 0.3em;box-sizing: border-box;text-align: center;}#sk-container-id-1 label.sk-toggleable__label-arrow:before {content: \"▸\";float: left;margin-right: 0.25em;color: #696969;}#sk-container-id-1 label.sk-toggleable__label-arrow:hover:before {color: black;}#sk-container-id-1 div.sk-estimator:hover label.sk-toggleable__label-arrow:before {color: black;}#sk-container-id-1 div.sk-toggleable__content {max-height: 0;max-width: 0;overflow: hidden;text-align: left;background-color: #f0f8ff;}#sk-container-id-1 div.sk-toggleable__content pre {margin: 0.2em;color: black;border-radius: 0.25em;background-color: #f0f8ff;}#sk-container-id-1 input.sk-toggleable__control:checked~div.sk-toggleable__content {max-height: 200px;max-width: 100%;overflow: auto;}#sk-container-id-1 input.sk-toggleable__control:checked~label.sk-toggleable__label-arrow:before {content: \"▾\";}#sk-container-id-1 div.sk-estimator input.sk-toggleable__control:checked~label.sk-toggleable__label {background-color: #d4ebff;}#sk-container-id-1 div.sk-label input.sk-toggleable__control:checked~label.sk-toggleable__label {background-color: #d4ebff;}#sk-container-id-1 input.sk-hidden--visually {border: 0;clip: rect(1px 1px 1px 1px);clip: rect(1px, 1px, 1px, 1px);height: 1px;margin: -1px;overflow: hidden;padding: 0;position: absolute;width: 1px;}#sk-container-id-1 div.sk-estimator {font-family: monospace;background-color: #f0f8ff;border: 1px dotted black;border-radius: 0.25em;box-sizing: border-box;margin-bottom: 0.5em;}#sk-container-id-1 div.sk-estimator:hover {background-color: #d4ebff;}#sk-container-id-1 div.sk-parallel-item::after {content: \"\";width: 100%;border-bottom: 1px solid gray;flex-grow: 1;}#sk-container-id-1 div.sk-label:hover label.sk-toggleable__label {background-color: #d4ebff;}#sk-container-id-1 div.sk-serial::before {content: \"\";position: absolute;border-left: 1px solid gray;box-sizing: border-box;top: 0;bottom: 0;left: 50%;z-index: 0;}#sk-container-id-1 div.sk-serial {display: flex;flex-direction: column;align-items: center;background-color: white;padding-right: 0.2em;padding-left: 0.2em;position: relative;}#sk-container-id-1 div.sk-item {position: relative;z-index: 1;}#sk-container-id-1 div.sk-parallel {display: flex;align-items: stretch;justify-content: center;background-color: white;position: relative;}#sk-container-id-1 div.sk-item::before, #sk-container-id-1 div.sk-parallel-item::before {content: \"\";position: absolute;border-left: 1px solid gray;box-sizing: border-box;top: 0;bottom: 0;left: 50%;z-index: -1;}#sk-container-id-1 div.sk-parallel-item {display: flex;flex-direction: column;z-index: 1;position: relative;background-color: white;}#sk-container-id-1 div.sk-parallel-item:first-child::after {align-self: flex-end;width: 50%;}#sk-container-id-1 div.sk-parallel-item:last-child::after {align-self: flex-start;width: 50%;}#sk-container-id-1 div.sk-parallel-item:only-child::after {width: 0;}#sk-container-id-1 div.sk-dashed-wrapped {border: 1px dashed gray;margin: 0 0.4em 0.5em 0.4em;box-sizing: border-box;padding-bottom: 0.4em;background-color: white;}#sk-container-id-1 div.sk-label label {font-family: monospace;font-weight: bold;display: inline-block;line-height: 1.2em;}#sk-container-id-1 div.sk-label-container {text-align: center;}#sk-container-id-1 div.sk-container {/* jupyter's `normalize.less` sets `[hidden] { display: none; }` but bootstrap.min.css set `[hidden] { display: none !important; }` so we also need the `!important` here to be able to override the default hidden behavior on the sphinx rendered scikit-learn.org. See: https://github.com/scikit-learn/scikit-learn/issues/21755 */display: inline-block !important;position: relative;}#sk-container-id-1 div.sk-text-repr-fallback {display: none;}</style><div id=\"sk-container-id-1\" class=\"sk-top-container\"><div class=\"sk-text-repr-fallback\"><pre>OneHotEncoder()</pre><b>In a Jupyter environment, please rerun this cell to show the HTML representation or trust the notebook. <br />On GitHub, the HTML representation is unable to render, please try loading this page with nbviewer.org.</b></div><div class=\"sk-container\" hidden><div class=\"sk-item\"><div class=\"sk-estimator sk-toggleable\"><input class=\"sk-toggleable__control sk-hidden--visually\" id=\"sk-estimator-id-1\" type=\"checkbox\" checked><label for=\"sk-estimator-id-1\" class=\"sk-toggleable__label sk-toggleable__label-arrow\">OneHotEncoder</label><div class=\"sk-toggleable__content\"><pre>OneHotEncoder()</pre></div></div></div></div></div>"
     },
     "execution_count": 37,
     "metadata": {},
     "output_type": "execute_result"
    }
   ],
   "source": [
    "encoder = OneHotEncoder()\n",
    "encoder.fit(df_train[[\"YEAR\", \"MONTH\", \"DAY\", \"WEEKDAY\", \"HR\"]])"
   ],
   "metadata": {
    "collapsed": false,
    "ExecuteTime": {
     "start_time": "2023-05-13T20:45:15.583016Z",
     "end_time": "2023-05-13T20:45:16.574198Z"
    }
   }
  },
  {
   "cell_type": "code",
   "execution_count": 76,
   "outputs": [
    {
     "name": "stderr",
     "output_type": "stream",
     "text": [
      "C:\\Users\\benjx\\AppData\\Roaming\\Python\\Python39\\site-packages\\sklearn\\base.py:409: UserWarning: X does not have valid feature names, but OneHotEncoder was fitted with feature names\n",
      "  warnings.warn(\n",
      "C:\\Users\\benjx\\AppData\\Roaming\\Python\\Python39\\site-packages\\sklearn\\base.py:409: UserWarning: X does not have valid feature names, but OneHotEncoder was fitted with feature names\n",
      "  warnings.warn(\n"
     ]
    }
   ],
   "source": [
    "transformed = encoder.transform(df_train[[\"YEAR\", \"MONTH\", \"DAY\", \"WEEKDAY\", \"HR\"]].to_numpy())\n",
    "#Create a Pandas DataFrame of the hot encoded column\n",
    "ohe_df = pd.DataFrame.sparse.from_spmatrix(transformed)\n",
    "ohe_df.columns = encoder.get_feature_names_out()\n",
    "#concat with original data\n",
    "df_train = pd.concat([df_train, ohe_df], axis=1).drop([\"YEAR\", \"MONTH\", \"DAY\", \"WEEKDAY\", \"HR\"], axis=1)\n",
    "\n",
    "transformed = encoder.transform(df_test[[\"YEAR\", \"MONTH\", \"DAY\", \"WEEKDAY\", \"HR\"]].to_numpy())\n",
    "#Create a Pandas DataFrame of the hot encoded column\n",
    "ohe_df = pd.DataFrame.sparse.from_spmatrix(transformed)\n",
    "ohe_df.columns = encoder.get_feature_names_out()\n",
    "#concat with original data\n",
    "df_test = pd.concat([df_test, ohe_df], axis=1).drop([\"YEAR\", \"MONTH\", \"DAY\", \"WEEKDAY\", \"HR\"], axis=1)"
   ],
   "metadata": {
    "collapsed": false,
    "ExecuteTime": {
     "start_time": "2023-05-13T21:24:46.626471Z",
     "end_time": "2023-05-13T21:25:05.480893Z"
    }
   }
  },
  {
   "cell_type": "markdown",
   "metadata": {
    "collapsed": false
   },
   "source": [
    "## Convert `POLYLINE` column to `TARGET` column."
   ]
  },
  {
   "cell_type": "code",
   "execution_count": 88,
   "outputs": [
    {
     "data": {
      "text/plain": "  CALL_TYPE                                           POLYLINE  YEAR_2013  \\\n0         C  [[-8.618643,41.141412],[-8.618499,41.141376],[...        1.0   \n1         B  [[-8.639847,41.159826],[-8.640351,41.159871],[...        1.0   \n2         C  [[-8.612964,41.140359],[-8.613378,41.14035],[-...        1.0   \n3         C  [[-8.574678,41.151951],[-8.574705,41.151942],[...        1.0   \n4         C  [[-8.645994,41.18049],[-8.645949,41.180517],[-...        1.0   \n\n   YEAR_2014  MONTH_1  MONTH_2  MONTH_3  MONTH_4  MONTH_5  MONTH_6  ...  \\\n0        0.0      0.0      0.0      0.0      0.0      0.0      1.0  ...   \n1        0.0      0.0      0.0      0.0      0.0      0.0      1.0  ...   \n2        0.0      0.0      0.0      0.0      0.0      0.0      1.0  ...   \n3        0.0      0.0      0.0      0.0      0.0      0.0      1.0  ...   \n4        0.0      0.0      0.0      0.0      0.0      0.0      1.0  ...   \n\n   HR_14  HR_15  HR_16  HR_17  HR_18  HR_19  HR_20  HR_21  HR_22  HR_23  \n0    0.0    0.0    0.0    1.0    0.0    0.0    0.0    0.0    0.0    0.0  \n1    0.0    0.0    0.0    1.0    0.0    0.0    0.0    0.0    0.0    0.0  \n2    0.0    0.0    0.0    1.0    0.0    0.0    0.0    0.0    0.0    0.0  \n3    0.0    0.0    0.0    1.0    0.0    0.0    0.0    0.0    0.0    0.0  \n4    0.0    0.0    0.0    1.0    0.0    0.0    0.0    0.0    0.0    0.0  \n\n[5 rows x 78 columns]",
      "text/html": "<div>\n<style scoped>\n    .dataframe tbody tr th:only-of-type {\n        vertical-align: middle;\n    }\n\n    .dataframe tbody tr th {\n        vertical-align: top;\n    }\n\n    .dataframe thead th {\n        text-align: right;\n    }\n</style>\n<table border=\"1\" class=\"dataframe\">\n  <thead>\n    <tr style=\"text-align: right;\">\n      <th></th>\n      <th>CALL_TYPE</th>\n      <th>POLYLINE</th>\n      <th>YEAR_2013</th>\n      <th>YEAR_2014</th>\n      <th>MONTH_1</th>\n      <th>MONTH_2</th>\n      <th>MONTH_3</th>\n      <th>MONTH_4</th>\n      <th>MONTH_5</th>\n      <th>MONTH_6</th>\n      <th>...</th>\n      <th>HR_14</th>\n      <th>HR_15</th>\n      <th>HR_16</th>\n      <th>HR_17</th>\n      <th>HR_18</th>\n      <th>HR_19</th>\n      <th>HR_20</th>\n      <th>HR_21</th>\n      <th>HR_22</th>\n      <th>HR_23</th>\n    </tr>\n  </thead>\n  <tbody>\n    <tr>\n      <th>0</th>\n      <td>C</td>\n      <td>[[-8.618643,41.141412],[-8.618499,41.141376],[...</td>\n      <td>1.0</td>\n      <td>0.0</td>\n      <td>0.0</td>\n      <td>0.0</td>\n      <td>0.0</td>\n      <td>0.0</td>\n      <td>0.0</td>\n      <td>1.0</td>\n      <td>...</td>\n      <td>0.0</td>\n      <td>0.0</td>\n      <td>0.0</td>\n      <td>1.0</td>\n      <td>0.0</td>\n      <td>0.0</td>\n      <td>0.0</td>\n      <td>0.0</td>\n      <td>0.0</td>\n      <td>0.0</td>\n    </tr>\n    <tr>\n      <th>1</th>\n      <td>B</td>\n      <td>[[-8.639847,41.159826],[-8.640351,41.159871],[...</td>\n      <td>1.0</td>\n      <td>0.0</td>\n      <td>0.0</td>\n      <td>0.0</td>\n      <td>0.0</td>\n      <td>0.0</td>\n      <td>0.0</td>\n      <td>1.0</td>\n      <td>...</td>\n      <td>0.0</td>\n      <td>0.0</td>\n      <td>0.0</td>\n      <td>1.0</td>\n      <td>0.0</td>\n      <td>0.0</td>\n      <td>0.0</td>\n      <td>0.0</td>\n      <td>0.0</td>\n      <td>0.0</td>\n    </tr>\n    <tr>\n      <th>2</th>\n      <td>C</td>\n      <td>[[-8.612964,41.140359],[-8.613378,41.14035],[-...</td>\n      <td>1.0</td>\n      <td>0.0</td>\n      <td>0.0</td>\n      <td>0.0</td>\n      <td>0.0</td>\n      <td>0.0</td>\n      <td>0.0</td>\n      <td>1.0</td>\n      <td>...</td>\n      <td>0.0</td>\n      <td>0.0</td>\n      <td>0.0</td>\n      <td>1.0</td>\n      <td>0.0</td>\n      <td>0.0</td>\n      <td>0.0</td>\n      <td>0.0</td>\n      <td>0.0</td>\n      <td>0.0</td>\n    </tr>\n    <tr>\n      <th>3</th>\n      <td>C</td>\n      <td>[[-8.574678,41.151951],[-8.574705,41.151942],[...</td>\n      <td>1.0</td>\n      <td>0.0</td>\n      <td>0.0</td>\n      <td>0.0</td>\n      <td>0.0</td>\n      <td>0.0</td>\n      <td>0.0</td>\n      <td>1.0</td>\n      <td>...</td>\n      <td>0.0</td>\n      <td>0.0</td>\n      <td>0.0</td>\n      <td>1.0</td>\n      <td>0.0</td>\n      <td>0.0</td>\n      <td>0.0</td>\n      <td>0.0</td>\n      <td>0.0</td>\n      <td>0.0</td>\n    </tr>\n    <tr>\n      <th>4</th>\n      <td>C</td>\n      <td>[[-8.645994,41.18049],[-8.645949,41.180517],[-...</td>\n      <td>1.0</td>\n      <td>0.0</td>\n      <td>0.0</td>\n      <td>0.0</td>\n      <td>0.0</td>\n      <td>0.0</td>\n      <td>0.0</td>\n      <td>1.0</td>\n      <td>...</td>\n      <td>0.0</td>\n      <td>0.0</td>\n      <td>0.0</td>\n      <td>1.0</td>\n      <td>0.0</td>\n      <td>0.0</td>\n      <td>0.0</td>\n      <td>0.0</td>\n      <td>0.0</td>\n      <td>0.0</td>\n    </tr>\n  </tbody>\n</table>\n<p>5 rows × 78 columns</p>\n</div>"
     },
     "execution_count": 88,
     "metadata": {},
     "output_type": "execute_result"
    }
   ],
   "source": [
    "df_train.head()"
   ],
   "metadata": {
    "collapsed": false,
    "ExecuteTime": {
     "start_time": "2023-05-13T21:31:01.237699Z",
     "end_time": "2023-05-13T21:31:01.611445Z"
    }
   }
  },
  {
   "cell_type": "code",
   "execution_count": 85,
   "outputs": [],
   "source": [
    "df_train.dropna(inplace=True)"
   ],
   "metadata": {
    "collapsed": false,
    "ExecuteTime": {
     "start_time": "2023-05-13T21:29:53.386887Z",
     "end_time": "2023-05-13T21:30:16.623508Z"
    }
   }
  },
  {
   "cell_type": "code",
   "execution_count": 51,
   "outputs": [],
   "source": [],
   "metadata": {
    "collapsed": false,
    "ExecuteTime": {
     "start_time": "2023-05-13T20:54:07.220290Z",
     "end_time": "2023-05-13T20:54:11.431732Z"
    }
   }
  },
  {
   "cell_type": "code",
   "execution_count": 91,
   "metadata": {
    "ExecuteTime": {
     "start_time": "2023-05-13T21:31:44.257228Z",
     "end_time": "2023-05-13T21:31:48.872415Z"
    },
    "collapsed": false
   },
   "outputs": [],
   "source": [
    "df_train[\"TARGET\"] = df_train[\"POLYLINE\"].apply(lambda element : 15 * max(element.count(\"[\") - 1, 0))\n",
    "df_train.drop(labels=\"POLYLINE\", axis=1, inplace=True)\n",
    "\n",
    "# wtf am i doing\n",
    "# df_test[\"TARGET\"] = df_test[\"POLYLINE\"].apply(lambda x : 15 * max(x.count(\"[\") - 1, 0))\n",
    "# df_test.drop(labels=\"POLYLINE\", axis=1, inplace=True)"
   ]
  },
  {
   "cell_type": "markdown",
   "metadata": {
    "collapsed": false
   },
   "source": [
    "## Get information for embeddings later"
   ]
  },
  {
   "cell_type": "code",
   "execution_count": null,
   "metadata": {
    "ExecuteTime": {
     "start_time": "2023-05-07T23:12:24.222161Z",
     "end_time": "2023-05-07T23:12:24.236165Z"
    },
    "collapsed": false
   },
   "outputs": [],
   "source": [
    "# print(f\"CALL_TYPE: 3\")\n",
    "# print(f\"ORIGIN_CALL: {len(df_train['ORIGIN_CALL'].unique())}\")\n",
    "# print(f\"ORIGIN_STAND: {len(df_train['ORIGIN_STAND'].unique())}\")\n",
    "# print(f\"TAXI_ID: {len(df_train['TAXI_ID'].unique())}\")\n",
    "# print(f\"Unique week #: {len(df_train['WK_OF_YR'].unique())}\")\n",
    "# print(f\"Unique qtr hrs #: {len(df_train['QTR_HR'].unique())}\")"
   ]
  },
  {
   "cell_type": "code",
   "execution_count": 20,
   "outputs": [
    {
     "data": {
      "text/plain": "array([    0, 15138, 15935, ..., 20172,  2514, 28680], dtype=int64)"
     },
     "execution_count": 20,
     "metadata": {},
     "output_type": "execute_result"
    }
   ],
   "source": [
    "df_train[\"ORIGIN_CALL\"].unique()"
   ],
   "metadata": {
    "collapsed": false,
    "ExecuteTime": {
     "start_time": "2023-05-11T13:36:45.870496Z",
     "end_time": "2023-05-11T13:36:45.904805Z"
    }
   }
  },
  {
   "cell_type": "markdown",
   "metadata": {
    "collapsed": false
   },
   "source": [
    "## Export"
   ]
  },
  {
   "cell_type": "code",
   "execution_count": 93,
   "metadata": {
    "ExecuteTime": {
     "start_time": "2023-05-13T21:32:04.724998Z",
     "end_time": "2023-05-13T21:32:05.244010Z"
    },
    "collapsed": false
   },
   "outputs": [
    {
     "data": {
      "text/plain": "   YEAR_2013  YEAR_2014  MONTH_1  MONTH_2  MONTH_3  MONTH_4  MONTH_5  MONTH_6  \\\n0        1.0        0.0      0.0      0.0      0.0      0.0      0.0      1.0   \n1        1.0        0.0      0.0      0.0      0.0      0.0      0.0      1.0   \n2        1.0        0.0      0.0      0.0      0.0      0.0      0.0      1.0   \n3        1.0        0.0      0.0      0.0      0.0      0.0      0.0      1.0   \n4        1.0        0.0      0.0      0.0      0.0      0.0      0.0      1.0   \n\n   MONTH_7  MONTH_8  ...  HR_18  HR_19  HR_20  HR_21  HR_22  HR_23  A  B  C  \\\n0      0.0      0.0  ...    0.0    0.0    0.0    0.0    0.0    0.0  0  0  1   \n1      0.0      0.0  ...    0.0    0.0    0.0    0.0    0.0    0.0  0  1  0   \n2      0.0      0.0  ...    0.0    0.0    0.0    0.0    0.0    0.0  0  0  1   \n3      0.0      0.0  ...    0.0    0.0    0.0    0.0    0.0    0.0  0  0  1   \n4      0.0      0.0  ...    0.0    0.0    0.0    0.0    0.0    0.0  0  0  1   \n\n   TARGET  \n0     345  \n1     285  \n2     975  \n3     645  \n4     435  \n\n[5 rows x 80 columns]",
      "text/html": "<div>\n<style scoped>\n    .dataframe tbody tr th:only-of-type {\n        vertical-align: middle;\n    }\n\n    .dataframe tbody tr th {\n        vertical-align: top;\n    }\n\n    .dataframe thead th {\n        text-align: right;\n    }\n</style>\n<table border=\"1\" class=\"dataframe\">\n  <thead>\n    <tr style=\"text-align: right;\">\n      <th></th>\n      <th>YEAR_2013</th>\n      <th>YEAR_2014</th>\n      <th>MONTH_1</th>\n      <th>MONTH_2</th>\n      <th>MONTH_3</th>\n      <th>MONTH_4</th>\n      <th>MONTH_5</th>\n      <th>MONTH_6</th>\n      <th>MONTH_7</th>\n      <th>MONTH_8</th>\n      <th>...</th>\n      <th>HR_18</th>\n      <th>HR_19</th>\n      <th>HR_20</th>\n      <th>HR_21</th>\n      <th>HR_22</th>\n      <th>HR_23</th>\n      <th>A</th>\n      <th>B</th>\n      <th>C</th>\n      <th>TARGET</th>\n    </tr>\n  </thead>\n  <tbody>\n    <tr>\n      <th>0</th>\n      <td>1.0</td>\n      <td>0.0</td>\n      <td>0.0</td>\n      <td>0.0</td>\n      <td>0.0</td>\n      <td>0.0</td>\n      <td>0.0</td>\n      <td>1.0</td>\n      <td>0.0</td>\n      <td>0.0</td>\n      <td>...</td>\n      <td>0.0</td>\n      <td>0.0</td>\n      <td>0.0</td>\n      <td>0.0</td>\n      <td>0.0</td>\n      <td>0.0</td>\n      <td>0</td>\n      <td>0</td>\n      <td>1</td>\n      <td>345</td>\n    </tr>\n    <tr>\n      <th>1</th>\n      <td>1.0</td>\n      <td>0.0</td>\n      <td>0.0</td>\n      <td>0.0</td>\n      <td>0.0</td>\n      <td>0.0</td>\n      <td>0.0</td>\n      <td>1.0</td>\n      <td>0.0</td>\n      <td>0.0</td>\n      <td>...</td>\n      <td>0.0</td>\n      <td>0.0</td>\n      <td>0.0</td>\n      <td>0.0</td>\n      <td>0.0</td>\n      <td>0.0</td>\n      <td>0</td>\n      <td>1</td>\n      <td>0</td>\n      <td>285</td>\n    </tr>\n    <tr>\n      <th>2</th>\n      <td>1.0</td>\n      <td>0.0</td>\n      <td>0.0</td>\n      <td>0.0</td>\n      <td>0.0</td>\n      <td>0.0</td>\n      <td>0.0</td>\n      <td>1.0</td>\n      <td>0.0</td>\n      <td>0.0</td>\n      <td>...</td>\n      <td>0.0</td>\n      <td>0.0</td>\n      <td>0.0</td>\n      <td>0.0</td>\n      <td>0.0</td>\n      <td>0.0</td>\n      <td>0</td>\n      <td>0</td>\n      <td>1</td>\n      <td>975</td>\n    </tr>\n    <tr>\n      <th>3</th>\n      <td>1.0</td>\n      <td>0.0</td>\n      <td>0.0</td>\n      <td>0.0</td>\n      <td>0.0</td>\n      <td>0.0</td>\n      <td>0.0</td>\n      <td>1.0</td>\n      <td>0.0</td>\n      <td>0.0</td>\n      <td>...</td>\n      <td>0.0</td>\n      <td>0.0</td>\n      <td>0.0</td>\n      <td>0.0</td>\n      <td>0.0</td>\n      <td>0.0</td>\n      <td>0</td>\n      <td>0</td>\n      <td>1</td>\n      <td>645</td>\n    </tr>\n    <tr>\n      <th>4</th>\n      <td>1.0</td>\n      <td>0.0</td>\n      <td>0.0</td>\n      <td>0.0</td>\n      <td>0.0</td>\n      <td>0.0</td>\n      <td>0.0</td>\n      <td>1.0</td>\n      <td>0.0</td>\n      <td>0.0</td>\n      <td>...</td>\n      <td>0.0</td>\n      <td>0.0</td>\n      <td>0.0</td>\n      <td>0.0</td>\n      <td>0.0</td>\n      <td>0.0</td>\n      <td>0</td>\n      <td>0</td>\n      <td>1</td>\n      <td>435</td>\n    </tr>\n  </tbody>\n</table>\n<p>5 rows × 80 columns</p>\n</div>"
     },
     "execution_count": 93,
     "metadata": {},
     "output_type": "execute_result"
    }
   ],
   "source": [
    "df_train.head()"
   ]
  },
  {
   "attachments": {},
   "cell_type": "markdown",
   "metadata": {},
   "source": [
    "### Remove outliers"
   ]
  },
  {
   "cell_type": "code",
   "execution_count": 94,
   "metadata": {
    "ExecuteTime": {
     "start_time": "2023-05-13T21:32:08.998780Z",
     "end_time": "2023-05-13T21:32:45.891033Z"
    }
   },
   "outputs": [],
   "source": [
    "df_train = df_train[df_train[\"TARGET\"] > 30]\n",
    "df_train = df_train[df_train[\"TARGET\"] < 20000]"
   ]
  },
  {
   "cell_type": "markdown",
   "metadata": {
    "collapsed": false
   },
   "source": [
    "### [0, 1] Normalization"
   ]
  },
  {
   "cell_type": "code",
   "execution_count": 24,
   "metadata": {
    "ExecuteTime": {
     "start_time": "2023-05-11T13:37:12.265793Z",
     "end_time": "2023-05-11T13:37:12.298798Z"
    },
    "collapsed": false
   },
   "outputs": [],
   "source": [
    "from sklearn.preprocessing import normalize\n",
    "df_train[\"YEAR\"] -= 2013\n",
    "df_test[\"YEAR\"] -= 2013\n",
    "# df_train[\"YEAR\"] = normalize(df_train[\"YEAR\"])\n",
    "\n",
    "# TODO: do in ensemble.ipynb"
   ]
  },
  {
   "cell_type": "code",
   "execution_count": null,
   "metadata": {
    "ExecuteTime": {
     "start_time": "2023-05-07T23:12:24.867164Z",
     "end_time": "2023-05-07T23:12:25.024171Z"
    },
    "collapsed": false
   },
   "outputs": [],
   "source": []
  },
  {
   "cell_type": "markdown",
   "metadata": {
    "collapsed": false
   },
   "source": [
    "#### Split training set"
   ]
  },
  {
   "cell_type": "code",
   "execution_count": 95,
   "metadata": {
    "ExecuteTime": {
     "start_time": "2023-05-13T21:32:45.918033Z",
     "end_time": "2023-05-13T21:40:58.894238Z"
    },
    "collapsed": false
   },
   "outputs": [],
   "source": [
    "df_train = df_train.sample(frac=1).reset_index(drop=True)\n",
    "df_valid = df_train[int(0.9 * len(df_train)):]\n",
    "df_train = df_train[:int(0.9 * len(df_train))]\n",
    "df_train.to_csv(\"data/simple_train.csv\", index=False)\n",
    "df_valid.to_csv(\"data/simple_valid.csv\", index=False)\n",
    "df_test.to_csv(\"data/simple_test.csv\", index=False)\n"
   ]
  }
 ],
 "metadata": {
  "kernelspec": {
   "display_name": "Python 3",
   "language": "python",
   "name": "python3"
  },
  "language_info": {
   "codemirror_mode": {
    "name": "ipython",
    "version": 3
   },
   "file_extension": ".py",
   "mimetype": "text/x-python",
   "name": "python",
   "nbconvert_exporter": "python",
   "pygments_lexer": "ipython3",
   "version": "3.9.7"
  },
  "orig_nbformat": 4
 },
 "nbformat": 4,
 "nbformat_minor": 2
}
