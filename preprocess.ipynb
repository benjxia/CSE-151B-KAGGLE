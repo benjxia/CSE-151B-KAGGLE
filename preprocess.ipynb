{
 "cells": [
  {
   "cell_type": "markdown",
   "source": [
    "## Imports"
   ],
   "metadata": {
    "collapsed": false
   }
  },
  {
   "cell_type": "code",
   "execution_count": 1,
   "metadata": {
    "ExecuteTime": {
     "start_time": "2023-04-16T20:11:36.958175Z",
     "end_time": "2023-04-16T20:11:39.760129Z"
    }
   },
   "outputs": [],
   "source": [
    "import pandas as pd\n",
    "import numpy as np\n",
    "from sklearn.preprocessing import LabelEncoder, OneHotEncoder\n",
    "from datetime import datetime"
   ]
  },
  {
   "cell_type": "markdown",
   "source": [
    "## Load `train.csv`"
   ],
   "metadata": {
    "collapsed": false
   }
  },
  {
   "cell_type": "code",
   "execution_count": 2,
   "metadata": {
    "ExecuteTime": {
     "start_time": "2023-04-16T20:11:39.764129Z",
     "end_time": "2023-04-16T20:12:04.321927Z"
    }
   },
   "outputs": [],
   "source": [
    "df: pd.DataFrame = pd.read_csv('data/train.csv')"
   ]
  },
  {
   "cell_type": "code",
   "execution_count": 3,
   "metadata": {
    "ExecuteTime": {
     "start_time": "2023-04-16T20:12:04.331092Z",
     "end_time": "2023-04-16T20:12:04.377082Z"
    }
   },
   "outputs": [
    {
     "data": {
      "text/plain": "               TRIP_ID CALL_TYPE  ORIGIN_CALL  ORIGIN_STAND   TAXI_ID  \\\n0  1372636858620000589         C          NaN           NaN  20000589   \n1  1372637303620000596         B          NaN           7.0  20000596   \n2  1372636951620000320         C          NaN           NaN  20000320   \n3  1372636854620000520         C          NaN           NaN  20000520   \n4  1372637091620000337         C          NaN           NaN  20000337   \n\n    TIMESTAMP DAY_TYPE  MISSING_DATA  \\\n0  1372636858        A         False   \n1  1372637303        A         False   \n2  1372636951        A         False   \n3  1372636854        A         False   \n4  1372637091        A         False   \n\n                                            POLYLINE  \n0  [[-8.618643,41.141412],[-8.618499,41.141376],[...  \n1  [[-8.639847,41.159826],[-8.640351,41.159871],[...  \n2  [[-8.612964,41.140359],[-8.613378,41.14035],[-...  \n3  [[-8.574678,41.151951],[-8.574705,41.151942],[...  \n4  [[-8.645994,41.18049],[-8.645949,41.180517],[-...  ",
      "text/html": "<div>\n<style scoped>\n    .dataframe tbody tr th:only-of-type {\n        vertical-align: middle;\n    }\n\n    .dataframe tbody tr th {\n        vertical-align: top;\n    }\n\n    .dataframe thead th {\n        text-align: right;\n    }\n</style>\n<table border=\"1\" class=\"dataframe\">\n  <thead>\n    <tr style=\"text-align: right;\">\n      <th></th>\n      <th>TRIP_ID</th>\n      <th>CALL_TYPE</th>\n      <th>ORIGIN_CALL</th>\n      <th>ORIGIN_STAND</th>\n      <th>TAXI_ID</th>\n      <th>TIMESTAMP</th>\n      <th>DAY_TYPE</th>\n      <th>MISSING_DATA</th>\n      <th>POLYLINE</th>\n    </tr>\n  </thead>\n  <tbody>\n    <tr>\n      <th>0</th>\n      <td>1372636858620000589</td>\n      <td>C</td>\n      <td>NaN</td>\n      <td>NaN</td>\n      <td>20000589</td>\n      <td>1372636858</td>\n      <td>A</td>\n      <td>False</td>\n      <td>[[-8.618643,41.141412],[-8.618499,41.141376],[...</td>\n    </tr>\n    <tr>\n      <th>1</th>\n      <td>1372637303620000596</td>\n      <td>B</td>\n      <td>NaN</td>\n      <td>7.0</td>\n      <td>20000596</td>\n      <td>1372637303</td>\n      <td>A</td>\n      <td>False</td>\n      <td>[[-8.639847,41.159826],[-8.640351,41.159871],[...</td>\n    </tr>\n    <tr>\n      <th>2</th>\n      <td>1372636951620000320</td>\n      <td>C</td>\n      <td>NaN</td>\n      <td>NaN</td>\n      <td>20000320</td>\n      <td>1372636951</td>\n      <td>A</td>\n      <td>False</td>\n      <td>[[-8.612964,41.140359],[-8.613378,41.14035],[-...</td>\n    </tr>\n    <tr>\n      <th>3</th>\n      <td>1372636854620000520</td>\n      <td>C</td>\n      <td>NaN</td>\n      <td>NaN</td>\n      <td>20000520</td>\n      <td>1372636854</td>\n      <td>A</td>\n      <td>False</td>\n      <td>[[-8.574678,41.151951],[-8.574705,41.151942],[...</td>\n    </tr>\n    <tr>\n      <th>4</th>\n      <td>1372637091620000337</td>\n      <td>C</td>\n      <td>NaN</td>\n      <td>NaN</td>\n      <td>20000337</td>\n      <td>1372637091</td>\n      <td>A</td>\n      <td>False</td>\n      <td>[[-8.645994,41.18049],[-8.645949,41.180517],[-...</td>\n    </tr>\n  </tbody>\n</table>\n</div>"
     },
     "execution_count": 3,
     "metadata": {},
     "output_type": "execute_result"
    }
   ],
   "source": [
    "df.head()"
   ]
  },
  {
   "cell_type": "markdown",
   "source": [
    "## Delete rows where `MISSING_DATA` is true and delete column `MISSING_DATA`"
   ],
   "metadata": {
    "collapsed": false
   }
  },
  {
   "cell_type": "code",
   "execution_count": 4,
   "outputs": [],
   "source": [
    "df.drop(df[df[\"MISSING_DATA\"] == True].index, inplace=True)\n",
    "df.drop(labels=\"MISSING_DATA\", axis=1, inplace=True)"
   ],
   "metadata": {
    "collapsed": false,
    "ExecuteTime": {
     "start_time": "2023-04-16T20:12:04.356080Z",
     "end_time": "2023-04-16T20:12:04.728310Z"
    }
   }
  },
  {
   "cell_type": "markdown",
   "source": [
    "## Delete column `DAY_TYPE`"
   ],
   "metadata": {
    "collapsed": false
   }
  },
  {
   "cell_type": "code",
   "execution_count": 5,
   "outputs": [],
   "source": [
    "df.drop(labels=\"DAY_TYPE\", axis=1, inplace=True)"
   ],
   "metadata": {
    "collapsed": false,
    "ExecuteTime": {
     "start_time": "2023-04-16T20:12:04.755179Z",
     "end_time": "2023-04-16T20:12:04.885797Z"
    }
   }
  },
  {
   "cell_type": "markdown",
   "source": [
    "## Delete column `TRIP_ID`"
   ],
   "metadata": {
    "collapsed": false
   }
  },
  {
   "cell_type": "code",
   "execution_count": 6,
   "outputs": [],
   "source": [
    "df.drop(labels=\"TRIP_ID\", axis=1, inplace=True)"
   ],
   "metadata": {
    "collapsed": false,
    "ExecuteTime": {
     "start_time": "2023-04-16T20:12:04.877798Z",
     "end_time": "2023-04-16T20:12:05.041631Z"
    }
   }
  },
  {
   "cell_type": "markdown",
   "source": [
    "## Set `ORIGIN_STAND` and `ORIGIN_CALL` to 0 for entries with null `ORIGIN_STAND`"
   ],
   "metadata": {
    "collapsed": false
   }
  },
  {
   "cell_type": "code",
   "execution_count": 7,
   "outputs": [],
   "source": [
    "df.at[pd.isna(df[\"ORIGIN_CALL\"]) == True, \"ORIGIN_CALL\"] = 0\n",
    "df.at[pd.isna(df[\"ORIGIN_STAND\"]) == True, \"ORIGIN_STAND\"] = 0\n",
    "# TODO: encoding"
   ],
   "metadata": {
    "collapsed": false,
    "ExecuteTime": {
     "start_time": "2023-04-16T20:12:05.028166Z",
     "end_time": "2023-04-16T20:12:05.203888Z"
    }
   }
  },
  {
   "cell_type": "code",
   "execution_count": 8,
   "outputs": [],
   "source": [
    "# NOTE: EMBEDDINGS\n",
    "LE_ORIGIN_CALL = LabelEncoder()\n",
    "LE_ORIGIN_CALL.fit(df[\"ORIGIN_CALL\"])\n",
    "df[\"ORIGIN_CALL\"] = LE_ORIGIN_CALL.transform(df[\"ORIGIN_CALL\"])\n",
    "LE_ORIGIN_STAND = LabelEncoder()\n",
    "LE_ORIGIN_STAND.fit(df[\"ORIGIN_STAND\"])\n",
    "df[\"ORIGIN_STAND\"] = LE_ORIGIN_STAND.transform(df[\"ORIGIN_STAND\"])"
   ],
   "metadata": {
    "collapsed": false,
    "ExecuteTime": {
     "start_time": "2023-04-16T20:12:05.198887Z",
     "end_time": "2023-04-16T20:12:05.768895Z"
    }
   }
  },
  {
   "cell_type": "markdown",
   "source": [
    "## Assigning integers to `CALL_TYPE`"
   ],
   "metadata": {
    "collapsed": false
   }
  },
  {
   "cell_type": "code",
   "execution_count": 9,
   "outputs": [],
   "source": [
    "# TODO: one-hot encoding?\n",
    "df = df.join(pd.get_dummies(df[\"CALL_TYPE\"]))"
   ],
   "metadata": {
    "collapsed": false,
    "ExecuteTime": {
     "start_time": "2023-04-16T20:12:05.845878Z",
     "end_time": "2023-04-16T20:12:06.067879Z"
    }
   }
  },
  {
   "cell_type": "code",
   "execution_count": 10,
   "outputs": [],
   "source": [
    "df.drop(labels=\"CALL_TYPE\", axis=1, inplace=True)"
   ],
   "metadata": {
    "collapsed": false,
    "ExecuteTime": {
     "start_time": "2023-04-16T20:12:06.070879Z",
     "end_time": "2023-04-16T20:12:06.379417Z"
    }
   }
  },
  {
   "cell_type": "markdown",
   "source": [
    "## Assign indices to TAXI_ID for embeddings"
   ],
   "metadata": {
    "collapsed": false
   }
  },
  {
   "cell_type": "code",
   "execution_count": 11,
   "outputs": [],
   "source": [
    "# TODO: set taxi id to indices\n",
    "LE_TAXI_ID = LabelEncoder()\n",
    "LE_TAXI_ID.fit(df[\"TAXI_ID\"])\n",
    "df[\"TAXI_ID\"] = LE_TAXI_ID.transform(df[\"TAXI_ID\"])"
   ],
   "metadata": {
    "collapsed": false,
    "ExecuteTime": {
     "start_time": "2023-04-16T20:12:06.382418Z",
     "end_time": "2023-04-16T20:12:06.664778Z"
    }
   }
  },
  {
   "cell_type": "code",
   "execution_count": 12,
   "outputs": [
    {
     "data": {
      "text/plain": "   ORIGIN_CALL  ORIGIN_STAND  TAXI_ID   TIMESTAMP  \\\n0            0             0      367  1372636858   \n1            0             7      371  1372637303   \n2            0             0      204  1372636951   \n3            0             0      330  1372636854   \n4            0             0      217  1372637091   \n\n                                            POLYLINE  A  B  C  \n0  [[-8.618643,41.141412],[-8.618499,41.141376],[...  0  0  1  \n1  [[-8.639847,41.159826],[-8.640351,41.159871],[...  0  1  0  \n2  [[-8.612964,41.140359],[-8.613378,41.14035],[-...  0  0  1  \n3  [[-8.574678,41.151951],[-8.574705,41.151942],[...  0  0  1  \n4  [[-8.645994,41.18049],[-8.645949,41.180517],[-...  0  0  1  ",
      "text/html": "<div>\n<style scoped>\n    .dataframe tbody tr th:only-of-type {\n        vertical-align: middle;\n    }\n\n    .dataframe tbody tr th {\n        vertical-align: top;\n    }\n\n    .dataframe thead th {\n        text-align: right;\n    }\n</style>\n<table border=\"1\" class=\"dataframe\">\n  <thead>\n    <tr style=\"text-align: right;\">\n      <th></th>\n      <th>ORIGIN_CALL</th>\n      <th>ORIGIN_STAND</th>\n      <th>TAXI_ID</th>\n      <th>TIMESTAMP</th>\n      <th>POLYLINE</th>\n      <th>A</th>\n      <th>B</th>\n      <th>C</th>\n    </tr>\n  </thead>\n  <tbody>\n    <tr>\n      <th>0</th>\n      <td>0</td>\n      <td>0</td>\n      <td>367</td>\n      <td>1372636858</td>\n      <td>[[-8.618643,41.141412],[-8.618499,41.141376],[...</td>\n      <td>0</td>\n      <td>0</td>\n      <td>1</td>\n    </tr>\n    <tr>\n      <th>1</th>\n      <td>0</td>\n      <td>7</td>\n      <td>371</td>\n      <td>1372637303</td>\n      <td>[[-8.639847,41.159826],[-8.640351,41.159871],[...</td>\n      <td>0</td>\n      <td>1</td>\n      <td>0</td>\n    </tr>\n    <tr>\n      <th>2</th>\n      <td>0</td>\n      <td>0</td>\n      <td>204</td>\n      <td>1372636951</td>\n      <td>[[-8.612964,41.140359],[-8.613378,41.14035],[-...</td>\n      <td>0</td>\n      <td>0</td>\n      <td>1</td>\n    </tr>\n    <tr>\n      <th>3</th>\n      <td>0</td>\n      <td>0</td>\n      <td>330</td>\n      <td>1372636854</td>\n      <td>[[-8.574678,41.151951],[-8.574705,41.151942],[...</td>\n      <td>0</td>\n      <td>0</td>\n      <td>1</td>\n    </tr>\n    <tr>\n      <th>4</th>\n      <td>0</td>\n      <td>0</td>\n      <td>217</td>\n      <td>1372637091</td>\n      <td>[[-8.645994,41.18049],[-8.645949,41.180517],[-...</td>\n      <td>0</td>\n      <td>0</td>\n      <td>1</td>\n    </tr>\n  </tbody>\n</table>\n</div>"
     },
     "execution_count": 12,
     "metadata": {},
     "output_type": "execute_result"
    }
   ],
   "source": [
    "df.head()"
   ],
   "metadata": {
    "collapsed": false,
    "ExecuteTime": {
     "start_time": "2023-04-16T20:12:06.667778Z",
     "end_time": "2023-04-16T20:12:06.679779Z"
    }
   }
  },
  {
   "cell_type": "markdown",
   "source": [
    "## Convert `TIMESTAMP` column to date + time + day of week"
   ],
   "metadata": {
    "collapsed": false
   }
  },
  {
   "cell_type": "code",
   "execution_count": 13,
   "outputs": [],
   "source": [
    "df[\"YEAR\"] = df[\"TIMESTAMP\"].apply(lambda x: datetime.fromtimestamp(x).year)\n",
    "df[\"MONTH\"] = df[\"TIMESTAMP\"].apply(lambda x: datetime.fromtimestamp(x).month)\n",
    "df[\"DAY\"] = df[\"TIMESTAMP\"].apply(lambda x: datetime.fromtimestamp(x).day)\n",
    "df[\"WEEKDAY\"] = df[\"TIMESTAMP\"].apply(lambda x: datetime.fromtimestamp(x).weekday())\n",
    "df[\"HR\"] = df[\"TIMESTAMP\"].apply(lambda x: datetime.fromtimestamp(x).hour)\n",
    "df[\"MIN\"] = df[\"TIMESTAMP\"].apply(lambda x: datetime.fromtimestamp(x).minute)\n",
    "df.drop(labels=\"TIMESTAMP\", axis=1, inplace=True)\n"
   ],
   "metadata": {
    "collapsed": false,
    "ExecuteTime": {
     "start_time": "2023-04-16T20:12:06.681779Z",
     "end_time": "2023-04-16T20:12:17.514243Z"
    }
   }
  },
  {
   "cell_type": "markdown",
   "source": [
    "## Convert `POLYLINE` column to `TARGET` column."
   ],
   "metadata": {
    "collapsed": false
   }
  },
  {
   "cell_type": "code",
   "execution_count": 14,
   "outputs": [],
   "source": [
    "df[\"TARGET\"] = df[\"POLYLINE\"].apply(lambda x : 15 * max(x.count(\"[\") - 1, 0))\n",
    "df.drop(labels=\"POLYLINE\", axis=1, inplace=True)"
   ],
   "metadata": {
    "collapsed": false,
    "ExecuteTime": {
     "start_time": "2023-04-16T20:12:17.552245Z",
     "end_time": "2023-04-16T20:12:21.954183Z"
    }
   }
  },
  {
   "cell_type": "markdown",
   "source": [
    "## Get information for embeddings later"
   ],
   "metadata": {
    "collapsed": false
   }
  },
  {
   "cell_type": "code",
   "execution_count": 18,
   "outputs": [
    {
     "name": "stdout",
     "output_type": "stream",
     "text": [
      "ORIGIN_CALL: 57106\n",
      "ORIGIN_STAND: 64\n",
      "TAXI_ID: 448\n"
     ]
    }
   ],
   "source": [
    "# print(f\"CALL_TYPE: {len(df['CALL_TYPE'].unique())}\")\n",
    "print(f\"ORIGIN_CALL: {len(df['ORIGIN_CALL'].unique())}\")\n",
    "print(f\"ORIGIN_STAND: {len(df['ORIGIN_STAND'].unique())}\")\n",
    "print(f\"TAXI_ID: {len(df['TAXI_ID'].unique())}\")"
   ],
   "metadata": {
    "collapsed": false,
    "ExecuteTime": {
     "start_time": "2023-04-16T20:13:23.949366Z",
     "end_time": "2023-04-16T20:13:24.100844Z"
    }
   }
  },
  {
   "cell_type": "markdown",
   "source": [
    "## Export"
   ],
   "metadata": {
    "collapsed": false
   }
  },
  {
   "cell_type": "code",
   "execution_count": 17,
   "outputs": [
    {
     "data": {
      "text/plain": "   ORIGIN_CALL  ORIGIN_STAND  TAXI_ID  A  B  C  YEAR  MONTH  DAY  WEEKDAY  HR  \\\n0            0             0      367  0  0  1  2013      6   30        6  17   \n1            0             7      371  0  1  0  2013      6   30        6  17   \n2            0             0      204  0  0  1  2013      6   30        6  17   \n3            0             0      330  0  0  1  2013      6   30        6  17   \n4            0             0      217  0  0  1  2013      6   30        6  17   \n\n   MIN  TARGET  \n0    0     345  \n1    8     285  \n2    2     975  \n3    0     645  \n4    4     435  ",
      "text/html": "<div>\n<style scoped>\n    .dataframe tbody tr th:only-of-type {\n        vertical-align: middle;\n    }\n\n    .dataframe tbody tr th {\n        vertical-align: top;\n    }\n\n    .dataframe thead th {\n        text-align: right;\n    }\n</style>\n<table border=\"1\" class=\"dataframe\">\n  <thead>\n    <tr style=\"text-align: right;\">\n      <th></th>\n      <th>ORIGIN_CALL</th>\n      <th>ORIGIN_STAND</th>\n      <th>TAXI_ID</th>\n      <th>A</th>\n      <th>B</th>\n      <th>C</th>\n      <th>YEAR</th>\n      <th>MONTH</th>\n      <th>DAY</th>\n      <th>WEEKDAY</th>\n      <th>HR</th>\n      <th>MIN</th>\n      <th>TARGET</th>\n    </tr>\n  </thead>\n  <tbody>\n    <tr>\n      <th>0</th>\n      <td>0</td>\n      <td>0</td>\n      <td>367</td>\n      <td>0</td>\n      <td>0</td>\n      <td>1</td>\n      <td>2013</td>\n      <td>6</td>\n      <td>30</td>\n      <td>6</td>\n      <td>17</td>\n      <td>0</td>\n      <td>345</td>\n    </tr>\n    <tr>\n      <th>1</th>\n      <td>0</td>\n      <td>7</td>\n      <td>371</td>\n      <td>0</td>\n      <td>1</td>\n      <td>0</td>\n      <td>2013</td>\n      <td>6</td>\n      <td>30</td>\n      <td>6</td>\n      <td>17</td>\n      <td>8</td>\n      <td>285</td>\n    </tr>\n    <tr>\n      <th>2</th>\n      <td>0</td>\n      <td>0</td>\n      <td>204</td>\n      <td>0</td>\n      <td>0</td>\n      <td>1</td>\n      <td>2013</td>\n      <td>6</td>\n      <td>30</td>\n      <td>6</td>\n      <td>17</td>\n      <td>2</td>\n      <td>975</td>\n    </tr>\n    <tr>\n      <th>3</th>\n      <td>0</td>\n      <td>0</td>\n      <td>330</td>\n      <td>0</td>\n      <td>0</td>\n      <td>1</td>\n      <td>2013</td>\n      <td>6</td>\n      <td>30</td>\n      <td>6</td>\n      <td>17</td>\n      <td>0</td>\n      <td>645</td>\n    </tr>\n    <tr>\n      <th>4</th>\n      <td>0</td>\n      <td>0</td>\n      <td>217</td>\n      <td>0</td>\n      <td>0</td>\n      <td>1</td>\n      <td>2013</td>\n      <td>6</td>\n      <td>30</td>\n      <td>6</td>\n      <td>17</td>\n      <td>4</td>\n      <td>435</td>\n    </tr>\n  </tbody>\n</table>\n</div>"
     },
     "execution_count": 17,
     "metadata": {},
     "output_type": "execute_result"
    }
   ],
   "source": [
    "df.head()"
   ],
   "metadata": {
    "collapsed": false,
    "ExecuteTime": {
     "start_time": "2023-04-16T20:13:08.759998Z",
     "end_time": "2023-04-16T20:13:08.785425Z"
    }
   }
  },
  {
   "cell_type": "code",
   "execution_count": null,
   "outputs": [],
   "source": [
    "df.to_csv(\"data/processed_train.csv\", index=False)"
   ],
   "metadata": {
    "collapsed": false,
    "ExecuteTime": {
     "start_time": "2023-04-16T19:08:27.937725Z",
     "end_time": "2023-04-16T19:08:33.977429Z"
    }
   }
  }
 ],
 "metadata": {
  "kernelspec": {
   "display_name": "Python 3",
   "language": "python",
   "name": "python3"
  },
  "language_info": {
   "codemirror_mode": {
    "name": "ipython",
    "version": 3
   },
   "file_extension": ".py",
   "mimetype": "text/x-python",
   "name": "python",
   "nbconvert_exporter": "python",
   "pygments_lexer": "ipython3",
   "version": "3.9.7"
  },
  "orig_nbformat": 4
 },
 "nbformat": 4,
 "nbformat_minor": 2
}
