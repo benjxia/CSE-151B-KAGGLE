{
 "cells": [
  {
   "cell_type": "code",
   "execution_count": null,
   "metadata": {
    "ExecuteTime": {
     "end_time": "2023-05-11T13:49:23.593065Z",
     "start_time": "2023-05-11T13:49:20.634888Z"
    }
   },
   "outputs": [],
   "source": [
    "import numpy as np\n",
    "import matplotlib.pyplot as plt\n",
    "from sklearn import neighbors, ensemble, kernel_ridge, svm\n",
    "from sklearn.linear_model import LinearRegression\n",
    "from sklearn.preprocessing import normalize"
   ]
  },
  {
   "attachments": {},
   "cell_type": "markdown",
   "metadata": {},
   "source": [
    "## Load data"
   ]
  },
  {
   "cell_type": "code",
   "execution_count": 23,
   "metadata": {
    "ExecuteTime": {
     "end_time": "2023-05-11T16:16:21.256126Z",
     "start_time": "2023-05-11T16:16:15.873296Z"
    }
   },
   "outputs": [],
   "source": [
    "# Ignore ORIGIN_CALL and other categorical columns\n",
    "train_arr = np.loadtxt(\"../data/numeric_trainvf.csv\", dtype=np.float32, delimiter=\",\", skiprows=1)[:, 4:]\n",
    "# Split into training/validation sets\n",
    "np.random.shuffle(train_arr)\n",
    "valid_arr = train_arr[int(0.9 * train_arr.shape[0]):]\n",
    "train_arr = train_arr[:int(0.9 * train_arr.shape[0])]\n",
    "weights = train_arr[:, -1]\n",
    "\n",
    "train_label = train_arr[:, -1]\n",
    "train = train_arr[:, :-1]\n",
    "\n",
    "valid_label = valid_arr[:, -1]\n",
    "valid = valid_arr[:, :-1]"
   ]
  },
  {
   "cell_type": "code",
   "execution_count": null,
   "metadata": {
    "ExecuteTime": {
     "end_time": "2023-05-11T16:16:22.610310Z",
     "start_time": "2023-05-11T16:16:22.588168Z"
    }
   },
   "outputs": [],
   "source": [
    "def score(model):\n",
    "    pred = model.predict(valid)\n",
    "    print(f\"RMSE: {np.sqrt(np.sum((pred - valid_label)**2) / len(valid))}\")"
   ]
  },
  {
   "attachments": {},
   "cell_type": "markdown",
   "metadata": {},
   "source": [
    "## Models"
   ]
  },
  {
   "cell_type": "code",
   "execution_count": 27,
   "metadata": {
    "ExecuteTime": {
     "end_time": "2023-05-11T16:16:31.612587Z",
     "start_time": "2023-05-11T16:16:30.819653Z"
    },
    "collapsed": false
   },
   "outputs": [
    {
     "name": "stdout",
     "output_type": "stream",
     "text": [
      "RMSE: 685.4307853188586\n"
     ]
    }
   ],
   "source": [
    "lin_reg = LinearRegression()\n",
    "lin_reg.fit(train, train_label)\n",
    "score(lin_reg)"
   ]
  },
  {
   "cell_type": "code",
   "execution_count": null,
   "metadata": {
    "ExecuteTime": {
     "end_time": "2023-05-11T16:16:30.494621Z",
     "start_time": "2023-05-11T16:16:30.490618Z"
    },
    "collapsed": false
   },
   "outputs": [],
   "source": [
    "np.std(lin_reg.predict(valid))"
   ]
  },
  {
   "attachments": {},
   "cell_type": "markdown",
   "metadata": {},
   "source": [
    "### KNN Regressor"
   ]
  },
  {
   "cell_type": "code",
   "execution_count": 24,
   "metadata": {
    "ExecuteTime": {
     "end_time": "2023-05-11T16:17:44.077109Z",
     "start_time": "2023-05-11T16:17:36.799444Z"
    }
   },
   "outputs": [
    {
     "data": {
      "text/html": [
       "<style>#sk-container-id-2 {color: black;background-color: white;}#sk-container-id-2 pre{padding: 0;}#sk-container-id-2 div.sk-toggleable {background-color: white;}#sk-container-id-2 label.sk-toggleable__label {cursor: pointer;display: block;width: 100%;margin-bottom: 0;padding: 0.3em;box-sizing: border-box;text-align: center;}#sk-container-id-2 label.sk-toggleable__label-arrow:before {content: \"▸\";float: left;margin-right: 0.25em;color: #696969;}#sk-container-id-2 label.sk-toggleable__label-arrow:hover:before {color: black;}#sk-container-id-2 div.sk-estimator:hover label.sk-toggleable__label-arrow:before {color: black;}#sk-container-id-2 div.sk-toggleable__content {max-height: 0;max-width: 0;overflow: hidden;text-align: left;background-color: #f0f8ff;}#sk-container-id-2 div.sk-toggleable__content pre {margin: 0.2em;color: black;border-radius: 0.25em;background-color: #f0f8ff;}#sk-container-id-2 input.sk-toggleable__control:checked~div.sk-toggleable__content {max-height: 200px;max-width: 100%;overflow: auto;}#sk-container-id-2 input.sk-toggleable__control:checked~label.sk-toggleable__label-arrow:before {content: \"▾\";}#sk-container-id-2 div.sk-estimator input.sk-toggleable__control:checked~label.sk-toggleable__label {background-color: #d4ebff;}#sk-container-id-2 div.sk-label input.sk-toggleable__control:checked~label.sk-toggleable__label {background-color: #d4ebff;}#sk-container-id-2 input.sk-hidden--visually {border: 0;clip: rect(1px 1px 1px 1px);clip: rect(1px, 1px, 1px, 1px);height: 1px;margin: -1px;overflow: hidden;padding: 0;position: absolute;width: 1px;}#sk-container-id-2 div.sk-estimator {font-family: monospace;background-color: #f0f8ff;border: 1px dotted black;border-radius: 0.25em;box-sizing: border-box;margin-bottom: 0.5em;}#sk-container-id-2 div.sk-estimator:hover {background-color: #d4ebff;}#sk-container-id-2 div.sk-parallel-item::after {content: \"\";width: 100%;border-bottom: 1px solid gray;flex-grow: 1;}#sk-container-id-2 div.sk-label:hover label.sk-toggleable__label {background-color: #d4ebff;}#sk-container-id-2 div.sk-serial::before {content: \"\";position: absolute;border-left: 1px solid gray;box-sizing: border-box;top: 0;bottom: 0;left: 50%;z-index: 0;}#sk-container-id-2 div.sk-serial {display: flex;flex-direction: column;align-items: center;background-color: white;padding-right: 0.2em;padding-left: 0.2em;position: relative;}#sk-container-id-2 div.sk-item {position: relative;z-index: 1;}#sk-container-id-2 div.sk-parallel {display: flex;align-items: stretch;justify-content: center;background-color: white;position: relative;}#sk-container-id-2 div.sk-item::before, #sk-container-id-2 div.sk-parallel-item::before {content: \"\";position: absolute;border-left: 1px solid gray;box-sizing: border-box;top: 0;bottom: 0;left: 50%;z-index: -1;}#sk-container-id-2 div.sk-parallel-item {display: flex;flex-direction: column;z-index: 1;position: relative;background-color: white;}#sk-container-id-2 div.sk-parallel-item:first-child::after {align-self: flex-end;width: 50%;}#sk-container-id-2 div.sk-parallel-item:last-child::after {align-self: flex-start;width: 50%;}#sk-container-id-2 div.sk-parallel-item:only-child::after {width: 0;}#sk-container-id-2 div.sk-dashed-wrapped {border: 1px dashed gray;margin: 0 0.4em 0.5em 0.4em;box-sizing: border-box;padding-bottom: 0.4em;background-color: white;}#sk-container-id-2 div.sk-label label {font-family: monospace;font-weight: bold;display: inline-block;line-height: 1.2em;}#sk-container-id-2 div.sk-label-container {text-align: center;}#sk-container-id-2 div.sk-container {/* jupyter's `normalize.less` sets `[hidden] { display: none; }` but bootstrap.min.css set `[hidden] { display: none !important; }` so we also need the `!important` here to be able to override the default hidden behavior on the sphinx rendered scikit-learn.org. See: https://github.com/scikit-learn/scikit-learn/issues/21755 */display: inline-block !important;position: relative;}#sk-container-id-2 div.sk-text-repr-fallback {display: none;}</style><div id=\"sk-container-id-2\" class=\"sk-top-container\"><div class=\"sk-text-repr-fallback\"><pre>KNeighborsRegressor(n_neighbors=10)</pre><b>In a Jupyter environment, please rerun this cell to show the HTML representation or trust the notebook. <br />On GitHub, the HTML representation is unable to render, please try loading this page with nbviewer.org.</b></div><div class=\"sk-container\" hidden><div class=\"sk-item\"><div class=\"sk-estimator sk-toggleable\"><input class=\"sk-toggleable__control sk-hidden--visually\" id=\"sk-estimator-id-2\" type=\"checkbox\" checked><label for=\"sk-estimator-id-2\" class=\"sk-toggleable__label sk-toggleable__label-arrow\">KNeighborsRegressor</label><div class=\"sk-toggleable__content\"><pre>KNeighborsRegressor(n_neighbors=10)</pre></div></div></div></div></div>"
      ],
      "text/plain": [
       "KNeighborsRegressor(n_neighbors=10)"
      ]
     },
     "execution_count": 24,
     "metadata": {},
     "output_type": "execute_result"
    }
   ],
   "source": [
    "KNN_Regressor = neighbors.KNeighborsRegressor(n_neighbors=10)\n",
    "KNN_Regressor.fit(train, train_label)"
   ]
  },
  {
   "cell_type": "code",
   "execution_count": 26,
   "metadata": {
    "ExecuteTime": {
     "end_time": "2023-05-11T16:18:10.755106Z",
     "start_time": "2023-05-11T16:17:44.081068Z"
    }
   },
   "outputs": [
    {
     "name": "stdout",
     "output_type": "stream",
     "text": [
      "RMSE: 702.8292068281938\n"
     ]
    }
   ],
   "source": [
    "score(KNN_Regressor)"
   ]
  },
  {
   "cell_type": "code",
   "execution_count": null,
   "metadata": {
    "ExecuteTime": {
     "end_time": "2023-05-08T21:37:49.130281Z",
     "start_time": "2023-05-08T21:37:42.300195Z"
    },
    "collapsed": false
   },
   "outputs": [],
   "source": [
    "np.std(KNN_Regressor.predict(valid))"
   ]
  },
  {
   "attachments": {},
   "cell_type": "markdown",
   "metadata": {},
   "source": [
    "### Gradient Boosting"
   ]
  },
  {
   "cell_type": "code",
   "execution_count": null,
   "metadata": {
    "ExecuteTime": {
     "end_time": "2023-05-11T17:08:50.544461Z",
     "start_time": "2023-05-11T16:19:33.617420Z"
    }
   },
   "outputs": [],
   "source": [
    "grad_boost = ensemble.GradientBoostingRegressor(learning_rate=0.001, n_estimators=200)\n",
    "grad_boost.fit(train, train_label, sample_weight=train_label)"
   ]
  },
  {
   "cell_type": "code",
   "execution_count": null,
   "metadata": {
    "ExecuteTime": {
     "end_time": "2023-05-11T17:08:52.155895Z",
     "start_time": "2023-05-11T17:08:50.552524Z"
    }
   },
   "outputs": [],
   "source": [
    "score(grad_boost)"
   ]
  },
  {
   "attachments": {},
   "cell_type": "markdown",
   "metadata": {},
   "source": [
    "### Random Forest Regression"
   ]
  },
  {
   "cell_type": "code",
   "execution_count": null,
   "metadata": {
    "ExecuteTime": {
     "end_time": "2023-04-26T11:12:29.709303Z",
     "start_time": "2023-04-26T10:44:53.802383Z"
    }
   },
   "outputs": [],
   "source": [
    "random_forest = ensemble.RandomForestRegressor(n_estimators=200, n_jobs=2)\n",
    "random_forest.fit(train, train_label, sample_weight=train_label)"
   ]
  },
  {
   "cell_type": "code",
   "execution_count": null,
   "metadata": {
    "ExecuteTime": {
     "end_time": "2023-05-11T17:50:50.258000Z",
     "start_time": "2023-05-11T17:50:50.025384Z"
    }
   },
   "outputs": [],
   "source": [
    "score(random_forest)"
   ]
  },
  {
   "attachments": {},
   "cell_type": "markdown",
   "metadata": {},
   "source": [
    "## Create prediction csv"
   ]
  },
  {
   "cell_type": "code",
   "execution_count": 25,
   "metadata": {
    "ExecuteTime": {
     "end_time": "2023-05-11T17:51:09.797968Z",
     "start_time": "2023-05-11T17:51:07.380690Z"
    }
   },
   "outputs": [
    {
     "data": {
      "text/plain": [
       "array([ 925.5,  649.5,  528. , 1008. ,  468. ,  747. ,  591. ,  793.5,\n",
       "        528. ,  649.5,  664.5,  505.5,  894. ,  505.5,  591. , 1128. ,\n",
       "        505.5, 1128. ,  681. ,  735. ,  753. ,  673.5,  816. , 1336.5,\n",
       "        591. , 1389. ,  775.5,  652.5,  544.5,  759. ,  681. ,  750. ,\n",
       "        561. ,  577.5,  804. , 1092. ,  696. ,  469.5,  591. ,  664.5,\n",
       "        711. ,  765. ,  577.5,  798. ,  925.5, 1008. ,  603. ,  765. ,\n",
       "        561. ,  681. ,  594. ,  759. ,  652.5, 1612.5,  591. , 1008. ,\n",
       "        681. ,  681. , 1092. ,  673.5,  679.5,  577.5,  883.5,  756. ,\n",
       "        798. ,  681. ,  664.5,  712.5,  936. ,  711. , 1279.5,  505.5,\n",
       "        528. ,  559.5,  682.5,  709.5, 1353. ,  747. ,  747. ,  945. ,\n",
       "        787.5,  672. , 1036.5,  592.5, 1429.5,  538.5, 1962. , 1380. ,\n",
       "        741. , 2089.5,  555. ,  948. ,  715.5,  822. ,  903. ,  720. ,\n",
       "        823.5, 2089.5,  750. ,  939. ,  754.5,  538.5,  868.5,  799.5,\n",
       "        535.5,  727.5, 1081.5,  679.5,  991.5,  921. , 2289. ,  913.5,\n",
       "        750. ,  592.5,  646.5,  871.5,  771. , 1234.5, 2596.5,  741. ,\n",
       "        640.5,  727.5,  931.5,  658.5,  538.5, 1468.5, 1360.5, 2089.5,\n",
       "        709.5,  741. ,  555. ,  754.5,  996. ,  978. , 2466. ,  868.5,\n",
       "        445.5,  754.5,  640.5,  555. ,  709.5,  628.5,  799.5, 1992. ,\n",
       "        846. ,  660. ,  724.5, 2752.5,  657. ,  499.5,  717. , 1402.5,\n",
       "        640.5,    0. ,  646.5,  828. ,  849. ,  889.5,  864. ,  904.5,\n",
       "       1233. ,  874.5, 1008. ,  787.5, 1140. ,  909. , 1290. , 1153.5,\n",
       "        619.5, 1149. ,  828. ,  825. ,  646.5,  844.5, 1137. ,  979.5,\n",
       "       1722. , 1165.5, 1221. , 1152. , 1005. ,  880.5, 1150.5,  940.5,\n",
       "       1078.5,  828. , 1147.5,  880.5,  874.5,  828. ,  882. ,  951. ,\n",
       "       1147.5, 1033.5, 1078.5, 1207.5,  954. ,  864. , 1260. , 1137. ,\n",
       "        724.5, 1152. , 1006.5, 2412. ,  900. , 1386. , 1137. , 1056. ,\n",
       "       1762.5, 1245. ,  951. , 1152. ,  802.5, 1275. ,  849. , 1498.5,\n",
       "        804. ,  765. ,  892.5,  934.5,  979.5, 1000.5,  763.5,  940.5,\n",
       "        801. ,  757.5, 1143. , 1207.5,  670.5,  537. ,  666. ,  723. ,\n",
       "        405. ,  375. ,  504. ,  541.5,  787.5,  480. ,  597. ,  669. ,\n",
       "        520.5,  792. ,  484.5,  736.5,  397.5,  537. ,  640.5,  648. ,\n",
       "        643.5,  640.5,  379.5,  504. ,  664.5,  523.5,  853.5,  639. ,\n",
       "        537. ,  648. ,  636. ,  343.5,  787.5,  399. ,  550.5,  643.5,\n",
       "        523.5,  423. ,  648. ,  537. ,  792. ,  462. ,  412.5,  598.5,\n",
       "        648. ,  585. ,  598.5,  712.5,  640.5,  723. ,  574.5,  351. ,\n",
       "        594. ,  541.5,  643.5,  613.5,  426. ,  819. ,  607.5, 1207.5,\n",
       "        654. ,  405. ,  630. , 1510.5,  631.5,  504. ,  546. ,  294. ,\n",
       "        717. ,  805.5,  448.5,  640.5,  709.5,  789. , 1039.5, 1905. ,\n",
       "        717. ,  919.5,  483. ,  568.5,  657. ,  574.5,  429. ,  606. ,\n",
       "        672. ,  916.5,  604.5, 1099.5,  784.5,  604.5, 1039.5, 1204.5],\n",
       "      dtype=float32)"
      ]
     },
     "execution_count": 25,
     "metadata": {},
     "output_type": "execute_result"
    }
   ],
   "source": [
    "import pandas as pd\n",
    "# Ignore ORIGIN_CALL and other categorical columns\n",
    "test = np.loadtxt(\"../data/numeric_testvf.csv\", delimiter=\",\", skiprows=1)[:, 3:]\n",
    "df_pred = pd.read_csv(\"../data/sampleSubmission.csv\")\n",
    "KNN_Regressor.predict(test)"
   ]
  },
  {
   "cell_type": "code",
   "execution_count": null,
   "metadata": {
    "ExecuteTime": {
     "end_time": "2023-04-25T00:13:00.614244Z",
     "start_time": "2023-04-25T00:13:00.566921Z"
    }
   },
   "outputs": [],
   "source": [
    "df_pred[\"TRAVEL_TIME\"] = preds\n",
    "df_pred.to_csv(\"./predictions.csv\", index=False)"
   ]
  }
 ],
 "metadata": {
  "kernelspec": {
   "display_name": "Python 3",
   "language": "python",
   "name": "python3"
  },
  "language_info": {
   "codemirror_mode": {
    "name": "ipython",
    "version": 3
   },
   "file_extension": ".py",
   "mimetype": "text/x-python",
   "name": "python",
   "nbconvert_exporter": "python",
   "pygments_lexer": "ipython3",
   "version": "3.9.7"
  },
  "orig_nbformat": 4
 },
 "nbformat": 4,
 "nbformat_minor": 2
}
