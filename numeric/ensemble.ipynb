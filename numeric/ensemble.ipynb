{
 "cells": [
  {
   "cell_type": "code",
   "execution_count": 1,
   "metadata": {
    "ExecuteTime": {
     "end_time": "2023-05-11T13:49:23.593065Z",
     "start_time": "2023-05-11T13:49:20.634888Z"
    }
   },
   "outputs": [],
   "source": [
    "import numpy as np\n",
    "import matplotlib.pyplot as plt\n",
    "from sklearn import neighbors, ensemble, kernel_ridge, svm\n",
    "from sklearn.linear_model import LinearRegression\n",
    "from sklearn.preprocessing import normalize\n",
    "import xgboost as xgb"
   ]
  },
  {
   "cell_type": "markdown",
   "metadata": {},
   "source": [
    "## Load data"
   ]
  },
  {
   "cell_type": "code",
   "execution_count": 2,
   "metadata": {
    "ExecuteTime": {
     "end_time": "2023-05-11T16:16:21.256126Z",
     "start_time": "2023-05-11T16:16:15.873296Z"
    }
   },
   "outputs": [],
   "source": [
    "# Ignore ORIGIN_CALL and other categorical columns\n",
    "np.random.seed(42)\n",
    "train_arr = np.loadtxt(\"../data/numeric_trainvf.csv\", dtype=np.float32, delimiter=\",\", skiprows=1)[:, 4:]\n",
    "mean = train_arr[:, -1].mean()\n",
    "std = train_arr[:, -1].std()\n",
    "train_arr = train_arr[train_arr[:, -1] < mean + 5 * std]\n",
    "train_arr = train_arr[train_arr[:, -1] > 30]\n",
    "# Split into training/validation sets\n",
    "np.random.shuffle(train_arr)\n",
    "valid_arr = train_arr[int(0.9 * train_arr.shape[0]):]\n",
    "train_arr = train_arr[:int(0.9 * train_arr.shape[0])]\n",
    "weights = train_arr[:, -1]\n",
    "\n",
    "train_label = train_arr[:, -1]\n",
    "train = train_arr[:, :-1]\n",
    "\n",
    "valid_label = valid_arr[:, -1]\n",
    "valid = valid_arr[:, :-1]\n",
    "\n",
    "\n",
    "# train = train[train_label > 50]\n",
    "# train_label = train_label[train_label > 50]\n",
    "# train = train[train_label < mean + 5 * std]\n",
    "# train_label = train_label[train_label < mean + 5 * std]"
   ]
  },
  {
   "cell_type": "code",
   "execution_count": 3,
   "metadata": {
    "ExecuteTime": {
     "end_time": "2023-05-11T16:16:22.610310Z",
     "start_time": "2023-05-11T16:16:22.588168Z"
    }
   },
   "outputs": [],
   "source": [
    "def score(model):\n",
    "    pred = model.predict(valid)\n",
    "    print(f\"RMSE: {np.sqrt(np.sum((pred - valid_label)**2) / len(valid))}\")"
   ]
  },
  {
   "cell_type": "markdown",
   "metadata": {},
   "source": [
    "## Models"
   ]
  },
  {
   "cell_type": "code",
   "execution_count": 4,
   "metadata": {
    "ExecuteTime": {
     "end_time": "2023-05-11T16:16:31.612587Z",
     "start_time": "2023-05-11T16:16:30.819653Z"
    }
   },
   "outputs": [
    {
     "name": "stdout",
     "output_type": "stream",
     "text": [
      "RMSE: 438.2685160161196\n"
     ]
    }
   ],
   "source": [
    "lin_reg = LinearRegression()\n",
    "lin_reg.fit(train, train_label)\n",
    "score(lin_reg)"
   ]
  },
  {
   "cell_type": "markdown",
   "metadata": {},
   "source": [
    "### KNN Regressor"
   ]
  },
  {
   "cell_type": "code",
   "execution_count": 5,
   "metadata": {
    "ExecuteTime": {
     "end_time": "2023-05-11T16:17:44.077109Z",
     "start_time": "2023-05-11T16:17:36.799444Z"
    }
   },
   "outputs": [
    {
     "data": {
      "text/plain": [
       "KNeighborsRegressor(n_neighbors=10)"
      ]
     },
     "execution_count": 5,
     "metadata": {},
     "output_type": "execute_result"
    }
   ],
   "source": [
    "KNN_Regressor = neighbors.KNeighborsRegressor(n_neighbors=10)\n",
    "KNN_Regressor.fit(train, train_label)"
   ]
  },
  {
   "cell_type": "code",
   "execution_count": 6,
   "metadata": {
    "ExecuteTime": {
     "end_time": "2023-05-11T16:18:10.755106Z",
     "start_time": "2023-05-11T16:17:44.081068Z"
    }
   },
   "outputs": [
    {
     "name": "stdout",
     "output_type": "stream",
     "text": [
      "RMSE: 445.49759614025527\n"
     ]
    }
   ],
   "source": [
    "score(KNN_Regressor)"
   ]
  },
  {
   "cell_type": "code",
   "execution_count": 7,
   "metadata": {
    "ExecuteTime": {
     "end_time": "2023-05-08T21:37:49.130281Z",
     "start_time": "2023-05-08T21:37:42.300195Z"
    }
   },
   "outputs": [
    {
     "data": {
      "text/plain": [
       "187.77357"
      ]
     },
     "execution_count": 7,
     "metadata": {},
     "output_type": "execute_result"
    }
   ],
   "source": [
    "np.std(KNN_Regressor.predict(valid))"
   ]
  },
  {
   "cell_type": "markdown",
   "metadata": {},
   "source": [
    "### Gradient Boosting"
   ]
  },
  {
   "cell_type": "code",
   "execution_count": 9,
   "metadata": {
    "ExecuteTime": {
     "end_time": "2023-05-11T17:08:50.544461Z",
     "start_time": "2023-05-11T16:19:33.617420Z"
    }
   },
   "outputs": [
    {
     "data": {
      "text/plain": [
       "GradientBoostingRegressor(learning_rate=0.001, n_estimators=200)"
      ]
     },
     "execution_count": 9,
     "metadata": {},
     "output_type": "execute_result"
    }
   ],
   "source": [
    "grad_boost = ensemble.GradientBoostingRegressor(learning_rate=0.001, n_estimators=200)\n",
    "grad_boost.fit(train, train_label, sample_weight=train_label)"
   ]
  },
  {
   "cell_type": "code",
   "execution_count": 10,
   "metadata": {
    "ExecuteTime": {
     "end_time": "2023-05-11T17:08:52.155895Z",
     "start_time": "2023-05-11T17:08:50.552524Z"
    }
   },
   "outputs": [
    {
     "name": "stdout",
     "output_type": "stream",
     "text": [
      "RMSE: 517.5286449968111\n"
     ]
    }
   ],
   "source": [
    "score(grad_boost)"
   ]
  },
  {
   "cell_type": "markdown",
   "metadata": {},
   "source": [
    "### Random Forest Regression"
   ]
  },
  {
   "cell_type": "code",
   "execution_count": 11,
   "metadata": {
    "ExecuteTime": {
     "end_time": "2023-04-26T11:12:29.709303Z",
     "start_time": "2023-04-26T10:44:53.802383Z"
    }
   },
   "outputs": [
    {
     "data": {
      "text/plain": [
       "RandomForestRegressor(max_depth=5, n_estimators=200, n_jobs=2)"
      ]
     },
     "execution_count": 11,
     "metadata": {},
     "output_type": "execute_result"
    }
   ],
   "source": [
    "random_forest = ensemble.RandomForestRegressor(n_estimators=200, n_jobs=2, max_depth=5)\n",
    "random_forest.fit(train, train_label)"
   ]
  },
  {
   "cell_type": "code",
   "execution_count": 12,
   "metadata": {
    "ExecuteTime": {
     "end_time": "2023-05-11T17:50:50.258000Z",
     "start_time": "2023-05-11T17:50:50.025384Z"
    }
   },
   "outputs": [
    {
     "name": "stdout",
     "output_type": "stream",
     "text": [
      "RMSE: 431.8290644444473\n"
     ]
    }
   ],
   "source": [
    "score(random_forest)"
   ]
  },
  {
   "cell_type": "markdown",
   "metadata": {},
   "source": [
    "### XGBoost"
   ]
  },
  {
   "cell_type": "code",
   "execution_count": 17,
   "metadata": {},
   "outputs": [
    {
     "data": {
      "text/plain": [
       "XGBRegressor(base_score=None, booster=None, callbacks=None,\n",
       "             colsample_bylevel=None, colsample_bynode=None,\n",
       "             colsample_bytree=None, early_stopping_rounds=None,\n",
       "             enable_categorical=False, eval_metric=None, feature_types=None,\n",
       "             gamma=None, gpu_id=None, grow_policy=None, importance_type=None,\n",
       "             interaction_constraints=None, learning_rate=None, max_bin=None,\n",
       "             max_cat_threshold=None, max_cat_to_onehot=None,\n",
       "             max_delta_step=None, max_depth=5, max_leaves=None,\n",
       "             min_child_weight=None, missing=nan, monotone_constraints=None,\n",
       "             n_estimators=100, n_jobs=None, num_parallel_tree=None,\n",
       "             predictor=None, random_state=None, ...)"
      ]
     },
     "execution_count": 17,
     "metadata": {},
     "output_type": "execute_result"
    }
   ],
   "source": [
    "reg = xgb.XGBRegressor(tree_method=\"gpu_hist\", n_estimators=100, max_depth=5)\n",
    "reg.fit(train, train_label, sample_weight=weights)"
   ]
  },
  {
   "cell_type": "code",
   "execution_count": 23,
   "metadata": {},
   "outputs": [
    {
     "name": "stdout",
     "output_type": "stream",
     "text": [
      "RMSE: 491.54308539623315\n"
     ]
    }
   ],
   "source": [
    "score(reg)"
   ]
  },
  {
   "cell_type": "code",
   "execution_count": 20,
   "metadata": {},
   "outputs": [],
   "source": [
    "import pandas as pd\n",
    "test = np.loadtxt(\"../data/numeric_testvf.csv\", delimiter=\",\", skiprows=1)[:, 3:]\n",
    "preds = reg.predict(test)\n",
    "df_pred = pd.read_csv(\"../data/sampleSubmission.csv\")\n",
    "df_pred[\"TRAVEL_TIME\"] = preds\n",
    "df_pred.to_csv(\"./xgboost_numeric_weighted.csv\", index=False)"
   ]
  },
  {
   "cell_type": "code",
   "execution_count": 31,
   "metadata": {},
   "outputs": [
    {
     "name": "stdout",
     "output_type": "stream",
     "text": [
      "RMSE: 490.63767393194445\n",
      "RMSE: 492.6402795858481\n",
      "RMSE: 508.26557999975097\n"
     ]
    }
   ],
   "source": [
    "pred = reg.predict(valid[valid[:, 5] == 1])\n",
    "print(f\"RMSE: {np.sqrt(np.sum((pred - valid_label[valid[:, 5] == 1])**2) / len(valid[valid[:, 5] == 1]))}\")\n",
    "pred = reg.predict(valid[valid[:, 6] == 1])\n",
    "print(f\"RMSE: {np.sqrt(np.sum((pred - valid_label[valid[:, 6] == 1])**2) / len(valid[valid[:, 6] == 1]))}\")\n",
    "pred = reg.predict(valid[valid[:, 7] == 1])\n",
    "print(f\"RMSE: {np.sqrt(np.sum((pred - valid_label[valid[:, 7] == 1])**2) / len(valid[valid[:, 7] == 1]))}\")"
   ]
  },
  {
   "cell_type": "markdown",
   "metadata": {},
   "source": [
    "## Create prediction csv"
   ]
  },
  {
   "cell_type": "code",
   "execution_count": 16,
   "metadata": {
    "ExecuteTime": {
     "end_time": "2023-05-11T17:51:09.797968Z",
     "start_time": "2023-05-11T17:51:07.380690Z"
    }
   },
   "outputs": [],
   "source": [
    "import pandas as pd\n",
    "test = np.loadtxt(\"../data/numeric_testvf.csv\", delimiter=\",\", skiprows=1)[:, 3:]\n",
    "df_pred = pd.read_csv(\"../data/sampleSubmission.csv\")\n",
    "preds = lin_reg.predict(test)\n",
    "preds = KNN_Regressor.predict(test)\n",
    "preds = grad_boost.predict(test)\n",
    "\n",
    "df_pred[\"TRAVEL_TIME\"] = preds\n",
    "df_pred.to_csv(\"./grad_boost_numeric_prune.csv\", index=False)\n",
    "preds = random_forest.predict(test)\n",
    "\n",
    "df_pred[\"TRAVEL_TIME\"] = preds\n",
    "df_pred.to_csv(\"./random_forest_numeric_prune.csv\", index=False)\n",
    "preds = reg.predict(test)\n",
    "\n",
    "df_pred[\"TRAVEL_TIME\"] = preds\n",
    "df_pred.to_csv(\"./xgboost_numeric_prune.csv\", index=False)"
   ]
  },
  {
   "cell_type": "code",
   "execution_count": null,
   "metadata": {},
   "outputs": [],
   "source": [
    "print(preds)"
   ]
  },
  {
   "cell_type": "code",
   "execution_count": null,
   "metadata": {
    "ExecuteTime": {
     "end_time": "2023-04-25T00:13:00.614244Z",
     "start_time": "2023-04-25T00:13:00.566921Z"
    }
   },
   "outputs": [],
   "source": [
    "df_pred[\"TRAVEL_TIME\"] = preds\n",
    "df_pred.to_csv(\"./predictions.csv\", index=False)"
   ]
  }
 ],
 "metadata": {
  "kernelspec": {
   "display_name": "Python 3 (ipykernel)",
   "language": "python",
   "name": "python3"
  },
  "language_info": {
   "codemirror_mode": {
    "name": "ipython",
    "version": 3
   },
   "file_extension": ".py",
   "mimetype": "text/x-python",
   "name": "python",
   "nbconvert_exporter": "python",
   "pygments_lexer": "ipython3",
   "version": "3.9.7"
  }
 },
 "nbformat": 4,
 "nbformat_minor": 2
}
