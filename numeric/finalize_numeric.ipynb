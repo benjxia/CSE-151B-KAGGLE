{
 "cells": [
  {
   "cell_type": "code",
   "execution_count": 36,
   "metadata": {
    "ExecuteTime": {
     "end_time": "2023-05-19T21:19:19.382292Z",
     "start_time": "2023-05-19T21:19:15.943825Z"
    },
    "collapsed": true
   },
   "outputs": [],
   "source": [
    "import pandas as pd\n",
    "import numpy as np\n",
    "from sklearn import preprocessing, metrics, neighbors"
   ]
  },
  {
   "cell_type": "code",
   "execution_count": 37,
   "metadata": {
    "ExecuteTime": {
     "end_time": "2023-05-19T21:19:21.919827Z",
     "start_time": "2023-05-19T21:19:19.384291Z"
    },
    "collapsed": false
   },
   "outputs": [],
   "source": [
    "df_train = pd.read_csv(\"../data/embed_train.csv\")\n",
    "df_test = pd.read_csv(\"../data/embed_test.csv\")\n",
    "metadataDF: pd.DataFrame = pd.read_csv(\"../data/metaData_taxistandsID_name_GPSlocation.csv\")"
   ]
  },
  {
   "cell_type": "code",
   "execution_count": 38,
   "metadata": {
    "ExecuteTime": {
     "end_time": "2023-05-19T21:19:26.089046Z",
     "start_time": "2023-05-19T21:19:26.067093Z"
    },
    "collapsed": false
   },
   "outputs": [
    {
     "data": {
      "text/html": [
       "<div>\n",
       "<style scoped>\n",
       "    .dataframe tbody tr th:only-of-type {\n",
       "        vertical-align: middle;\n",
       "    }\n",
       "\n",
       "    .dataframe tbody tr th {\n",
       "        vertical-align: top;\n",
       "    }\n",
       "\n",
       "    .dataframe thead th {\n",
       "        text-align: right;\n",
       "    }\n",
       "</style>\n",
       "<table border=\"1\" class=\"dataframe\">\n",
       "  <thead>\n",
       "    <tr style=\"text-align: right;\">\n",
       "      <th></th>\n",
       "      <th>ORIGIN_CALL</th>\n",
       "      <th>ORIGIN_STAND</th>\n",
       "      <th>TAXI_ID</th>\n",
       "      <th>TIMESTAMP</th>\n",
       "      <th>A</th>\n",
       "      <th>B</th>\n",
       "      <th>C</th>\n",
       "      <th>YEAR</th>\n",
       "      <th>WK_OF_YR</th>\n",
       "      <th>WK_DAY</th>\n",
       "      <th>HR</th>\n",
       "    </tr>\n",
       "  </thead>\n",
       "  <tbody>\n",
       "    <tr>\n",
       "      <th>0</th>\n",
       "      <td>0</td>\n",
       "      <td>14</td>\n",
       "      <td>342</td>\n",
       "      <td>1408039037</td>\n",
       "      <td>0</td>\n",
       "      <td>1</td>\n",
       "      <td>0</td>\n",
       "      <td>1</td>\n",
       "      <td>32</td>\n",
       "      <td>3</td>\n",
       "      <td>10</td>\n",
       "    </tr>\n",
       "    <tr>\n",
       "      <th>1</th>\n",
       "      <td>0</td>\n",
       "      <td>56</td>\n",
       "      <td>78</td>\n",
       "      <td>1408038611</td>\n",
       "      <td>0</td>\n",
       "      <td>1</td>\n",
       "      <td>0</td>\n",
       "      <td>1</td>\n",
       "      <td>32</td>\n",
       "      <td>3</td>\n",
       "      <td>10</td>\n",
       "    </tr>\n",
       "    <tr>\n",
       "      <th>2</th>\n",
       "      <td>0</td>\n",
       "      <td>14</td>\n",
       "      <td>239</td>\n",
       "      <td>1408038568</td>\n",
       "      <td>0</td>\n",
       "      <td>1</td>\n",
       "      <td>0</td>\n",
       "      <td>1</td>\n",
       "      <td>32</td>\n",
       "      <td>3</td>\n",
       "      <td>10</td>\n",
       "    </tr>\n",
       "    <tr>\n",
       "      <th>3</th>\n",
       "      <td>0</td>\n",
       "      <td>52</td>\n",
       "      <td>309</td>\n",
       "      <td>1408039090</td>\n",
       "      <td>0</td>\n",
       "      <td>1</td>\n",
       "      <td>0</td>\n",
       "      <td>1</td>\n",
       "      <td>32</td>\n",
       "      <td>3</td>\n",
       "      <td>10</td>\n",
       "    </tr>\n",
       "    <tr>\n",
       "      <th>4</th>\n",
       "      <td>0</td>\n",
       "      <td>17</td>\n",
       "      <td>393</td>\n",
       "      <td>1408039177</td>\n",
       "      <td>0</td>\n",
       "      <td>1</td>\n",
       "      <td>0</td>\n",
       "      <td>1</td>\n",
       "      <td>32</td>\n",
       "      <td>3</td>\n",
       "      <td>10</td>\n",
       "    </tr>\n",
       "  </tbody>\n",
       "</table>\n",
       "</div>"
      ],
      "text/plain": [
       "   ORIGIN_CALL  ORIGIN_STAND  TAXI_ID   TIMESTAMP  A  B  C  YEAR  WK_OF_YR  \\\n",
       "0            0            14      342  1408039037  0  1  0     1        32   \n",
       "1            0            56       78  1408038611  0  1  0     1        32   \n",
       "2            0            14      239  1408038568  0  1  0     1        32   \n",
       "3            0            52      309  1408039090  0  1  0     1        32   \n",
       "4            0            17      393  1408039177  0  1  0     1        32   \n",
       "\n",
       "   WK_DAY  HR  \n",
       "0       3  10  \n",
       "1       3  10  \n",
       "2       3  10  \n",
       "3       3  10  \n",
       "4       3  10  "
      ]
     },
     "execution_count": 38,
     "metadata": {},
     "output_type": "execute_result"
    }
   ],
   "source": [
    "df_test.head()"
   ]
  },
  {
   "cell_type": "code",
   "execution_count": 39,
   "metadata": {
    "ExecuteTime": {
     "end_time": "2023-05-19T21:19:41.806482Z",
     "start_time": "2023-05-19T21:19:34.738363Z"
    },
    "collapsed": false
   },
   "outputs": [],
   "source": [
    "train_arr = np.loadtxt(\"../data/numeric_train.csv\", delimiter=\",\", skiprows=1)\n",
    "test_arr = np.loadtxt(\"../data/numeric_test.csv\", delimiter=\",\", skiprows=1)"
   ]
  },
  {
   "cell_type": "markdown",
   "metadata": {
    "collapsed": false
   },
   "source": [
    "### Approximate starting coords in test set"
   ]
  },
  {
   "cell_type": "code",
   "execution_count": 40,
   "metadata": {
    "ExecuteTime": {
     "end_time": "2023-05-19T21:19:51.564702Z",
     "start_time": "2023-05-19T21:19:43.968565Z"
    },
    "collapsed": false
   },
   "outputs": [],
   "source": [
    "KNN = dict()\n",
    "for i in df_test[\"TAXI_ID\"].unique():\n",
    "    KNN[i] = neighbors.NearestNeighbors(n_neighbors=1)\n",
    "    KNN[i].fit(train_arr[train_arr[:, 3] == i, 4:5])"
   ]
  },
  {
   "cell_type": "code",
   "execution_count": 41,
   "metadata": {
    "ExecuteTime": {
     "end_time": "2023-05-19T21:19:54.431721Z",
     "start_time": "2023-05-19T21:19:51.580516Z"
    },
    "collapsed": false
   },
   "outputs": [],
   "source": [
    "# Nearest neighbors in time\n",
    "coords = np.zeros((len(df_test), 2))\n",
    "for i in range(len(df_test)):\n",
    "    if test_arr[i, 5] == 1:\n",
    "        # If call type B\n",
    "        taxi_stand = test_arr[i, 1]\n",
    "        coords[i] = np.array((metadataDF.iloc[int(taxi_stand)][\"Longitude\"], metadataDF.iloc[int(taxi_stand)][\"Latitude\"]))\n",
    "        continue\n",
    "\n",
    "    neighbor_idx = KNN[test_arr[i, 2]].kneighbors(test_arr[i, 3:4].reshape(1, -1), n_neighbors=1)[1][0][0]\n",
    "    neighbor = df_train[df_train[\"TAXI_ID\"] == test_arr[i, 2]].iloc[neighbor_idx]\n",
    "\n",
    "    if neighbor[\"TIMESTAMP\"] < test_arr[i, 3]:\n",
    "        coords[i] = [neighbor[\"END_LONG\"], neighbor[\"END_LAT\"]]\n",
    "    else:\n",
    "        coords[i] = [neighbor[\"START_LONG\"], neighbor[\"START_LAT\"]]\n"
   ]
  },
  {
   "cell_type": "code",
   "execution_count": 42,
   "metadata": {
    "ExecuteTime": {
     "end_time": "2023-05-19T21:19:54.447450Z",
     "start_time": "2023-05-19T21:19:54.436278Z"
    },
    "collapsed": false
   },
   "outputs": [],
   "source": [
    "df_test[[\"START_LONG\", \"START_LAT\"]] = coords"
   ]
  },
  {
   "cell_type": "code",
   "execution_count": 43,
   "metadata": {
    "ExecuteTime": {
     "end_time": "2023-05-19T21:19:54.476289Z",
     "start_time": "2023-05-19T21:19:54.460135Z"
    },
    "collapsed": false
   },
   "outputs": [
    {
     "data": {
      "text/html": [
       "<div>\n",
       "<style scoped>\n",
       "    .dataframe tbody tr th:only-of-type {\n",
       "        vertical-align: middle;\n",
       "    }\n",
       "\n",
       "    .dataframe tbody tr th {\n",
       "        vertical-align: top;\n",
       "    }\n",
       "\n",
       "    .dataframe thead th {\n",
       "        text-align: right;\n",
       "    }\n",
       "</style>\n",
       "<table border=\"1\" class=\"dataframe\">\n",
       "  <thead>\n",
       "    <tr style=\"text-align: right;\">\n",
       "      <th></th>\n",
       "      <th>ORIGIN_CALL</th>\n",
       "      <th>ORIGIN_STAND</th>\n",
       "      <th>TAXI_ID</th>\n",
       "      <th>TIMESTAMP</th>\n",
       "      <th>A</th>\n",
       "      <th>B</th>\n",
       "      <th>C</th>\n",
       "      <th>YEAR</th>\n",
       "      <th>WK_OF_YR</th>\n",
       "      <th>WK_DAY</th>\n",
       "      <th>HR</th>\n",
       "      <th>START_LONG</th>\n",
       "      <th>START_LAT</th>\n",
       "    </tr>\n",
       "  </thead>\n",
       "  <tbody>\n",
       "    <tr>\n",
       "      <th>0</th>\n",
       "      <td>0</td>\n",
       "      <td>14</td>\n",
       "      <td>342</td>\n",
       "      <td>1408039037</td>\n",
       "      <td>0</td>\n",
       "      <td>1</td>\n",
       "      <td>0</td>\n",
       "      <td>1</td>\n",
       "      <td>32</td>\n",
       "      <td>3</td>\n",
       "      <td>10</td>\n",
       "      <td>-8.585877</td>\n",
       "      <td>41.148628</td>\n",
       "    </tr>\n",
       "    <tr>\n",
       "      <th>1</th>\n",
       "      <td>0</td>\n",
       "      <td>56</td>\n",
       "      <td>78</td>\n",
       "      <td>1408038611</td>\n",
       "      <td>0</td>\n",
       "      <td>1</td>\n",
       "      <td>0</td>\n",
       "      <td>1</td>\n",
       "      <td>32</td>\n",
       "      <td>3</td>\n",
       "      <td>10</td>\n",
       "      <td>-8.610707</td>\n",
       "      <td>41.145719</td>\n",
       "    </tr>\n",
       "    <tr>\n",
       "      <th>2</th>\n",
       "      <td>0</td>\n",
       "      <td>14</td>\n",
       "      <td>239</td>\n",
       "      <td>1408038568</td>\n",
       "      <td>0</td>\n",
       "      <td>1</td>\n",
       "      <td>0</td>\n",
       "      <td>1</td>\n",
       "      <td>32</td>\n",
       "      <td>3</td>\n",
       "      <td>10</td>\n",
       "      <td>-8.585877</td>\n",
       "      <td>41.148628</td>\n",
       "    </tr>\n",
       "    <tr>\n",
       "      <th>3</th>\n",
       "      <td>0</td>\n",
       "      <td>52</td>\n",
       "      <td>309</td>\n",
       "      <td>1408039090</td>\n",
       "      <td>0</td>\n",
       "      <td>1</td>\n",
       "      <td>0</td>\n",
       "      <td>1</td>\n",
       "      <td>32</td>\n",
       "      <td>3</td>\n",
       "      <td>10</td>\n",
       "      <td>-8.614012</td>\n",
       "      <td>41.141208</td>\n",
       "    </tr>\n",
       "    <tr>\n",
       "      <th>4</th>\n",
       "      <td>0</td>\n",
       "      <td>17</td>\n",
       "      <td>393</td>\n",
       "      <td>1408039177</td>\n",
       "      <td>0</td>\n",
       "      <td>1</td>\n",
       "      <td>0</td>\n",
       "      <td>1</td>\n",
       "      <td>32</td>\n",
       "      <td>3</td>\n",
       "      <td>10</td>\n",
       "      <td>-8.619603</td>\n",
       "      <td>41.148321</td>\n",
       "    </tr>\n",
       "  </tbody>\n",
       "</table>\n",
       "</div>"
      ],
      "text/plain": [
       "   ORIGIN_CALL  ORIGIN_STAND  TAXI_ID   TIMESTAMP  A  B  C  YEAR  WK_OF_YR  \\\n",
       "0            0            14      342  1408039037  0  1  0     1        32   \n",
       "1            0            56       78  1408038611  0  1  0     1        32   \n",
       "2            0            14      239  1408038568  0  1  0     1        32   \n",
       "3            0            52      309  1408039090  0  1  0     1        32   \n",
       "4            0            17      393  1408039177  0  1  0     1        32   \n",
       "\n",
       "   WK_DAY  HR  START_LONG  START_LAT  \n",
       "0       3  10   -8.585877  41.148628  \n",
       "1       3  10   -8.610707  41.145719  \n",
       "2       3  10   -8.585877  41.148628  \n",
       "3       3  10   -8.614012  41.141208  \n",
       "4       3  10   -8.619603  41.148321  "
      ]
     },
     "execution_count": 43,
     "metadata": {},
     "output_type": "execute_result"
    }
   ],
   "source": [
    "df_test.head()"
   ]
  },
  {
   "cell_type": "code",
   "execution_count": 44,
   "metadata": {
    "ExecuteTime": {
     "end_time": "2023-05-19T21:19:56.674970Z",
     "start_time": "2023-05-19T21:19:56.619039Z"
    }
   },
   "outputs": [],
   "source": [
    "df_train.drop(labels=\"TIMESTAMP\", axis=1, inplace=True)\n",
    "df_test.drop(labels=\"TIMESTAMP\", axis=1, inplace=True)"
   ]
  },
  {
   "cell_type": "markdown",
   "metadata": {
    "collapsed": false
   },
   "source": [
    "### Calculate distances from city center"
   ]
  },
  {
   "cell_type": "code",
   "execution_count": 45,
   "metadata": {
    "ExecuteTime": {
     "end_time": "2023-05-19T21:19:58.916723Z",
     "start_time": "2023-05-19T21:19:58.640094Z"
    },
    "collapsed": false
   },
   "outputs": [],
   "source": [
    "import math\n",
    "# Haversine distance assumes first coord lat second coord long\n",
    "central_long = df_train[df_train[\"A\"] == 1][\"START_LONG\"].median()\n",
    "central_lat = df_train[df_train[\"A\"] == 1][\"START_LAT\"].median()\n",
    "center = np.array([central_lat, central_long], dtype=np.float64)\n",
    "center = np.radians(center)\n",
    "\n",
    "coords_train = df_train[[\"START_LAT\", \"START_LONG\"]].to_numpy()\n",
    "coords_train = np.radians(coords_train)\n",
    "dists_train = metrics.pairwise.haversine_distances(coords_train, center.reshape(1, -1))\n",
    "dists_train *= 6371000/1000\n",
    "coords_test = df_test[[\"START_LAT\", \"START_LONG\"]].to_numpy()\n",
    "coords_test = np.radians(coords_test)\n",
    "dists_test = metrics.pairwise.haversine_distances(coords_test, center.reshape(1, -1))\n",
    "dists_test *= 6371000/1000"
   ]
  },
  {
   "cell_type": "code",
   "execution_count": 46,
   "metadata": {
    "ExecuteTime": {
     "end_time": "2023-05-19T21:20:04.499508Z",
     "start_time": "2023-05-19T21:20:00.162689Z"
    },
    "collapsed": false
   },
   "outputs": [
    {
     "data": {
      "image/png": "[encoded data removed]",
      "text/plain": [
       "<Figure size 432x288 with 2 Axes>"
      ]
     },
     "metadata": {
      "needs_background": "light"
     },
     "output_type": "display_data"
    }
   ],
   "source": [
    "import matplotlib.pyplot as plt\n",
    "plt.subplot(1, 2, 1)\n",
    "plt.title(\"Training set distance\")\n",
    "plt.hist(dists_train, bins=np.arange(0, 20, 0.01))\n",
    "plt.subplot(1, 2, 2)\n",
    "plt.title(\"Test set distance\")\n",
    "plt.hist(dists_test, bins=np.arange(0, 20, 0.25))\n",
    "plt.show()"
   ]
  },
  {
   "cell_type": "code",
   "execution_count": 47,
   "metadata": {
    "ExecuteTime": {
     "end_time": "2023-05-19T21:20:04.537704Z",
     "start_time": "2023-05-19T21:20:04.506742Z"
    },
    "collapsed": false
   },
   "outputs": [],
   "source": [
    "df_train[\"DIST\"] = dists_train\n",
    "df_test[\"DIST\"] = dists_test"
   ]
  },
  {
   "cell_type": "code",
   "execution_count": 48,
   "metadata": {
    "ExecuteTime": {
     "end_time": "2023-05-19T21:20:07.423460Z",
     "start_time": "2023-05-19T21:20:07.402459Z"
    },
    "collapsed": false
   },
   "outputs": [
    {
     "data": {
      "text/html": [
       "<div>\n",
       "<style scoped>\n",
       "    .dataframe tbody tr th:only-of-type {\n",
       "        vertical-align: middle;\n",
       "    }\n",
       "\n",
       "    .dataframe tbody tr th {\n",
       "        vertical-align: top;\n",
       "    }\n",
       "\n",
       "    .dataframe thead th {\n",
       "        text-align: right;\n",
       "    }\n",
       "</style>\n",
       "<table border=\"1\" class=\"dataframe\">\n",
       "  <thead>\n",
       "    <tr style=\"text-align: right;\">\n",
       "      <th></th>\n",
       "      <th>ORIGIN_CALL</th>\n",
       "      <th>ORIGIN_STAND</th>\n",
       "      <th>TAXI_ID</th>\n",
       "      <th>START_LONG</th>\n",
       "      <th>START_LAT</th>\n",
       "      <th>END_LONG</th>\n",
       "      <th>END_LAT</th>\n",
       "      <th>A</th>\n",
       "      <th>B</th>\n",
       "      <th>C</th>\n",
       "      <th>YEAR</th>\n",
       "      <th>WK_OF_YR</th>\n",
       "      <th>WK_DAY</th>\n",
       "      <th>HR</th>\n",
       "      <th>TARGET</th>\n",
       "      <th>DIST</th>\n",
       "    </tr>\n",
       "  </thead>\n",
       "  <tbody>\n",
       "    <tr>\n",
       "      <th>0</th>\n",
       "      <td>0</td>\n",
       "      <td>63</td>\n",
       "      <td>367</td>\n",
       "      <td>-8.618643</td>\n",
       "      <td>41.141412</td>\n",
       "      <td>-8.630838</td>\n",
       "      <td>41.154489</td>\n",
       "      <td>0</td>\n",
       "      <td>0</td>\n",
       "      <td>1</td>\n",
       "      <td>0</td>\n",
       "      <td>25</td>\n",
       "      <td>6</td>\n",
       "      <td>17</td>\n",
       "      <td>345</td>\n",
       "      <td>2.008737</td>\n",
       "    </tr>\n",
       "    <tr>\n",
       "      <th>1</th>\n",
       "      <td>0</td>\n",
       "      <td>6</td>\n",
       "      <td>371</td>\n",
       "      <td>-8.639847</td>\n",
       "      <td>41.159826</td>\n",
       "      <td>-8.665740</td>\n",
       "      <td>41.170671</td>\n",
       "      <td>0</td>\n",
       "      <td>1</td>\n",
       "      <td>0</td>\n",
       "      <td>0</td>\n",
       "      <td>25</td>\n",
       "      <td>6</td>\n",
       "      <td>17</td>\n",
       "      <td>285</td>\n",
       "      <td>1.661882</td>\n",
       "    </tr>\n",
       "    <tr>\n",
       "      <th>2</th>\n",
       "      <td>0</td>\n",
       "      <td>63</td>\n",
       "      <td>204</td>\n",
       "      <td>-8.612964</td>\n",
       "      <td>41.140359</td>\n",
       "      <td>-8.615970</td>\n",
       "      <td>41.140530</td>\n",
       "      <td>0</td>\n",
       "      <td>0</td>\n",
       "      <td>1</td>\n",
       "      <td>0</td>\n",
       "      <td>25</td>\n",
       "      <td>6</td>\n",
       "      <td>17</td>\n",
       "      <td>975</td>\n",
       "      <td>2.202881</td>\n",
       "    </tr>\n",
       "    <tr>\n",
       "      <th>3</th>\n",
       "      <td>0</td>\n",
       "      <td>63</td>\n",
       "      <td>330</td>\n",
       "      <td>-8.574678</td>\n",
       "      <td>41.151951</td>\n",
       "      <td>-8.607996</td>\n",
       "      <td>41.142915</td>\n",
       "      <td>0</td>\n",
       "      <td>0</td>\n",
       "      <td>1</td>\n",
       "      <td>0</td>\n",
       "      <td>25</td>\n",
       "      <td>6</td>\n",
       "      <td>17</td>\n",
       "      <td>645</td>\n",
       "      <td>3.885076</td>\n",
       "    </tr>\n",
       "    <tr>\n",
       "      <th>4</th>\n",
       "      <td>0</td>\n",
       "      <td>63</td>\n",
       "      <td>217</td>\n",
       "      <td>-8.645994</td>\n",
       "      <td>41.180490</td>\n",
       "      <td>-8.687268</td>\n",
       "      <td>41.178087</td>\n",
       "      <td>0</td>\n",
       "      <td>0</td>\n",
       "      <td>1</td>\n",
       "      <td>0</td>\n",
       "      <td>25</td>\n",
       "      <td>6</td>\n",
       "      <td>17</td>\n",
       "      <td>435</td>\n",
       "      <td>3.194961</td>\n",
       "    </tr>\n",
       "  </tbody>\n",
       "</table>\n",
       "</div>"
      ],
      "text/plain": [
       "   ORIGIN_CALL  ORIGIN_STAND  TAXI_ID  START_LONG  START_LAT  END_LONG  \\\n",
       "0            0            63      367   -8.618643  41.141412 -8.630838   \n",
       "1            0             6      371   -8.639847  41.159826 -8.665740   \n",
       "2            0            63      204   -8.612964  41.140359 -8.615970   \n",
       "3            0            63      330   -8.574678  41.151951 -8.607996   \n",
       "4            0            63      217   -8.645994  41.180490 -8.687268   \n",
       "\n",
       "     END_LAT  A  B  C  YEAR  WK_OF_YR  WK_DAY  HR  TARGET      DIST  \n",
       "0  41.154489  0  0  1     0        25       6  17     345  2.008737  \n",
       "1  41.170671  0  1  0     0        25       6  17     285  1.661882  \n",
       "2  41.140530  0  0  1     0        25       6  17     975  2.202881  \n",
       "3  41.142915  0  0  1     0        25       6  17     645  3.885076  \n",
       "4  41.178087  0  0  1     0        25       6  17     435  3.194961  "
      ]
     },
     "execution_count": 48,
     "metadata": {},
     "output_type": "execute_result"
    }
   ],
   "source": [
    "df_train.head()"
   ]
  },
  {
   "cell_type": "code",
   "execution_count": 49,
   "metadata": {
    "ExecuteTime": {
     "end_time": "2023-05-19T21:20:17.040307Z",
     "start_time": "2023-05-19T21:20:16.831888Z"
    },
    "collapsed": false
   },
   "outputs": [],
   "source": [
    "# Reorder columns\n",
    "df_train.drop(columns=[\"END_LONG\", \"END_LAT\"], inplace=True)\n",
    "df_train.head()\n",
    "cols = [\"ORIGIN_CALL\", \"ORIGIN_STAND\", \"TAXI_ID\", \"START_LONG\", \"START_LAT\", \"A\", \"B\", \"C\", \"YEAR\", \"WK_OF_YR\", \"WK_DAY\", \"HR\", \"DIST\", \"TARGET\"]\n",
    "df_train = df_train[cols]\n",
    "df_test = df_test[cols[:-1]]"
   ]
  },
  {
   "cell_type": "markdown",
   "metadata": {
    "collapsed": false
   },
   "source": [
    "### Remove outliers"
   ]
  },
  {
   "cell_type": "code",
   "execution_count": 50,
   "metadata": {
    "ExecuteTime": {
     "end_time": "2023-05-19T21:20:49.793873Z",
     "start_time": "2023-05-19T21:20:48.672958Z"
    },
    "collapsed": false
   },
   "outputs": [],
   "source": [
    "# df_train.drop(df_train[df_train[\"DIST\"] > 40].index, inplace=True)\n",
    "# df_train.drop(df_train[df_train[\"TARGET\"] < 50].index, inplace=True)\n",
    "# df_train.drop(df_train[df_train[\"TARGET\"] > 15000].index, inplace=True)"
   ]
  },
  {
   "cell_type": "code",
   "execution_count": 51,
   "metadata": {
    "ExecuteTime": {
     "end_time": "2023-05-19T21:20:55.731954Z",
     "start_time": "2023-05-19T21:20:55.528406Z"
    },
    "collapsed": false
   },
   "outputs": [
    {
     "data": {
      "image/png": "[encoded data removed]",
      "text/plain": [
       "<Figure size 432x288 with 1 Axes>"
      ]
     },
     "metadata": {
      "needs_background": "light"
     },
     "output_type": "display_data"
    }
   ],
   "source": [
    "bucket_interval = 0.02\n",
    "from matplotlib.colors import LogNorm\n",
    "plt.hist2d(df_train[\"START_LONG\"], df_train[\"START_LAT\"], bins=[np.arange(-9.5, -7, bucket_interval),np.arange(40, 42.5, bucket_interval)], norm=LogNorm(vmax=200, clip=True), cmap=\"CMRmap\")\n",
    "plt.show()"
   ]
  },
  {
   "cell_type": "code",
   "execution_count": 52,
   "metadata": {
    "ExecuteTime": {
     "end_time": "2023-05-19T21:20:58.355094Z",
     "start_time": "2023-05-19T21:20:58.215161Z"
    },
    "collapsed": false
   },
   "outputs": [
    {
     "data": {
      "image/png": "[encoded data removed]",
      "text/plain": [
       "<Figure size 432x288 with 1 Axes>"
      ]
     },
     "metadata": {
      "needs_background": "light"
     },
     "output_type": "display_data"
    }
   ],
   "source": [
    "bucket_interval = 0.02\n",
    "from matplotlib.colors import LogNorm\n",
    "plt.hist2d(df_test[\"START_LONG\"], df_test[\"START_LAT\"], bins=[np.arange(-9.5, -7, bucket_interval),np.arange(40, 42.5, bucket_interval)], norm=LogNorm(vmax=200, clip=True), cmap=\"CMRmap\")\n",
    "plt.show()"
   ]
  },
  {
   "cell_type": "markdown",
   "metadata": {
    "collapsed": false
   },
   "source": [
    "### Split to train and validation sets"
   ]
  },
  {
   "cell_type": "code",
   "execution_count": 53,
   "metadata": {
    "ExecuteTime": {
     "end_time": "2023-05-19T21:21:23.587726Z",
     "start_time": "2023-05-19T21:21:12.437917Z"
    },
    "collapsed": false
   },
   "outputs": [],
   "source": [
    "# df_train = df_train.sample(frac=1).reset_index(drop=True)\n",
    "# df_valid = df_train[int(0.9 * len(df_train)):]\n",
    "# df_train = df_train[:int(0.9 * len(df_train))]\n",
    "df_train.to_csv(\"../data/numeric_trainvf.csv\", index=True)\n",
    "# df_valid.to_csv(\"data/embed_validvf.csv\", index=False)\n",
    "df_test.to_csv(\"../data/numeric_testvf.csv\", index=False)\n"
   ]
  }
 ],
 "metadata": {
  "kernelspec": {
   "display_name": "Python 3",
   "language": "python",
   "name": "python3"
  },
  "language_info": {
   "codemirror_mode": {
    "name": "ipython",
    "version": 3
   },
   "file_extension": ".py",
   "mimetype": "text/x-python",
   "name": "python",
   "nbconvert_exporter": "python",
   "pygments_lexer": "ipython3",
   "version": "3.9.7"
  }
 },
 "nbformat": 4,
 "nbformat_minor": 0
}
