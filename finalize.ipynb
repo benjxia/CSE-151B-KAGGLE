{
 "cells": [
  {
   "cell_type": "code",
   "execution_count": 1,
   "metadata": {
    "collapsed": true,
    "ExecuteTime": {
     "start_time": "2023-05-13T17:29:16.242895Z",
     "end_time": "2023-05-13T17:29:17.826901Z"
    }
   },
   "outputs": [],
   "source": [
    "import pandas as pd\n",
    "import numpy as np\n",
    "from sklearn import preprocessing, metrics, neighbors\n"
   ]
  },
  {
   "cell_type": "code",
   "execution_count": 2,
   "outputs": [],
   "source": [
    "df_train = pd.read_csv(\"./data/processed_trainv6.csv\")\n",
    "df_test = pd.read_csv(\"./data/processed_testv6.csv\")"
   ],
   "metadata": {
    "collapsed": false,
    "ExecuteTime": {
     "start_time": "2023-05-13T17:29:17.830935Z",
     "end_time": "2023-05-13T17:29:20.363588Z"
    }
   }
  },
  {
   "cell_type": "code",
   "execution_count": 3,
   "outputs": [
    {
     "data": {
      "text/plain": "   ORIGIN_CALL  ORIGIN_STAND  TAXI_ID  START_LONG  START_LAT  END_LONG  \\\n0            0            63      367   -8.618643  41.141412 -8.630838   \n1            0             6      371   -8.639847  41.159826 -8.665740   \n2            0            63      204   -8.612964  41.140359 -8.615970   \n3            0            63      330   -8.574678  41.151951 -8.607996   \n4            0            63      217   -8.645994  41.180490 -8.687268   \n\n     END_LAT  A  B  C  YEAR  WK_OF_YR  WK_DAY  HR  TARGET  \n0  41.154489  0  0  1  2013        26       6  17     345  \n1  41.170671  0  1  0  2013        26       6  17     285  \n2  41.140530  0  0  1  2013        26       6  17     975  \n3  41.142915  0  0  1  2013        26       6  17     645  \n4  41.178087  0  0  1  2013        26       6  17     435  ",
      "text/html": "<div>\n<style scoped>\n    .dataframe tbody tr th:only-of-type {\n        vertical-align: middle;\n    }\n\n    .dataframe tbody tr th {\n        vertical-align: top;\n    }\n\n    .dataframe thead th {\n        text-align: right;\n    }\n</style>\n<table border=\"1\" class=\"dataframe\">\n  <thead>\n    <tr style=\"text-align: right;\">\n      <th></th>\n      <th>ORIGIN_CALL</th>\n      <th>ORIGIN_STAND</th>\n      <th>TAXI_ID</th>\n      <th>START_LONG</th>\n      <th>START_LAT</th>\n      <th>END_LONG</th>\n      <th>END_LAT</th>\n      <th>A</th>\n      <th>B</th>\n      <th>C</th>\n      <th>YEAR</th>\n      <th>WK_OF_YR</th>\n      <th>WK_DAY</th>\n      <th>HR</th>\n      <th>TARGET</th>\n    </tr>\n  </thead>\n  <tbody>\n    <tr>\n      <th>0</th>\n      <td>0</td>\n      <td>63</td>\n      <td>367</td>\n      <td>-8.618643</td>\n      <td>41.141412</td>\n      <td>-8.630838</td>\n      <td>41.154489</td>\n      <td>0</td>\n      <td>0</td>\n      <td>1</td>\n      <td>2013</td>\n      <td>26</td>\n      <td>6</td>\n      <td>17</td>\n      <td>345</td>\n    </tr>\n    <tr>\n      <th>1</th>\n      <td>0</td>\n      <td>6</td>\n      <td>371</td>\n      <td>-8.639847</td>\n      <td>41.159826</td>\n      <td>-8.665740</td>\n      <td>41.170671</td>\n      <td>0</td>\n      <td>1</td>\n      <td>0</td>\n      <td>2013</td>\n      <td>26</td>\n      <td>6</td>\n      <td>17</td>\n      <td>285</td>\n    </tr>\n    <tr>\n      <th>2</th>\n      <td>0</td>\n      <td>63</td>\n      <td>204</td>\n      <td>-8.612964</td>\n      <td>41.140359</td>\n      <td>-8.615970</td>\n      <td>41.140530</td>\n      <td>0</td>\n      <td>0</td>\n      <td>1</td>\n      <td>2013</td>\n      <td>26</td>\n      <td>6</td>\n      <td>17</td>\n      <td>975</td>\n    </tr>\n    <tr>\n      <th>3</th>\n      <td>0</td>\n      <td>63</td>\n      <td>330</td>\n      <td>-8.574678</td>\n      <td>41.151951</td>\n      <td>-8.607996</td>\n      <td>41.142915</td>\n      <td>0</td>\n      <td>0</td>\n      <td>1</td>\n      <td>2013</td>\n      <td>26</td>\n      <td>6</td>\n      <td>17</td>\n      <td>645</td>\n    </tr>\n    <tr>\n      <th>4</th>\n      <td>0</td>\n      <td>63</td>\n      <td>217</td>\n      <td>-8.645994</td>\n      <td>41.180490</td>\n      <td>-8.687268</td>\n      <td>41.178087</td>\n      <td>0</td>\n      <td>0</td>\n      <td>1</td>\n      <td>2013</td>\n      <td>26</td>\n      <td>6</td>\n      <td>17</td>\n      <td>435</td>\n    </tr>\n  </tbody>\n</table>\n</div>"
     },
     "execution_count": 3,
     "metadata": {},
     "output_type": "execute_result"
    }
   ],
   "source": [
    "df_train.head()"
   ],
   "metadata": {
    "collapsed": false,
    "ExecuteTime": {
     "start_time": "2023-05-13T17:29:20.373579Z",
     "end_time": "2023-05-13T17:29:20.422975Z"
    }
   }
  },
  {
   "cell_type": "code",
   "execution_count": 4,
   "outputs": [
    {
     "data": {
      "text/plain": "(1710660, 1)"
     },
     "execution_count": 4,
     "metadata": {},
     "output_type": "execute_result"
    }
   ],
   "source": [
    "df_train[\"HR\"].to_numpy().reshape(-1, 1).shape"
   ],
   "metadata": {
    "collapsed": false,
    "ExecuteTime": {
     "start_time": "2023-05-13T17:29:20.398670Z",
     "end_time": "2023-05-13T17:29:20.497482Z"
    }
   }
  },
  {
   "cell_type": "code",
   "execution_count": 5,
   "outputs": [],
   "source": [
    "train_arr = np.loadtxt(\"./data/processed_trainv6.csv\", delimiter=\",\", skiprows=1)\n",
    "test_arr = np.loadtxt(\"./data/processed_testv6.csv\", delimiter=\",\", skiprows=1)"
   ],
   "metadata": {
    "collapsed": false,
    "ExecuteTime": {
     "start_time": "2023-05-13T17:29:20.417687Z",
     "end_time": "2023-05-13T17:29:25.006907Z"
    }
   }
  },
  {
   "cell_type": "markdown",
   "source": [
    "### Approximate starting coords in test set"
   ],
   "metadata": {
    "collapsed": false
   }
  },
  {
   "cell_type": "code",
   "execution_count": 6,
   "outputs": [],
   "source": [
    "KNN = dict()\n",
    "for i in df_test[\"TAXI_ID\"].unique():\n",
    "    KNN[i] = neighbors.NearestNeighbors(n_neighbors=1)\n",
    "    KNN[i].fit(train_arr[train_arr[:, 2] == i, 10:-1])"
   ],
   "metadata": {
    "collapsed": false,
    "ExecuteTime": {
     "start_time": "2023-05-13T17:29:25.010928Z",
     "end_time": "2023-05-13T17:29:31.258811Z"
    }
   }
  },
  {
   "cell_type": "code",
   "execution_count": 7,
   "outputs": [],
   "source": [
    "# Nearest neighbors in time\n",
    "coords = np.zeros((len(df_test), 2))\n",
    "for i in range(len(df_test)):\n",
    "    neighbor_idx = KNN[test_arr[i, 2]].kneighbors(test_arr[i, 6:].reshape(1, -1), n_neighbors=1)[1][0][0]\n",
    "    neighbor = df_train[df_train[\"TAXI_ID\"] == test_arr[i, 2]].iloc[neighbor_idx]\n",
    "    coords[i] = [neighbor[\"END_LONG\"], neighbor[\"END_LAT\"]]\n"
   ],
   "metadata": {
    "collapsed": false,
    "ExecuteTime": {
     "start_time": "2023-05-13T17:29:31.264812Z",
     "end_time": "2023-05-13T17:29:33.222007Z"
    }
   }
  },
  {
   "cell_type": "code",
   "execution_count": 8,
   "outputs": [],
   "source": [
    "df_test[[\"START_LONG\", \"START_LAT\"]] = coords"
   ],
   "metadata": {
    "collapsed": false,
    "ExecuteTime": {
     "start_time": "2023-05-13T17:29:33.226002Z",
     "end_time": "2023-05-13T17:29:33.235861Z"
    }
   }
  },
  {
   "cell_type": "code",
   "execution_count": 9,
   "outputs": [
    {
     "data": {
      "text/plain": "   ORIGIN_CALL  ORIGIN_STAND  TAXI_ID  START_LONG  START_LAT  END_LONG  \\\n0            0            63      367   -8.618643  41.141412 -8.630838   \n1            0             6      371   -8.639847  41.159826 -8.665740   \n2            0            63      204   -8.612964  41.140359 -8.615970   \n3            0            63      330   -8.574678  41.151951 -8.607996   \n4            0            63      217   -8.645994  41.180490 -8.687268   \n\n     END_LAT  A  B  C  YEAR  WK_OF_YR  WK_DAY  HR  TARGET  \n0  41.154489  0  0  1  2013        26       6  17     345  \n1  41.170671  0  1  0  2013        26       6  17     285  \n2  41.140530  0  0  1  2013        26       6  17     975  \n3  41.142915  0  0  1  2013        26       6  17     645  \n4  41.178087  0  0  1  2013        26       6  17     435  ",
      "text/html": "<div>\n<style scoped>\n    .dataframe tbody tr th:only-of-type {\n        vertical-align: middle;\n    }\n\n    .dataframe tbody tr th {\n        vertical-align: top;\n    }\n\n    .dataframe thead th {\n        text-align: right;\n    }\n</style>\n<table border=\"1\" class=\"dataframe\">\n  <thead>\n    <tr style=\"text-align: right;\">\n      <th></th>\n      <th>ORIGIN_CALL</th>\n      <th>ORIGIN_STAND</th>\n      <th>TAXI_ID</th>\n      <th>START_LONG</th>\n      <th>START_LAT</th>\n      <th>END_LONG</th>\n      <th>END_LAT</th>\n      <th>A</th>\n      <th>B</th>\n      <th>C</th>\n      <th>YEAR</th>\n      <th>WK_OF_YR</th>\n      <th>WK_DAY</th>\n      <th>HR</th>\n      <th>TARGET</th>\n    </tr>\n  </thead>\n  <tbody>\n    <tr>\n      <th>0</th>\n      <td>0</td>\n      <td>63</td>\n      <td>367</td>\n      <td>-8.618643</td>\n      <td>41.141412</td>\n      <td>-8.630838</td>\n      <td>41.154489</td>\n      <td>0</td>\n      <td>0</td>\n      <td>1</td>\n      <td>2013</td>\n      <td>26</td>\n      <td>6</td>\n      <td>17</td>\n      <td>345</td>\n    </tr>\n    <tr>\n      <th>1</th>\n      <td>0</td>\n      <td>6</td>\n      <td>371</td>\n      <td>-8.639847</td>\n      <td>41.159826</td>\n      <td>-8.665740</td>\n      <td>41.170671</td>\n      <td>0</td>\n      <td>1</td>\n      <td>0</td>\n      <td>2013</td>\n      <td>26</td>\n      <td>6</td>\n      <td>17</td>\n      <td>285</td>\n    </tr>\n    <tr>\n      <th>2</th>\n      <td>0</td>\n      <td>63</td>\n      <td>204</td>\n      <td>-8.612964</td>\n      <td>41.140359</td>\n      <td>-8.615970</td>\n      <td>41.140530</td>\n      <td>0</td>\n      <td>0</td>\n      <td>1</td>\n      <td>2013</td>\n      <td>26</td>\n      <td>6</td>\n      <td>17</td>\n      <td>975</td>\n    </tr>\n    <tr>\n      <th>3</th>\n      <td>0</td>\n      <td>63</td>\n      <td>330</td>\n      <td>-8.574678</td>\n      <td>41.151951</td>\n      <td>-8.607996</td>\n      <td>41.142915</td>\n      <td>0</td>\n      <td>0</td>\n      <td>1</td>\n      <td>2013</td>\n      <td>26</td>\n      <td>6</td>\n      <td>17</td>\n      <td>645</td>\n    </tr>\n    <tr>\n      <th>4</th>\n      <td>0</td>\n      <td>63</td>\n      <td>217</td>\n      <td>-8.645994</td>\n      <td>41.180490</td>\n      <td>-8.687268</td>\n      <td>41.178087</td>\n      <td>0</td>\n      <td>0</td>\n      <td>1</td>\n      <td>2013</td>\n      <td>26</td>\n      <td>6</td>\n      <td>17</td>\n      <td>435</td>\n    </tr>\n  </tbody>\n</table>\n</div>"
     },
     "execution_count": 9,
     "metadata": {},
     "output_type": "execute_result"
    }
   ],
   "source": [
    "df_train.head()"
   ],
   "metadata": {
    "collapsed": false,
    "ExecuteTime": {
     "start_time": "2023-05-13T17:29:33.249731Z",
     "end_time": "2023-05-13T17:29:33.270977Z"
    }
   }
  },
  {
   "cell_type": "markdown",
   "source": [
    "### Calculate distances from city center"
   ],
   "metadata": {
    "collapsed": false
   }
  },
  {
   "cell_type": "code",
   "execution_count": 10,
   "outputs": [],
   "source": [
    "import math\n",
    "# Haversine distance assumes first coord lat second coord long\n",
    "central_long = df_train[df_train[\"A\"] == 1][\"START_LONG\"].median()\n",
    "central_lat = df_train[df_train[\"A\"] == 1][\"START_LAT\"].median()\n",
    "center = np.array([central_lat, central_long], dtype=np.float64)\n",
    "center = np.radians(center)\n",
    "\n",
    "coords_train = df_train[[\"START_LAT\", \"START_LONG\"]].to_numpy()\n",
    "coords_train = np.radians(coords_train)\n",
    "dists_train = metrics.pairwise.haversine_distances(coords_train, center.reshape(1, -1))\n",
    "dists_train *= 6371000/1000\n",
    "coords_test = df_test[[\"START_LAT\", \"START_LONG\"]].to_numpy()\n",
    "coords_test = np.radians(coords_test)\n",
    "dists_test = metrics.pairwise.haversine_distances(coords_test, center.reshape(1, -1))\n",
    "dists_test *= 6371000/1000"
   ],
   "metadata": {
    "collapsed": false,
    "ExecuteTime": {
     "start_time": "2023-05-13T17:29:33.275869Z",
     "end_time": "2023-05-13T17:29:33.544972Z"
    }
   }
  },
  {
   "cell_type": "code",
   "execution_count": 11,
   "outputs": [
    {
     "data": {
      "text/plain": "<Figure size 432x288 with 2 Axes>",
      "image/png": "[encoded data removed]"
     },
     "metadata": {
      "needs_background": "light"
     },
     "output_type": "display_data"
    }
   ],
   "source": [
    "import matplotlib.pyplot as plt\n",
    "plt.subplot(1, 2, 1)\n",
    "plt.title(\"Training set distance\")\n",
    "plt.hist(dists_train, bins=np.arange(0, 10, 0.01))\n",
    "plt.subplot(1, 2, 2)\n",
    "plt.title(\"Test set distance\")\n",
    "plt.hist(dists_test, bins=np.arange(0, 10, 0.25))\n",
    "plt.show()"
   ],
   "metadata": {
    "collapsed": false,
    "ExecuteTime": {
     "start_time": "2023-05-13T17:29:33.537869Z",
     "end_time": "2023-05-13T17:29:35.898811Z"
    }
   }
  },
  {
   "cell_type": "code",
   "execution_count": 12,
   "outputs": [],
   "source": [
    "df_train[\"DIST\"] = dists_train\n",
    "df_test[\"DIST\"] = dists_test"
   ],
   "metadata": {
    "collapsed": false,
    "ExecuteTime": {
     "start_time": "2023-05-13T17:29:35.900812Z",
     "end_time": "2023-05-13T17:29:35.913963Z"
    }
   }
  },
  {
   "cell_type": "code",
   "execution_count": 13,
   "outputs": [
    {
     "data": {
      "text/plain": "   ORIGIN_CALL  ORIGIN_STAND  TAXI_ID  START_LONG  START_LAT  END_LONG  \\\n0            0            63      367   -8.618643  41.141412 -8.630838   \n1            0             6      371   -8.639847  41.159826 -8.665740   \n2            0            63      204   -8.612964  41.140359 -8.615970   \n3            0            63      330   -8.574678  41.151951 -8.607996   \n4            0            63      217   -8.645994  41.180490 -8.687268   \n\n     END_LAT  A  B  C  YEAR  WK_OF_YR  WK_DAY  HR  TARGET      DIST  \n0  41.154489  0  0  1  2013        26       6  17     345  2.008737  \n1  41.170671  0  1  0  2013        26       6  17     285  1.661882  \n2  41.140530  0  0  1  2013        26       6  17     975  2.202881  \n3  41.142915  0  0  1  2013        26       6  17     645  3.885076  \n4  41.178087  0  0  1  2013        26       6  17     435  3.194961  ",
      "text/html": "<div>\n<style scoped>\n    .dataframe tbody tr th:only-of-type {\n        vertical-align: middle;\n    }\n\n    .dataframe tbody tr th {\n        vertical-align: top;\n    }\n\n    .dataframe thead th {\n        text-align: right;\n    }\n</style>\n<table border=\"1\" class=\"dataframe\">\n  <thead>\n    <tr style=\"text-align: right;\">\n      <th></th>\n      <th>ORIGIN_CALL</th>\n      <th>ORIGIN_STAND</th>\n      <th>TAXI_ID</th>\n      <th>START_LONG</th>\n      <th>START_LAT</th>\n      <th>END_LONG</th>\n      <th>END_LAT</th>\n      <th>A</th>\n      <th>B</th>\n      <th>C</th>\n      <th>YEAR</th>\n      <th>WK_OF_YR</th>\n      <th>WK_DAY</th>\n      <th>HR</th>\n      <th>TARGET</th>\n      <th>DIST</th>\n    </tr>\n  </thead>\n  <tbody>\n    <tr>\n      <th>0</th>\n      <td>0</td>\n      <td>63</td>\n      <td>367</td>\n      <td>-8.618643</td>\n      <td>41.141412</td>\n      <td>-8.630838</td>\n      <td>41.154489</td>\n      <td>0</td>\n      <td>0</td>\n      <td>1</td>\n      <td>2013</td>\n      <td>26</td>\n      <td>6</td>\n      <td>17</td>\n      <td>345</td>\n      <td>2.008737</td>\n    </tr>\n    <tr>\n      <th>1</th>\n      <td>0</td>\n      <td>6</td>\n      <td>371</td>\n      <td>-8.639847</td>\n      <td>41.159826</td>\n      <td>-8.665740</td>\n      <td>41.170671</td>\n      <td>0</td>\n      <td>1</td>\n      <td>0</td>\n      <td>2013</td>\n      <td>26</td>\n      <td>6</td>\n      <td>17</td>\n      <td>285</td>\n      <td>1.661882</td>\n    </tr>\n    <tr>\n      <th>2</th>\n      <td>0</td>\n      <td>63</td>\n      <td>204</td>\n      <td>-8.612964</td>\n      <td>41.140359</td>\n      <td>-8.615970</td>\n      <td>41.140530</td>\n      <td>0</td>\n      <td>0</td>\n      <td>1</td>\n      <td>2013</td>\n      <td>26</td>\n      <td>6</td>\n      <td>17</td>\n      <td>975</td>\n      <td>2.202881</td>\n    </tr>\n    <tr>\n      <th>3</th>\n      <td>0</td>\n      <td>63</td>\n      <td>330</td>\n      <td>-8.574678</td>\n      <td>41.151951</td>\n      <td>-8.607996</td>\n      <td>41.142915</td>\n      <td>0</td>\n      <td>0</td>\n      <td>1</td>\n      <td>2013</td>\n      <td>26</td>\n      <td>6</td>\n      <td>17</td>\n      <td>645</td>\n      <td>3.885076</td>\n    </tr>\n    <tr>\n      <th>4</th>\n      <td>0</td>\n      <td>63</td>\n      <td>217</td>\n      <td>-8.645994</td>\n      <td>41.180490</td>\n      <td>-8.687268</td>\n      <td>41.178087</td>\n      <td>0</td>\n      <td>0</td>\n      <td>1</td>\n      <td>2013</td>\n      <td>26</td>\n      <td>6</td>\n      <td>17</td>\n      <td>435</td>\n      <td>3.194961</td>\n    </tr>\n  </tbody>\n</table>\n</div>"
     },
     "execution_count": 13,
     "metadata": {},
     "output_type": "execute_result"
    }
   ],
   "source": [
    "df_train.head()"
   ],
   "metadata": {
    "collapsed": false,
    "ExecuteTime": {
     "start_time": "2023-05-13T17:29:35.925912Z",
     "end_time": "2023-05-13T17:29:36.001566Z"
    }
   }
  },
  {
   "cell_type": "code",
   "execution_count": 14,
   "outputs": [],
   "source": [
    "# Reorder columns\n",
    "df_train.drop(columns=[\"END_LONG\", \"END_LAT\"], inplace=True)\n",
    "df_train.head()\n",
    "cols = [\"ORIGIN_CALL\", \"ORIGIN_STAND\", \"TAXI_ID\", \"START_LONG\", \"START_LAT\", \"A\", \"B\", \"C\", \"YEAR\", \"WK_OF_YR\", \"WK_DAY\", \"HR\", \"DIST\", \"TARGET\"]\n",
    "df_train = df_train[cols]\n",
    "df_test = df_test[cols[:-1]]"
   ],
   "metadata": {
    "collapsed": false,
    "ExecuteTime": {
     "start_time": "2023-05-13T17:29:35.949655Z",
     "end_time": "2023-05-13T17:29:36.211650Z"
    }
   }
  },
  {
   "cell_type": "code",
   "execution_count": 15,
   "outputs": [
    {
     "data": {
      "text/plain": "   ORIGIN_CALL  ORIGIN_STAND  TAXI_ID  START_LONG  START_LAT  A  B  C  YEAR  \\\n0            0            63      367   -8.618643  41.141412  0  0  1  2013   \n1            0             6      371   -8.639847  41.159826  0  1  0  2013   \n2            0            63      204   -8.612964  41.140359  0  0  1  2013   \n3            0            63      330   -8.574678  41.151951  0  0  1  2013   \n4            0            63      217   -8.645994  41.180490  0  0  1  2013   \n\n   WK_OF_YR  WK_DAY  HR      DIST  TARGET  \n0        26       6  17  2.008737     345  \n1        26       6  17  1.661882     285  \n2        26       6  17  2.202881     975  \n3        26       6  17  3.885076     645  \n4        26       6  17  3.194961     435  ",
      "text/html": "<div>\n<style scoped>\n    .dataframe tbody tr th:only-of-type {\n        vertical-align: middle;\n    }\n\n    .dataframe tbody tr th {\n        vertical-align: top;\n    }\n\n    .dataframe thead th {\n        text-align: right;\n    }\n</style>\n<table border=\"1\" class=\"dataframe\">\n  <thead>\n    <tr style=\"text-align: right;\">\n      <th></th>\n      <th>ORIGIN_CALL</th>\n      <th>ORIGIN_STAND</th>\n      <th>TAXI_ID</th>\n      <th>START_LONG</th>\n      <th>START_LAT</th>\n      <th>A</th>\n      <th>B</th>\n      <th>C</th>\n      <th>YEAR</th>\n      <th>WK_OF_YR</th>\n      <th>WK_DAY</th>\n      <th>HR</th>\n      <th>DIST</th>\n      <th>TARGET</th>\n    </tr>\n  </thead>\n  <tbody>\n    <tr>\n      <th>0</th>\n      <td>0</td>\n      <td>63</td>\n      <td>367</td>\n      <td>-8.618643</td>\n      <td>41.141412</td>\n      <td>0</td>\n      <td>0</td>\n      <td>1</td>\n      <td>2013</td>\n      <td>26</td>\n      <td>6</td>\n      <td>17</td>\n      <td>2.008737</td>\n      <td>345</td>\n    </tr>\n    <tr>\n      <th>1</th>\n      <td>0</td>\n      <td>6</td>\n      <td>371</td>\n      <td>-8.639847</td>\n      <td>41.159826</td>\n      <td>0</td>\n      <td>1</td>\n      <td>0</td>\n      <td>2013</td>\n      <td>26</td>\n      <td>6</td>\n      <td>17</td>\n      <td>1.661882</td>\n      <td>285</td>\n    </tr>\n    <tr>\n      <th>2</th>\n      <td>0</td>\n      <td>63</td>\n      <td>204</td>\n      <td>-8.612964</td>\n      <td>41.140359</td>\n      <td>0</td>\n      <td>0</td>\n      <td>1</td>\n      <td>2013</td>\n      <td>26</td>\n      <td>6</td>\n      <td>17</td>\n      <td>2.202881</td>\n      <td>975</td>\n    </tr>\n    <tr>\n      <th>3</th>\n      <td>0</td>\n      <td>63</td>\n      <td>330</td>\n      <td>-8.574678</td>\n      <td>41.151951</td>\n      <td>0</td>\n      <td>0</td>\n      <td>1</td>\n      <td>2013</td>\n      <td>26</td>\n      <td>6</td>\n      <td>17</td>\n      <td>3.885076</td>\n      <td>645</td>\n    </tr>\n    <tr>\n      <th>4</th>\n      <td>0</td>\n      <td>63</td>\n      <td>217</td>\n      <td>-8.645994</td>\n      <td>41.180490</td>\n      <td>0</td>\n      <td>0</td>\n      <td>1</td>\n      <td>2013</td>\n      <td>26</td>\n      <td>6</td>\n      <td>17</td>\n      <td>3.194961</td>\n      <td>435</td>\n    </tr>\n  </tbody>\n</table>\n</div>"
     },
     "execution_count": 15,
     "metadata": {},
     "output_type": "execute_result"
    }
   ],
   "source": [
    "df_train.head()"
   ],
   "metadata": {
    "collapsed": false,
    "ExecuteTime": {
     "start_time": "2023-05-13T17:29:36.219895Z",
     "end_time": "2023-05-13T17:29:36.282582Z"
    }
   }
  },
  {
   "cell_type": "markdown",
   "source": [
    "### One-hot encoding for times"
   ],
   "metadata": {
    "collapsed": false
   }
  },
  {
   "cell_type": "code",
   "execution_count": 16,
   "outputs": [
    {
     "data": {
      "text/plain": "OneHotEncoder()",
      "text/html": "<style>#sk-container-id-1 {color: black;background-color: white;}#sk-container-id-1 pre{padding: 0;}#sk-container-id-1 div.sk-toggleable {background-color: white;}#sk-container-id-1 label.sk-toggleable__label {cursor: pointer;display: block;width: 100%;margin-bottom: 0;padding: 0.3em;box-sizing: border-box;text-align: center;}#sk-container-id-1 label.sk-toggleable__label-arrow:before {content: \"▸\";float: left;margin-right: 0.25em;color: #696969;}#sk-container-id-1 label.sk-toggleable__label-arrow:hover:before {color: black;}#sk-container-id-1 div.sk-estimator:hover label.sk-toggleable__label-arrow:before {color: black;}#sk-container-id-1 div.sk-toggleable__content {max-height: 0;max-width: 0;overflow: hidden;text-align: left;background-color: #f0f8ff;}#sk-container-id-1 div.sk-toggleable__content pre {margin: 0.2em;color: black;border-radius: 0.25em;background-color: #f0f8ff;}#sk-container-id-1 input.sk-toggleable__control:checked~div.sk-toggleable__content {max-height: 200px;max-width: 100%;overflow: auto;}#sk-container-id-1 input.sk-toggleable__control:checked~label.sk-toggleable__label-arrow:before {content: \"▾\";}#sk-container-id-1 div.sk-estimator input.sk-toggleable__control:checked~label.sk-toggleable__label {background-color: #d4ebff;}#sk-container-id-1 div.sk-label input.sk-toggleable__control:checked~label.sk-toggleable__label {background-color: #d4ebff;}#sk-container-id-1 input.sk-hidden--visually {border: 0;clip: rect(1px 1px 1px 1px);clip: rect(1px, 1px, 1px, 1px);height: 1px;margin: -1px;overflow: hidden;padding: 0;position: absolute;width: 1px;}#sk-container-id-1 div.sk-estimator {font-family: monospace;background-color: #f0f8ff;border: 1px dotted black;border-radius: 0.25em;box-sizing: border-box;margin-bottom: 0.5em;}#sk-container-id-1 div.sk-estimator:hover {background-color: #d4ebff;}#sk-container-id-1 div.sk-parallel-item::after {content: \"\";width: 100%;border-bottom: 1px solid gray;flex-grow: 1;}#sk-container-id-1 div.sk-label:hover label.sk-toggleable__label {background-color: #d4ebff;}#sk-container-id-1 div.sk-serial::before {content: \"\";position: absolute;border-left: 1px solid gray;box-sizing: border-box;top: 0;bottom: 0;left: 50%;z-index: 0;}#sk-container-id-1 div.sk-serial {display: flex;flex-direction: column;align-items: center;background-color: white;padding-right: 0.2em;padding-left: 0.2em;position: relative;}#sk-container-id-1 div.sk-item {position: relative;z-index: 1;}#sk-container-id-1 div.sk-parallel {display: flex;align-items: stretch;justify-content: center;background-color: white;position: relative;}#sk-container-id-1 div.sk-item::before, #sk-container-id-1 div.sk-parallel-item::before {content: \"\";position: absolute;border-left: 1px solid gray;box-sizing: border-box;top: 0;bottom: 0;left: 50%;z-index: -1;}#sk-container-id-1 div.sk-parallel-item {display: flex;flex-direction: column;z-index: 1;position: relative;background-color: white;}#sk-container-id-1 div.sk-parallel-item:first-child::after {align-self: flex-end;width: 50%;}#sk-container-id-1 div.sk-parallel-item:last-child::after {align-self: flex-start;width: 50%;}#sk-container-id-1 div.sk-parallel-item:only-child::after {width: 0;}#sk-container-id-1 div.sk-dashed-wrapped {border: 1px dashed gray;margin: 0 0.4em 0.5em 0.4em;box-sizing: border-box;padding-bottom: 0.4em;background-color: white;}#sk-container-id-1 div.sk-label label {font-family: monospace;font-weight: bold;display: inline-block;line-height: 1.2em;}#sk-container-id-1 div.sk-label-container {text-align: center;}#sk-container-id-1 div.sk-container {/* jupyter's `normalize.less` sets `[hidden] { display: none; }` but bootstrap.min.css set `[hidden] { display: none !important; }` so we also need the `!important` here to be able to override the default hidden behavior on the sphinx rendered scikit-learn.org. See: https://github.com/scikit-learn/scikit-learn/issues/21755 */display: inline-block !important;position: relative;}#sk-container-id-1 div.sk-text-repr-fallback {display: none;}</style><div id=\"sk-container-id-1\" class=\"sk-top-container\"><div class=\"sk-text-repr-fallback\"><pre>OneHotEncoder()</pre><b>In a Jupyter environment, please rerun this cell to show the HTML representation or trust the notebook. <br />On GitHub, the HTML representation is unable to render, please try loading this page with nbviewer.org.</b></div><div class=\"sk-container\" hidden><div class=\"sk-item\"><div class=\"sk-estimator sk-toggleable\"><input class=\"sk-toggleable__control sk-hidden--visually\" id=\"sk-estimator-id-1\" type=\"checkbox\" checked><label for=\"sk-estimator-id-1\" class=\"sk-toggleable__label sk-toggleable__label-arrow\">OneHotEncoder</label><div class=\"sk-toggleable__content\"><pre>OneHotEncoder()</pre></div></div></div></div></div>"
     },
     "execution_count": 16,
     "metadata": {},
     "output_type": "execute_result"
    }
   ],
   "source": [
    "year_encoder = preprocessing.OneHotEncoder()\n",
    "year_encoder.fit(df_train[[\"YEAR\", \"WK_OF_YR\", \"WK_DAY\", \"HR\"]])"
   ],
   "metadata": {
    "collapsed": false,
    "ExecuteTime": {
     "start_time": "2023-05-13T17:29:36.263409Z",
     "end_time": "2023-05-13T17:29:36.459943Z"
    }
   }
  },
  {
   "cell_type": "code",
   "execution_count": 17,
   "outputs": [],
   "source": [
    "transformed = year_encoder.transform(df_train[[\"YEAR\",\"WK_OF_YR\", \"WK_DAY\", \"HR\"]].to_numpy())\n",
    "#Create a Pandas DataFrame of the hot encoded column\n",
    "ohe_df = pd.DataFrame.sparse.from_spmatrix(transformed)\n",
    "ohe_df.columns = year_encoder.get_feature_names_out()\n",
    "#concat with original data\n",
    "df_train = pd.concat([df_train, ohe_df], axis=1).drop([\"YEAR\",\"WK_OF_YR\", \"WK_DAY\", \"HR\"], axis=1)\n",
    "\n",
    "transformed = year_encoder.transform(df_test[[\"YEAR\",\"WK_OF_YR\", \"WK_DAY\", \"HR\"]].to_numpy())\n",
    "#Create a Pandas DataFrame of the hot encoded column\n",
    "ohe_df = pd.DataFrame.sparse.from_spmatrix(transformed)\n",
    "ohe_df.columns = year_encoder.get_feature_names_out()\n",
    "#concat with original data\n",
    "df_test = pd.concat([df_test, ohe_df], axis=1).drop([\"YEAR\",\"WK_OF_YR\", \"WK_DAY\", \"HR\"], axis=1)"
   ],
   "metadata": {
    "collapsed": false,
    "ExecuteTime": {
     "start_time": "2023-05-13T17:29:36.447408Z",
     "end_time": "2023-05-13T17:29:36.461949Z"
    }
   }
  },
  {
   "cell_type": "code",
   "execution_count": 18,
   "outputs": [
    {
     "data": {
      "text/plain": "   ORIGIN_CALL  ORIGIN_STAND  TAXI_ID  START_LONG  START_LAT  A  B  C  YEAR  \\\n0            0            14      342   -8.615268  41.140188  0  1  0  2014   \n1            0            56       78   -8.685387  41.164857  0  1  0  2014   \n2            0            14      239   -8.683758  41.197752  0  1  0  2014   \n3            0            52      309   -8.629110  41.156478  0  1  0  2014   \n4            0            17      393   -8.607456  41.144139  0  1  0  2014   \n\n   WK_OF_YR  WK_DAY  HR      DIST  \n0        33       3  10  2.177986  \n1        33       3  10  5.506525  \n2        33       3  10  6.827327  \n3        33       3  10  0.830952  \n4        33       3  10  2.000293  ",
      "text/html": "<div>\n<style scoped>\n    .dataframe tbody tr th:only-of-type {\n        vertical-align: middle;\n    }\n\n    .dataframe tbody tr th {\n        vertical-align: top;\n    }\n\n    .dataframe thead th {\n        text-align: right;\n    }\n</style>\n<table border=\"1\" class=\"dataframe\">\n  <thead>\n    <tr style=\"text-align: right;\">\n      <th></th>\n      <th>ORIGIN_CALL</th>\n      <th>ORIGIN_STAND</th>\n      <th>TAXI_ID</th>\n      <th>START_LONG</th>\n      <th>START_LAT</th>\n      <th>A</th>\n      <th>B</th>\n      <th>C</th>\n      <th>YEAR</th>\n      <th>WK_OF_YR</th>\n      <th>WK_DAY</th>\n      <th>HR</th>\n      <th>DIST</th>\n    </tr>\n  </thead>\n  <tbody>\n    <tr>\n      <th>0</th>\n      <td>0</td>\n      <td>14</td>\n      <td>342</td>\n      <td>-8.615268</td>\n      <td>41.140188</td>\n      <td>0</td>\n      <td>1</td>\n      <td>0</td>\n      <td>2014</td>\n      <td>33</td>\n      <td>3</td>\n      <td>10</td>\n      <td>2.177986</td>\n    </tr>\n    <tr>\n      <th>1</th>\n      <td>0</td>\n      <td>56</td>\n      <td>78</td>\n      <td>-8.685387</td>\n      <td>41.164857</td>\n      <td>0</td>\n      <td>1</td>\n      <td>0</td>\n      <td>2014</td>\n      <td>33</td>\n      <td>3</td>\n      <td>10</td>\n      <td>5.506525</td>\n    </tr>\n    <tr>\n      <th>2</th>\n      <td>0</td>\n      <td>14</td>\n      <td>239</td>\n      <td>-8.683758</td>\n      <td>41.197752</td>\n      <td>0</td>\n      <td>1</td>\n      <td>0</td>\n      <td>2014</td>\n      <td>33</td>\n      <td>3</td>\n      <td>10</td>\n      <td>6.827327</td>\n    </tr>\n    <tr>\n      <th>3</th>\n      <td>0</td>\n      <td>52</td>\n      <td>309</td>\n      <td>-8.629110</td>\n      <td>41.156478</td>\n      <td>0</td>\n      <td>1</td>\n      <td>0</td>\n      <td>2014</td>\n      <td>33</td>\n      <td>3</td>\n      <td>10</td>\n      <td>0.830952</td>\n    </tr>\n    <tr>\n      <th>4</th>\n      <td>0</td>\n      <td>17</td>\n      <td>393</td>\n      <td>-8.607456</td>\n      <td>41.144139</td>\n      <td>0</td>\n      <td>1</td>\n      <td>0</td>\n      <td>2014</td>\n      <td>33</td>\n      <td>3</td>\n      <td>10</td>\n      <td>2.000293</td>\n    </tr>\n  </tbody>\n</table>\n</div>"
     },
     "execution_count": 18,
     "metadata": {},
     "output_type": "execute_result"
    }
   ],
   "source": [
    "df_test.head()"
   ],
   "metadata": {
    "collapsed": false,
    "ExecuteTime": {
     "start_time": "2023-05-13T17:29:36.459943Z",
     "end_time": "2023-05-13T17:29:36.564883Z"
    }
   }
  },
  {
   "cell_type": "code",
   "execution_count": 19,
   "outputs": [
    {
     "data": {
      "text/plain": "   ORIGIN_CALL  ORIGIN_STAND  TAXI_ID  START_LONG  START_LAT  A  B  C  YEAR  \\\n0            0            63      367   -8.618643  41.141412  0  0  1  2013   \n1            0             6      371   -8.639847  41.159826  0  1  0  2013   \n2            0            63      204   -8.612964  41.140359  0  0  1  2013   \n3            0            63      330   -8.574678  41.151951  0  0  1  2013   \n4            0            63      217   -8.645994  41.180490  0  0  1  2013   \n\n   WK_OF_YR  WK_DAY  HR      DIST  TARGET  \n0        26       6  17  2.008737     345  \n1        26       6  17  1.661882     285  \n2        26       6  17  2.202881     975  \n3        26       6  17  3.885076     645  \n4        26       6  17  3.194961     435  ",
      "text/html": "<div>\n<style scoped>\n    .dataframe tbody tr th:only-of-type {\n        vertical-align: middle;\n    }\n\n    .dataframe tbody tr th {\n        vertical-align: top;\n    }\n\n    .dataframe thead th {\n        text-align: right;\n    }\n</style>\n<table border=\"1\" class=\"dataframe\">\n  <thead>\n    <tr style=\"text-align: right;\">\n      <th></th>\n      <th>ORIGIN_CALL</th>\n      <th>ORIGIN_STAND</th>\n      <th>TAXI_ID</th>\n      <th>START_LONG</th>\n      <th>START_LAT</th>\n      <th>A</th>\n      <th>B</th>\n      <th>C</th>\n      <th>YEAR</th>\n      <th>WK_OF_YR</th>\n      <th>WK_DAY</th>\n      <th>HR</th>\n      <th>DIST</th>\n      <th>TARGET</th>\n    </tr>\n  </thead>\n  <tbody>\n    <tr>\n      <th>0</th>\n      <td>0</td>\n      <td>63</td>\n      <td>367</td>\n      <td>-8.618643</td>\n      <td>41.141412</td>\n      <td>0</td>\n      <td>0</td>\n      <td>1</td>\n      <td>2013</td>\n      <td>26</td>\n      <td>6</td>\n      <td>17</td>\n      <td>2.008737</td>\n      <td>345</td>\n    </tr>\n    <tr>\n      <th>1</th>\n      <td>0</td>\n      <td>6</td>\n      <td>371</td>\n      <td>-8.639847</td>\n      <td>41.159826</td>\n      <td>0</td>\n      <td>1</td>\n      <td>0</td>\n      <td>2013</td>\n      <td>26</td>\n      <td>6</td>\n      <td>17</td>\n      <td>1.661882</td>\n      <td>285</td>\n    </tr>\n    <tr>\n      <th>2</th>\n      <td>0</td>\n      <td>63</td>\n      <td>204</td>\n      <td>-8.612964</td>\n      <td>41.140359</td>\n      <td>0</td>\n      <td>0</td>\n      <td>1</td>\n      <td>2013</td>\n      <td>26</td>\n      <td>6</td>\n      <td>17</td>\n      <td>2.202881</td>\n      <td>975</td>\n    </tr>\n    <tr>\n      <th>3</th>\n      <td>0</td>\n      <td>63</td>\n      <td>330</td>\n      <td>-8.574678</td>\n      <td>41.151951</td>\n      <td>0</td>\n      <td>0</td>\n      <td>1</td>\n      <td>2013</td>\n      <td>26</td>\n      <td>6</td>\n      <td>17</td>\n      <td>3.885076</td>\n      <td>645</td>\n    </tr>\n    <tr>\n      <th>4</th>\n      <td>0</td>\n      <td>63</td>\n      <td>217</td>\n      <td>-8.645994</td>\n      <td>41.180490</td>\n      <td>0</td>\n      <td>0</td>\n      <td>1</td>\n      <td>2013</td>\n      <td>26</td>\n      <td>6</td>\n      <td>17</td>\n      <td>3.194961</td>\n      <td>435</td>\n    </tr>\n  </tbody>\n</table>\n</div>"
     },
     "execution_count": 19,
     "metadata": {},
     "output_type": "execute_result"
    }
   ],
   "source": [
    "df_train.head()"
   ],
   "metadata": {
    "collapsed": false,
    "ExecuteTime": {
     "start_time": "2023-05-13T17:29:36.500603Z",
     "end_time": "2023-05-13T17:29:36.598882Z"
    }
   }
  },
  {
   "cell_type": "code",
   "execution_count": 20,
   "outputs": [
    {
     "data": {
      "text/plain": "0          345\n1          285\n2          975\n3          645\n4          435\n          ... \n1710655    480\n1710656    450\n1710657      0\n1710658    930\n1710659    405\nName: TARGET, Length: 1710660, dtype: int64"
     },
     "execution_count": 20,
     "metadata": {},
     "output_type": "execute_result"
    }
   ],
   "source": [
    "df_train[\"TARGET\"]"
   ],
   "metadata": {
    "collapsed": false,
    "ExecuteTime": {
     "start_time": "2023-05-13T17:29:36.510598Z",
     "end_time": "2023-05-13T17:29:36.600884Z"
    }
   }
  },
  {
   "cell_type": "code",
   "execution_count": 21,
   "outputs": [],
   "source": [
    "df_train_target = df_train[\"TARGET\"]\n",
    "df_train.drop(labels=\"TARGET\", inplace=True, axis=1)\n",
    "df_train[\"TARGET\"] = df_train_target"
   ],
   "metadata": {
    "collapsed": false,
    "ExecuteTime": {
     "start_time": "2023-05-13T17:29:36.617883Z",
     "end_time": "2023-05-13T17:29:36.755684Z"
    }
   }
  },
  {
   "cell_type": "code",
   "execution_count": 22,
   "outputs": [
    {
     "data": {
      "text/plain": "   ORIGIN_CALL  ORIGIN_STAND  TAXI_ID  START_LONG  START_LAT  A  B  C  YEAR  \\\n0            0            63      367   -8.618643  41.141412  0  0  1  2013   \n1            0             6      371   -8.639847  41.159826  0  1  0  2013   \n2            0            63      204   -8.612964  41.140359  0  0  1  2013   \n3            0            63      330   -8.574678  41.151951  0  0  1  2013   \n4            0            63      217   -8.645994  41.180490  0  0  1  2013   \n\n   WK_OF_YR  WK_DAY  HR      DIST  TARGET  \n0        26       6  17  2.008737     345  \n1        26       6  17  1.661882     285  \n2        26       6  17  2.202881     975  \n3        26       6  17  3.885076     645  \n4        26       6  17  3.194961     435  ",
      "text/html": "<div>\n<style scoped>\n    .dataframe tbody tr th:only-of-type {\n        vertical-align: middle;\n    }\n\n    .dataframe tbody tr th {\n        vertical-align: top;\n    }\n\n    .dataframe thead th {\n        text-align: right;\n    }\n</style>\n<table border=\"1\" class=\"dataframe\">\n  <thead>\n    <tr style=\"text-align: right;\">\n      <th></th>\n      <th>ORIGIN_CALL</th>\n      <th>ORIGIN_STAND</th>\n      <th>TAXI_ID</th>\n      <th>START_LONG</th>\n      <th>START_LAT</th>\n      <th>A</th>\n      <th>B</th>\n      <th>C</th>\n      <th>YEAR</th>\n      <th>WK_OF_YR</th>\n      <th>WK_DAY</th>\n      <th>HR</th>\n      <th>DIST</th>\n      <th>TARGET</th>\n    </tr>\n  </thead>\n  <tbody>\n    <tr>\n      <th>0</th>\n      <td>0</td>\n      <td>63</td>\n      <td>367</td>\n      <td>-8.618643</td>\n      <td>41.141412</td>\n      <td>0</td>\n      <td>0</td>\n      <td>1</td>\n      <td>2013</td>\n      <td>26</td>\n      <td>6</td>\n      <td>17</td>\n      <td>2.008737</td>\n      <td>345</td>\n    </tr>\n    <tr>\n      <th>1</th>\n      <td>0</td>\n      <td>6</td>\n      <td>371</td>\n      <td>-8.639847</td>\n      <td>41.159826</td>\n      <td>0</td>\n      <td>1</td>\n      <td>0</td>\n      <td>2013</td>\n      <td>26</td>\n      <td>6</td>\n      <td>17</td>\n      <td>1.661882</td>\n      <td>285</td>\n    </tr>\n    <tr>\n      <th>2</th>\n      <td>0</td>\n      <td>63</td>\n      <td>204</td>\n      <td>-8.612964</td>\n      <td>41.140359</td>\n      <td>0</td>\n      <td>0</td>\n      <td>1</td>\n      <td>2013</td>\n      <td>26</td>\n      <td>6</td>\n      <td>17</td>\n      <td>2.202881</td>\n      <td>975</td>\n    </tr>\n    <tr>\n      <th>3</th>\n      <td>0</td>\n      <td>63</td>\n      <td>330</td>\n      <td>-8.574678</td>\n      <td>41.151951</td>\n      <td>0</td>\n      <td>0</td>\n      <td>1</td>\n      <td>2013</td>\n      <td>26</td>\n      <td>6</td>\n      <td>17</td>\n      <td>3.885076</td>\n      <td>645</td>\n    </tr>\n    <tr>\n      <th>4</th>\n      <td>0</td>\n      <td>63</td>\n      <td>217</td>\n      <td>-8.645994</td>\n      <td>41.180490</td>\n      <td>0</td>\n      <td>0</td>\n      <td>1</td>\n      <td>2013</td>\n      <td>26</td>\n      <td>6</td>\n      <td>17</td>\n      <td>3.194961</td>\n      <td>435</td>\n    </tr>\n  </tbody>\n</table>\n</div>"
     },
     "execution_count": 22,
     "metadata": {},
     "output_type": "execute_result"
    }
   ],
   "source": [
    "df_train.head()"
   ],
   "metadata": {
    "collapsed": false,
    "ExecuteTime": {
     "start_time": "2023-05-13T17:29:36.644756Z",
     "end_time": "2023-05-13T17:29:36.846678Z"
    }
   }
  },
  {
   "cell_type": "markdown",
   "source": [
    "### Remove outliers"
   ],
   "metadata": {
    "collapsed": false
   }
  },
  {
   "cell_type": "code",
   "execution_count": 23,
   "outputs": [],
   "source": [
    "df_train.drop(df_train[df_train[\"DIST\"] > 200].index, inplace=True)\n",
    "df_train.drop(df_train[df_train[\"TARGET\"] < 50].index, inplace=True)\n",
    "df_train.drop(df_train[df_train[\"TARGET\"] > 20000].index, inplace=True)"
   ],
   "metadata": {
    "collapsed": false,
    "ExecuteTime": {
     "start_time": "2023-05-13T17:29:36.665930Z",
     "end_time": "2023-05-13T17:29:37.931010Z"
    }
   }
  },
  {
   "cell_type": "code",
   "execution_count": 24,
   "outputs": [
    {
     "data": {
      "text/plain": "<Figure size 432x288 with 1 Axes>",
      "image/png": "[encoded data removed]"
     },
     "metadata": {
      "needs_background": "light"
     },
     "output_type": "display_data"
    }
   ],
   "source": [
    "bucket_interval = 0.02\n",
    "from matplotlib.colors import LogNorm\n",
    "plt.hist2d(df_train[\"START_LONG\"], df_train[\"START_LAT\"], bins=[np.arange(-9.5, -7, bucket_interval),np.arange(40, 42.5, bucket_interval)], norm=LogNorm(vmax=200, clip=True), cmap=\"CMRmap\")\n",
    "plt.show()"
   ],
   "metadata": {
    "collapsed": false,
    "ExecuteTime": {
     "start_time": "2023-05-13T17:29:37.920799Z",
     "end_time": "2023-05-13T17:29:38.233847Z"
    }
   }
  },
  {
   "cell_type": "code",
   "execution_count": 53,
   "outputs": [
    {
     "data": {
      "text/plain": "<Figure size 432x288 with 1 Axes>",
      "image/png": "[encoded data removed]"
     },
     "metadata": {
      "needs_background": "light"
     },
     "output_type": "display_data"
    }
   ],
   "source": [
    "bucket_interval = 0.02\n",
    "from matplotlib.colors import LogNorm\n",
    "plt.hist2d(df_test[\"START_LONG\"], df_test[\"START_LAT\"], bins=[np.arange(-9.5, -7, bucket_interval),np.arange(40, 42.5, bucket_interval)], norm=LogNorm(vmax=200, clip=True), cmap=\"CMRmap\")\n",
    "plt.show()"
   ],
   "metadata": {
    "collapsed": false,
    "ExecuteTime": {
     "start_time": "2023-05-13T16:21:13.247662Z",
     "end_time": "2023-05-13T16:21:13.395338Z"
    }
   }
  },
  {
   "cell_type": "code",
   "execution_count": 25,
   "outputs": [
    {
     "data": {
      "text/plain": "   ORIGIN_CALL  ORIGIN_STAND  TAXI_ID  START_LONG  START_LAT  A  B  C  YEAR  \\\n0            0            63      367   -8.618643  41.141412  0  0  1  2013   \n1            0             6      371   -8.639847  41.159826  0  1  0  2013   \n2            0            63      204   -8.612964  41.140359  0  0  1  2013   \n3            0            63      330   -8.574678  41.151951  0  0  1  2013   \n4            0            63      217   -8.645994  41.180490  0  0  1  2013   \n\n   WK_OF_YR  WK_DAY  HR      DIST  TARGET  \n0        26       6  17  2.008737     345  \n1        26       6  17  1.661882     285  \n2        26       6  17  2.202881     975  \n3        26       6  17  3.885076     645  \n4        26       6  17  3.194961     435  ",
      "text/html": "<div>\n<style scoped>\n    .dataframe tbody tr th:only-of-type {\n        vertical-align: middle;\n    }\n\n    .dataframe tbody tr th {\n        vertical-align: top;\n    }\n\n    .dataframe thead th {\n        text-align: right;\n    }\n</style>\n<table border=\"1\" class=\"dataframe\">\n  <thead>\n    <tr style=\"text-align: right;\">\n      <th></th>\n      <th>ORIGIN_CALL</th>\n      <th>ORIGIN_STAND</th>\n      <th>TAXI_ID</th>\n      <th>START_LONG</th>\n      <th>START_LAT</th>\n      <th>A</th>\n      <th>B</th>\n      <th>C</th>\n      <th>YEAR</th>\n      <th>WK_OF_YR</th>\n      <th>WK_DAY</th>\n      <th>HR</th>\n      <th>DIST</th>\n      <th>TARGET</th>\n    </tr>\n  </thead>\n  <tbody>\n    <tr>\n      <th>0</th>\n      <td>0</td>\n      <td>63</td>\n      <td>367</td>\n      <td>-8.618643</td>\n      <td>41.141412</td>\n      <td>0</td>\n      <td>0</td>\n      <td>1</td>\n      <td>2013</td>\n      <td>26</td>\n      <td>6</td>\n      <td>17</td>\n      <td>2.008737</td>\n      <td>345</td>\n    </tr>\n    <tr>\n      <th>1</th>\n      <td>0</td>\n      <td>6</td>\n      <td>371</td>\n      <td>-8.639847</td>\n      <td>41.159826</td>\n      <td>0</td>\n      <td>1</td>\n      <td>0</td>\n      <td>2013</td>\n      <td>26</td>\n      <td>6</td>\n      <td>17</td>\n      <td>1.661882</td>\n      <td>285</td>\n    </tr>\n    <tr>\n      <th>2</th>\n      <td>0</td>\n      <td>63</td>\n      <td>204</td>\n      <td>-8.612964</td>\n      <td>41.140359</td>\n      <td>0</td>\n      <td>0</td>\n      <td>1</td>\n      <td>2013</td>\n      <td>26</td>\n      <td>6</td>\n      <td>17</td>\n      <td>2.202881</td>\n      <td>975</td>\n    </tr>\n    <tr>\n      <th>3</th>\n      <td>0</td>\n      <td>63</td>\n      <td>330</td>\n      <td>-8.574678</td>\n      <td>41.151951</td>\n      <td>0</td>\n      <td>0</td>\n      <td>1</td>\n      <td>2013</td>\n      <td>26</td>\n      <td>6</td>\n      <td>17</td>\n      <td>3.885076</td>\n      <td>645</td>\n    </tr>\n    <tr>\n      <th>4</th>\n      <td>0</td>\n      <td>63</td>\n      <td>217</td>\n      <td>-8.645994</td>\n      <td>41.180490</td>\n      <td>0</td>\n      <td>0</td>\n      <td>1</td>\n      <td>2013</td>\n      <td>26</td>\n      <td>6</td>\n      <td>17</td>\n      <td>3.194961</td>\n      <td>435</td>\n    </tr>\n  </tbody>\n</table>\n</div>"
     },
     "execution_count": 25,
     "metadata": {},
     "output_type": "execute_result"
    }
   ],
   "source": [
    "df_train.head()"
   ],
   "metadata": {
    "collapsed": false,
    "ExecuteTime": {
     "start_time": "2023-05-13T17:29:45.360820Z",
     "end_time": "2023-05-13T17:29:45.412218Z"
    }
   }
  },
  {
   "cell_type": "markdown",
   "source": [
    "### Split to train and validation sets"
   ],
   "metadata": {
    "collapsed": false
   }
  },
  {
   "cell_type": "code",
   "execution_count": 26,
   "outputs": [],
   "source": [
    "df_train = df_train.sample(frac=1).reset_index(drop=True)\n",
    "df_valid = df_train[int(0.9 * len(df_train)):]\n",
    "df_train = df_train[:int(0.9 * len(df_train))]\n",
    "df_train.to_csv(\"data/processed_trainv6f.csv\", index=False)\n",
    "df_valid.to_csv(\"data/processed_validv6f.csv\", index=False)\n",
    "df_test.to_csv(\"data/processed_testv6f.csv\", index=False)\n"
   ],
   "metadata": {
    "collapsed": false,
    "ExecuteTime": {
     "start_time": "2023-05-13T17:29:56.419895Z",
     "end_time": "2023-05-13T17:30:50.664884Z"
    }
   }
  },
  {
   "cell_type": "code",
   "execution_count": 55,
   "outputs": [
    {
     "data": {
      "text/plain": "   ORIGIN_CALL  ORIGIN_STAND  TAXI_ID  START_LONG  START_LAT  A  B  C  \\\n0            0            63       55   -8.629605  41.175702  0  0  1   \n1         6644            63      122   -8.638407  41.159160  1  0  0   \n2            0            62      299   -8.609607  41.160393  0  1  0   \n3            2            63       31   -8.626167  41.156577  1  0  0   \n4            0            32      433   -8.599572  41.182551  0  1  0   \n\n       DIST  YEAR_2013  ...  HR_15  HR_16  HR_17  HR_18  HR_19  HR_20  HR_21  \\\n0  1.978055        0.0  ...    0.0    0.0    0.0    0.0    0.0    0.0    0.0   \n1  1.541139        0.0  ...    0.0    0.0    0.0    0.0    0.0    0.0    0.0   \n2  0.876548        0.0  ...    0.0    0.0    0.0    0.0    0.0    0.0    0.0   \n3  0.606876        1.0  ...    0.0    0.0    0.0    0.0    0.0    0.0    0.0   \n4  3.086038        1.0  ...    0.0    0.0    0.0    0.0    0.0    0.0    0.0   \n\n   HR_22  HR_23  TARGET  \n0    0.0    0.0     510  \n1    0.0    0.0    1695  \n2    0.0    0.0     255  \n3    0.0    0.0     765  \n4    0.0    0.0     585  \n\n[5 rows x 95 columns]",
      "text/html": "<div>\n<style scoped>\n    .dataframe tbody tr th:only-of-type {\n        vertical-align: middle;\n    }\n\n    .dataframe tbody tr th {\n        vertical-align: top;\n    }\n\n    .dataframe thead th {\n        text-align: right;\n    }\n</style>\n<table border=\"1\" class=\"dataframe\">\n  <thead>\n    <tr style=\"text-align: right;\">\n      <th></th>\n      <th>ORIGIN_CALL</th>\n      <th>ORIGIN_STAND</th>\n      <th>TAXI_ID</th>\n      <th>START_LONG</th>\n      <th>START_LAT</th>\n      <th>A</th>\n      <th>B</th>\n      <th>C</th>\n      <th>DIST</th>\n      <th>YEAR_2013</th>\n      <th>...</th>\n      <th>HR_15</th>\n      <th>HR_16</th>\n      <th>HR_17</th>\n      <th>HR_18</th>\n      <th>HR_19</th>\n      <th>HR_20</th>\n      <th>HR_21</th>\n      <th>HR_22</th>\n      <th>HR_23</th>\n      <th>TARGET</th>\n    </tr>\n  </thead>\n  <tbody>\n    <tr>\n      <th>0</th>\n      <td>0</td>\n      <td>63</td>\n      <td>55</td>\n      <td>-8.629605</td>\n      <td>41.175702</td>\n      <td>0</td>\n      <td>0</td>\n      <td>1</td>\n      <td>1.978055</td>\n      <td>0.0</td>\n      <td>...</td>\n      <td>0.0</td>\n      <td>0.0</td>\n      <td>0.0</td>\n      <td>0.0</td>\n      <td>0.0</td>\n      <td>0.0</td>\n      <td>0.0</td>\n      <td>0.0</td>\n      <td>0.0</td>\n      <td>510</td>\n    </tr>\n    <tr>\n      <th>1</th>\n      <td>6644</td>\n      <td>63</td>\n      <td>122</td>\n      <td>-8.638407</td>\n      <td>41.159160</td>\n      <td>1</td>\n      <td>0</td>\n      <td>0</td>\n      <td>1.541139</td>\n      <td>0.0</td>\n      <td>...</td>\n      <td>0.0</td>\n      <td>0.0</td>\n      <td>0.0</td>\n      <td>0.0</td>\n      <td>0.0</td>\n      <td>0.0</td>\n      <td>0.0</td>\n      <td>0.0</td>\n      <td>0.0</td>\n      <td>1695</td>\n    </tr>\n    <tr>\n      <th>2</th>\n      <td>0</td>\n      <td>62</td>\n      <td>299</td>\n      <td>-8.609607</td>\n      <td>41.160393</td>\n      <td>0</td>\n      <td>1</td>\n      <td>0</td>\n      <td>0.876548</td>\n      <td>0.0</td>\n      <td>...</td>\n      <td>0.0</td>\n      <td>0.0</td>\n      <td>0.0</td>\n      <td>0.0</td>\n      <td>0.0</td>\n      <td>0.0</td>\n      <td>0.0</td>\n      <td>0.0</td>\n      <td>0.0</td>\n      <td>255</td>\n    </tr>\n    <tr>\n      <th>3</th>\n      <td>2</td>\n      <td>63</td>\n      <td>31</td>\n      <td>-8.626167</td>\n      <td>41.156577</td>\n      <td>1</td>\n      <td>0</td>\n      <td>0</td>\n      <td>0.606876</td>\n      <td>1.0</td>\n      <td>...</td>\n      <td>0.0</td>\n      <td>0.0</td>\n      <td>0.0</td>\n      <td>0.0</td>\n      <td>0.0</td>\n      <td>0.0</td>\n      <td>0.0</td>\n      <td>0.0</td>\n      <td>0.0</td>\n      <td>765</td>\n    </tr>\n    <tr>\n      <th>4</th>\n      <td>0</td>\n      <td>32</td>\n      <td>433</td>\n      <td>-8.599572</td>\n      <td>41.182551</td>\n      <td>0</td>\n      <td>1</td>\n      <td>0</td>\n      <td>3.086038</td>\n      <td>1.0</td>\n      <td>...</td>\n      <td>0.0</td>\n      <td>0.0</td>\n      <td>0.0</td>\n      <td>0.0</td>\n      <td>0.0</td>\n      <td>0.0</td>\n      <td>0.0</td>\n      <td>0.0</td>\n      <td>0.0</td>\n      <td>585</td>\n    </tr>\n  </tbody>\n</table>\n<p>5 rows × 95 columns</p>\n</div>"
     },
     "execution_count": 55,
     "metadata": {},
     "output_type": "execute_result"
    }
   ],
   "source": [
    "df_train.head()"
   ],
   "metadata": {
    "collapsed": false,
    "ExecuteTime": {
     "start_time": "2023-05-13T16:29:38.084650Z",
     "end_time": "2023-05-13T16:29:38.500759Z"
    }
   }
  },
  {
   "cell_type": "code",
   "execution_count": 57,
   "outputs": [
    {
     "data": {
      "text/plain": "   ORIGIN_CALL  ORIGIN_STAND  TAXI_ID  START_LONG  START_LAT  A  B  C  \\\n0            0            14      342   -8.615268  41.140188  0  1  0   \n1            0            56       78   -8.685387  41.164857  0  1  0   \n2            0            14      239   -8.683758  41.197752  0  1  0   \n3            0            52      309   -8.629110  41.156478  0  1  0   \n4            0            17      393   -8.607456  41.144139  0  1  0   \n\n       DIST  YEAR_2013  ...  HR_14  HR_15  HR_16  HR_17  HR_18  HR_19  HR_20  \\\n0  2.177986        0.0  ...    0.0    0.0    0.0    0.0    0.0    0.0    0.0   \n1  5.506525        0.0  ...    0.0    0.0    0.0    0.0    0.0    0.0    0.0   \n2  6.827327        0.0  ...    0.0    0.0    0.0    0.0    0.0    0.0    0.0   \n3  0.830952        0.0  ...    0.0    0.0    0.0    0.0    0.0    0.0    0.0   \n4  2.000293        0.0  ...    0.0    0.0    0.0    0.0    0.0    0.0    0.0   \n\n   HR_21  HR_22  HR_23  \n0    0.0    0.0    0.0  \n1    0.0    0.0    0.0  \n2    0.0    0.0    0.0  \n3    0.0    0.0    0.0  \n4    0.0    0.0    0.0  \n\n[5 rows x 94 columns]",
      "text/html": "<div>\n<style scoped>\n    .dataframe tbody tr th:only-of-type {\n        vertical-align: middle;\n    }\n\n    .dataframe tbody tr th {\n        vertical-align: top;\n    }\n\n    .dataframe thead th {\n        text-align: right;\n    }\n</style>\n<table border=\"1\" class=\"dataframe\">\n  <thead>\n    <tr style=\"text-align: right;\">\n      <th></th>\n      <th>ORIGIN_CALL</th>\n      <th>ORIGIN_STAND</th>\n      <th>TAXI_ID</th>\n      <th>START_LONG</th>\n      <th>START_LAT</th>\n      <th>A</th>\n      <th>B</th>\n      <th>C</th>\n      <th>DIST</th>\n      <th>YEAR_2013</th>\n      <th>...</th>\n      <th>HR_14</th>\n      <th>HR_15</th>\n      <th>HR_16</th>\n      <th>HR_17</th>\n      <th>HR_18</th>\n      <th>HR_19</th>\n      <th>HR_20</th>\n      <th>HR_21</th>\n      <th>HR_22</th>\n      <th>HR_23</th>\n    </tr>\n  </thead>\n  <tbody>\n    <tr>\n      <th>0</th>\n      <td>0</td>\n      <td>14</td>\n      <td>342</td>\n      <td>-8.615268</td>\n      <td>41.140188</td>\n      <td>0</td>\n      <td>1</td>\n      <td>0</td>\n      <td>2.177986</td>\n      <td>0.0</td>\n      <td>...</td>\n      <td>0.0</td>\n      <td>0.0</td>\n      <td>0.0</td>\n      <td>0.0</td>\n      <td>0.0</td>\n      <td>0.0</td>\n      <td>0.0</td>\n      <td>0.0</td>\n      <td>0.0</td>\n      <td>0.0</td>\n    </tr>\n    <tr>\n      <th>1</th>\n      <td>0</td>\n      <td>56</td>\n      <td>78</td>\n      <td>-8.685387</td>\n      <td>41.164857</td>\n      <td>0</td>\n      <td>1</td>\n      <td>0</td>\n      <td>5.506525</td>\n      <td>0.0</td>\n      <td>...</td>\n      <td>0.0</td>\n      <td>0.0</td>\n      <td>0.0</td>\n      <td>0.0</td>\n      <td>0.0</td>\n      <td>0.0</td>\n      <td>0.0</td>\n      <td>0.0</td>\n      <td>0.0</td>\n      <td>0.0</td>\n    </tr>\n    <tr>\n      <th>2</th>\n      <td>0</td>\n      <td>14</td>\n      <td>239</td>\n      <td>-8.683758</td>\n      <td>41.197752</td>\n      <td>0</td>\n      <td>1</td>\n      <td>0</td>\n      <td>6.827327</td>\n      <td>0.0</td>\n      <td>...</td>\n      <td>0.0</td>\n      <td>0.0</td>\n      <td>0.0</td>\n      <td>0.0</td>\n      <td>0.0</td>\n      <td>0.0</td>\n      <td>0.0</td>\n      <td>0.0</td>\n      <td>0.0</td>\n      <td>0.0</td>\n    </tr>\n    <tr>\n      <th>3</th>\n      <td>0</td>\n      <td>52</td>\n      <td>309</td>\n      <td>-8.629110</td>\n      <td>41.156478</td>\n      <td>0</td>\n      <td>1</td>\n      <td>0</td>\n      <td>0.830952</td>\n      <td>0.0</td>\n      <td>...</td>\n      <td>0.0</td>\n      <td>0.0</td>\n      <td>0.0</td>\n      <td>0.0</td>\n      <td>0.0</td>\n      <td>0.0</td>\n      <td>0.0</td>\n      <td>0.0</td>\n      <td>0.0</td>\n      <td>0.0</td>\n    </tr>\n    <tr>\n      <th>4</th>\n      <td>0</td>\n      <td>17</td>\n      <td>393</td>\n      <td>-8.607456</td>\n      <td>41.144139</td>\n      <td>0</td>\n      <td>1</td>\n      <td>0</td>\n      <td>2.000293</td>\n      <td>0.0</td>\n      <td>...</td>\n      <td>0.0</td>\n      <td>0.0</td>\n      <td>0.0</td>\n      <td>0.0</td>\n      <td>0.0</td>\n      <td>0.0</td>\n      <td>0.0</td>\n      <td>0.0</td>\n      <td>0.0</td>\n      <td>0.0</td>\n    </tr>\n  </tbody>\n</table>\n<p>5 rows × 94 columns</p>\n</div>"
     },
     "execution_count": 57,
     "metadata": {},
     "output_type": "execute_result"
    }
   ],
   "source": [
    "df_test.head()"
   ],
   "metadata": {
    "collapsed": false,
    "ExecuteTime": {
     "start_time": "2023-05-13T16:35:53.440649Z",
     "end_time": "2023-05-13T16:35:53.541592Z"
    }
   }
  },
  {
   "cell_type": "markdown",
   "source": [
    "## TODO: Nuke train set to only contain similar taxi rides"
   ],
   "metadata": {
    "collapsed": false
   }
  },
  {
   "cell_type": "code",
   "execution_count": 56,
   "outputs": [
    {
     "ename": "KeyError",
     "evalue": "\"['WK_OF_YR', 'WK_DAY', 'HR'] not in index\"",
     "output_type": "error",
     "traceback": [
      "\u001B[1;31m---------------------------------------------------------------------------\u001B[0m",
      "\u001B[1;31mKeyError\u001B[0m                                  Traceback (most recent call last)",
      "\u001B[1;32m~\\AppData\\Local\\Temp/ipykernel_17092/1985495258.py\u001B[0m in \u001B[0;36m<module>\u001B[1;34m\u001B[0m\n\u001B[1;32m----> 1\u001B[1;33m \u001B[0mtrimmed_train\u001B[0m \u001B[1;33m=\u001B[0m \u001B[0mdf_train\u001B[0m\u001B[1;33m[\u001B[0m\u001B[1;33m[\u001B[0m\u001B[1;34m\"START_LONG\"\u001B[0m\u001B[1;33m,\u001B[0m \u001B[1;34m\"START_LAT\"\u001B[0m\u001B[1;33m,\u001B[0m \u001B[1;34m\"WK_OF_YR\"\u001B[0m\u001B[1;33m,\u001B[0m \u001B[1;34m\"WK_DAY\"\u001B[0m\u001B[1;33m,\u001B[0m \u001B[1;34m\"HR\"\u001B[0m\u001B[1;33m,\u001B[0m \u001B[1;34m\"DIST\"\u001B[0m\u001B[1;33m,\u001B[0m \u001B[1;34m\"TARGET\"\u001B[0m\u001B[1;33m]\u001B[0m\u001B[1;33m]\u001B[0m\u001B[1;33m\u001B[0m\u001B[1;33m\u001B[0m\u001B[0m\n\u001B[0m\u001B[0;32m      2\u001B[0m \u001B[0mtrimmed_test\u001B[0m \u001B[1;33m=\u001B[0m \u001B[0mdf_test\u001B[0m\u001B[1;33m[\u001B[0m\u001B[0mtrimmed_train\u001B[0m\u001B[1;33m.\u001B[0m\u001B[0mcolumns\u001B[0m\u001B[1;33m[\u001B[0m\u001B[1;33m:\u001B[0m\u001B[1;33m-\u001B[0m\u001B[1;36m1\u001B[0m\u001B[1;33m]\u001B[0m\u001B[1;33m]\u001B[0m\u001B[1;33m\u001B[0m\u001B[1;33m\u001B[0m\u001B[0m\n\u001B[0;32m      3\u001B[0m \u001B[0mtrimmed_valid\u001B[0m \u001B[1;33m=\u001B[0m \u001B[0mdf_valid\u001B[0m\u001B[1;33m[\u001B[0m\u001B[0mtrimmed_train\u001B[0m\u001B[1;33m.\u001B[0m\u001B[0mcolumns\u001B[0m\u001B[1;33m]\u001B[0m\u001B[1;33m\u001B[0m\u001B[1;33m\u001B[0m\u001B[0m\n\u001B[0;32m      4\u001B[0m \u001B[0mtrimmed_train\u001B[0m\u001B[1;33m.\u001B[0m\u001B[0mto_csv\u001B[0m\u001B[1;33m(\u001B[0m\u001B[1;34m\"data/trimmed_trainv6f.csv\"\u001B[0m\u001B[1;33m,\u001B[0m \u001B[0mindex\u001B[0m\u001B[1;33m=\u001B[0m\u001B[1;32mFalse\u001B[0m\u001B[1;33m)\u001B[0m\u001B[1;33m\u001B[0m\u001B[1;33m\u001B[0m\u001B[0m\n\u001B[0;32m      5\u001B[0m \u001B[0mtrimmed_valid\u001B[0m\u001B[1;33m.\u001B[0m\u001B[0mto_csv\u001B[0m\u001B[1;33m(\u001B[0m\u001B[1;34m\"data/trimmed_validv6f.csv\"\u001B[0m\u001B[1;33m,\u001B[0m \u001B[0mindex\u001B[0m\u001B[1;33m=\u001B[0m\u001B[1;32mFalse\u001B[0m\u001B[1;33m)\u001B[0m\u001B[1;33m\u001B[0m\u001B[1;33m\u001B[0m\u001B[0m\n",
      "\u001B[1;32m~\\AppData\\Roaming\\Python\\Python39\\site-packages\\pandas\\core\\frame.py\u001B[0m in \u001B[0;36m__getitem__\u001B[1;34m(self, key)\u001B[0m\n\u001B[0;32m   3462\u001B[0m             \u001B[1;32mif\u001B[0m \u001B[0mis_iterator\u001B[0m\u001B[1;33m(\u001B[0m\u001B[0mkey\u001B[0m\u001B[1;33m)\u001B[0m\u001B[1;33m:\u001B[0m\u001B[1;33m\u001B[0m\u001B[1;33m\u001B[0m\u001B[0m\n\u001B[0;32m   3463\u001B[0m                 \u001B[0mkey\u001B[0m \u001B[1;33m=\u001B[0m \u001B[0mlist\u001B[0m\u001B[1;33m(\u001B[0m\u001B[0mkey\u001B[0m\u001B[1;33m)\u001B[0m\u001B[1;33m\u001B[0m\u001B[1;33m\u001B[0m\u001B[0m\n\u001B[1;32m-> 3464\u001B[1;33m             \u001B[0mindexer\u001B[0m \u001B[1;33m=\u001B[0m \u001B[0mself\u001B[0m\u001B[1;33m.\u001B[0m\u001B[0mloc\u001B[0m\u001B[1;33m.\u001B[0m\u001B[0m_get_listlike_indexer\u001B[0m\u001B[1;33m(\u001B[0m\u001B[0mkey\u001B[0m\u001B[1;33m,\u001B[0m \u001B[0maxis\u001B[0m\u001B[1;33m=\u001B[0m\u001B[1;36m1\u001B[0m\u001B[1;33m)\u001B[0m\u001B[1;33m[\u001B[0m\u001B[1;36m1\u001B[0m\u001B[1;33m]\u001B[0m\u001B[1;33m\u001B[0m\u001B[1;33m\u001B[0m\u001B[0m\n\u001B[0m\u001B[0;32m   3465\u001B[0m \u001B[1;33m\u001B[0m\u001B[0m\n\u001B[0;32m   3466\u001B[0m         \u001B[1;31m# take() does not accept boolean indexers\u001B[0m\u001B[1;33m\u001B[0m\u001B[1;33m\u001B[0m\u001B[0m\n",
      "\u001B[1;32m~\\AppData\\Roaming\\Python\\Python39\\site-packages\\pandas\\core\\indexing.py\u001B[0m in \u001B[0;36m_get_listlike_indexer\u001B[1;34m(self, key, axis)\u001B[0m\n\u001B[0;32m   1312\u001B[0m             \u001B[0mkeyarr\u001B[0m\u001B[1;33m,\u001B[0m \u001B[0mindexer\u001B[0m\u001B[1;33m,\u001B[0m \u001B[0mnew_indexer\u001B[0m \u001B[1;33m=\u001B[0m \u001B[0max\u001B[0m\u001B[1;33m.\u001B[0m\u001B[0m_reindex_non_unique\u001B[0m\u001B[1;33m(\u001B[0m\u001B[0mkeyarr\u001B[0m\u001B[1;33m)\u001B[0m\u001B[1;33m\u001B[0m\u001B[1;33m\u001B[0m\u001B[0m\n\u001B[0;32m   1313\u001B[0m \u001B[1;33m\u001B[0m\u001B[0m\n\u001B[1;32m-> 1314\u001B[1;33m         \u001B[0mself\u001B[0m\u001B[1;33m.\u001B[0m\u001B[0m_validate_read_indexer\u001B[0m\u001B[1;33m(\u001B[0m\u001B[0mkeyarr\u001B[0m\u001B[1;33m,\u001B[0m \u001B[0mindexer\u001B[0m\u001B[1;33m,\u001B[0m \u001B[0maxis\u001B[0m\u001B[1;33m)\u001B[0m\u001B[1;33m\u001B[0m\u001B[1;33m\u001B[0m\u001B[0m\n\u001B[0m\u001B[0;32m   1315\u001B[0m \u001B[1;33m\u001B[0m\u001B[0m\n\u001B[0;32m   1316\u001B[0m         if needs_i8_conversion(ax.dtype) or isinstance(\n",
      "\u001B[1;32m~\\AppData\\Roaming\\Python\\Python39\\site-packages\\pandas\\core\\indexing.py\u001B[0m in \u001B[0;36m_validate_read_indexer\u001B[1;34m(self, key, indexer, axis)\u001B[0m\n\u001B[0;32m   1375\u001B[0m \u001B[1;33m\u001B[0m\u001B[0m\n\u001B[0;32m   1376\u001B[0m             \u001B[0mnot_found\u001B[0m \u001B[1;33m=\u001B[0m \u001B[0mlist\u001B[0m\u001B[1;33m(\u001B[0m\u001B[0mensure_index\u001B[0m\u001B[1;33m(\u001B[0m\u001B[0mkey\u001B[0m\u001B[1;33m)\u001B[0m\u001B[1;33m[\u001B[0m\u001B[0mmissing_mask\u001B[0m\u001B[1;33m.\u001B[0m\u001B[0mnonzero\u001B[0m\u001B[1;33m(\u001B[0m\u001B[1;33m)\u001B[0m\u001B[1;33m[\u001B[0m\u001B[1;36m0\u001B[0m\u001B[1;33m]\u001B[0m\u001B[1;33m]\u001B[0m\u001B[1;33m.\u001B[0m\u001B[0munique\u001B[0m\u001B[1;33m(\u001B[0m\u001B[1;33m)\u001B[0m\u001B[1;33m)\u001B[0m\u001B[1;33m\u001B[0m\u001B[1;33m\u001B[0m\u001B[0m\n\u001B[1;32m-> 1377\u001B[1;33m             \u001B[1;32mraise\u001B[0m \u001B[0mKeyError\u001B[0m\u001B[1;33m(\u001B[0m\u001B[1;34mf\"{not_found} not in index\"\u001B[0m\u001B[1;33m)\u001B[0m\u001B[1;33m\u001B[0m\u001B[1;33m\u001B[0m\u001B[0m\n\u001B[0m\u001B[0;32m   1378\u001B[0m \u001B[1;33m\u001B[0m\u001B[0m\n\u001B[0;32m   1379\u001B[0m \u001B[1;33m\u001B[0m\u001B[0m\n",
      "\u001B[1;31mKeyError\u001B[0m: \"['WK_OF_YR', 'WK_DAY', 'HR'] not in index\""
     ]
    }
   ],
   "source": [
    "# trimmed_train = df_train[[\"START_LONG\", \"START_LAT\", \"WK_OF_YR\", \"WK_DAY\", \"HR\", \"DIST\", \"TARGET\"]]\n",
    "# trimmed_test = df_test[trimmed_train.columns[:-1]]\n",
    "# trimmed_valid = df_valid[trimmed_train.columns]\n",
    "# trimmed_train.to_csv(\"data/trimmed_trainv6f.csv\", index=False)\n",
    "# trimmed_valid.to_csv(\"data/trimmed_validv6f.csv\", index=False)\n",
    "# trimmed_test.to_csv(\"data/trimmed_testv6f.csv\", index=False)"
   ],
   "metadata": {
    "collapsed": false,
    "ExecuteTime": {
     "start_time": "2023-05-13T15:22:47.032324Z",
     "end_time": "2023-05-13T15:22:55.354068Z"
    }
   }
  }
 ],
 "metadata": {
  "kernelspec": {
   "display_name": "Python 3",
   "language": "python",
   "name": "python3"
  },
  "language_info": {
   "codemirror_mode": {
    "name": "ipython",
    "version": 2
   },
   "file_extension": ".py",
   "mimetype": "text/x-python",
   "name": "python",
   "nbconvert_exporter": "python",
   "pygments_lexer": "ipython2",
   "version": "2.7.6"
  }
 },
 "nbformat": 4,
 "nbformat_minor": 0
}
