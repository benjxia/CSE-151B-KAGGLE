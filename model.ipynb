{
 "cells": [
  {
   "cell_type": "code",
   "execution_count": 1,
   "metadata": {
    "ExecuteTime": {
     "end_time": "2023-04-25T11:04:14.731012Z",
     "start_time": "2023-04-25T11:04:09.671301Z"
    },
    "collapsed": true
   },
   "outputs": [],
   "source": [
    "from KGLE_Dataset import *\n",
    "import torch\n",
    "from torch import nn\n",
    "from torch.utils.data import DataLoader\n",
    "import numpy as np\n",
    "import random"
   ]
  },
  {
   "cell_type": "code",
   "execution_count": 2,
   "metadata": {
    "ExecuteTime": {
     "end_time": "2023-04-25T11:04:14.785832Z",
     "start_time": "2023-04-25T11:04:14.731012Z"
    },
    "collapsed": false
   },
   "outputs": [
    {
     "data": {
      "text/plain": [
       "<torch._C.Generator at 0x1dcd6ec0ef0>"
      ]
     },
     "execution_count": 2,
     "metadata": {},
     "output_type": "execute_result"
    }
   ],
   "source": [
    "torch.manual_seed(42)\n",
    "np.random.seed(0)\n",
    "# torch.use_deterministic_algorithms(True)\n",
    "def seed_worker(worker_id):\n",
    "    worker_seed = torch.initial_seed() % 2**32\n",
    "    np.random.seed(worker_seed)\n",
    "    random.seed(worker_seed)\n",
    "\n",
    "g = torch.Generator()\n",
    "g.manual_seed(0)"
   ]
  },
  {
   "cell_type": "code",
   "execution_count": 3,
   "metadata": {
    "ExecuteTime": {
     "end_time": "2023-04-25T11:04:15.775358Z",
     "start_time": "2023-04-25T11:04:14.785832Z"
    },
    "collapsed": false
   },
   "outputs": [],
   "source": [
    "train_set = KGLE_Dataset(\"./data/processed_trainv3.csv\")\n",
    "train_load = DataLoader(dataset=train_set,\n",
    "                        batch_size=32,\n",
    "                        num_workers=8,\n",
    "                        shuffle=True,\n",
    "                        worker_init_fn=seed_worker,\n",
    "                        generator=g,)\n",
    "\n",
    "# WARNING: validation set is in an older, incompatible format to training set\n",
    "valid_set = KGLE_Dataset(\"./data/processed_validv3.csv\")\n",
    "valid_load = DataLoader(dataset=valid_set,\n",
    "                        batch_size=32,\n",
    "                        num_workers=8,\n",
    "                        shuffle=True,\n",
    "                        worker_init_fn=seed_worker,\n",
    "                        generator=g,)\n",
    "\n",
    "device = \"cuda\" if torch.cuda.is_available() else \"cpu\""
   ]
  },
  {
   "cell_type": "code",
   "execution_count": 17,
   "metadata": {
    "ExecuteTime": {
     "end_time": "2023-04-25T11:06:37.789948Z",
     "start_time": "2023-04-25T11:06:37.758708Z"
    },
    "collapsed": false
   },
   "outputs": [],
   "source": [
    "class TravelRegressor(nn.Module):\n",
    "    def __init__(self):\n",
    "        super().__init__()\n",
    "        origin_call_dim = 20\n",
    "        origin_stand_dim = 5\n",
    "        taxi_id_dim = 10\n",
    "        wk_of_yr_dim = 10\n",
    "        wk_day_dim = 3\n",
    "        qtr_hr_dim = 10\n",
    "        self.embed_origin_call: nn.Module = nn.Embedding(29027, origin_call_dim, padding_idx=0)\n",
    "        self.embed_origin_stand: nn.Module = nn.Embedding(64, origin_stand_dim)\n",
    "        self.embed_taxi_id: nn.Module = nn.Embedding(448, taxi_id_dim)\n",
    "        self.embed_wk_of_yr: nn.Module = nn.Embedding(52, wk_of_yr_dim)\n",
    "        self.embed_wk_day: nn.Module = nn.Embedding(7, wk_day_dim)\n",
    "        self.embed_qtr_hr: nn.Module = nn.Embedding(96, qtr_hr_dim)\n",
    "        self.feed_forward = nn.Sequential(\n",
    "            nn.Linear(4 + origin_call_dim + origin_stand_dim + taxi_id_dim + wk_of_yr_dim + wk_day_dim + qtr_hr_dim, 1000),\n",
    "            nn.ReLU(),\n",
    "            nn.Dropout(0.5),\n",
    "            nn.Linear(1000, 800),\n",
    "            nn.ReLU(),\n",
    "            nn.Dropout(0.5),\n",
    "            nn.Linear(800, 1)\n",
    "        )\n",
    "\n",
    "    def forward(self, input: torch.Tensor):\n",
    "        origin_call = self.embed_origin_call(input[:, 0].to(dtype=torch.int32))\n",
    "        origin_stand = self.embed_origin_stand(input[:, 1].to(dtype=torch.int32))\n",
    "        taxi_id = self.embed_taxi_id(input[:, 2].to(dtype=torch.int32))\n",
    "        wk_of_yr = self.embed_wk_of_yr(input[:, 7].to(dtype=torch.int32))\n",
    "        wk_day = self.embed_wk_day(input[:, 8].to(dtype=torch.int32))\n",
    "        qtr_hr = self.embed_qtr_hr(input[:, 9].to(dtype=torch.int32))\n",
    "        input = torch.cat((origin_call, origin_stand, taxi_id, input[:, 3:7], wk_of_yr, wk_day, qtr_hr), dim=1).to(dtype=torch.float32)\n",
    "        input = self.feed_forward(input)\n",
    "        return input\n",
    "\n",
    "model = TravelRegressor().to(device)"
   ]
  },
  {
   "cell_type": "code",
   "execution_count": 18,
   "metadata": {
    "ExecuteTime": {
     "end_time": "2023-04-25T11:06:39.219554Z",
     "start_time": "2023-04-25T11:06:39.190938Z"
    },
    "collapsed": false
   },
   "outputs": [
    {
     "data": {
      "text/plain": [
       "torch.Size([1, 55])"
      ]
     },
     "execution_count": 18,
     "metadata": {},
     "output_type": "execute_result"
    }
   ],
   "source": [
    "model.eval()\n",
    "model(train_set[0][0].unsqueeze(0).to(device)).size()\n",
    "# train_set[0][0].unsqueeze(0).size()"
   ]
  },
  {
   "cell_type": "code",
   "execution_count": 5,
   "metadata": {
    "ExecuteTime": {
     "end_time": "2023-04-16T14:02:31.352229Z",
     "start_time": "2023-04-16T14:02:31.304302Z"
    },
    "collapsed": false
   },
   "outputs": [],
   "source": [
    "lossfn = nn.MSELoss(reduction=\"mean\")\n",
    "optimizer = torch.optim.RMSprop(model.parameters(), lr=0.001)"
   ]
  },
  {
   "cell_type": "code",
   "execution_count": null,
   "metadata": {
    "collapsed": false
   },
   "outputs": [],
   "source": [
    "def weight_mse(pred, act):\n",
    "    denom = torch.sum(act)\n",
    "    return torch.sum(act * ((pred - act)**2 / len(act))) / denom"
   ]
  },
  {
   "cell_type": "code",
   "execution_count": 6,
   "metadata": {
    "ExecuteTime": {
     "end_time": "2023-04-16T14:02:31.357059Z",
     "start_time": "2023-04-16T14:02:31.335915Z"
    },
    "collapsed": false
   },
   "outputs": [],
   "source": [
    "def validate():\n",
    "    model.eval()\n",
    "    loss = torch.tensor([0]).to(device, dtype=torch.float32)\n",
    "    with torch.no_grad():\n",
    "        for i, (entry, target) in enumerate(valid_load):\n",
    "            entry = entry.to(device, dtype=torch.float32)\n",
    "            target = target.to(device, dtype=torch.float32)\n",
    "            preds = model(entry)\n",
    "            loss += lossfn(preds, target)\n",
    "\n",
    "    return loss /(i + 1)"
   ]
  },
  {
   "cell_type": "code",
   "execution_count": 7,
   "metadata": {
    "ExecuteTime": {
     "end_time": "2023-04-16T14:02:31.405736Z",
     "start_time": "2023-04-16T14:02:31.362017Z"
    },
    "collapsed": false
   },
   "outputs": [],
   "source": [
    "def train(num_iter: int):\n",
    "    for epoch in range(num_iter):\n",
    "        for i, (entry, target) in enumerate(train_load):\n",
    "            model.train()\n",
    "            entry = entry.to(device, dtype=torch.float32)\n",
    "            target = target.to(device, dtype=torch.float32)\n",
    "            preds = model(entry)\n",
    "\n",
    "            optimizer.zero_grad()\n",
    "            loss = lossfn(preds, target) # or weighted mse\n",
    "            loss.backward()\n",
    "            optimizer.step()\n",
    "            if (i + 1) % 10000 == 0 or i == 0:\n",
    "                print(f\"[Epoch: {epoch + 1}]\\t[Iter: {i + 1}]\\t[Weighted RMSE: {torch.sqrt(loss)}]\")\n",
    "                print(f\"Prediction std dev: {torch.std(preds).item()}\")\n",
    "\n",
    "        valid_loss = validate()\n",
    "        print(f\"[RMSE Validation: {torch.sqrt(valid_loss).item()}]\")"
   ]
  },
  {
   "cell_type": "code",
   "execution_count": null,
   "metadata": {
    "collapsed": false
   },
   "outputs": [],
   "source": []
  }
 ],
 "metadata": {
  "kernelspec": {
   "display_name": "Python 3",
   "language": "python",
   "name": "python3"
  },
  "language_info": {
   "codemirror_mode": {
    "name": "ipython",
    "version": 2
   },
   "file_extension": ".py",
   "mimetype": "text/x-python",
   "name": "python",
   "nbconvert_exporter": "python",
   "pygments_lexer": "ipython2",
   "version": "2.7.6"
  }
 },
 "nbformat": 4,
 "nbformat_minor": 0
}
