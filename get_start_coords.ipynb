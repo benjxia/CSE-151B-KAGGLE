{
 "cells": [
  {
   "cell_type": "code",
   "execution_count": 28,
   "metadata": {},
   "outputs": [],
   "source": [
    "from sklearn.cluster import KMeans\n",
    "import numpy as np\n",
    "import matplotlib.pyplot as plt\n",
    "import ast\n",
    "import math\n",
    "import pandas as pd"
   ]
  },
  {
   "cell_type": "code",
   "execution_count": 29,
   "metadata": {},
   "outputs": [],
   "source": [
    "df: pd.DataFrame = pd.read_csv(\"data/train.csv\")\n",
    "metadataDF: pd.DataFrame = pd.read_csv(\"data/metaData_taxistandsID_name_GPSlocation.csv\")"
   ]
  },
  {
   "cell_type": "code",
   "execution_count": 30,
   "metadata": {},
   "outputs": [],
   "source": [
    "start = np.zeros((len(df), 2), dtype=np.float32)\n",
    "cnt = 0\n",
    "for i in range(len(df)):\n",
    "    if (df.iloc[i][\"CALL_TYPE\"] == 'B') and not math.isnan((df.iloc[i][\"ORIGIN_STAND\"])):\n",
    "        #print(df.iloc[i][\"ORIGIN_STAND\"])\n",
    "        taxi_stand = (int) (df.iloc[i][\"ORIGIN_STAND\"])-1\n",
    "        #print(taxi_stand)\n",
    "        #print(metadataDF.iloc[taxi_stand][\"Longitude\"], metadataDF.iloc[taxi_stand][\"Latitude\"])\n",
    "        start[i] = np.array((metadataDF.iloc[taxi_stand][\"Longitude\"], metadataDF.iloc[taxi_stand][\"Latitude\"]))\n",
    "        #print(start[i])\n",
    "    else:\n",
    "        row_list = ast.literal_eval(df.iloc[i][\"POLYLINE\"])\n",
    "        if len(row_list) == 0:\n",
    "            continue\n",
    "        start[i] = np.array(row_list)[0]\n",
    "    cnt += 1"
   ]
  },
  {
   "cell_type": "code",
   "execution_count": 32,
   "metadata": {},
   "outputs": [
    {
     "name": "stdout",
     "output_type": "stream",
     "text": [
      "[[-8.618643  41.14141  ]\n",
      " [-8.641984  41.15998  ]\n",
      " [-8.612964  41.140358 ]\n",
      " ...\n",
      " [ 0.         0.       ]\n",
      " [-8.630466  41.15512  ]\n",
      " [-8.6159525 41.14052  ]]\n"
     ]
    }
   ],
   "source": [
    "print(start)"
   ]
  }
 ],
 "metadata": {
  "kernelspec": {
   "display_name": "Python 3",
   "language": "python",
   "name": "python3"
  },
  "language_info": {
   "codemirror_mode": {
    "name": "ipython",
    "version": 3
   },
   "file_extension": ".py",
   "mimetype": "text/x-python",
   "name": "python",
   "nbconvert_exporter": "python",
   "pygments_lexer": "ipython3",
   "version": "3.10.0"
  },
  "orig_nbformat": 4
 },
 "nbformat": 4,
 "nbformat_minor": 2
}
